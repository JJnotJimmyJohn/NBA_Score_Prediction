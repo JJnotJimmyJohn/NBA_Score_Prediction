{
 "metadata": {
  "language_info": {
   "codemirror_mode": {
    "name": "ipython",
    "version": 3
   },
   "file_extension": ".py",
   "mimetype": "text/x-python",
   "name": "python",
   "nbconvert_exporter": "python",
   "pygments_lexer": "ipython3",
   "version": "3.7.6-final"
  },
  "orig_nbformat": 2,
  "kernelspec": {
   "name": "python3",
   "display_name": "Python 3",
   "language": "python"
  }
 },
 "nbformat": 4,
 "nbformat_minor": 2,
 "cells": [
  {
   "cell_type": "code",
   "execution_count": 42,
   "metadata": {},
   "outputs": [],
   "source": [
    "import pandas as pd\n",
    "from pathlib import Path\n",
    "from basketball_reference_scraper.seasons import get_schedule, get_standings\n",
    "from basketball_reference_scraper.box_scores import get_box_scores\n",
    "import requests\n",
    "from bs4 import BeautifulSoup\n"
   ]
  },
  {
   "cell_type": "code",
   "execution_count": 21,
   "metadata": {},
   "outputs": [],
   "source": [
    "data_path = Path('Data')\n",
    "assert data_path.exists()"
   ]
  },
  {
   "source": [
    "# Team Abbreviation"
   ],
   "cell_type": "markdown",
   "metadata": {}
  },
  {
   "cell_type": "code",
   "execution_count": 52,
   "metadata": {},
   "outputs": [
    {
     "output_type": "execute_result",
     "data": {
      "text/plain": [
       "{'ATLANTA HAWKS': 'ATL',\n",
       " 'ST. LOUIS HAWKS': 'SLH',\n",
       " 'MILWAUKEE HAWKS': 'MIL',\n",
       " 'TRI-CITIES BLACKHAWKS': 'TCB',\n",
       " 'BOSTON CELTICS': 'BOS',\n",
       " 'BROOKLYN NETS': 'BRK',\n",
       " 'NEW JERSEY NETS': 'NJN',\n",
       " 'CHICAGO BULLS': 'CHI',\n",
       " 'CHARLOTTE HORNETS (1988-2004)': 'CHH',\n",
       " 'CHARLOTTE HORNETS (2014-Present)': 'CHO',\n",
       " 'CHARLOTTE BOBCATS': 'CHA',\n",
       " 'CLEVELAND CAVALIERS': 'CLE',\n",
       " 'DALLAS MAVERICKS': 'DAL',\n",
       " 'DENVER NUGGETS': 'DEN',\n",
       " 'DETROIT PISTONS': 'DET',\n",
       " 'FORT WAYNE PISTONS': 'FWP',\n",
       " 'GOLDEN STATE WARRIORS': 'GSW',\n",
       " 'SAN FRANCISCO WARRIORS': 'SFW',\n",
       " 'PHILADELPHIA WARRIORS': 'PHI',\n",
       " 'HOUSTON ROCKETS': 'HOU',\n",
       " 'INDIANA PACERS': 'IND',\n",
       " 'LOS ANGELES CLIPPERS': 'LAC',\n",
       " 'SAN DIEGO CLIPPERS': 'SDC',\n",
       " 'BUFFALO BRAVES': 'BUF',\n",
       " 'LOS ANGELES LAKERS': 'LAL',\n",
       " 'MINNEAPOLIS LAKERS': 'MIN',\n",
       " 'MEMPHIS GRIZZLIES': 'MEM',\n",
       " 'VANCOUVER GRIZZLIES': 'VAN',\n",
       " 'MIAMI HEAT': 'MIA',\n",
       " 'MILWAUKEE BUCKS': 'MIL',\n",
       " 'MINNESOTA TIMBERWOLVES': 'MIN',\n",
       " 'NEW ORLEANS PELICANS': 'NOP',\n",
       " 'NEW ORLEANS/OKLAHOMA CITY HORNETS': 'NOK',\n",
       " 'NEW ORLEANS HORNETS': 'NOH',\n",
       " 'NEW YORK KNICKS': 'NYK',\n",
       " 'OKLAHOMA CITY THUNDER': 'OKC',\n",
       " 'SEATTLE SUPERSONICS': 'SEA',\n",
       " 'ORLANDO MAGIC': 'ORL',\n",
       " 'PHILADELPHIA 76ERS': 'PHI',\n",
       " 'SYRACUSE NATIONALS': 'SYR',\n",
       " 'PHOENIX SUNS': 'PHO',\n",
       " 'PORTLAND TRAIL BLAZERS': 'POR',\n",
       " 'SACRAMENTO KINGS': 'SAC',\n",
       " 'KANSAS CITY KINGS': 'KCK',\n",
       " 'KANSAS CITY-OMAHA KINGS': 'KCK',\n",
       " 'CINCINNATI ROYALS': 'CIN',\n",
       " 'ROCHESTER ROYALS': 'ROR',\n",
       " 'SAN ANTONIO SPURS': 'SAS',\n",
       " 'TORONTO RAPTORS': 'TOR',\n",
       " 'UTAH JAZZ': 'UTA',\n",
       " 'NEW ORLEANS JAZZ': 'NOJ',\n",
       " 'WASHINGTON WIZARDS': 'WAS',\n",
       " 'WASHINGTON BULLETS': 'WAS',\n",
       " 'CAPITAL BULLETS': 'CAP',\n",
       " 'BALTIMORE BULLETS': 'BAL',\n",
       " 'CHICAGO ZEPHYRS': 'CHI',\n",
       " 'CHICAGO PACKERS': 'CHI',\n",
       " 'ANDERSON PACKERS': 'AND',\n",
       " 'CHICAGO STAGS': 'CHI',\n",
       " 'INDIANAPOLIS OLYMPIANS': 'IND',\n",
       " 'SHEBOYGAN RED SKINS': 'SRS',\n",
       " 'ST. LOUIS BOMBERS': 'SLB',\n",
       " 'WASHINGTON CAPITOLS': 'WAS',\n",
       " 'WATERLOO HAWKS': 'WAT'}"
      ]
     },
     "metadata": {},
     "execution_count": 52
    }
   ],
   "source": [
    "with open(data_path/'team_params.txt') as f:\n",
    "    teams = f.readlines()\n",
    "team_dict={}\n",
    "for team in teams:\n",
    "    splits = team.split(\":\")\n",
    "    team_dict[splits[0].strip()] = splits[1].strip()\n",
    "team_dict"
   ]
  },
  {
   "source": [
    "# Get Box Scores"
   ],
   "cell_type": "markdown",
   "metadata": {}
  },
  {
   "cell_type": "code",
   "execution_count": 37,
   "metadata": {},
   "outputs": [],
   "source": [
    "advanced_boxscores = get_box_scores('2020-01-06', 'DEN', 'ATL',stat_type='ADVANCED')"
   ]
  },
  {
   "cell_type": "code",
   "execution_count": 38,
   "metadata": {},
   "outputs": [
    {
     "output_type": "execute_result",
     "data": {
      "text/plain": [
       "              PLAYER            MP           TS%          eFG%          3PAr  \\\n",
       "0       Nikola Jokić         36:50          .733          .720          .320   \n",
       "1        Will Barton         36:31          .685          .675          .300   \n",
       "2        Gary Harris         36:02          .167          .167          .500   \n",
       "3       Jamal Murray         34:29          .542          .500          .154   \n",
       "4       Paul Millsap         23:33          .258          .000          .667   \n",
       "5       Jerami Grant         22:11          .475          .400          .400   \n",
       "6     Michael Porter         20:03          .667          .667          .000   \n",
       "7       Monte Morris         19:11          .742          .722          .111   \n",
       "8      Mason Plumlee         11:10          .500          .500          .000   \n",
       "9      Malik Beasley  Did Not Play  Did Not Play  Did Not Play  Did Not Play   \n",
       "10         PJ Dozier  Did Not Play  Did Not Play  Did Not Play  Did Not Play   \n",
       "11      Torrey Craig  Did Not Play  Did Not Play  Did Not Play  Did Not Play   \n",
       "12  Juan Hernangómez  Did Not Play  Did Not Play  Did Not Play  Did Not Play   \n",
       "13       Team Totals           240          .592          .560          .293   \n",
       "\n",
       "             FTr          ORB%          DRB%          TRB%          AST%  \\\n",
       "0           .640          14.1          13.7          13.9          24.9   \n",
       "1           .050           7.1          24.2          15.8          21.0   \n",
       "2           .000           0.0          10.5           5.3           3.0   \n",
       "3           .308           0.0          18.3           9.3          28.8   \n",
       "4           .667           0.0          21.5          10.9           4.3   \n",
       "5           .600           0.0          22.8          11.5           5.1   \n",
       "6           .000           6.5          12.6           9.6          11.3   \n",
       "7           .111           0.0          26.3          13.3          15.6   \n",
       "8           .000           0.0          11.3           5.7          20.1   \n",
       "9   Did Not Play  Did Not Play  Did Not Play  Did Not Play  Did Not Play   \n",
       "10  Did Not Play  Did Not Play  Did Not Play  Did Not Play  Did Not Play   \n",
       "11  Did Not Play  Did Not Play  Did Not Play  Did Not Play  Did Not Play   \n",
       "12  Did Not Play  Did Not Play  Did Not Play  Did Not Play  Did Not Play   \n",
       "13          .293          18.9          89.5          54.7          57.4   \n",
       "\n",
       "            STL%          BLK%          TOV%          USG%          ORtg  \\\n",
       "0            2.7           3.4           0.0          38.7           155   \n",
       "1            0.0           3.5           4.7          26.1           138   \n",
       "2            0.0           0.0           0.0          14.8            42   \n",
       "3            1.4           3.7           6.3          20.3           121   \n",
       "4            2.1           0.0          20.5           9.2            56   \n",
       "5            0.0           0.0           0.0          12.7           106   \n",
       "6            0.0          12.6          25.0           8.9           121   \n",
       "7            0.0           0.0           0.0          21.9           150   \n",
       "8            0.0          11.3           0.0           8.0           131   \n",
       "9   Did Not Play  Did Not Play  Did Not Play  Did Not Play  Did Not Play   \n",
       "10  Did Not Play  Did Not Play  Did Not Play  Did Not Play  Did Not Play   \n",
       "11  Did Not Play  Did Not Play  Did Not Play  Did Not Play  Did Not Play   \n",
       "12  Did Not Play  Did Not Play  Did Not Play  Did Not Play  Did Not Play   \n",
       "13           4.2          15.8           3.7         100.0         127.6   \n",
       "\n",
       "            DRtg           BPM  \n",
       "0            116          24.7  \n",
       "1            121           8.3  \n",
       "2            125         -18.4  \n",
       "3            118           2.5  \n",
       "4            119         -12.0  \n",
       "5            124          -9.4  \n",
       "6            115          -1.4  \n",
       "7            123           5.4  \n",
       "8            117           1.5  \n",
       "9   Did Not Play  Did Not Play  \n",
       "10  Did Not Play  Did Not Play  \n",
       "11  Did Not Play  Did Not Play  \n",
       "12  Did Not Play  Did Not Play  \n",
       "13         119.3           NaN  "
      ],
      "text/html": "<div>\n<style scoped>\n    .dataframe tbody tr th:only-of-type {\n        vertical-align: middle;\n    }\n\n    .dataframe tbody tr th {\n        vertical-align: top;\n    }\n\n    .dataframe thead th {\n        text-align: right;\n    }\n</style>\n<table border=\"1\" class=\"dataframe\">\n  <thead>\n    <tr style=\"text-align: right;\">\n      <th></th>\n      <th>PLAYER</th>\n      <th>MP</th>\n      <th>TS%</th>\n      <th>eFG%</th>\n      <th>3PAr</th>\n      <th>FTr</th>\n      <th>ORB%</th>\n      <th>DRB%</th>\n      <th>TRB%</th>\n      <th>AST%</th>\n      <th>STL%</th>\n      <th>BLK%</th>\n      <th>TOV%</th>\n      <th>USG%</th>\n      <th>ORtg</th>\n      <th>DRtg</th>\n      <th>BPM</th>\n    </tr>\n  </thead>\n  <tbody>\n    <tr>\n      <th>0</th>\n      <td>Nikola Jokić</td>\n      <td>36:50</td>\n      <td>.733</td>\n      <td>.720</td>\n      <td>.320</td>\n      <td>.640</td>\n      <td>14.1</td>\n      <td>13.7</td>\n      <td>13.9</td>\n      <td>24.9</td>\n      <td>2.7</td>\n      <td>3.4</td>\n      <td>0.0</td>\n      <td>38.7</td>\n      <td>155</td>\n      <td>116</td>\n      <td>24.7</td>\n    </tr>\n    <tr>\n      <th>1</th>\n      <td>Will Barton</td>\n      <td>36:31</td>\n      <td>.685</td>\n      <td>.675</td>\n      <td>.300</td>\n      <td>.050</td>\n      <td>7.1</td>\n      <td>24.2</td>\n      <td>15.8</td>\n      <td>21.0</td>\n      <td>0.0</td>\n      <td>3.5</td>\n      <td>4.7</td>\n      <td>26.1</td>\n      <td>138</td>\n      <td>121</td>\n      <td>8.3</td>\n    </tr>\n    <tr>\n      <th>2</th>\n      <td>Gary Harris</td>\n      <td>36:02</td>\n      <td>.167</td>\n      <td>.167</td>\n      <td>.500</td>\n      <td>.000</td>\n      <td>0.0</td>\n      <td>10.5</td>\n      <td>5.3</td>\n      <td>3.0</td>\n      <td>0.0</td>\n      <td>0.0</td>\n      <td>0.0</td>\n      <td>14.8</td>\n      <td>42</td>\n      <td>125</td>\n      <td>-18.4</td>\n    </tr>\n    <tr>\n      <th>3</th>\n      <td>Jamal Murray</td>\n      <td>34:29</td>\n      <td>.542</td>\n      <td>.500</td>\n      <td>.154</td>\n      <td>.308</td>\n      <td>0.0</td>\n      <td>18.3</td>\n      <td>9.3</td>\n      <td>28.8</td>\n      <td>1.4</td>\n      <td>3.7</td>\n      <td>6.3</td>\n      <td>20.3</td>\n      <td>121</td>\n      <td>118</td>\n      <td>2.5</td>\n    </tr>\n    <tr>\n      <th>4</th>\n      <td>Paul Millsap</td>\n      <td>23:33</td>\n      <td>.258</td>\n      <td>.000</td>\n      <td>.667</td>\n      <td>.667</td>\n      <td>0.0</td>\n      <td>21.5</td>\n      <td>10.9</td>\n      <td>4.3</td>\n      <td>2.1</td>\n      <td>0.0</td>\n      <td>20.5</td>\n      <td>9.2</td>\n      <td>56</td>\n      <td>119</td>\n      <td>-12.0</td>\n    </tr>\n    <tr>\n      <th>5</th>\n      <td>Jerami Grant</td>\n      <td>22:11</td>\n      <td>.475</td>\n      <td>.400</td>\n      <td>.400</td>\n      <td>.600</td>\n      <td>0.0</td>\n      <td>22.8</td>\n      <td>11.5</td>\n      <td>5.1</td>\n      <td>0.0</td>\n      <td>0.0</td>\n      <td>0.0</td>\n      <td>12.7</td>\n      <td>106</td>\n      <td>124</td>\n      <td>-9.4</td>\n    </tr>\n    <tr>\n      <th>6</th>\n      <td>Michael Porter</td>\n      <td>20:03</td>\n      <td>.667</td>\n      <td>.667</td>\n      <td>.000</td>\n      <td>.000</td>\n      <td>6.5</td>\n      <td>12.6</td>\n      <td>9.6</td>\n      <td>11.3</td>\n      <td>0.0</td>\n      <td>12.6</td>\n      <td>25.0</td>\n      <td>8.9</td>\n      <td>121</td>\n      <td>115</td>\n      <td>-1.4</td>\n    </tr>\n    <tr>\n      <th>7</th>\n      <td>Monte Morris</td>\n      <td>19:11</td>\n      <td>.742</td>\n      <td>.722</td>\n      <td>.111</td>\n      <td>.111</td>\n      <td>0.0</td>\n      <td>26.3</td>\n      <td>13.3</td>\n      <td>15.6</td>\n      <td>0.0</td>\n      <td>0.0</td>\n      <td>0.0</td>\n      <td>21.9</td>\n      <td>150</td>\n      <td>123</td>\n      <td>5.4</td>\n    </tr>\n    <tr>\n      <th>8</th>\n      <td>Mason Plumlee</td>\n      <td>11:10</td>\n      <td>.500</td>\n      <td>.500</td>\n      <td>.000</td>\n      <td>.000</td>\n      <td>0.0</td>\n      <td>11.3</td>\n      <td>5.7</td>\n      <td>20.1</td>\n      <td>0.0</td>\n      <td>11.3</td>\n      <td>0.0</td>\n      <td>8.0</td>\n      <td>131</td>\n      <td>117</td>\n      <td>1.5</td>\n    </tr>\n    <tr>\n      <th>9</th>\n      <td>Malik Beasley</td>\n      <td>Did Not Play</td>\n      <td>Did Not Play</td>\n      <td>Did Not Play</td>\n      <td>Did Not Play</td>\n      <td>Did Not Play</td>\n      <td>Did Not Play</td>\n      <td>Did Not Play</td>\n      <td>Did Not Play</td>\n      <td>Did Not Play</td>\n      <td>Did Not Play</td>\n      <td>Did Not Play</td>\n      <td>Did Not Play</td>\n      <td>Did Not Play</td>\n      <td>Did Not Play</td>\n      <td>Did Not Play</td>\n      <td>Did Not Play</td>\n    </tr>\n    <tr>\n      <th>10</th>\n      <td>PJ Dozier</td>\n      <td>Did Not Play</td>\n      <td>Did Not Play</td>\n      <td>Did Not Play</td>\n      <td>Did Not Play</td>\n      <td>Did Not Play</td>\n      <td>Did Not Play</td>\n      <td>Did Not Play</td>\n      <td>Did Not Play</td>\n      <td>Did Not Play</td>\n      <td>Did Not Play</td>\n      <td>Did Not Play</td>\n      <td>Did Not Play</td>\n      <td>Did Not Play</td>\n      <td>Did Not Play</td>\n      <td>Did Not Play</td>\n      <td>Did Not Play</td>\n    </tr>\n    <tr>\n      <th>11</th>\n      <td>Torrey Craig</td>\n      <td>Did Not Play</td>\n      <td>Did Not Play</td>\n      <td>Did Not Play</td>\n      <td>Did Not Play</td>\n      <td>Did Not Play</td>\n      <td>Did Not Play</td>\n      <td>Did Not Play</td>\n      <td>Did Not Play</td>\n      <td>Did Not Play</td>\n      <td>Did Not Play</td>\n      <td>Did Not Play</td>\n      <td>Did Not Play</td>\n      <td>Did Not Play</td>\n      <td>Did Not Play</td>\n      <td>Did Not Play</td>\n      <td>Did Not Play</td>\n    </tr>\n    <tr>\n      <th>12</th>\n      <td>Juan Hernangómez</td>\n      <td>Did Not Play</td>\n      <td>Did Not Play</td>\n      <td>Did Not Play</td>\n      <td>Did Not Play</td>\n      <td>Did Not Play</td>\n      <td>Did Not Play</td>\n      <td>Did Not Play</td>\n      <td>Did Not Play</td>\n      <td>Did Not Play</td>\n      <td>Did Not Play</td>\n      <td>Did Not Play</td>\n      <td>Did Not Play</td>\n      <td>Did Not Play</td>\n      <td>Did Not Play</td>\n      <td>Did Not Play</td>\n      <td>Did Not Play</td>\n    </tr>\n    <tr>\n      <th>13</th>\n      <td>Team Totals</td>\n      <td>240</td>\n      <td>.592</td>\n      <td>.560</td>\n      <td>.293</td>\n      <td>.293</td>\n      <td>18.9</td>\n      <td>89.5</td>\n      <td>54.7</td>\n      <td>57.4</td>\n      <td>4.2</td>\n      <td>15.8</td>\n      <td>3.7</td>\n      <td>100.0</td>\n      <td>127.6</td>\n      <td>119.3</td>\n      <td>NaN</td>\n    </tr>\n  </tbody>\n</table>\n</div>"
     },
     "metadata": {},
     "execution_count": 38
    }
   ],
   "source": [
    "advanced_boxscores['DEN']"
   ]
  },
  {
   "cell_type": "code",
   "execution_count": 41,
   "metadata": {},
   "outputs": [
    {
     "output_type": "execute_result",
     "data": {
      "text/plain": [
       "Index(['PLAYER', 'MP', 'FG', 'FGA', 'FG%', '3P', '3PA', '3P%', 'FT', 'FTA',\n",
       "       'FT%', 'ORB', 'DRB', 'TRB', 'AST', 'STL', 'BLK', 'TOV', 'PF', 'PTS',\n",
       "       '+/-'],\n",
       "      dtype='object')"
      ]
     },
     "metadata": {},
     "execution_count": 41
    }
   ],
   "source": [
    "basic_boxscores  = get_box_scores('2020-01-06', 'DEN', 'ATL',stat_type='BASIC')\n",
    "basic_boxscores['DEN'].columns\n"
   ]
  },
  {
   "source": [
    "# Models\n",
    "## Model1 - team based - simple advanced stats average"
   ],
   "cell_type": "markdown",
   "metadata": {}
  },
  {
   "cell_type": "code",
   "execution_count": null,
   "metadata": {},
   "outputs": [],
   "source": [
    "Get data"
   ]
  },
  {
   "cell_type": "code",
   "execution_count": null,
   "metadata": {},
   "outputs": [],
   "source": [
    "# get previous xx games advanced stats\n",
    "# average\n",
    "# 2 teams, concatenate to the same row\n",
    "\n",
    "# predict"
   ]
  },
  {
   "source": [
    "Model - team based - similar opponents as training data"
   ],
   "cell_type": "markdown",
   "metadata": {}
  },
  {
   "source": [
    "## Model - Player based"
   ],
   "cell_type": "markdown",
   "metadata": {}
  },
  {
   "cell_type": "code",
   "execution_count": null,
   "metadata": {},
   "outputs": [],
   "source": [
    "# players? -> include minutes played\n",
    "# injured players?\n",
    "# use news to guess how many minutes he will play"
   ]
  },
  {
   "cell_type": "code",
   "execution_count": null,
   "metadata": {},
   "outputs": [],
   "source": []
  },
  {
   "cell_type": "code",
   "execution_count": null,
   "metadata": {},
   "outputs": [],
   "source": []
  }
 ]
}