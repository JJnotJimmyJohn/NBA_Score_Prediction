{
 "metadata": {
  "language_info": {
   "codemirror_mode": {
    "name": "ipython",
    "version": 3
   },
   "file_extension": ".py",
   "mimetype": "text/x-python",
   "name": "python",
   "nbconvert_exporter": "python",
   "pygments_lexer": "ipython3",
   "version": "3.7.6-final"
  },
  "orig_nbformat": 2,
  "kernelspec": {
   "name": "python3",
   "display_name": "Python 3",
   "language": "python"
  }
 },
 "nbformat": 4,
 "nbformat_minor": 2,
 "cells": [
  {
   "cell_type": "code",
   "execution_count": 2,
   "metadata": {},
   "outputs": [],
   "source": [
    "import pandas as pd\n",
    "from pathlib import Path\n",
    "from basketball_reference_scraper.seasons import get_schedule, get_standings\n",
    "from basketball_reference_scraper.box_scores import get_box_scores\n",
    "import requests\n",
    "from bs4 import BeautifulSoup\n",
    "from tqdm.notebook import tqdm\n"
   ]
  },
  {
   "cell_type": "code",
   "execution_count": 3,
   "metadata": {},
   "outputs": [],
   "source": [
    "data_path = Path('Data')\n",
    "assert data_path.exists()"
   ]
  },
  {
   "cell_type": "code",
   "execution_count": 4,
   "metadata": {},
   "outputs": [
    {
     "output_type": "execute_result",
     "data": {
      "text/plain": [
       "{'Atlanta Hawks': 'ATL',\n",
       " 'St. Louis Hawks': 'SLH',\n",
       " 'Milwaukee Hawks': 'MIL',\n",
       " 'Tri-Cities Blackhawks': 'TCB',\n",
       " 'Boston Celtics': 'BOS',\n",
       " 'Brooklyn Nets': 'BRK',\n",
       " 'New Jersey Nets': 'NJN',\n",
       " 'Chicago Bulls': 'CHI',\n",
       " 'Charlotte Hornets (1988-2004)': 'CHH',\n",
       " 'Charlotte Hornets (2014-Present)': 'CHO',\n",
       " 'Charlotte Bobcats': 'CHA',\n",
       " 'Cleveland Cavaliers': 'CLE',\n",
       " 'Dallas Mavericks': 'DAL',\n",
       " 'Denver Nuggets': 'DEN',\n",
       " 'Detroit Pistons': 'DET',\n",
       " 'Fort Wayne Pistons': 'FWP',\n",
       " 'Golden State Warriors': 'GSW',\n",
       " 'San Francisco Warriors': 'SFW',\n",
       " 'Philadelphia Warriors': 'PHI',\n",
       " 'Houston Rockets': 'HOU',\n",
       " 'Indiana Pacers': 'IND',\n",
       " 'Los Angeles Clippers': 'LAC',\n",
       " 'San Diego Clippers': 'SDC',\n",
       " 'Buffalo Braves': 'BUF',\n",
       " 'Los Angeles Lakers': 'LAL',\n",
       " 'Minneapolis Lakers': 'MIN',\n",
       " 'Memphis Grizzlies': 'MEM',\n",
       " 'Vancouver Grizzlies': 'VAN',\n",
       " 'Miami Heat': 'MIA',\n",
       " 'Milwaukee Bucks': 'MIL',\n",
       " 'Minnesota Timberwolves': 'MIN',\n",
       " 'New Orleans Pelicans': 'NOP',\n",
       " 'New Orleans/Oklahoma City Hornets': 'NOK',\n",
       " 'New Orleans Hornets': 'NOH',\n",
       " 'New York Knicks': 'NYK',\n",
       " 'Oklahoma City Thunder': 'OKC',\n",
       " 'Seattle Supersonics': 'SEA',\n",
       " 'Orlando Magic': 'ORL',\n",
       " 'Philadelphia 76Ers': 'PHI',\n",
       " 'Syracuse Nationals': 'SYR',\n",
       " 'Phoenix Suns': 'PHO',\n",
       " 'Portland Trail Blazers': 'POR',\n",
       " 'Sacramento Kings': 'SAC',\n",
       " 'Kansas City Kings': 'KCK',\n",
       " 'Kansas City-Omaha Kings': 'KCK',\n",
       " 'Cincinnati Royals': 'CIN',\n",
       " 'Rochester Royals': 'ROR',\n",
       " 'San Antonio Spurs': 'SAS',\n",
       " 'Toronto Raptors': 'TOR',\n",
       " 'Utah Jazz': 'UTA',\n",
       " 'New Orleans Jazz': 'NOJ',\n",
       " 'Washington Wizards': 'WAS',\n",
       " 'Washington Bullets': 'WAS',\n",
       " 'Capital Bullets': 'CAP',\n",
       " 'Baltimore Bullets': 'BAL',\n",
       " 'Chicago Zephyrs': 'CHI',\n",
       " 'Chicago Packers': 'CHI',\n",
       " 'Anderson Packers': 'AND',\n",
       " 'Chicago Stags': 'CHI',\n",
       " 'Indianapolis Olympians': 'IND',\n",
       " 'Sheboygan Red Skins': 'SRS',\n",
       " 'St. Louis Bombers': 'SLB',\n",
       " 'Washington Capitols': 'WAS',\n",
       " 'Waterloo Hawks': 'WAT'}"
      ]
     },
     "metadata": {},
     "execution_count": 4
    }
   ],
   "source": [
    "with open(data_path/'team_params.txt') as f:\n",
    "    teams = f.readlines()\n",
    "team_dict={}\n",
    "for team in teams:\n",
    "    splits = team.split(\":\")\n",
    "    team_dict[splits[0].strip().title()] = splits[1].strip()\n",
    "team_dict"
   ]
  },
  {
   "source": [
    "# Get Schedule"
   ],
   "cell_type": "markdown",
   "metadata": {}
  },
  {
   "cell_type": "code",
   "execution_count": 5,
   "metadata": {},
   "outputs": [
    {
     "output_type": "stream",
     "name": "stdout",
     "text": [
      "2014\n",
      "2015\n",
      "2016\n",
      "2017\n",
      "2018\n",
      "2019\n",
      "2020\n",
      "2021\n"
     ]
    }
   ],
   "source": [
    "all_schedules = []\n",
    "for year in range(2014,2022):\n",
    "    print(year)\n",
    "    year_schedule = get_schedule(year, playoffs=False)\n",
    "    all_schedules.append(year_schedule)"
   ]
  },
  {
   "cell_type": "code",
   "execution_count": 6,
   "metadata": {},
   "outputs": [
    {
     "output_type": "execute_result",
     "data": {
      "text/plain": [
       "8980"
      ]
     },
     "metadata": {},
     "execution_count": 6
    }
   ],
   "source": [
    "schedule_20142021 = pd.concat(all_schedules)\n",
    "len(schedule_20142021)"
   ]
  },
  {
   "cell_type": "code",
   "execution_count": 7,
   "metadata": {},
   "outputs": [
    {
     "output_type": "execute_result",
     "data": {
      "text/plain": [
       "8744"
      ]
     },
     "metadata": {},
     "execution_count": 7
    }
   ],
   "source": [
    "playedgames_20142021 = schedule_20142021.dropna(how='any')\n",
    "playedgames_20142021 = playedgames_20142021.replace({\"Philadelphia 76ers\":\"Philadelphia 76Ers\"})\n",
    "playedgames_20142021 = playedgames_20142021.replace(team_dict)\n",
    "playedgames_20142021 = playedgames_20142021.replace({'Charlotte Hornets':'CHO'})\n",
    "len(playedgames_20142021)"
   ]
  },
  {
   "cell_type": "code",
   "execution_count": 8,
   "metadata": {},
   "outputs": [
    {
     "output_type": "execute_result",
     "data": {
      "text/plain": [
       "        DATE VISITOR VISITOR_PTS HOME HOME_PTS\n",
       "0 2013-10-29     ORL          87  IND       97\n",
       "1 2013-10-29     CHI          95  MIA      107\n",
       "2 2013-10-29     LAC         103  LAL      116\n",
       "3 2013-10-30     BRK          94  CLE       98\n",
       "4 2013-10-30     BOS          87  TOR       93"
      ],
      "text/html": "<div>\n<style scoped>\n    .dataframe tbody tr th:only-of-type {\n        vertical-align: middle;\n    }\n\n    .dataframe tbody tr th {\n        vertical-align: top;\n    }\n\n    .dataframe thead th {\n        text-align: right;\n    }\n</style>\n<table border=\"1\" class=\"dataframe\">\n  <thead>\n    <tr style=\"text-align: right;\">\n      <th></th>\n      <th>DATE</th>\n      <th>VISITOR</th>\n      <th>VISITOR_PTS</th>\n      <th>HOME</th>\n      <th>HOME_PTS</th>\n    </tr>\n  </thead>\n  <tbody>\n    <tr>\n      <th>0</th>\n      <td>2013-10-29</td>\n      <td>ORL</td>\n      <td>87</td>\n      <td>IND</td>\n      <td>97</td>\n    </tr>\n    <tr>\n      <th>1</th>\n      <td>2013-10-29</td>\n      <td>CHI</td>\n      <td>95</td>\n      <td>MIA</td>\n      <td>107</td>\n    </tr>\n    <tr>\n      <th>2</th>\n      <td>2013-10-29</td>\n      <td>LAC</td>\n      <td>103</td>\n      <td>LAL</td>\n      <td>116</td>\n    </tr>\n    <tr>\n      <th>3</th>\n      <td>2013-10-30</td>\n      <td>BRK</td>\n      <td>94</td>\n      <td>CLE</td>\n      <td>98</td>\n    </tr>\n    <tr>\n      <th>4</th>\n      <td>2013-10-30</td>\n      <td>BOS</td>\n      <td>87</td>\n      <td>TOR</td>\n      <td>93</td>\n    </tr>\n  </tbody>\n</table>\n</div>"
     },
     "metadata": {},
     "execution_count": 8
    }
   ],
   "source": [
    "playedgames_20142021.head()"
   ]
  },
  {
   "cell_type": "code",
   "execution_count": 9,
   "metadata": {},
   "outputs": [],
   "source": [
    "# check if team names are replaced with abbreviation\n",
    "for visitor in playedgames_20142021['VISITOR'].unique():\n",
    "    assert len(visitor)==3, f\"{visitor}'s team name needs fix\"\n",
    "for home in playedgames_20142021['HOME'].unique():\n",
    "    assert len(visitor)==3, f\"{home}'s team name needs fix\""
   ]
  },
  {
   "source": [
    "# Build URLs"
   ],
   "cell_type": "markdown",
   "metadata": {}
  },
  {
   "cell_type": "code",
   "execution_count": 35,
   "metadata": {},
   "outputs": [],
   "source": [
    "box_scores_urls=[]\n",
    "gameids = []\n",
    "for key,row in playedgames_20142021.iterrows():\n",
    "    nums_to_join=[str(num) for num in [row['DATE'].year,f\"{row['DATE'].month:02d}\",f\"{row['DATE'].day:02d}\",0,row['HOME']]]\n",
    "    url = \"https://www.basketball-reference.com/boxscores/\"+''.join(nums_to_join)+\".html\"\n",
    "    gameids.append(''.join(nums_to_join))\n",
    "    box_scores_urls.append(url)"
   ]
  },
  {
   "cell_type": "code",
   "execution_count": 36,
   "metadata": {},
   "outputs": [
    {
     "output_type": "execute_result",
     "data": {
      "text/plain": [
       "['https://www.basketball-reference.com/boxscores/201310290IND.html',\n",
       " 'https://www.basketball-reference.com/boxscores/201310290MIA.html',\n",
       " 'https://www.basketball-reference.com/boxscores/201310290LAL.html']"
      ]
     },
     "metadata": {},
     "execution_count": 36
    }
   ],
   "source": [
    "box_scores_urls[:3]"
   ]
  },
  {
   "cell_type": "code",
   "execution_count": 12,
   "metadata": {},
   "outputs": [
    {
     "output_type": "execute_result",
     "data": {
      "text/plain": [
       "8744"
      ]
     },
     "metadata": {},
     "execution_count": 12
    }
   ],
   "source": [
    "len(box_scores_urls)"
   ]
  },
  {
   "cell_type": "code",
   "execution_count": 37,
   "metadata": {},
   "outputs": [
    {
     "output_type": "execute_result",
     "data": {
      "text/plain": [
       "        DATE VISITOR VISITOR_PTS HOME HOME_PTS  \\\n",
       "0 2013-10-29     ORL          87  IND       97   \n",
       "1 2013-10-29     CHI          95  MIA      107   \n",
       "2 2013-10-29     LAC         103  LAL      116   \n",
       "3 2013-10-30     BRK          94  CLE       98   \n",
       "4 2013-10-30     BOS          87  TOR       93   \n",
       "\n",
       "                                       boxscores_url       game_id  \n",
       "0  https://www.basketball-reference.com/boxscores...  201310290IND  \n",
       "1  https://www.basketball-reference.com/boxscores...  201310290MIA  \n",
       "2  https://www.basketball-reference.com/boxscores...  201310290LAL  \n",
       "3  https://www.basketball-reference.com/boxscores...  201310300CLE  \n",
       "4  https://www.basketball-reference.com/boxscores...  201310300TOR  "
      ],
      "text/html": "<div>\n<style scoped>\n    .dataframe tbody tr th:only-of-type {\n        vertical-align: middle;\n    }\n\n    .dataframe tbody tr th {\n        vertical-align: top;\n    }\n\n    .dataframe thead th {\n        text-align: right;\n    }\n</style>\n<table border=\"1\" class=\"dataframe\">\n  <thead>\n    <tr style=\"text-align: right;\">\n      <th></th>\n      <th>DATE</th>\n      <th>VISITOR</th>\n      <th>VISITOR_PTS</th>\n      <th>HOME</th>\n      <th>HOME_PTS</th>\n      <th>boxscores_url</th>\n      <th>game_id</th>\n    </tr>\n  </thead>\n  <tbody>\n    <tr>\n      <th>0</th>\n      <td>2013-10-29</td>\n      <td>ORL</td>\n      <td>87</td>\n      <td>IND</td>\n      <td>97</td>\n      <td>https://www.basketball-reference.com/boxscores...</td>\n      <td>201310290IND</td>\n    </tr>\n    <tr>\n      <th>1</th>\n      <td>2013-10-29</td>\n      <td>CHI</td>\n      <td>95</td>\n      <td>MIA</td>\n      <td>107</td>\n      <td>https://www.basketball-reference.com/boxscores...</td>\n      <td>201310290MIA</td>\n    </tr>\n    <tr>\n      <th>2</th>\n      <td>2013-10-29</td>\n      <td>LAC</td>\n      <td>103</td>\n      <td>LAL</td>\n      <td>116</td>\n      <td>https://www.basketball-reference.com/boxscores...</td>\n      <td>201310290LAL</td>\n    </tr>\n    <tr>\n      <th>3</th>\n      <td>2013-10-30</td>\n      <td>BRK</td>\n      <td>94</td>\n      <td>CLE</td>\n      <td>98</td>\n      <td>https://www.basketball-reference.com/boxscores...</td>\n      <td>201310300CLE</td>\n    </tr>\n    <tr>\n      <th>4</th>\n      <td>2013-10-30</td>\n      <td>BOS</td>\n      <td>87</td>\n      <td>TOR</td>\n      <td>93</td>\n      <td>https://www.basketball-reference.com/boxscores...</td>\n      <td>201310300TOR</td>\n    </tr>\n  </tbody>\n</table>\n</div>"
     },
     "metadata": {},
     "execution_count": 37
    }
   ],
   "source": [
    "playedgames_20142021['boxscores_url'] = box_scores_urls\n",
    "playedgames_20142021['game_id'] = gameids\n",
    "playedgames_20142021.head()"
   ]
  },
  {
   "source": [
    "# Scrape four factors"
   ],
   "cell_type": "markdown",
   "metadata": {}
  },
  {
   "cell_type": "code",
   "execution_count": 40,
   "metadata": {},
   "outputs": [
    {
     "output_type": "display_data",
     "data": {
      "text/plain": "HBox(children=(FloatProgress(value=1.0, bar_style='info', max=1.0), HTML(value='')))",
      "application/vnd.jupyter.widget-view+json": {
       "version_major": 2,
       "version_minor": 0,
       "model_id": "7078a1aaa11945119364593c4b9ce10f"
      }
     },
     "metadata": {}
    },
    {
     "output_type": "stream",
     "name": "stdout",
     "text": [
      "0\n",
      "100\n",
      "200\n",
      "300\n",
      "400\n",
      "500\n",
      "600\n",
      "700\n",
      "800\n",
      "900\n",
      "1000\n",
      "1100\n",
      "1200\n",
      "0\n",
      "100\n",
      "200\n",
      "300\n",
      "400\n",
      "500\n",
      "600\n",
      "700\n",
      "800\n",
      "900\n",
      "1000\n",
      "1100\n",
      "1200\n",
      "0\n",
      "100\n",
      "200\n",
      "300\n",
      "400\n",
      "500\n",
      "600\n",
      "700\n",
      "800\n",
      "900\n",
      "1000\n",
      "1100\n",
      "1200\n",
      "0\n",
      "100\n",
      "200\n",
      "300\n",
      "400\n",
      "500\n",
      "600\n",
      "700\n",
      "800\n",
      "900\n",
      "1000\n",
      "1100\n",
      "1200\n",
      "0\n",
      "100\n",
      "200\n",
      "300\n",
      "400\n",
      "500\n",
      "600\n",
      "700\n",
      "800\n",
      "900\n",
      "1000\n",
      "1100\n",
      "1200\n",
      "0\n",
      "100\n",
      "200\n",
      "300\n",
      "400\n",
      "500\n",
      "600\n",
      "700\n",
      "800\n",
      "900\n",
      "1000\n",
      "1100\n",
      "1200\n",
      "0\n",
      "100\n",
      "200\n",
      "300\n",
      "400\n",
      "500\n",
      "600\n",
      "700\n",
      "800\n",
      "900\n",
      "1000\n",
      "0\n",
      "100\n",
      "200\n",
      "300\n",
      "\n"
     ]
    }
   ],
   "source": [
    "tables = []\n",
    "bad_games =[]\n",
    "for key,row in tqdm(playedgames_20142021.iterrows()):\n",
    "    try:\n",
    "        response = requests.get(row['boxscores_url'])\n",
    "        html = response.content\n",
    "        html = html.decode()\n",
    "        stat_html = html.replace('<!--', \"\")\n",
    "        stat_html = stat_html.replace('-->', \"\")\n",
    "        soup = BeautifulSoup(stat_html, 'html.parser')\n",
    "        table = pd.read_html(str(soup.find_all('table',attrs={\"id\":\"four_factors\"})[0]))[0]\n",
    "        table = table.droplevel(0,axis=1)\n",
    "        table = table.rename({'Unnamed: 0_level_1':'Team'},axis=1)\n",
    "        table['game_id'] = row['game_id']\n",
    "        tables.append(table)\n",
    "        if key%100==0: print(key)\n",
    "    except:\n",
    "        bad_games.append(row['game_id'])"
   ]
  },
  {
   "cell_type": "code",
   "execution_count": 41,
   "metadata": {},
   "outputs": [
    {
     "output_type": "execute_result",
     "data": {
      "text/plain": [
       "  Team   Pace   eFG%  TOV%  ORB%  FT/FGA   ORtg       game_id\n",
       "0  ORL   95.0  0.435  14.9  27.7   0.065   91.6  201310290IND\n",
       "1  IND   95.0  0.528  19.0  27.8   0.310  102.1  201310290IND\n",
       "0  CHI   97.1  0.464  16.2  23.9   0.217   97.9  201310290MIA\n",
       "1  MIA   97.1  0.590  17.5  14.3   0.306  110.2  201310290MIA\n",
       "0  LAC  100.4  0.542  14.7  22.7   0.157  102.6  201310290LAL"
      ],
      "text/html": "<div>\n<style scoped>\n    .dataframe tbody tr th:only-of-type {\n        vertical-align: middle;\n    }\n\n    .dataframe tbody tr th {\n        vertical-align: top;\n    }\n\n    .dataframe thead th {\n        text-align: right;\n    }\n</style>\n<table border=\"1\" class=\"dataframe\">\n  <thead>\n    <tr style=\"text-align: right;\">\n      <th></th>\n      <th>Team</th>\n      <th>Pace</th>\n      <th>eFG%</th>\n      <th>TOV%</th>\n      <th>ORB%</th>\n      <th>FT/FGA</th>\n      <th>ORtg</th>\n      <th>game_id</th>\n    </tr>\n  </thead>\n  <tbody>\n    <tr>\n      <th>0</th>\n      <td>ORL</td>\n      <td>95.0</td>\n      <td>0.435</td>\n      <td>14.9</td>\n      <td>27.7</td>\n      <td>0.065</td>\n      <td>91.6</td>\n      <td>201310290IND</td>\n    </tr>\n    <tr>\n      <th>1</th>\n      <td>IND</td>\n      <td>95.0</td>\n      <td>0.528</td>\n      <td>19.0</td>\n      <td>27.8</td>\n      <td>0.310</td>\n      <td>102.1</td>\n      <td>201310290IND</td>\n    </tr>\n    <tr>\n      <th>0</th>\n      <td>CHI</td>\n      <td>97.1</td>\n      <td>0.464</td>\n      <td>16.2</td>\n      <td>23.9</td>\n      <td>0.217</td>\n      <td>97.9</td>\n      <td>201310290MIA</td>\n    </tr>\n    <tr>\n      <th>1</th>\n      <td>MIA</td>\n      <td>97.1</td>\n      <td>0.590</td>\n      <td>17.5</td>\n      <td>14.3</td>\n      <td>0.306</td>\n      <td>110.2</td>\n      <td>201310290MIA</td>\n    </tr>\n    <tr>\n      <th>0</th>\n      <td>LAC</td>\n      <td>100.4</td>\n      <td>0.542</td>\n      <td>14.7</td>\n      <td>22.7</td>\n      <td>0.157</td>\n      <td>102.6</td>\n      <td>201310290LAL</td>\n    </tr>\n  </tbody>\n</table>\n</div>"
     },
     "metadata": {},
     "execution_count": 41
    }
   ],
   "source": [
    "temp_four_factors = pd.concat(tables)\n",
    "temp_four_factors.head()"
   ]
  },
  {
   "cell_type": "code",
   "execution_count": 42,
   "metadata": {},
   "outputs": [],
   "source": [
    "temp_four_factors.to_pickle(\"Data/temp_four_factors.pkl\")"
   ]
  },
  {
   "cell_type": "code",
   "execution_count": 43,
   "metadata": {},
   "outputs": [],
   "source": [
    "temp_four_factors = pd.read_pickle(\"Data/temp_four_factors.pkl\")"
   ]
  },
  {
   "cell_type": "code",
   "execution_count": 48,
   "metadata": {},
   "outputs": [
    {
     "output_type": "execute_result",
     "data": {
      "text/plain": [
       "   Team   Pace   eFG%  TOV%  ORB%  FT/FGA   ORtg       game_id\n",
       "0   ORL   95.0  0.435  14.9  27.7   0.065   91.6  201310290IND\n",
       "1   IND   95.0  0.528  19.0  27.8   0.310  102.1  201310290IND\n",
       "0   CHI   97.1  0.464  16.2  23.9   0.217   97.9  201310290MIA\n",
       "1   MIA   97.1  0.590  17.5  14.3   0.306  110.2  201310290MIA\n",
       "0   LAC  100.4  0.542  14.7  22.7   0.157  102.6  201310290LAL\n",
       "..  ...    ...    ...   ...   ...     ...    ...           ...\n",
       "1   WAS   96.6  0.651  12.6  16.7   0.157  125.3  202102020WAS\n",
       "0   BOS   96.4  0.542  13.5  28.6   0.238  115.1  202102020GSW\n",
       "1   GSW   96.4  0.548  10.6  13.3   0.193  111.0  202102020GSW\n",
       "0   DET   99.6  0.468  12.8  25.0   0.194  105.4  202102020UTA\n",
       "1   UTA   99.6  0.561  12.1  19.0   0.305  117.5  202102020UTA\n",
       "\n",
       "[17486 rows x 8 columns]"
      ],
      "text/html": "<div>\n<style scoped>\n    .dataframe tbody tr th:only-of-type {\n        vertical-align: middle;\n    }\n\n    .dataframe tbody tr th {\n        vertical-align: top;\n    }\n\n    .dataframe thead th {\n        text-align: right;\n    }\n</style>\n<table border=\"1\" class=\"dataframe\">\n  <thead>\n    <tr style=\"text-align: right;\">\n      <th></th>\n      <th>Team</th>\n      <th>Pace</th>\n      <th>eFG%</th>\n      <th>TOV%</th>\n      <th>ORB%</th>\n      <th>FT/FGA</th>\n      <th>ORtg</th>\n      <th>game_id</th>\n    </tr>\n  </thead>\n  <tbody>\n    <tr>\n      <th>0</th>\n      <td>ORL</td>\n      <td>95.0</td>\n      <td>0.435</td>\n      <td>14.9</td>\n      <td>27.7</td>\n      <td>0.065</td>\n      <td>91.6</td>\n      <td>201310290IND</td>\n    </tr>\n    <tr>\n      <th>1</th>\n      <td>IND</td>\n      <td>95.0</td>\n      <td>0.528</td>\n      <td>19.0</td>\n      <td>27.8</td>\n      <td>0.310</td>\n      <td>102.1</td>\n      <td>201310290IND</td>\n    </tr>\n    <tr>\n      <th>0</th>\n      <td>CHI</td>\n      <td>97.1</td>\n      <td>0.464</td>\n      <td>16.2</td>\n      <td>23.9</td>\n      <td>0.217</td>\n      <td>97.9</td>\n      <td>201310290MIA</td>\n    </tr>\n    <tr>\n      <th>1</th>\n      <td>MIA</td>\n      <td>97.1</td>\n      <td>0.590</td>\n      <td>17.5</td>\n      <td>14.3</td>\n      <td>0.306</td>\n      <td>110.2</td>\n      <td>201310290MIA</td>\n    </tr>\n    <tr>\n      <th>0</th>\n      <td>LAC</td>\n      <td>100.4</td>\n      <td>0.542</td>\n      <td>14.7</td>\n      <td>22.7</td>\n      <td>0.157</td>\n      <td>102.6</td>\n      <td>201310290LAL</td>\n    </tr>\n    <tr>\n      <th>...</th>\n      <td>...</td>\n      <td>...</td>\n      <td>...</td>\n      <td>...</td>\n      <td>...</td>\n      <td>...</td>\n      <td>...</td>\n      <td>...</td>\n    </tr>\n    <tr>\n      <th>1</th>\n      <td>WAS</td>\n      <td>96.6</td>\n      <td>0.651</td>\n      <td>12.6</td>\n      <td>16.7</td>\n      <td>0.157</td>\n      <td>125.3</td>\n      <td>202102020WAS</td>\n    </tr>\n    <tr>\n      <th>0</th>\n      <td>BOS</td>\n      <td>96.4</td>\n      <td>0.542</td>\n      <td>13.5</td>\n      <td>28.6</td>\n      <td>0.238</td>\n      <td>115.1</td>\n      <td>202102020GSW</td>\n    </tr>\n    <tr>\n      <th>1</th>\n      <td>GSW</td>\n      <td>96.4</td>\n      <td>0.548</td>\n      <td>10.6</td>\n      <td>13.3</td>\n      <td>0.193</td>\n      <td>111.0</td>\n      <td>202102020GSW</td>\n    </tr>\n    <tr>\n      <th>0</th>\n      <td>DET</td>\n      <td>99.6</td>\n      <td>0.468</td>\n      <td>12.8</td>\n      <td>25.0</td>\n      <td>0.194</td>\n      <td>105.4</td>\n      <td>202102020UTA</td>\n    </tr>\n    <tr>\n      <th>1</th>\n      <td>UTA</td>\n      <td>99.6</td>\n      <td>0.561</td>\n      <td>12.1</td>\n      <td>19.0</td>\n      <td>0.305</td>\n      <td>117.5</td>\n      <td>202102020UTA</td>\n    </tr>\n  </tbody>\n</table>\n<p>17486 rows × 8 columns</p>\n</div>"
     },
     "metadata": {},
     "execution_count": 48
    }
   ],
   "source": [
    "temp_four_factors"
   ]
  },
  {
   "cell_type": "code",
   "execution_count": 47,
   "metadata": {},
   "outputs": [
    {
     "output_type": "stream",
     "name": "stdout",
     "text": [
      "1\n['201711110GSW']\n"
     ]
    }
   ],
   "source": [
    "# handle the bad games\n",
    "print(len(bad_games))\n",
    "print(bad_games)"
   ]
  },
  {
   "cell_type": "code",
   "execution_count": null,
   "metadata": {},
   "outputs": [],
   "source": []
  },
  {
   "cell_type": "code",
   "execution_count": null,
   "metadata": {},
   "outputs": [],
   "source": []
  },
  {
   "cell_type": "code",
   "execution_count": null,
   "metadata": {},
   "outputs": [],
   "source": []
  },
  {
   "source": [
    "# Join Four Factors with schedule to construct training data"
   ],
   "cell_type": "markdown",
   "metadata": {}
  },
  {
   "cell_type": "code",
   "execution_count": null,
   "metadata": {},
   "outputs": [],
   "source": []
  },
  {
   "cell_type": "code",
   "execution_count": 47,
   "metadata": {},
   "outputs": [
    {
     "output_type": "execute_result",
     "data": {
      "text/plain": [
       "        DATE VISITOR VISITOR_PTS HOME HOME_PTS  \\\n",
       "0 2013-10-29     ORL          87  IND       97   \n",
       "\n",
       "                                       boxscores_url       game_id Team  Pace  \\\n",
       "0  https://www.basketball-reference.com/boxscores...  201310290IND  IND  95.0   \n",
       "\n",
       "    eFG%  TOV%  ORB%  FT/FGA   ORtg  \n",
       "0  0.528  19.0  27.8    0.31  102.1  "
      ],
      "text/html": "<div>\n<style scoped>\n    .dataframe tbody tr th:only-of-type {\n        vertical-align: middle;\n    }\n\n    .dataframe tbody tr th {\n        vertical-align: top;\n    }\n\n    .dataframe thead th {\n        text-align: right;\n    }\n</style>\n<table border=\"1\" class=\"dataframe\">\n  <thead>\n    <tr style=\"text-align: right;\">\n      <th></th>\n      <th>DATE</th>\n      <th>VISITOR</th>\n      <th>VISITOR_PTS</th>\n      <th>HOME</th>\n      <th>HOME_PTS</th>\n      <th>boxscores_url</th>\n      <th>game_id</th>\n      <th>Team</th>\n      <th>Pace</th>\n      <th>eFG%</th>\n      <th>TOV%</th>\n      <th>ORB%</th>\n      <th>FT/FGA</th>\n      <th>ORtg</th>\n    </tr>\n  </thead>\n  <tbody>\n    <tr>\n      <th>0</th>\n      <td>2013-10-29</td>\n      <td>ORL</td>\n      <td>87</td>\n      <td>IND</td>\n      <td>97</td>\n      <td>https://www.basketball-reference.com/boxscores...</td>\n      <td>201310290IND</td>\n      <td>IND</td>\n      <td>95.0</td>\n      <td>0.528</td>\n      <td>19.0</td>\n      <td>27.8</td>\n      <td>0.31</td>\n      <td>102.1</td>\n    </tr>\n  </tbody>\n</table>\n</div>"
     },
     "metadata": {},
     "execution_count": 47
    }
   ],
   "source": [
    "# join on home team\n",
    "home_joined=pd.merge(playedgames_20142021,table,left_on=['game_id','HOME'],right_on=['game_id','Team'])\n",
    "home_joined"
   ]
  },
  {
   "cell_type": "code",
   "execution_count": 52,
   "metadata": {},
   "outputs": [
    {
     "output_type": "execute_result",
     "data": {
      "text/plain": [
       "Index(['DATE', 'VISITOR', 'VISITOR_PTS', 'HOME', 'HOME_PTS', 'boxscores_url',\n",
       "       'game_id', 'Team_home', 'Pace_home', 'eFG%_home', 'TOV%_home',\n",
       "       'ORB%_home', 'FT/FGA_home', 'ORtg_home', 'Team_away', 'Pace_away',\n",
       "       'eFG%_away', 'TOV%_away', 'ORB%_away', 'FT/FGA_away', 'ORtg_away'],\n",
       "      dtype='object')"
      ]
     },
     "metadata": {},
     "execution_count": 52
    }
   ],
   "source": [
    "joined=pd.merge(home_joined,table,left_on=['game_id','HOME'],right_on=['game_id','Team'],suffixes=('_home','_away'))\n",
    "joined.columns"
   ]
  },
  {
   "cell_type": "code",
   "execution_count": 53,
   "metadata": {},
   "outputs": [
    {
     "output_type": "execute_result",
     "data": {
      "text/plain": [
       "        DATE VISITOR VISITOR_PTS HOME HOME_PTS  \\\n",
       "0 2013-10-29     ORL          87  IND       97   \n",
       "\n",
       "                                       boxscores_url       game_id Team_home  \\\n",
       "0  https://www.basketball-reference.com/boxscores...  201310290IND       IND   \n",
       "\n",
       "   Pace_home  eFG%_home  ...  ORB%_home  FT/FGA_home  ORtg_home  Team_away  \\\n",
       "0       95.0      0.528  ...       27.8         0.31      102.1        IND   \n",
       "\n",
       "  Pace_away  eFG%_away  TOV%_away  ORB%_away  FT/FGA_away  ORtg_away  \n",
       "0      95.0      0.528       19.0       27.8         0.31      102.1  \n",
       "\n",
       "[1 rows x 21 columns]"
      ],
      "text/html": "<div>\n<style scoped>\n    .dataframe tbody tr th:only-of-type {\n        vertical-align: middle;\n    }\n\n    .dataframe tbody tr th {\n        vertical-align: top;\n    }\n\n    .dataframe thead th {\n        text-align: right;\n    }\n</style>\n<table border=\"1\" class=\"dataframe\">\n  <thead>\n    <tr style=\"text-align: right;\">\n      <th></th>\n      <th>DATE</th>\n      <th>VISITOR</th>\n      <th>VISITOR_PTS</th>\n      <th>HOME</th>\n      <th>HOME_PTS</th>\n      <th>boxscores_url</th>\n      <th>game_id</th>\n      <th>Team_home</th>\n      <th>Pace_home</th>\n      <th>eFG%_home</th>\n      <th>...</th>\n      <th>ORB%_home</th>\n      <th>FT/FGA_home</th>\n      <th>ORtg_home</th>\n      <th>Team_away</th>\n      <th>Pace_away</th>\n      <th>eFG%_away</th>\n      <th>TOV%_away</th>\n      <th>ORB%_away</th>\n      <th>FT/FGA_away</th>\n      <th>ORtg_away</th>\n    </tr>\n  </thead>\n  <tbody>\n    <tr>\n      <th>0</th>\n      <td>2013-10-29</td>\n      <td>ORL</td>\n      <td>87</td>\n      <td>IND</td>\n      <td>97</td>\n      <td>https://www.basketball-reference.com/boxscores...</td>\n      <td>201310290IND</td>\n      <td>IND</td>\n      <td>95.0</td>\n      <td>0.528</td>\n      <td>...</td>\n      <td>27.8</td>\n      <td>0.31</td>\n      <td>102.1</td>\n      <td>IND</td>\n      <td>95.0</td>\n      <td>0.528</td>\n      <td>19.0</td>\n      <td>27.8</td>\n      <td>0.31</td>\n      <td>102.1</td>\n    </tr>\n  </tbody>\n</table>\n<p>1 rows × 21 columns</p>\n</div>"
     },
     "metadata": {},
     "execution_count": 53
    }
   ],
   "source": [
    "joined"
   ]
  },
  {
   "cell_type": "code",
   "execution_count": null,
   "metadata": {},
   "outputs": [],
   "source": []
  },
  {
   "cell_type": "code",
   "execution_count": null,
   "metadata": {},
   "outputs": [],
   "source": []
  },
  {
   "cell_type": "code",
   "execution_count": null,
   "metadata": {},
   "outputs": [],
   "source": []
  },
  {
   "cell_type": "code",
   "execution_count": null,
   "metadata": {},
   "outputs": [],
   "source": []
  }
 ]
}