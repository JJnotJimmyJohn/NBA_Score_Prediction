{
 "metadata": {
  "language_info": {
   "codemirror_mode": {
    "name": "ipython",
    "version": 3
   },
   "file_extension": ".py",
   "mimetype": "text/x-python",
   "name": "python",
   "nbconvert_exporter": "python",
   "pygments_lexer": "ipython3",
   "version": "3.7.6-final"
  },
  "orig_nbformat": 2,
  "kernelspec": {
   "name": "python3",
   "display_name": "Python 3",
   "language": "python"
  }
 },
 "nbformat": 4,
 "nbformat_minor": 2,
 "cells": [
  {
   "cell_type": "code",
   "execution_count": 9,
   "metadata": {},
   "outputs": [],
   "source": [
    "import pandas as pd\n",
    "from pathlib import Path\n",
    "from basketball_reference_scraper.seasons import get_schedule, get_standings\n",
    "from basketball_reference_scraper.box_scores import get_box_scores\n",
    "import requests\n",
    "from bs4 import BeautifulSoup\n"
   ]
  },
  {
   "cell_type": "code",
   "execution_count": 10,
   "metadata": {},
   "outputs": [],
   "source": [
    "data_path = Path('Data')\n",
    "assert data_path.exists()"
   ]
  },
  {
   "cell_type": "code",
   "execution_count": 22,
   "metadata": {},
   "outputs": [
    {
     "output_type": "execute_result",
     "data": {
      "text/plain": [
       "{'Atlanta Hawks': 'ATL',\n",
       " 'St. Louis Hawks': 'SLH',\n",
       " 'Milwaukee Hawks': 'MIL',\n",
       " 'Tri-Cities Blackhawks': 'TCB',\n",
       " 'Boston Celtics': 'BOS',\n",
       " 'Brooklyn Nets': 'BRK',\n",
       " 'New Jersey Nets': 'NJN',\n",
       " 'Chicago Bulls': 'CHI',\n",
       " 'Charlotte Hornets (1988-2004)': 'CHH',\n",
       " 'Charlotte Hornets (2014-Present)': 'CHO',\n",
       " 'Charlotte Bobcats': 'CHA',\n",
       " 'Cleveland Cavaliers': 'CLE',\n",
       " 'Dallas Mavericks': 'DAL',\n",
       " 'Denver Nuggets': 'DEN',\n",
       " 'Detroit Pistons': 'DET',\n",
       " 'Fort Wayne Pistons': 'FWP',\n",
       " 'Golden State Warriors': 'GSW',\n",
       " 'San Francisco Warriors': 'SFW',\n",
       " 'Philadelphia Warriors': 'PHI',\n",
       " 'Houston Rockets': 'HOU',\n",
       " 'Indiana Pacers': 'IND',\n",
       " 'Los Angeles Clippers': 'LAC',\n",
       " 'San Diego Clippers': 'SDC',\n",
       " 'Buffalo Braves': 'BUF',\n",
       " 'Los Angeles Lakers': 'LAL',\n",
       " 'Minneapolis Lakers': 'MIN',\n",
       " 'Memphis Grizzlies': 'MEM',\n",
       " 'Vancouver Grizzlies': 'VAN',\n",
       " 'Miami Heat': 'MIA',\n",
       " 'Milwaukee Bucks': 'MIL',\n",
       " 'Minnesota Timberwolves': 'MIN',\n",
       " 'New Orleans Pelicans': 'NOP',\n",
       " 'New Orleans/Oklahoma City Hornets': 'NOK',\n",
       " 'New Orleans Hornets': 'NOH',\n",
       " 'New York Knicks': 'NYK',\n",
       " 'Oklahoma City Thunder': 'OKC',\n",
       " 'Seattle Supersonics': 'SEA',\n",
       " 'Orlando Magic': 'ORL',\n",
       " 'Philadelphia 76Ers': 'PHI',\n",
       " 'Syracuse Nationals': 'SYR',\n",
       " 'Phoenix Suns': 'PHO',\n",
       " 'Portland Trail Blazers': 'POR',\n",
       " 'Sacramento Kings': 'SAC',\n",
       " 'Kansas City Kings': 'KCK',\n",
       " 'Kansas City-Omaha Kings': 'KCK',\n",
       " 'Cincinnati Royals': 'CIN',\n",
       " 'Rochester Royals': 'ROR',\n",
       " 'San Antonio Spurs': 'SAS',\n",
       " 'Toronto Raptors': 'TOR',\n",
       " 'Utah Jazz': 'UTA',\n",
       " 'New Orleans Jazz': 'NOJ',\n",
       " 'Washington Wizards': 'WAS',\n",
       " 'Washington Bullets': 'WAS',\n",
       " 'Capital Bullets': 'CAP',\n",
       " 'Baltimore Bullets': 'BAL',\n",
       " 'Chicago Zephyrs': 'CHI',\n",
       " 'Chicago Packers': 'CHI',\n",
       " 'Anderson Packers': 'AND',\n",
       " 'Chicago Stags': 'CHI',\n",
       " 'Indianapolis Olympians': 'IND',\n",
       " 'Sheboygan Red Skins': 'SRS',\n",
       " 'St. Louis Bombers': 'SLB',\n",
       " 'Washington Capitols': 'WAS',\n",
       " 'Waterloo Hawks': 'WAT'}"
      ]
     },
     "metadata": {},
     "execution_count": 22
    }
   ],
   "source": [
    "with open(data_path/'team_params.txt') as f:\n",
    "    teams = f.readlines()\n",
    "team_dict={}\n",
    "for team in teams:\n",
    "    splits = team.split(\":\")\n",
    "    team_dict[splits[0].strip().title()] = splits[1].strip()\n",
    "team_dict"
   ]
  },
  {
   "source": [
    "# Get Schedule"
   ],
   "cell_type": "markdown",
   "metadata": {}
  },
  {
   "cell_type": "code",
   "execution_count": 13,
   "metadata": {},
   "outputs": [
    {
     "output_type": "stream",
     "name": "stdout",
     "text": [
      "2014\n",
      "2015\n",
      "2016\n",
      "2017\n",
      "2018\n",
      "2019\n",
      "2020\n",
      "2021\n"
     ]
    }
   ],
   "source": [
    "all_schedules = []\n",
    "for year in range(2014,2022):\n",
    "    print(year)\n",
    "    year_schedule = get_schedule(year, playoffs=False)\n",
    "    all_schedules.append(year_schedule)"
   ]
  },
  {
   "cell_type": "code",
   "execution_count": 15,
   "metadata": {},
   "outputs": [
    {
     "output_type": "execute_result",
     "data": {
      "text/plain": [
       "8980"
      ]
     },
     "metadata": {},
     "execution_count": 15
    }
   ],
   "source": [
    "schedule_20142021 = pd.concat(all_schedules)\n",
    "len(schedule_20142021)"
   ]
  },
  {
   "cell_type": "code",
   "execution_count": 35,
   "metadata": {},
   "outputs": [
    {
     "output_type": "execute_result",
     "data": {
      "text/plain": [
       "8738"
      ]
     },
     "metadata": {},
     "execution_count": 35
    }
   ],
   "source": [
    "playedgames_20142021 = schedule_20142021.dropna(how='any')\n",
    "playedgames_20142021 = playedgames_20142021.replace({\"Philadelphia 76ers\":\"Philadelphia 76Ers\"})\n",
    "playedgames_20142021 = playedgames_20142021.replace(team_dict)\n",
    "playedgames_20142021 = playedgames_20142021.replace({'Charlotte Hornets':'CHO'})\n",
    "len(playedgames_20142021)"
   ]
  },
  {
   "cell_type": "code",
   "execution_count": 36,
   "metadata": {},
   "outputs": [
    {
     "output_type": "execute_result",
     "data": {
      "text/plain": [
       "        DATE VISITOR VISITOR_PTS HOME HOME_PTS\n",
       "0 2013-10-29     ORL          87  IND       97\n",
       "1 2013-10-29     CHI          95  MIA      107\n",
       "2 2013-10-29     LAC         103  LAL      116\n",
       "3 2013-10-30     BRK          94  CLE       98\n",
       "4 2013-10-30     BOS          87  TOR       93"
      ],
      "text/html": "<div>\n<style scoped>\n    .dataframe tbody tr th:only-of-type {\n        vertical-align: middle;\n    }\n\n    .dataframe tbody tr th {\n        vertical-align: top;\n    }\n\n    .dataframe thead th {\n        text-align: right;\n    }\n</style>\n<table border=\"1\" class=\"dataframe\">\n  <thead>\n    <tr style=\"text-align: right;\">\n      <th></th>\n      <th>DATE</th>\n      <th>VISITOR</th>\n      <th>VISITOR_PTS</th>\n      <th>HOME</th>\n      <th>HOME_PTS</th>\n    </tr>\n  </thead>\n  <tbody>\n    <tr>\n      <th>0</th>\n      <td>2013-10-29</td>\n      <td>ORL</td>\n      <td>87</td>\n      <td>IND</td>\n      <td>97</td>\n    </tr>\n    <tr>\n      <th>1</th>\n      <td>2013-10-29</td>\n      <td>CHI</td>\n      <td>95</td>\n      <td>MIA</td>\n      <td>107</td>\n    </tr>\n    <tr>\n      <th>2</th>\n      <td>2013-10-29</td>\n      <td>LAC</td>\n      <td>103</td>\n      <td>LAL</td>\n      <td>116</td>\n    </tr>\n    <tr>\n      <th>3</th>\n      <td>2013-10-30</td>\n      <td>BRK</td>\n      <td>94</td>\n      <td>CLE</td>\n      <td>98</td>\n    </tr>\n    <tr>\n      <th>4</th>\n      <td>2013-10-30</td>\n      <td>BOS</td>\n      <td>87</td>\n      <td>TOR</td>\n      <td>93</td>\n    </tr>\n  </tbody>\n</table>\n</div>"
     },
     "metadata": {},
     "execution_count": 36
    }
   ],
   "source": [
    "playedgames_20142021.head()"
   ]
  },
  {
   "cell_type": "code",
   "execution_count": 38,
   "metadata": {},
   "outputs": [],
   "source": [
    "# check if team names are replaced with abbreviation\n",
    "for visitor in playedgames_20142021['VISITOR'].unique():\n",
    "    assert len(visitor)==3, f\"{visitor}'s team name needs fix\"\n",
    "for home in playedgames_20142021['HOME'].unique():\n",
    "    assert len(visitor)==3, f\"{home}'s team name needs fix\""
   ]
  },
  {
   "source": [
    "# Build URLs"
   ],
   "cell_type": "markdown",
   "metadata": {}
  },
  {
   "cell_type": "code",
   "execution_count": 51,
   "metadata": {},
   "outputs": [
    {
     "output_type": "execute_result",
     "data": {
      "text/plain": [
       "['2013', '10', '30', '0', 'TOR']"
      ]
     },
     "metadata": {},
     "execution_count": 51
    }
   ],
   "source": [
    "[str(num) for num in [row['DATE'].year,row['DATE'].month,row['DATE'].day,0,row['HOME']]]"
   ]
  },
  {
   "cell_type": "code",
   "execution_count": 57,
   "metadata": {},
   "outputs": [],
   "source": [
    "box_scores_urls=[]\n",
    "for key,row in playedgames_20142021.iterrows():\n",
    "    nums_to_join=[str(num) for num in [row['DATE'].year,row['DATE'].month,row['DATE'].day,0,row['HOME']]]\n",
    "    url = \"https://www.basketball-reference.com/boxscores/\"+''.join(nums_to_join)+\".html\"\n",
    "    box_scores_urls.append(url)"
   ]
  },
  {
   "cell_type": "code",
   "execution_count": 58,
   "metadata": {},
   "outputs": [
    {
     "output_type": "execute_result",
     "data": {
      "text/plain": [
       "['https://www.basketball-reference.com/boxscores/201310290IND.html',\n",
       " 'https://www.basketball-reference.com/boxscores/201310290MIA.html',\n",
       " 'https://www.basketball-reference.com/boxscores/201310290LAL.html']"
      ]
     },
     "metadata": {},
     "execution_count": 58
    }
   ],
   "source": [
    "box_scores_urls[:3]"
   ]
  },
  {
   "cell_type": "code",
   "execution_count": 59,
   "metadata": {},
   "outputs": [
    {
     "output_type": "execute_result",
     "data": {
      "text/plain": [
       "8738"
      ]
     },
     "metadata": {},
     "execution_count": 59
    }
   ],
   "source": [
    "len(box_scores_urls)"
   ]
  },
  {
   "cell_type": "code",
   "execution_count": 60,
   "metadata": {},
   "outputs": [
    {
     "output_type": "execute_result",
     "data": {
      "text/plain": [
       "        DATE VISITOR VISITOR_PTS HOME HOME_PTS  \\\n",
       "0 2013-10-29     ORL          87  IND       97   \n",
       "1 2013-10-29     CHI          95  MIA      107   \n",
       "2 2013-10-29     LAC         103  LAL      116   \n",
       "3 2013-10-30     BRK          94  CLE       98   \n",
       "4 2013-10-30     BOS          87  TOR       93   \n",
       "\n",
       "                                       boxscores_url  \n",
       "0  https://www.basketball-reference.com/boxscores...  \n",
       "1  https://www.basketball-reference.com/boxscores...  \n",
       "2  https://www.basketball-reference.com/boxscores...  \n",
       "3  https://www.basketball-reference.com/boxscores...  \n",
       "4  https://www.basketball-reference.com/boxscores...  "
      ],
      "text/html": "<div>\n<style scoped>\n    .dataframe tbody tr th:only-of-type {\n        vertical-align: middle;\n    }\n\n    .dataframe tbody tr th {\n        vertical-align: top;\n    }\n\n    .dataframe thead th {\n        text-align: right;\n    }\n</style>\n<table border=\"1\" class=\"dataframe\">\n  <thead>\n    <tr style=\"text-align: right;\">\n      <th></th>\n      <th>DATE</th>\n      <th>VISITOR</th>\n      <th>VISITOR_PTS</th>\n      <th>HOME</th>\n      <th>HOME_PTS</th>\n      <th>boxscores_url</th>\n    </tr>\n  </thead>\n  <tbody>\n    <tr>\n      <th>0</th>\n      <td>2013-10-29</td>\n      <td>ORL</td>\n      <td>87</td>\n      <td>IND</td>\n      <td>97</td>\n      <td>https://www.basketball-reference.com/boxscores...</td>\n    </tr>\n    <tr>\n      <th>1</th>\n      <td>2013-10-29</td>\n      <td>CHI</td>\n      <td>95</td>\n      <td>MIA</td>\n      <td>107</td>\n      <td>https://www.basketball-reference.com/boxscores...</td>\n    </tr>\n    <tr>\n      <th>2</th>\n      <td>2013-10-29</td>\n      <td>LAC</td>\n      <td>103</td>\n      <td>LAL</td>\n      <td>116</td>\n      <td>https://www.basketball-reference.com/boxscores...</td>\n    </tr>\n    <tr>\n      <th>3</th>\n      <td>2013-10-30</td>\n      <td>BRK</td>\n      <td>94</td>\n      <td>CLE</td>\n      <td>98</td>\n      <td>https://www.basketball-reference.com/boxscores...</td>\n    </tr>\n    <tr>\n      <th>4</th>\n      <td>2013-10-30</td>\n      <td>BOS</td>\n      <td>87</td>\n      <td>TOR</td>\n      <td>93</td>\n      <td>https://www.basketball-reference.com/boxscores...</td>\n    </tr>\n  </tbody>\n</table>\n</div>"
     },
     "metadata": {},
     "execution_count": 60
    }
   ],
   "source": [
    "playedgames_20142021['boxscores_url'] = box_scores_urls\n",
    "playedgames_20142021.head()"
   ]
  },
  {
   "source": [
    "# Scrape four factors"
   ],
   "cell_type": "markdown",
   "metadata": {}
  },
  {
   "cell_type": "code",
   "execution_count": 73,
   "metadata": {},
   "outputs": [
    {
     "output_type": "stream",
     "name": "stdout",
     "text": [
      "https://www.basketball-reference.com/boxscores/201310290IND.html\n"
     ]
    }
   ],
   "source": [
    "\n",
    "for key,row in playedgames_20142021.head(1).iterrows():\n",
    "    print(row['boxscores_url'])\n",
    "    response = requests.get(row['boxscores_url'])\n",
    "    html = response.content\n",
    "    html = html.decode()\n",
    "    stat_html = html.replace('<!--', \"\")\n",
    "    stat_html = stat_html.replace('-->', \"\")\n",
    "    soup = BeautifulSoup(stat_html, 'html.parser')\n"
   ]
  },
  {
   "cell_type": "code",
   "execution_count": 82,
   "metadata": {},
   "outputs": [
    {
     "output_type": "execute_result",
     "data": {
      "text/plain": [
       "'<table class=\"suppress_all stats_table\" data-cols-to-freeze=\",1\" id=\"four_factors\">\\n<caption>Four Factors Table</caption>\\n<colgroup><col/><col/><col/><col/><col/><col/><col/></colgroup>\\n<thead>\\n<tr class=\"over_header\">\\n<th aria-label=\"\" class=\"over_header center\" colspan=\"2\" data-stat=\"\"></th>\\n<th aria-label=\"\" class=\"over_header center\" colspan=\"4\" data-stat=\"header_tmp\">Four Factors</th><th></th>\\n</tr>\\n<tr>\\n<th aria-label=\"Team\" class=\"poptip sort_default_asc left\" data-stat=\"team_id\" data-tip=\"Team\" scope=\"col\">\\xa0</th>\\n<th aria-label=\"Pace Factor\" class=\"poptip right\" data-stat=\"pace\" data-tip=\"&lt;b&gt;Pace Factor&lt;/b&gt;: An estimate of possessions per 48 minutes\" scope=\"col\">Pace</th>\\n<th aria-label=\"Effective Field Goal Percentage\" class=\"poptip right\" data-over-header=\"Four Factors\" data-stat=\"efg_pct\" data-tip=\"&lt;strong&gt;Effective Field Goal Percentage&lt;/strong&gt;&lt;br&gt;This statistic adjusts for the fact that a 3-point field goal is worth one more point than a 2-point field goal.\" scope=\"col\">eFG%</th>\\n<th aria-label=\"Turnover Percentage\" class=\"poptip sort_default_asc right\" data-over-header=\"Four Factors\" data-stat=\"tov_pct\" data-tip=\"&lt;b&gt;Turnover Percentage&lt;/b&gt;&lt;br&gt;An estimate of turnovers committed per 100 plays.\" scope=\"col\">TOV%</th>\\n<th aria-label=\"Offensive Rebound Percentage\" class=\"poptip right\" data-over-header=\"Four Factors\" data-stat=\"orb_pct\" data-tip=\"&lt;b&gt;Offensive Rebound Percentage&lt;/b&gt;&lt;br&gt;An estimate of the percentage of available offensive rebounds a player grabbed while they were on the floor.\" scope=\"col\">ORB%</th>\\n<th aria-label=\"Free Throws Per Field Goal Attempt\" class=\"poptip right\" data-over-header=\"Four Factors\" data-stat=\"ft_rate\" data-tip=\"Free Throws Per Field Goal Attempt\" scope=\"col\">FT/FGA</th>\\n<th aria-label=\"Offensive Rating\" class=\"poptip right\" data-stat=\"off_rtg\" data-tip=\"&lt;b&gt;Offensive Rating&lt;/b&gt;&lt;br&gt;An estimate of points produced (players) or scored (teams) per 100 possessions\" scope=\"col\">ORtg</th>\\n</tr>\\n</thead>\\n<tbody><tr><th class=\"left\" data-stat=\"team_id\" scope=\"row\"><a href=\"/teams/ORL/2014.html\">ORL</a></th><td class=\"right\" data-stat=\"pace\">95.0</td><td class=\"right minus\" data-stat=\"efg_pct\">.435</td><td class=\"right plus\" data-stat=\"tov_pct\">14.9</td><td class=\"right minus\" data-stat=\"orb_pct\">27.7</td><td class=\"right minus\" data-stat=\"ft_rate\">.065</td><td class=\"right\" data-stat=\"off_rtg\">91.6</td></tr>\\n<tr><th class=\"left\" data-stat=\"team_id\" scope=\"row\"><a href=\"/teams/IND/2014.html\">IND</a></th><td class=\"right\" data-stat=\"pace\">95.0</td><td class=\"right plus\" data-stat=\"efg_pct\">.528</td><td class=\"right minus\" data-stat=\"tov_pct\">19.0</td><td class=\"right plus\" data-stat=\"orb_pct\">27.8</td><td class=\"right plus\" data-stat=\"ft_rate\">.310</td><td class=\"right\" data-stat=\"off_rtg\">102.1</td></tr>\\n</tbody></table>'"
      ]
     },
     "metadata": {},
     "execution_count": 82
    }
   ],
   "source": [
    "str(soup.find_all('table',attrs={\"id\":\"four_factors\"})[0])"
   ]
  },
  {
   "cell_type": "code",
   "execution_count": 157,
   "metadata": {},
   "outputs": [
    {
     "output_type": "execute_result",
     "data": {
      "text/plain": [
       "  Unnamed: 0_level_0 Unnamed: 1_level_0 Four Factors                     \\\n",
       "  Unnamed: 0_level_1               Pace         eFG%  TOV%  ORB% FT/FGA   \n",
       "0                ORL               95.0        0.435  14.9  27.7  0.065   \n",
       "1                IND               95.0        0.528  19.0  27.8  0.310   \n",
       "\n",
       "  Unnamed: 6_level_0  \n",
       "                ORtg  \n",
       "0               91.6  \n",
       "1              102.1  "
      ],
      "text/html": "<div>\n<style scoped>\n    .dataframe tbody tr th:only-of-type {\n        vertical-align: middle;\n    }\n\n    .dataframe tbody tr th {\n        vertical-align: top;\n    }\n\n    .dataframe thead tr th {\n        text-align: left;\n    }\n</style>\n<table border=\"1\" class=\"dataframe\">\n  <thead>\n    <tr>\n      <th></th>\n      <th>Unnamed: 0_level_0</th>\n      <th>Unnamed: 1_level_0</th>\n      <th colspan=\"4\" halign=\"left\">Four Factors</th>\n      <th>Unnamed: 6_level_0</th>\n    </tr>\n    <tr>\n      <th></th>\n      <th>Unnamed: 0_level_1</th>\n      <th>Pace</th>\n      <th>eFG%</th>\n      <th>TOV%</th>\n      <th>ORB%</th>\n      <th>FT/FGA</th>\n      <th>ORtg</th>\n    </tr>\n  </thead>\n  <tbody>\n    <tr>\n      <th>0</th>\n      <td>ORL</td>\n      <td>95.0</td>\n      <td>0.435</td>\n      <td>14.9</td>\n      <td>27.7</td>\n      <td>0.065</td>\n      <td>91.6</td>\n    </tr>\n    <tr>\n      <th>1</th>\n      <td>IND</td>\n      <td>95.0</td>\n      <td>0.528</td>\n      <td>19.0</td>\n      <td>27.8</td>\n      <td>0.310</td>\n      <td>102.1</td>\n    </tr>\n  </tbody>\n</table>\n</div>"
     },
     "metadata": {},
     "execution_count": 157
    }
   ],
   "source": [
    "tables = pd.read_html(str(soup.find_all('table',attrs={\"id\":\"four_factors\"})[0]))[0]\n",
    "tables"
   ]
  },
  {
   "cell_type": "code",
   "execution_count": 159,
   "metadata": {},
   "outputs": [
    {
     "output_type": "execute_result",
     "data": {
      "text/plain": [
       "  Unnamed: 0_level_1  Pace   eFG%  TOV%  ORB%  FT/FGA   ORtg\n",
       "0                ORL  95.0  0.435  14.9  27.7   0.065   91.6\n",
       "1                IND  95.0  0.528  19.0  27.8   0.310  102.1"
      ],
      "text/html": "<div>\n<style scoped>\n    .dataframe tbody tr th:only-of-type {\n        vertical-align: middle;\n    }\n\n    .dataframe tbody tr th {\n        vertical-align: top;\n    }\n\n    .dataframe thead th {\n        text-align: right;\n    }\n</style>\n<table border=\"1\" class=\"dataframe\">\n  <thead>\n    <tr style=\"text-align: right;\">\n      <th></th>\n      <th>Unnamed: 0_level_1</th>\n      <th>Pace</th>\n      <th>eFG%</th>\n      <th>TOV%</th>\n      <th>ORB%</th>\n      <th>FT/FGA</th>\n      <th>ORtg</th>\n    </tr>\n  </thead>\n  <tbody>\n    <tr>\n      <th>0</th>\n      <td>ORL</td>\n      <td>95.0</td>\n      <td>0.435</td>\n      <td>14.9</td>\n      <td>27.7</td>\n      <td>0.065</td>\n      <td>91.6</td>\n    </tr>\n    <tr>\n      <th>1</th>\n      <td>IND</td>\n      <td>95.0</td>\n      <td>0.528</td>\n      <td>19.0</td>\n      <td>27.8</td>\n      <td>0.310</td>\n      <td>102.1</td>\n    </tr>\n  </tbody>\n</table>\n</div>"
     },
     "metadata": {},
     "execution_count": 159
    }
   ],
   "source": [
    "tables.droplevel(0,axis=1)"
   ]
  },
  {
   "cell_type": "code",
   "execution_count": null,
   "metadata": {},
   "outputs": [],
   "source": []
  },
  {
   "cell_type": "code",
   "execution_count": null,
   "metadata": {},
   "outputs": [],
   "source": []
  },
  {
   "cell_type": "code",
   "execution_count": null,
   "metadata": {},
   "outputs": [],
   "source": []
  },
  {
   "cell_type": "code",
   "execution_count": null,
   "metadata": {},
   "outputs": [],
   "source": []
  },
  {
   "cell_type": "code",
   "execution_count": null,
   "metadata": {},
   "outputs": [],
   "source": []
  },
  {
   "cell_type": "code",
   "execution_count": null,
   "metadata": {},
   "outputs": [],
   "source": []
  }
 ]
}