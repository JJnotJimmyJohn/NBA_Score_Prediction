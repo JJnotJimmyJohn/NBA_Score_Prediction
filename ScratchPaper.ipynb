{
 "cells": [
  {
   "cell_type": "code",
   "execution_count": null,
   "metadata": {},
   "outputs": [],
   "source": [
    "import logging\n",
    "from argparse import ArgumentParser\n",
    "from tqdm import tqdm\n",
    "from bs4 import BeautifulSoup\n",
    "import requests\n",
    "import datetime\n",
    "import sys\n",
    "sys.path.append('.')\n",
    "from cbastats.Scraper import Scraper\n",
    "from basketball_reference_scraper.constants import TEAM_TO_TEAM_ABBR\n",
    "from basketball_reference_scraper.box_scores import get_box_scores\n",
    "from basketball_reference_scraper.seasons import get_schedule, get_standings\n",
    "from pathlib import Path\n",
    "import pandas as pd\n",
    "from cbastats.DBHelper import MongoDBHelper\n",
    "import os\n",
    "from requests.api import head"
   ]
  },
  {
   "cell_type": "code",
   "execution_count": 1,
   "metadata": {},
   "outputs": [],
   "source": [
    "config={}"
   ]
  },
  {
   "cell_type": "code",
   "execution_count": 8,
   "metadata": {},
   "outputs": [],
   "source": [
    "needed_envs = ['MONGODB_PWD', 'MONGODB_USERNAME', 'MONGODB_ENDPOINT']\n",
    "envs = os.environ\n",
    "# only checks if user wants to save data to DB\n",
    "# check if all needed environment variables are present\n",
    "\n",
    "for needed_env in needed_envs:\n",
    "    if needed_env not in envs:\n",
    "        raise Exception(f\"Missing environment variable: {needed_env}.\\n \\\n",
    "    Please check if these environment variables are present: {needed_envs}\")\n",
    "    config[needed_env] = envs[needed_env]"
   ]
  },
  {
   "cell_type": "code",
   "execution_count": 9,
   "metadata": {},
   "outputs": [
    {
     "name": "stdout",
     "output_type": "stream",
     "text": [
      "existing database ['cbaStats', 'nbaStats', 'admin', 'local']\n"
     ]
    }
   ],
   "source": [
    "mongodbio = MongoDBHelper()\n",
    "client = mongodbio.create_connection(\n",
    "    config['MONGODB_USERNAME'], config['MONGODB_PWD'], config['MONGODB_ENDPOINT'])\n",
    "nba_db = client['nbaStats']\n",
    "coll_nbaGames = nba_db['nbaGames']\n",
    "coll_nbaGamesStaging= nba_db['nbaGamesStaging']"
   ]
  },
  {
   "cell_type": "code",
   "execution_count": 19,
   "metadata": {},
   "outputs": [
    {
     "data": {
      "text/plain": [
       "{'_id': ObjectId('604eacc9cb4bc300ee4c65af'),\n",
       " 'DATE': datetime.datetime(2020, 12, 22, 0, 0),\n",
       " 'VISITOR': 'GSW',\n",
       " 'VISITOR_PTS': 99.0,\n",
       " 'HOME': 'BRK',\n",
       " 'HOME_PTS': 125.0,\n",
       " 'season': '2020-2021',\n",
       " 'boxscores_url': 'https://www.basketball-reference.com/boxscores/202012220BRK.html',\n",
       " 'game_id': '202012220BRK'}"
      ]
     },
     "execution_count": 19,
     "metadata": {},
     "output_type": "execute_result"
    }
   ],
   "source": [
    "coll_nbaGames.find_one(filter={ 'four_factos':{ \"$exists\":False } })"
   ]
  },
  {
   "cell_type": "code",
   "execution_count": 36,
   "metadata": {},
   "outputs": [],
   "source": [
    "ff_tasks = mongodbio.select_records(coll_nbaGames,filter={'four_factors':{\"$exists\":False}},field={'boxscores_url':1,'game_id':1})"
   ]
  },
  {
   "cell_type": "code",
   "execution_count": 37,
   "metadata": {},
   "outputs": [
    {
     "data": {
      "text/plain": [
       "560"
      ]
     },
     "execution_count": 37,
     "metadata": {},
     "output_type": "execute_result"
    }
   ],
   "source": [
    "len(ff_tasks)"
   ]
  },
  {
   "cell_type": "code",
   "execution_count": 23,
   "metadata": {},
   "outputs": [
    {
     "data": {
      "text/plain": [
       "{'_id': ObjectId('604eacc9cb4bc300ee4c65af'),\n",
       " 'boxscores_url': 'https://www.basketball-reference.com/boxscores/202012220BRK.html',\n",
       " 'game_id': '202012220BRK'}"
      ]
     },
     "execution_count": 23,
     "metadata": {},
     "output_type": "execute_result"
    }
   ],
   "source": [
    "ff_tasks[0]"
   ]
  },
  {
   "cell_type": "code",
   "execution_count": 20,
   "metadata": {},
   "outputs": [],
   "source": [
    "import requests\n",
    "from requests.adapters import HTTPAdapter\n",
    "from requests.packages.urllib3.util.retry import Retry"
   ]
  },
  {
   "cell_type": "code",
   "execution_count": 29,
   "metadata": {},
   "outputs": [],
   "source": [
    "def get_four_factors(url,game_id,session=None):\n",
    "    session = session or requests.Session()\n",
    "    response = session.get(url, timeout=5)\n",
    "    html = response.content\n",
    "    html = html.decode()\n",
    "    stat_html = html.replace('<!--', \"\")\n",
    "    stat_html = stat_html.replace('-->', \"\")\n",
    "    soup = BeautifulSoup(stat_html, 'html.parser')\n",
    "    table = pd.read_html(str(soup.find_all('table',attrs={\"id\":\"four_factors\"})[0]))[0]\n",
    "    table = table.droplevel(0,axis=1)\n",
    "    table = table.rename({'Unnamed: 0_level_1':'Team'},axis=1)\n",
    "    table['game_id'] = game_id\n",
    "    return table.to_dict('records')\n",
    "\n",
    "def requests_retry_session(\n",
    "    retries=5,\n",
    "    backoff_factor=0.3,\n",
    "    status_forcelist=(500, 502, 504),\n",
    "    session=None,\n",
    "):\n",
    "    session = session or requests.Session()\n",
    "    retry = Retry(\n",
    "        total=retries,\n",
    "        read=retries,\n",
    "        connect=retries,\n",
    "        backoff_factor=backoff_factor,\n",
    "        status_forcelist=status_forcelist,\n",
    "    )\n",
    "    adapter = HTTPAdapter(max_retries=retry)\n",
    "    session.mount('http://', adapter)\n",
    "    session.mount('https://', adapter)\n",
    "    return session"
   ]
  },
  {
   "cell_type": "code",
   "execution_count": 35,
   "metadata": {
    "scrolled": true
   },
   "outputs": [
    {
     "name": "stderr",
     "output_type": "stream",
     "text": [
      "100%|██████████| 10/10 [00:07<00:00,  1.37it/s]\n"
     ]
    }
   ],
   "source": [
    "session = requests_retry_session()\n",
    "for task in tqdm(ff_tasks):\n",
    "    four_factors = get_four_factors(task['boxscores_url'],task['game_id'],session)\n",
    "    coll_nbaGames.find_one_and_update(filter={\"_id\":task['_id']},update={'$set':{'four_factors':four_factors}})"
   ]
  },
  {
   "cell_type": "code",
   "execution_count": null,
   "metadata": {},
   "outputs": [],
   "source": [
    "coll_nbaGames.find_one_and_update(filter={\"game_id\":})"
   ]
  }
 ],
 "metadata": {
  "kernelspec": {
   "display_name": "Python 3",
   "language": "python",
   "name": "python3"
  },
  "language_info": {
   "codemirror_mode": {
    "name": "ipython",
    "version": 3
   },
   "file_extension": ".py",
   "mimetype": "text/x-python",
   "name": "python",
   "nbconvert_exporter": "python",
   "pygments_lexer": "ipython3",
   "version": "3.7.6"
  }
 },
 "nbformat": 4,
 "nbformat_minor": 4
}
