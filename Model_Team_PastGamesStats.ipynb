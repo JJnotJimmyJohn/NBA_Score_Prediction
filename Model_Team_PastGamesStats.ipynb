{
 "metadata": {
  "language_info": {
   "codemirror_mode": {
    "name": "ipython",
    "version": 3
   },
   "file_extension": ".py",
   "mimetype": "text/x-python",
   "name": "python",
   "nbconvert_exporter": "python",
   "pygments_lexer": "ipython3",
   "version": "3.7.6-final"
  },
  "orig_nbformat": 2,
  "kernelspec": {
   "name": "python3",
   "display_name": "Python 3",
   "language": "python"
  }
 },
 "nbformat": 4,
 "nbformat_minor": 2,
 "cells": [
  {
   "cell_type": "code",
   "execution_count": 3,
   "metadata": {},
   "outputs": [],
   "source": [
    "import pandas as pd\n",
    "from pathlib import Path\n",
    "import time\n",
    "from tqdm.notebook import tqdm\n",
    "import numpy as np\n"
   ]
  },
  {
   "cell_type": "code",
   "execution_count": 89,
   "metadata": {},
   "outputs": [],
   "source": [
    "args = {}\n",
    "args['data_path'] = './Data'\n",
    "args['data_filename'] = 'full_data_2014to2021.pkl'\n",
    "args['summarize_n_games']= 5\n",
    "args['columns_to_summarize']=['Team', 'Pace', 'eFG%', 'TOV%', 'ORB%', 'FT/FGA', 'ORtg']\n",
    "args['home_columns_to_summarize']=[column + '_'+'home' for column in args['columns_to_summarize']]\n",
    "args['visitor_columns_to_summarize']=[column + '_'+'visitor' for column in args['columns_to_summarize']]\n",
    "args['']"
   ]
  },
  {
   "cell_type": "code",
   "execution_count": 13,
   "metadata": {},
   "outputs": [],
   "source": [
    "data_path = Path(args['data_path'])\n",
    "assert data_path.exists()"
   ]
  },
  {
   "source": [
    "# Read Data"
   ],
   "cell_type": "markdown",
   "metadata": {}
  },
  {
   "cell_type": "code",
   "execution_count": 15,
   "metadata": {},
   "outputs": [
    {
     "output_type": "execute_result",
     "data": {
      "text/plain": [
       "        DATE VISITOR VISITOR_PTS HOME HOME_PTS  \\\n",
       "0 2013-10-29     ORL          87  IND       97   \n",
       "1 2013-10-29     CHI          95  MIA      107   \n",
       "2 2013-10-29     LAC         103  LAL      116   \n",
       "3 2013-10-30     BRK          94  CLE       98   \n",
       "4 2013-10-30     BOS          87  TOR       93   \n",
       "\n",
       "                                       boxscores_url       game_id Team_home  \\\n",
       "0  https://www.basketball-reference.com/boxscores...  201310290IND       IND   \n",
       "1  https://www.basketball-reference.com/boxscores...  201310290MIA       MIA   \n",
       "2  https://www.basketball-reference.com/boxscores...  201310290LAL       LAL   \n",
       "3  https://www.basketball-reference.com/boxscores...  201310300CLE       CLE   \n",
       "4  https://www.basketball-reference.com/boxscores...  201310300TOR       TOR   \n",
       "\n",
       "   Pace_home  eFG%_home  ...  ORB%_home  FT/FGA_home  ORtg_home  Team_visitor  \\\n",
       "0       95.0      0.528  ...       27.8        0.310      102.1           ORL   \n",
       "1       97.1      0.590  ...       14.3        0.306      110.2           CHI   \n",
       "2      100.4      0.527  ...       37.5        0.194      115.6           LAC   \n",
       "3       92.3      0.446  ...       36.4        0.274      106.2           BRK   \n",
       "4       91.5      0.471  ...       42.2        0.140      101.6           BOS   \n",
       "\n",
       "  Pace_visitor  eFG%_visitor  TOV%_visitor  ORB%_visitor  FT/FGA_visitor  \\\n",
       "0         95.0         0.435          14.9          27.7           0.065   \n",
       "1         97.1         0.464          16.2          23.9           0.217   \n",
       "2        100.4         0.542          14.7          22.7           0.157   \n",
       "3         92.3         0.457          13.9          22.0           0.232   \n",
       "4         91.5         0.508          21.8          19.4           0.303   \n",
       "\n",
       "   ORtg_visitor  \n",
       "0          91.6  \n",
       "1          97.9  \n",
       "2         102.6  \n",
       "3         101.8  \n",
       "4          95.1  \n",
       "\n",
       "[5 rows x 21 columns]"
      ],
      "text/html": "<div>\n<style scoped>\n    .dataframe tbody tr th:only-of-type {\n        vertical-align: middle;\n    }\n\n    .dataframe tbody tr th {\n        vertical-align: top;\n    }\n\n    .dataframe thead th {\n        text-align: right;\n    }\n</style>\n<table border=\"1\" class=\"dataframe\">\n  <thead>\n    <tr style=\"text-align: right;\">\n      <th></th>\n      <th>DATE</th>\n      <th>VISITOR</th>\n      <th>VISITOR_PTS</th>\n      <th>HOME</th>\n      <th>HOME_PTS</th>\n      <th>boxscores_url</th>\n      <th>game_id</th>\n      <th>Team_home</th>\n      <th>Pace_home</th>\n      <th>eFG%_home</th>\n      <th>...</th>\n      <th>ORB%_home</th>\n      <th>FT/FGA_home</th>\n      <th>ORtg_home</th>\n      <th>Team_visitor</th>\n      <th>Pace_visitor</th>\n      <th>eFG%_visitor</th>\n      <th>TOV%_visitor</th>\n      <th>ORB%_visitor</th>\n      <th>FT/FGA_visitor</th>\n      <th>ORtg_visitor</th>\n    </tr>\n  </thead>\n  <tbody>\n    <tr>\n      <th>0</th>\n      <td>2013-10-29</td>\n      <td>ORL</td>\n      <td>87</td>\n      <td>IND</td>\n      <td>97</td>\n      <td>https://www.basketball-reference.com/boxscores...</td>\n      <td>201310290IND</td>\n      <td>IND</td>\n      <td>95.0</td>\n      <td>0.528</td>\n      <td>...</td>\n      <td>27.8</td>\n      <td>0.310</td>\n      <td>102.1</td>\n      <td>ORL</td>\n      <td>95.0</td>\n      <td>0.435</td>\n      <td>14.9</td>\n      <td>27.7</td>\n      <td>0.065</td>\n      <td>91.6</td>\n    </tr>\n    <tr>\n      <th>1</th>\n      <td>2013-10-29</td>\n      <td>CHI</td>\n      <td>95</td>\n      <td>MIA</td>\n      <td>107</td>\n      <td>https://www.basketball-reference.com/boxscores...</td>\n      <td>201310290MIA</td>\n      <td>MIA</td>\n      <td>97.1</td>\n      <td>0.590</td>\n      <td>...</td>\n      <td>14.3</td>\n      <td>0.306</td>\n      <td>110.2</td>\n      <td>CHI</td>\n      <td>97.1</td>\n      <td>0.464</td>\n      <td>16.2</td>\n      <td>23.9</td>\n      <td>0.217</td>\n      <td>97.9</td>\n    </tr>\n    <tr>\n      <th>2</th>\n      <td>2013-10-29</td>\n      <td>LAC</td>\n      <td>103</td>\n      <td>LAL</td>\n      <td>116</td>\n      <td>https://www.basketball-reference.com/boxscores...</td>\n      <td>201310290LAL</td>\n      <td>LAL</td>\n      <td>100.4</td>\n      <td>0.527</td>\n      <td>...</td>\n      <td>37.5</td>\n      <td>0.194</td>\n      <td>115.6</td>\n      <td>LAC</td>\n      <td>100.4</td>\n      <td>0.542</td>\n      <td>14.7</td>\n      <td>22.7</td>\n      <td>0.157</td>\n      <td>102.6</td>\n    </tr>\n    <tr>\n      <th>3</th>\n      <td>2013-10-30</td>\n      <td>BRK</td>\n      <td>94</td>\n      <td>CLE</td>\n      <td>98</td>\n      <td>https://www.basketball-reference.com/boxscores...</td>\n      <td>201310300CLE</td>\n      <td>CLE</td>\n      <td>92.3</td>\n      <td>0.446</td>\n      <td>...</td>\n      <td>36.4</td>\n      <td>0.274</td>\n      <td>106.2</td>\n      <td>BRK</td>\n      <td>92.3</td>\n      <td>0.457</td>\n      <td>13.9</td>\n      <td>22.0</td>\n      <td>0.232</td>\n      <td>101.8</td>\n    </tr>\n    <tr>\n      <th>4</th>\n      <td>2013-10-30</td>\n      <td>BOS</td>\n      <td>87</td>\n      <td>TOR</td>\n      <td>93</td>\n      <td>https://www.basketball-reference.com/boxscores...</td>\n      <td>201310300TOR</td>\n      <td>TOR</td>\n      <td>91.5</td>\n      <td>0.471</td>\n      <td>...</td>\n      <td>42.2</td>\n      <td>0.140</td>\n      <td>101.6</td>\n      <td>BOS</td>\n      <td>91.5</td>\n      <td>0.508</td>\n      <td>21.8</td>\n      <td>19.4</td>\n      <td>0.303</td>\n      <td>95.1</td>\n    </tr>\n  </tbody>\n</table>\n<p>5 rows × 21 columns</p>\n</div>"
     },
     "metadata": {},
     "execution_count": 15
    }
   ],
   "source": [
    "dataset_df = pd.read_pickle(data_path/args['data_filename'])\n",
    "dataset_df.head()"
   ]
  },
  {
   "cell_type": "code",
   "execution_count": 16,
   "metadata": {},
   "outputs": [],
   "source": [
    "# convert string columns to numeric columns\n",
    "for column in ['VISITOR_PTS','HOME_PTS']:\n",
    "    dataset_df[column] = pd.to_numeric(dataset_df[column])"
   ]
  },
  {
   "cell_type": "code",
   "execution_count": 17,
   "metadata": {},
   "outputs": [
    {
     "output_type": "stream",
     "name": "stdout",
     "text": [
      "<class 'pandas.core.frame.DataFrame'>\nInt64Index: 8743 entries, 0 to 8742\nData columns (total 21 columns):\n #   Column          Non-Null Count  Dtype         \n---  ------          --------------  -----         \n 0   DATE            8743 non-null   datetime64[ns]\n 1   VISITOR         8743 non-null   object        \n 2   VISITOR_PTS     8743 non-null   float64       \n 3   HOME            8743 non-null   object        \n 4   HOME_PTS        8743 non-null   float64       \n 5   boxscores_url   8743 non-null   object        \n 6   game_id         8743 non-null   object        \n 7   Team_home       8743 non-null   object        \n 8   Pace_home       8743 non-null   float64       \n 9   eFG%_home       8743 non-null   float64       \n 10  TOV%_home       8743 non-null   float64       \n 11  ORB%_home       8743 non-null   float64       \n 12  FT/FGA_home     8743 non-null   float64       \n 13  ORtg_home       8743 non-null   float64       \n 14  Team_visitor    8743 non-null   object        \n 15  Pace_visitor    8743 non-null   float64       \n 16  eFG%_visitor    8743 non-null   float64       \n 17  TOV%_visitor    8743 non-null   float64       \n 18  ORB%_visitor    8743 non-null   float64       \n 19  FT/FGA_visitor  8743 non-null   float64       \n 20  ORtg_visitor    8743 non-null   float64       \ndtypes: datetime64[ns](1), float64(14), object(6)\nmemory usage: 1.5+ MB\n"
     ]
    }
   ],
   "source": [
    "dataset_df.info()"
   ]
  },
  {
   "cell_type": "code",
   "execution_count": 29,
   "metadata": {},
   "outputs": [
    {
     "output_type": "execute_result",
     "data": {
      "text/plain": [
       "Index(['DATE', 'VISITOR', 'VISITOR_PTS', 'HOME', 'HOME_PTS', 'boxscores_url',\n",
       "       'game_id', 'Team_home', 'Pace_home', 'eFG%_home', 'TOV%_home',\n",
       "       'ORB%_home', 'FT/FGA_home', 'ORtg_home', 'Team_visitor', 'Pace_visitor',\n",
       "       'eFG%_visitor', 'TOV%_visitor', 'ORB%_visitor', 'FT/FGA_visitor',\n",
       "       'ORtg_visitor'],\n",
       "      dtype='object')"
      ]
     },
     "metadata": {},
     "execution_count": 29
    }
   ],
   "source": [
    "dataset_df.columns"
   ]
  },
  {
   "source": [
    "# Models"
   ],
   "cell_type": "markdown",
   "metadata": {}
  },
  {
   "source": [
    "## Team based - simple average of past xx games\n"
   ],
   "cell_type": "markdown",
   "metadata": {}
  },
  {
   "cell_type": "code",
   "execution_count": 159,
   "metadata": {},
   "outputs": [
    {
     "output_type": "execute_result",
     "data": {
      "text/plain": [
       "           DATE VISITOR  VISITOR_PTS HOME  HOME_PTS  \\\n",
       "0    2013-11-07     LAL         99.0  HOU      98.0   \n",
       "1    2013-11-07     LAC         97.0  MIA     102.0   \n",
       "2    2013-11-08     TOR         84.0  IND      91.0   \n",
       "3    2013-11-08     BOS         91.0  ORL      89.0   \n",
       "4    2013-11-08     CLE         79.0  PHI      94.0   \n",
       "...         ...     ...          ...  ...       ...   \n",
       "8656 2021-02-02     BOS        111.0  GSW     107.0   \n",
       "8657 2021-02-02     LAC        120.0  BRK     124.0   \n",
       "8658 2021-02-02     POR        132.0  WAS     121.0   \n",
       "8659 2021-02-02     MEM        116.0  IND     134.0   \n",
       "8660 2021-02-02     DET        105.0  UTA     117.0   \n",
       "\n",
       "                                          boxscores_url       game_id  \\\n",
       "0     https://www.basketball-reference.com/boxscores...  201311070HOU   \n",
       "1     https://www.basketball-reference.com/boxscores...  201311070MIA   \n",
       "2     https://www.basketball-reference.com/boxscores...  201311080IND   \n",
       "3     https://www.basketball-reference.com/boxscores...  201311080ORL   \n",
       "4     https://www.basketball-reference.com/boxscores...  201311080PHI   \n",
       "...                                                 ...           ...   \n",
       "8656  https://www.basketball-reference.com/boxscores...  202102020GSW   \n",
       "8657  https://www.basketball-reference.com/boxscores...  202102020BRK   \n",
       "8658  https://www.basketball-reference.com/boxscores...  202102020WAS   \n",
       "8659  https://www.basketball-reference.com/boxscores...  202102020IND   \n",
       "8660  https://www.basketball-reference.com/boxscores...  202102020UTA   \n",
       "\n",
       "      Pace_home  eFG%_home  TOV%_home  ...  FT/FGA_home  ORtg_home  Team_home  \\\n",
       "0         96.70     0.5558      16.98  ...       0.3586     113.12        HOU   \n",
       "1         92.82     0.5738      15.48  ...       0.2518     113.12        MIA   \n",
       "2         93.20     0.5100      16.92  ...       0.2526     102.48        IND   \n",
       "3         96.76     0.5240      14.96  ...       0.1628     104.68        ORL   \n",
       "4        102.72     0.5140      16.50  ...       0.1884     102.06        PHI   \n",
       "...         ...        ...        ...  ...          ...        ...        ...   \n",
       "8656     101.74     0.5562      12.96  ...       0.1550     112.50        GSW   \n",
       "8657     100.88     0.6076      10.54  ...       0.2194     126.28        BRK   \n",
       "8658     102.34     0.4752      11.16  ...       0.2206     105.74        WAS   \n",
       "8659      98.14     0.5526      13.78  ...       0.2270     114.60        IND   \n",
       "8660      95.96     0.5460      10.72  ...       0.2560     122.54        UTA   \n",
       "\n",
       "     Pace_visitor  eFG%_visitor  TOV%_visitor  ORB%_visitor  FT/FGA_visitor  \\\n",
       "0          100.26        0.4738         12.98         20.76          0.1930   \n",
       "1           98.74        0.5342         12.76         27.82          0.2716   \n",
       "2           89.96        0.4732         13.72         32.76          0.2260   \n",
       "3           91.54        0.4862         18.10         24.24          0.2266   \n",
       "4           94.72        0.4448         13.94         25.66          0.1854   \n",
       "...           ...           ...           ...           ...             ...   \n",
       "8656        98.22        0.5504         11.38         24.42          0.1682   \n",
       "8657        96.04        0.5378          9.60         21.96          0.1972   \n",
       "8658        97.04        0.5358          9.56         23.78          0.1576   \n",
       "8659        99.72        0.5676          9.98         24.40          0.1314   \n",
       "8660        97.08        0.5252         14.06         21.98          0.2884   \n",
       "\n",
       "      ORtg_visitor  Team_visitor  \n",
       "0           100.50           LAL  \n",
       "1           114.66           LAC  \n",
       "2           104.62           TOR  \n",
       "3            97.76           BOS  \n",
       "4            96.16           CLE  \n",
       "...            ...           ...  \n",
       "8656        115.90           BOS  \n",
       "8657        117.08           LAC  \n",
       "8658        117.48           POR  \n",
       "8659        119.22           MEM  \n",
       "8660        110.30           DET  \n",
       "\n",
       "[8661 rows x 21 columns]"
      ],
      "text/html": "<div>\n<style scoped>\n    .dataframe tbody tr th:only-of-type {\n        vertical-align: middle;\n    }\n\n    .dataframe tbody tr th {\n        vertical-align: top;\n    }\n\n    .dataframe thead th {\n        text-align: right;\n    }\n</style>\n<table border=\"1\" class=\"dataframe\">\n  <thead>\n    <tr style=\"text-align: right;\">\n      <th></th>\n      <th>DATE</th>\n      <th>VISITOR</th>\n      <th>VISITOR_PTS</th>\n      <th>HOME</th>\n      <th>HOME_PTS</th>\n      <th>boxscores_url</th>\n      <th>game_id</th>\n      <th>Pace_home</th>\n      <th>eFG%_home</th>\n      <th>TOV%_home</th>\n      <th>...</th>\n      <th>FT/FGA_home</th>\n      <th>ORtg_home</th>\n      <th>Team_home</th>\n      <th>Pace_visitor</th>\n      <th>eFG%_visitor</th>\n      <th>TOV%_visitor</th>\n      <th>ORB%_visitor</th>\n      <th>FT/FGA_visitor</th>\n      <th>ORtg_visitor</th>\n      <th>Team_visitor</th>\n    </tr>\n  </thead>\n  <tbody>\n    <tr>\n      <th>0</th>\n      <td>2013-11-07</td>\n      <td>LAL</td>\n      <td>99.0</td>\n      <td>HOU</td>\n      <td>98.0</td>\n      <td>https://www.basketball-reference.com/boxscores...</td>\n      <td>201311070HOU</td>\n      <td>96.70</td>\n      <td>0.5558</td>\n      <td>16.98</td>\n      <td>...</td>\n      <td>0.3586</td>\n      <td>113.12</td>\n      <td>HOU</td>\n      <td>100.26</td>\n      <td>0.4738</td>\n      <td>12.98</td>\n      <td>20.76</td>\n      <td>0.1930</td>\n      <td>100.50</td>\n      <td>LAL</td>\n    </tr>\n    <tr>\n      <th>1</th>\n      <td>2013-11-07</td>\n      <td>LAC</td>\n      <td>97.0</td>\n      <td>MIA</td>\n      <td>102.0</td>\n      <td>https://www.basketball-reference.com/boxscores...</td>\n      <td>201311070MIA</td>\n      <td>92.82</td>\n      <td>0.5738</td>\n      <td>15.48</td>\n      <td>...</td>\n      <td>0.2518</td>\n      <td>113.12</td>\n      <td>MIA</td>\n      <td>98.74</td>\n      <td>0.5342</td>\n      <td>12.76</td>\n      <td>27.82</td>\n      <td>0.2716</td>\n      <td>114.66</td>\n      <td>LAC</td>\n    </tr>\n    <tr>\n      <th>2</th>\n      <td>2013-11-08</td>\n      <td>TOR</td>\n      <td>84.0</td>\n      <td>IND</td>\n      <td>91.0</td>\n      <td>https://www.basketball-reference.com/boxscores...</td>\n      <td>201311080IND</td>\n      <td>93.20</td>\n      <td>0.5100</td>\n      <td>16.92</td>\n      <td>...</td>\n      <td>0.2526</td>\n      <td>102.48</td>\n      <td>IND</td>\n      <td>89.96</td>\n      <td>0.4732</td>\n      <td>13.72</td>\n      <td>32.76</td>\n      <td>0.2260</td>\n      <td>104.62</td>\n      <td>TOR</td>\n    </tr>\n    <tr>\n      <th>3</th>\n      <td>2013-11-08</td>\n      <td>BOS</td>\n      <td>91.0</td>\n      <td>ORL</td>\n      <td>89.0</td>\n      <td>https://www.basketball-reference.com/boxscores...</td>\n      <td>201311080ORL</td>\n      <td>96.76</td>\n      <td>0.5240</td>\n      <td>14.96</td>\n      <td>...</td>\n      <td>0.1628</td>\n      <td>104.68</td>\n      <td>ORL</td>\n      <td>91.54</td>\n      <td>0.4862</td>\n      <td>18.10</td>\n      <td>24.24</td>\n      <td>0.2266</td>\n      <td>97.76</td>\n      <td>BOS</td>\n    </tr>\n    <tr>\n      <th>4</th>\n      <td>2013-11-08</td>\n      <td>CLE</td>\n      <td>79.0</td>\n      <td>PHI</td>\n      <td>94.0</td>\n      <td>https://www.basketball-reference.com/boxscores...</td>\n      <td>201311080PHI</td>\n      <td>102.72</td>\n      <td>0.5140</td>\n      <td>16.50</td>\n      <td>...</td>\n      <td>0.1884</td>\n      <td>102.06</td>\n      <td>PHI</td>\n      <td>94.72</td>\n      <td>0.4448</td>\n      <td>13.94</td>\n      <td>25.66</td>\n      <td>0.1854</td>\n      <td>96.16</td>\n      <td>CLE</td>\n    </tr>\n    <tr>\n      <th>...</th>\n      <td>...</td>\n      <td>...</td>\n      <td>...</td>\n      <td>...</td>\n      <td>...</td>\n      <td>...</td>\n      <td>...</td>\n      <td>...</td>\n      <td>...</td>\n      <td>...</td>\n      <td>...</td>\n      <td>...</td>\n      <td>...</td>\n      <td>...</td>\n      <td>...</td>\n      <td>...</td>\n      <td>...</td>\n      <td>...</td>\n      <td>...</td>\n      <td>...</td>\n      <td>...</td>\n    </tr>\n    <tr>\n      <th>8656</th>\n      <td>2021-02-02</td>\n      <td>BOS</td>\n      <td>111.0</td>\n      <td>GSW</td>\n      <td>107.0</td>\n      <td>https://www.basketball-reference.com/boxscores...</td>\n      <td>202102020GSW</td>\n      <td>101.74</td>\n      <td>0.5562</td>\n      <td>12.96</td>\n      <td>...</td>\n      <td>0.1550</td>\n      <td>112.50</td>\n      <td>GSW</td>\n      <td>98.22</td>\n      <td>0.5504</td>\n      <td>11.38</td>\n      <td>24.42</td>\n      <td>0.1682</td>\n      <td>115.90</td>\n      <td>BOS</td>\n    </tr>\n    <tr>\n      <th>8657</th>\n      <td>2021-02-02</td>\n      <td>LAC</td>\n      <td>120.0</td>\n      <td>BRK</td>\n      <td>124.0</td>\n      <td>https://www.basketball-reference.com/boxscores...</td>\n      <td>202102020BRK</td>\n      <td>100.88</td>\n      <td>0.6076</td>\n      <td>10.54</td>\n      <td>...</td>\n      <td>0.2194</td>\n      <td>126.28</td>\n      <td>BRK</td>\n      <td>96.04</td>\n      <td>0.5378</td>\n      <td>9.60</td>\n      <td>21.96</td>\n      <td>0.1972</td>\n      <td>117.08</td>\n      <td>LAC</td>\n    </tr>\n    <tr>\n      <th>8658</th>\n      <td>2021-02-02</td>\n      <td>POR</td>\n      <td>132.0</td>\n      <td>WAS</td>\n      <td>121.0</td>\n      <td>https://www.basketball-reference.com/boxscores...</td>\n      <td>202102020WAS</td>\n      <td>102.34</td>\n      <td>0.4752</td>\n      <td>11.16</td>\n      <td>...</td>\n      <td>0.2206</td>\n      <td>105.74</td>\n      <td>WAS</td>\n      <td>97.04</td>\n      <td>0.5358</td>\n      <td>9.56</td>\n      <td>23.78</td>\n      <td>0.1576</td>\n      <td>117.48</td>\n      <td>POR</td>\n    </tr>\n    <tr>\n      <th>8659</th>\n      <td>2021-02-02</td>\n      <td>MEM</td>\n      <td>116.0</td>\n      <td>IND</td>\n      <td>134.0</td>\n      <td>https://www.basketball-reference.com/boxscores...</td>\n      <td>202102020IND</td>\n      <td>98.14</td>\n      <td>0.5526</td>\n      <td>13.78</td>\n      <td>...</td>\n      <td>0.2270</td>\n      <td>114.60</td>\n      <td>IND</td>\n      <td>99.72</td>\n      <td>0.5676</td>\n      <td>9.98</td>\n      <td>24.40</td>\n      <td>0.1314</td>\n      <td>119.22</td>\n      <td>MEM</td>\n    </tr>\n    <tr>\n      <th>8660</th>\n      <td>2021-02-02</td>\n      <td>DET</td>\n      <td>105.0</td>\n      <td>UTA</td>\n      <td>117.0</td>\n      <td>https://www.basketball-reference.com/boxscores...</td>\n      <td>202102020UTA</td>\n      <td>95.96</td>\n      <td>0.5460</td>\n      <td>10.72</td>\n      <td>...</td>\n      <td>0.2560</td>\n      <td>122.54</td>\n      <td>UTA</td>\n      <td>97.08</td>\n      <td>0.5252</td>\n      <td>14.06</td>\n      <td>21.98</td>\n      <td>0.2884</td>\n      <td>110.30</td>\n      <td>DET</td>\n    </tr>\n  </tbody>\n</table>\n<p>8661 rows × 21 columns</p>\n</div>"
     },
     "metadata": {},
     "execution_count": 159
    }
   ],
   "source": [
    "### Data Processing"
   ]
  },
  {
   "cell_type": "code",
   "execution_count": null,
   "metadata": {},
   "outputs": [],
   "source": [
    "# get most recent x games data as training data\n",
    "# test on 2021 data\n",
    "    # sort by dates\n",
    "    # iterate rows\n",
    "    # get current index\n",
    "    # from current index, go backwards index until found previous X games\n",
    "        # if out of index before fetching X games, stop and continue (give up predicting this game)\n",
    "    # if HOME or VISITOR equals to current row HOME, then get that row\n",
    "    # save into a dictionary, key is game_id\n",
    "    # transform as data frame, and join with the full data\n",
    "# average\n",
    "# 2 teams, concatenate to the same row\n",
    "# predict"
   ]
  },
  {
   "cell_type": "code",
   "execution_count": 146,
   "metadata": {},
   "outputs": [],
   "source": [
    "def strip_col_suffix(df):\n",
    "    \"\"\"\n",
    "    strip the '_home' or '_visitor' suffix from the stats columns, using args\n",
    "    \"\"\"\n",
    "    rename_dict = {old_col:new_col for old_col,new_col in zip(args['home_columns_to_summarize']+args['visitor_columns_to_summarize'],args['columns_to_summarize']*2)}\n",
    "    return df.rename(columns=rename_dict)\n",
    "\n",
    "def get_previous_games(curr_row_index,team_name,dataset_df:pd.DataFrame,previous_n=args['summarize_n_games'])->list:\n",
    "    \"\"\"\n",
    "    return a list of pandas dataframes of previous of games, regardless of home or away.\n",
    "    \"\"\"\n",
    "    previous_games = []\n",
    "    # start iterating previous games\n",
    "    for index in range(curr_row_index-1,-1,-1):\n",
    "        try:\n",
    "            # if home team matches\n",
    "            if (dataset_df.loc[index]['HOME']==team_name):\n",
    "                previous_game=dataset_df.loc[[index]][args['home_columns_to_summarize']]\n",
    "                previous_games.append(strip_col_suffix(previous_game))\n",
    "            # if visitor team matches\n",
    "            if (dataset_df.loc[index]['VISITOR']==team_name):\n",
    "                previous_game=dataset_df.loc[[index]][args['visitor_columns_to_summarize']]\n",
    "                previous_games.append(strip_col_suffix(previous_game))\n",
    "            # stop when we have enough games\n",
    "            if len(previous_games)==previous_n:\n",
    "                break\n",
    "        except Exception as exc:\n",
    "            print(exc)\n",
    "    if len(previous_games)<args['summarize_n_games']:\n",
    "        raise ValueError(f\"Less than {args['summarize_n_games']} previous games.\")\n",
    "    # return a list of dataframes\n",
    "    return previous_games\n",
    "\n",
    "def summarize_previous_games(curr_row_index,team_name,original_df,previous_n=args['summarize_n_games'],summarize_method=np.mean)->pd.DataFrame:\n",
    "    \"\"\"\n",
    "    calculate previous games' stats using `method`\n",
    "    `previous_n`: number of previous games\n",
    "    `summarize_method`: method to summarize prevous games, default to `np.mean`\n",
    "    \"\"\"\n",
    "\n",
    "    previous_games = get_previous_games(curr_row_index,team_name,original_df,previous_n)\n",
    "    # concat return dataframes into one dataframe\n",
    "    previous_games = pd.concat(previous_games)\n",
    "    return summarize_method(previous_games)"
   ]
  },
  {
   "cell_type": "code",
   "execution_count": 147,
   "metadata": {
    "tags": []
   },
   "outputs": [
    {
     "output_type": "display_data",
     "data": {
      "text/plain": "HBox(children=(FloatProgress(value=0.0, max=8743.0), HTML(value='')))",
      "application/vnd.jupyter.widget-view+json": {
       "version_major": 2,
       "version_minor": 0,
       "model_id": "911253c2e8384e3ab84dd1d0594834c4"
      }
     },
     "metadata": {}
    },
    {
     "output_type": "stream",
     "name": "stdout",
     "text": [
      "bad index 0, error: Less than 5 previous games.\n",
      "----------------------------------------------------------------------------------------------------\n",
      "bad index 1, error: Less than 5 previous games.\n",
      "----------------------------------------------------------------------------------------------------\n",
      "bad index 2, error: Less than 5 previous games.\n",
      "----------------------------------------------------------------------------------------------------\n",
      "bad index 3, error: Less than 5 previous games.\n",
      "----------------------------------------------------------------------------------------------------\n",
      "bad index 4, error: Less than 5 previous games.\n",
      "----------------------------------------------------------------------------------------------------\n",
      "bad index 5, error: Less than 5 previous games.\n",
      "----------------------------------------------------------------------------------------------------\n",
      "bad index 6, error: Less than 5 previous games.\n",
      "----------------------------------------------------------------------------------------------------\n",
      "bad index 7, error: Less than 5 previous games.\n",
      "----------------------------------------------------------------------------------------------------\n",
      "bad index 8, error: Less than 5 previous games.\n",
      "----------------------------------------------------------------------------------------------------\n",
      "bad index 9, error: Less than 5 previous games.\n",
      "----------------------------------------------------------------------------------------------------\n",
      "bad index 10, error: Less than 5 previous games.\n",
      "----------------------------------------------------------------------------------------------------\n",
      "bad index 11, error: Less than 5 previous games.\n",
      "----------------------------------------------------------------------------------------------------\n",
      "bad index 12, error: Less than 5 previous games.\n",
      "----------------------------------------------------------------------------------------------------\n",
      "bad index 13, error: Less than 5 previous games.\n",
      "----------------------------------------------------------------------------------------------------\n",
      "bad index 14, error: Less than 5 previous games.\n",
      "----------------------------------------------------------------------------------------------------\n",
      "bad index 15, error: Less than 5 previous games.\n",
      "----------------------------------------------------------------------------------------------------\n",
      "bad index 16, error: Less than 5 previous games.\n",
      "----------------------------------------------------------------------------------------------------\n",
      "bad index 17, error: Less than 5 previous games.\n",
      "----------------------------------------------------------------------------------------------------\n",
      "bad index 18, error: Less than 5 previous games.\n",
      "----------------------------------------------------------------------------------------------------\n",
      "bad index 19, error: Less than 5 previous games.\n",
      "----------------------------------------------------------------------------------------------------\n",
      "bad index 20, error: Less than 5 previous games.\n",
      "----------------------------------------------------------------------------------------------------\n",
      "bad index 21, error: Less than 5 previous games.\n",
      "----------------------------------------------------------------------------------------------------\n",
      "bad index 22, error: Less than 5 previous games.\n",
      "----------------------------------------------------------------------------------------------------\n",
      "bad index 23, error: Less than 5 previous games.\n",
      "----------------------------------------------------------------------------------------------------\n",
      "bad index 24, error: Less than 5 previous games.\n",
      "----------------------------------------------------------------------------------------------------\n",
      "bad index 25, error: Less than 5 previous games.\n",
      "----------------------------------------------------------------------------------------------------\n",
      "bad index 26, error: Less than 5 previous games.\n",
      "----------------------------------------------------------------------------------------------------\n",
      "bad index 27, error: Less than 5 previous games.\n",
      "----------------------------------------------------------------------------------------------------\n",
      "bad index 28, error: Less than 5 previous games.\n",
      "----------------------------------------------------------------------------------------------------\n",
      "bad index 29, error: Less than 5 previous games.\n",
      "----------------------------------------------------------------------------------------------------\n",
      "bad index 30, error: Less than 5 previous games.\n",
      "----------------------------------------------------------------------------------------------------\n",
      "bad index 31, error: Less than 5 previous games.\n",
      "----------------------------------------------------------------------------------------------------\n",
      "bad index 32, error: Less than 5 previous games.\n",
      "----------------------------------------------------------------------------------------------------\n",
      "bad index 33, error: Less than 5 previous games.\n",
      "----------------------------------------------------------------------------------------------------\n",
      "bad index 34, error: Less than 5 previous games.\n",
      "----------------------------------------------------------------------------------------------------\n",
      "bad index 35, error: Less than 5 previous games.\n",
      "----------------------------------------------------------------------------------------------------\n",
      "bad index 36, error: Less than 5 previous games.\n",
      "----------------------------------------------------------------------------------------------------\n",
      "bad index 37, error: Less than 5 previous games.\n",
      "----------------------------------------------------------------------------------------------------\n",
      "bad index 38, error: Less than 5 previous games.\n",
      "----------------------------------------------------------------------------------------------------\n",
      "bad index 39, error: Less than 5 previous games.\n",
      "----------------------------------------------------------------------------------------------------\n",
      "bad index 40, error: Less than 5 previous games.\n",
      "----------------------------------------------------------------------------------------------------\n",
      "bad index 41, error: Less than 5 previous games.\n",
      "----------------------------------------------------------------------------------------------------\n",
      "bad index 42, error: Less than 5 previous games.\n",
      "----------------------------------------------------------------------------------------------------\n",
      "bad index 43, error: Less than 5 previous games.\n",
      "----------------------------------------------------------------------------------------------------\n",
      "bad index 44, error: Less than 5 previous games.\n",
      "----------------------------------------------------------------------------------------------------\n",
      "bad index 45, error: Less than 5 previous games.\n",
      "----------------------------------------------------------------------------------------------------\n",
      "bad index 46, error: Less than 5 previous games.\n",
      "----------------------------------------------------------------------------------------------------\n",
      "bad index 47, error: Less than 5 previous games.\n",
      "----------------------------------------------------------------------------------------------------\n",
      "bad index 48, error: Less than 5 previous games.\n",
      "----------------------------------------------------------------------------------------------------\n",
      "bad index 49, error: Less than 5 previous games.\n",
      "----------------------------------------------------------------------------------------------------\n",
      "bad index 50, error: Less than 5 previous games.\n",
      "----------------------------------------------------------------------------------------------------\n",
      "bad index 51, error: Less than 5 previous games.\n",
      "----------------------------------------------------------------------------------------------------\n",
      "bad index 52, error: Less than 5 previous games.\n",
      "----------------------------------------------------------------------------------------------------\n",
      "bad index 53, error: Less than 5 previous games.\n",
      "----------------------------------------------------------------------------------------------------\n",
      "bad index 54, error: Less than 5 previous games.\n",
      "----------------------------------------------------------------------------------------------------\n",
      "bad index 55, error: Less than 5 previous games.\n",
      "----------------------------------------------------------------------------------------------------\n",
      "bad index 56, error: Less than 5 previous games.\n",
      "----------------------------------------------------------------------------------------------------\n",
      "bad index 57, error: Less than 5 previous games.\n",
      "----------------------------------------------------------------------------------------------------\n",
      "bad index 58, error: Less than 5 previous games.\n",
      "----------------------------------------------------------------------------------------------------\n",
      "bad index 59, error: Less than 5 previous games.\n",
      "----------------------------------------------------------------------------------------------------\n",
      "bad index 60, error: Less than 5 previous games.\n",
      "----------------------------------------------------------------------------------------------------\n",
      "bad index 61, error: Less than 5 previous games.\n",
      "----------------------------------------------------------------------------------------------------\n",
      "bad index 62, error: Less than 5 previous games.\n",
      "----------------------------------------------------------------------------------------------------\n",
      "bad index 63, error: Less than 5 previous games.\n",
      "----------------------------------------------------------------------------------------------------\n",
      "bad index 64, error: Less than 5 previous games.\n",
      "----------------------------------------------------------------------------------------------------\n",
      "bad index 65, error: Less than 5 previous games.\n",
      "----------------------------------------------------------------------------------------------------\n",
      "bad index 66, error: Less than 5 previous games.\n",
      "----------------------------------------------------------------------------------------------------\n",
      "bad index 67, error: Less than 5 previous games.\n",
      "----------------------------------------------------------------------------------------------------\n",
      "bad index 68, error: Less than 5 previous games.\n",
      "----------------------------------------------------------------------------------------------------\n",
      "bad index 69, error: Less than 5 previous games.\n",
      "----------------------------------------------------------------------------------------------------\n",
      "bad index 75, error: Less than 5 previous games.\n",
      "----------------------------------------------------------------------------------------------------\n",
      "bad index 76, error: Less than 5 previous games.\n",
      "----------------------------------------------------------------------------------------------------\n",
      "bad index 77, error: Less than 5 previous games.\n",
      "----------------------------------------------------------------------------------------------------\n",
      "bad index 78, error: Less than 5 previous games.\n",
      "----------------------------------------------------------------------------------------------------\n",
      "bad index 79, error: Less than 5 previous games.\n",
      "----------------------------------------------------------------------------------------------------\n",
      "bad index 83, error: Less than 5 previous games.\n",
      "----------------------------------------------------------------------------------------------------\n",
      "bad index 86, error: Less than 5 previous games.\n",
      "----------------------------------------------------------------------------------------------------\n",
      "bad index 1234, error: Less than 5 previous games.\n",
      "----------------------------------------------------------------------------------------------------\n",
      "bad index 1259, error: Less than 5 previous games.\n",
      "----------------------------------------------------------------------------------------------------\n",
      "bad index 1270, error: Less than 5 previous games.\n",
      "----------------------------------------------------------------------------------------------------\n",
      "bad index 1283, error: Less than 5 previous games.\n",
      "----------------------------------------------------------------------------------------------------\n",
      "bad index 1291, error: Less than 5 previous games.\n",
      "----------------------------------------------------------------------------------------------------\n",
      "\n"
     ]
    }
   ],
   "source": [
    "#TODO: use dataclass\n",
    "dataset_df = dataset_df.sort_values(by='DATE').reset_index(drop=True)\n",
    "games_summaries=[]\n",
    "bad_index=[]\n",
    "for index,row in tqdm(dataset_df.iterrows(),total=dataset_df.shape[0]):\n",
    "    try:\n",
    "        # home team summary\n",
    "        summarized_home = summarize_previous_games(index, row['HOME'],dataset_df, args['summarize_n_games']).to_dict()\n",
    "        summarized_home['Team'] = row['HOME']\n",
    "        summarized_home['game_id'] = row['game_id']\n",
    "        games_summaries.append(summarized_home)\n",
    "\n",
    "        # visitor team summary\n",
    "        summarized_visitor = summarize_previous_games(index, row['VISITOR'],dataset_df, args['summarize_n_games']).to_dict()\n",
    "        summarized_visitor['Team'] = row['VISITOR']\n",
    "        summarized_visitor['game_id'] = row['game_id']\n",
    "        games_summaries.append(summarized_visitor)\n",
    "    except Exception as exc:\n",
    "        print(f\"bad index {index}, error: {exc}\")\n",
    "        print('-'*100)\n",
    "        bad_index.append(index)\n",
    "\n",
    "    "
   ]
  },
  {
   "cell_type": "code",
   "execution_count": 150,
   "metadata": {},
   "outputs": [
    {
     "output_type": "execute_result",
     "data": {
      "text/plain": [
       "         Pace    eFG%   TOV%   ORB%  FT/FGA    ORtg Team       game_id\n",
       "0       96.70  0.5558  16.98  32.24  0.3586  113.12  HOU  201311070HOU\n",
       "1      100.26  0.4738  12.98  20.76  0.1930  100.50  LAL  201311070HOU\n",
       "2       92.82  0.5738  15.48  19.00  0.2518  113.12  MIA  201311070MIA\n",
       "3       98.74  0.5342  12.76  27.82  0.2716  114.66  LAC  201311070MIA\n",
       "4       93.20  0.5100  16.92  23.78  0.2526  102.48  IND  201311080IND\n",
       "...       ...     ...    ...    ...     ...     ...  ...           ...\n",
       "17321   97.04  0.5358   9.56  23.78  0.1576  117.48  POR  202102020WAS\n",
       "17322   98.14  0.5526  13.78  24.12  0.2270  114.60  IND  202102020IND\n",
       "17323   99.72  0.5676   9.98  24.40  0.1314  119.22  MEM  202102020IND\n",
       "17324   95.96  0.5460  10.72  29.58  0.2560  122.54  UTA  202102020UTA\n",
       "17325   97.08  0.5252  14.06  21.98  0.2884  110.30  DET  202102020UTA\n",
       "\n",
       "[17326 rows x 8 columns]"
      ],
      "text/html": "<div>\n<style scoped>\n    .dataframe tbody tr th:only-of-type {\n        vertical-align: middle;\n    }\n\n    .dataframe tbody tr th {\n        vertical-align: top;\n    }\n\n    .dataframe thead th {\n        text-align: right;\n    }\n</style>\n<table border=\"1\" class=\"dataframe\">\n  <thead>\n    <tr style=\"text-align: right;\">\n      <th></th>\n      <th>Pace</th>\n      <th>eFG%</th>\n      <th>TOV%</th>\n      <th>ORB%</th>\n      <th>FT/FGA</th>\n      <th>ORtg</th>\n      <th>Team</th>\n      <th>game_id</th>\n    </tr>\n  </thead>\n  <tbody>\n    <tr>\n      <th>0</th>\n      <td>96.70</td>\n      <td>0.5558</td>\n      <td>16.98</td>\n      <td>32.24</td>\n      <td>0.3586</td>\n      <td>113.12</td>\n      <td>HOU</td>\n      <td>201311070HOU</td>\n    </tr>\n    <tr>\n      <th>1</th>\n      <td>100.26</td>\n      <td>0.4738</td>\n      <td>12.98</td>\n      <td>20.76</td>\n      <td>0.1930</td>\n      <td>100.50</td>\n      <td>LAL</td>\n      <td>201311070HOU</td>\n    </tr>\n    <tr>\n      <th>2</th>\n      <td>92.82</td>\n      <td>0.5738</td>\n      <td>15.48</td>\n      <td>19.00</td>\n      <td>0.2518</td>\n      <td>113.12</td>\n      <td>MIA</td>\n      <td>201311070MIA</td>\n    </tr>\n    <tr>\n      <th>3</th>\n      <td>98.74</td>\n      <td>0.5342</td>\n      <td>12.76</td>\n      <td>27.82</td>\n      <td>0.2716</td>\n      <td>114.66</td>\n      <td>LAC</td>\n      <td>201311070MIA</td>\n    </tr>\n    <tr>\n      <th>4</th>\n      <td>93.20</td>\n      <td>0.5100</td>\n      <td>16.92</td>\n      <td>23.78</td>\n      <td>0.2526</td>\n      <td>102.48</td>\n      <td>IND</td>\n      <td>201311080IND</td>\n    </tr>\n    <tr>\n      <th>...</th>\n      <td>...</td>\n      <td>...</td>\n      <td>...</td>\n      <td>...</td>\n      <td>...</td>\n      <td>...</td>\n      <td>...</td>\n      <td>...</td>\n    </tr>\n    <tr>\n      <th>17321</th>\n      <td>97.04</td>\n      <td>0.5358</td>\n      <td>9.56</td>\n      <td>23.78</td>\n      <td>0.1576</td>\n      <td>117.48</td>\n      <td>POR</td>\n      <td>202102020WAS</td>\n    </tr>\n    <tr>\n      <th>17322</th>\n      <td>98.14</td>\n      <td>0.5526</td>\n      <td>13.78</td>\n      <td>24.12</td>\n      <td>0.2270</td>\n      <td>114.60</td>\n      <td>IND</td>\n      <td>202102020IND</td>\n    </tr>\n    <tr>\n      <th>17323</th>\n      <td>99.72</td>\n      <td>0.5676</td>\n      <td>9.98</td>\n      <td>24.40</td>\n      <td>0.1314</td>\n      <td>119.22</td>\n      <td>MEM</td>\n      <td>202102020IND</td>\n    </tr>\n    <tr>\n      <th>17324</th>\n      <td>95.96</td>\n      <td>0.5460</td>\n      <td>10.72</td>\n      <td>29.58</td>\n      <td>0.2560</td>\n      <td>122.54</td>\n      <td>UTA</td>\n      <td>202102020UTA</td>\n    </tr>\n    <tr>\n      <th>17325</th>\n      <td>97.08</td>\n      <td>0.5252</td>\n      <td>14.06</td>\n      <td>21.98</td>\n      <td>0.2884</td>\n      <td>110.30</td>\n      <td>DET</td>\n      <td>202102020UTA</td>\n    </tr>\n  </tbody>\n</table>\n<p>17326 rows × 8 columns</p>\n</div>"
     },
     "metadata": {},
     "execution_count": 150
    }
   ],
   "source": [
    "len(games_summaries)"
   ]
  },
  {
   "source": [
    "games_summaries_df = pd.DataFrame(games_summaries)\n",
    "games_summaries_df"
   ],
   "cell_type": "markdown",
   "metadata": {}
  },
  {
   "cell_type": "code",
   "execution_count": 153,
   "metadata": {},
   "outputs": [
    {
     "output_type": "execute_result",
     "data": {
      "text/plain": [
       "        DATE VISITOR  VISITOR_PTS HOME  HOME_PTS  \\\n",
       "0 2013-10-29     ORL         87.0  IND      97.0   \n",
       "1 2013-10-29     CHI         95.0  MIA     107.0   \n",
       "2 2013-10-29     LAC        103.0  LAL     116.0   \n",
       "3 2013-10-30     BRK         94.0  CLE      98.0   \n",
       "4 2013-10-30     BOS         87.0  TOR      93.0   \n",
       "\n",
       "                                       boxscores_url       game_id Team_home  \\\n",
       "0  https://www.basketball-reference.com/boxscores...  201310290IND       IND   \n",
       "1  https://www.basketball-reference.com/boxscores...  201310290MIA       MIA   \n",
       "2  https://www.basketball-reference.com/boxscores...  201310290LAL       LAL   \n",
       "3  https://www.basketball-reference.com/boxscores...  201310300CLE       CLE   \n",
       "4  https://www.basketball-reference.com/boxscores...  201310300TOR       TOR   \n",
       "\n",
       "   Pace_home  eFG%_home  ...  ORB%_home  FT/FGA_home  ORtg_home  Team_visitor  \\\n",
       "0       95.0      0.528  ...       27.8        0.310      102.1           ORL   \n",
       "1       97.1      0.590  ...       14.3        0.306      110.2           CHI   \n",
       "2      100.4      0.527  ...       37.5        0.194      115.6           LAC   \n",
       "3       92.3      0.446  ...       36.4        0.274      106.2           BRK   \n",
       "4       91.5      0.471  ...       42.2        0.140      101.6           BOS   \n",
       "\n",
       "  Pace_visitor  eFG%_visitor  TOV%_visitor  ORB%_visitor  FT/FGA_visitor  \\\n",
       "0         95.0         0.435          14.9          27.7           0.065   \n",
       "1         97.1         0.464          16.2          23.9           0.217   \n",
       "2        100.4         0.542          14.7          22.7           0.157   \n",
       "3         92.3         0.457          13.9          22.0           0.232   \n",
       "4         91.5         0.508          21.8          19.4           0.303   \n",
       "\n",
       "   ORtg_visitor  \n",
       "0          91.6  \n",
       "1          97.9  \n",
       "2         102.6  \n",
       "3         101.8  \n",
       "4          95.1  \n",
       "\n",
       "[5 rows x 21 columns]"
      ],
      "text/html": "<div>\n<style scoped>\n    .dataframe tbody tr th:only-of-type {\n        vertical-align: middle;\n    }\n\n    .dataframe tbody tr th {\n        vertical-align: top;\n    }\n\n    .dataframe thead th {\n        text-align: right;\n    }\n</style>\n<table border=\"1\" class=\"dataframe\">\n  <thead>\n    <tr style=\"text-align: right;\">\n      <th></th>\n      <th>DATE</th>\n      <th>VISITOR</th>\n      <th>VISITOR_PTS</th>\n      <th>HOME</th>\n      <th>HOME_PTS</th>\n      <th>boxscores_url</th>\n      <th>game_id</th>\n      <th>Team_home</th>\n      <th>Pace_home</th>\n      <th>eFG%_home</th>\n      <th>...</th>\n      <th>ORB%_home</th>\n      <th>FT/FGA_home</th>\n      <th>ORtg_home</th>\n      <th>Team_visitor</th>\n      <th>Pace_visitor</th>\n      <th>eFG%_visitor</th>\n      <th>TOV%_visitor</th>\n      <th>ORB%_visitor</th>\n      <th>FT/FGA_visitor</th>\n      <th>ORtg_visitor</th>\n    </tr>\n  </thead>\n  <tbody>\n    <tr>\n      <th>0</th>\n      <td>2013-10-29</td>\n      <td>ORL</td>\n      <td>87.0</td>\n      <td>IND</td>\n      <td>97.0</td>\n      <td>https://www.basketball-reference.com/boxscores...</td>\n      <td>201310290IND</td>\n      <td>IND</td>\n      <td>95.0</td>\n      <td>0.528</td>\n      <td>...</td>\n      <td>27.8</td>\n      <td>0.310</td>\n      <td>102.1</td>\n      <td>ORL</td>\n      <td>95.0</td>\n      <td>0.435</td>\n      <td>14.9</td>\n      <td>27.7</td>\n      <td>0.065</td>\n      <td>91.6</td>\n    </tr>\n    <tr>\n      <th>1</th>\n      <td>2013-10-29</td>\n      <td>CHI</td>\n      <td>95.0</td>\n      <td>MIA</td>\n      <td>107.0</td>\n      <td>https://www.basketball-reference.com/boxscores...</td>\n      <td>201310290MIA</td>\n      <td>MIA</td>\n      <td>97.1</td>\n      <td>0.590</td>\n      <td>...</td>\n      <td>14.3</td>\n      <td>0.306</td>\n      <td>110.2</td>\n      <td>CHI</td>\n      <td>97.1</td>\n      <td>0.464</td>\n      <td>16.2</td>\n      <td>23.9</td>\n      <td>0.217</td>\n      <td>97.9</td>\n    </tr>\n    <tr>\n      <th>2</th>\n      <td>2013-10-29</td>\n      <td>LAC</td>\n      <td>103.0</td>\n      <td>LAL</td>\n      <td>116.0</td>\n      <td>https://www.basketball-reference.com/boxscores...</td>\n      <td>201310290LAL</td>\n      <td>LAL</td>\n      <td>100.4</td>\n      <td>0.527</td>\n      <td>...</td>\n      <td>37.5</td>\n      <td>0.194</td>\n      <td>115.6</td>\n      <td>LAC</td>\n      <td>100.4</td>\n      <td>0.542</td>\n      <td>14.7</td>\n      <td>22.7</td>\n      <td>0.157</td>\n      <td>102.6</td>\n    </tr>\n    <tr>\n      <th>3</th>\n      <td>2013-10-30</td>\n      <td>BRK</td>\n      <td>94.0</td>\n      <td>CLE</td>\n      <td>98.0</td>\n      <td>https://www.basketball-reference.com/boxscores...</td>\n      <td>201310300CLE</td>\n      <td>CLE</td>\n      <td>92.3</td>\n      <td>0.446</td>\n      <td>...</td>\n      <td>36.4</td>\n      <td>0.274</td>\n      <td>106.2</td>\n      <td>BRK</td>\n      <td>92.3</td>\n      <td>0.457</td>\n      <td>13.9</td>\n      <td>22.0</td>\n      <td>0.232</td>\n      <td>101.8</td>\n    </tr>\n    <tr>\n      <th>4</th>\n      <td>2013-10-30</td>\n      <td>BOS</td>\n      <td>87.0</td>\n      <td>TOR</td>\n      <td>93.0</td>\n      <td>https://www.basketball-reference.com/boxscores...</td>\n      <td>201310300TOR</td>\n      <td>TOR</td>\n      <td>91.5</td>\n      <td>0.471</td>\n      <td>...</td>\n      <td>42.2</td>\n      <td>0.140</td>\n      <td>101.6</td>\n      <td>BOS</td>\n      <td>91.5</td>\n      <td>0.508</td>\n      <td>21.8</td>\n      <td>19.4</td>\n      <td>0.303</td>\n      <td>95.1</td>\n    </tr>\n  </tbody>\n</table>\n<p>5 rows × 21 columns</p>\n</div>"
     },
     "metadata": {},
     "execution_count": 153
    }
   ],
   "source": [
    "dataset_df.head()"
   ]
  },
  {
   "cell_type": "code",
   "execution_count": 154,
   "metadata": {},
   "outputs": [
    {
     "output_type": "execute_result",
     "data": {
      "text/plain": [
       "Index(['DATE', 'VISITOR', 'VISITOR_PTS', 'HOME', 'HOME_PTS', 'boxscores_url',\n",
       "       'game_id', 'Team_home', 'Pace_home', 'eFG%_home', 'TOV%_home',\n",
       "       'ORB%_home', 'FT/FGA_home', 'ORtg_home', 'Team_visitor', 'Pace_visitor',\n",
       "       'eFG%_visitor', 'TOV%_visitor', 'ORB%_visitor', 'FT/FGA_visitor',\n",
       "       'ORtg_visitor'],\n",
       "      dtype='object')"
      ]
     },
     "metadata": {},
     "execution_count": 154
    }
   ],
   "source": [
    "dataset_df.columns"
   ]
  },
  {
   "source": [
    "temp_home = pd.merge(dataset_df[['DATE','VISITOR', 'VISITOR_PTS', 'HOME', 'HOME_PTS', 'boxscores_url','game_id']],games_summaries_df,left_on=['game_id','HOME'],right_on=['game_id','Team'])\n",
    "processed_dataset=pd.merge(temp_home,games_summaries_df,left_on=['game_id','VISITOR'],right_on=['game_id','Team'],suffixes=('_home','_visitor'))\n",
    "processed_dataset"
   ],
   "cell_type": "markdown",
   "metadata": {}
  },
  {
   "cell_type": "code",
   "execution_count": 158,
   "metadata": {},
   "outputs": [
    {
     "output_type": "execute_result",
     "data": {
      "text/plain": [
       "Index(['VISITOR', 'VISITOR_PTS', 'HOME', 'HOME_PTS', 'boxscores_url',\n",
       "       'game_id', 'Pace_home', 'eFG%_home', 'TOV%_home', 'ORB%_home',\n",
       "       'FT/FGA_home', 'ORtg_home', 'Team_home', 'Pace_visitor', 'eFG%_visitor',\n",
       "       'TOV%_visitor', 'ORB%_visitor', 'FT/FGA_visitor', 'ORtg_visitor',\n",
       "       'Team_visitor'],\n",
       "      dtype='object')"
      ]
     },
     "metadata": {},
     "execution_count": 158
    }
   ],
   "source": [
    "processed_dataset.columns"
   ]
  },
  {
   "cell_type": "code",
   "execution_count": null,
   "metadata": {},
   "outputs": [],
   "source": [
    "Model - team based - similar opponents as training data"
   ]
  },
  {
   "cell_type": "code",
   "execution_count": null,
   "metadata": {},
   "outputs": [],
   "source": [
    "## Model - Player based"
   ]
  },
  {
   "cell_type": "code",
   "execution_count": null,
   "metadata": {},
   "outputs": [],
   "source": [
    "# players? -> include minutes played\n",
    "# injured players?\n",
    "# use news to guess how many minutes he will play"
   ]
  }
 ]
}