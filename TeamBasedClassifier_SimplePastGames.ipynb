{
 "cells": [
  {
   "cell_type": "code",
   "execution_count": 82,
   "metadata": {},
   "outputs": [],
   "source": [
    "import pandas as pd\n",
    "from pathlib import Path\n",
    "import time\n",
    "from tqdm.notebook import tqdm\n",
    "import numpy as np\n",
    "import neptune\n",
    "import datetime"
   ]
  },
  {
   "cell_type": "code",
   "execution_count": 83,
   "metadata": {},
   "outputs": [],
   "source": [
    "args = {}\n",
    "args['data_folder'] = './Data'\n",
    "args['data_filename'] = 'full_data_2014to2021.pkl'\n",
    "args['summarize_n_games']= 10\n",
    "args['columns_to_summarize']=['Pace', 'eFG%', 'TOV%', 'ORB%', 'FT/FGA', 'ORtg', 'TS%', \n",
    "                              '3PAr', 'FTr', 'DRB%', 'TRB%', 'AST%', 'STL%', 'BLK%', 'DRtg']\n",
    "args['summarize_method']='mean'\n",
    "args['columns_order'] = ['DATE', 'VISITOR', 'VISITOR_PTS', 'HOME', 'HOME_PTS', 'boxscores_url',\n",
    "                         'game_id', 'Pace_home', 'eFG%_home', 'TOV%_home', 'ORB%_home',\n",
    "                         'FT/FGA_home', 'ORtg_home', 'TS%_home', '3PAr_home', 'FTr_home', \n",
    "                         'DRB%_home', 'TRB%_home','AST%_home', 'STL%_home', 'BLK%_home', 'DRtg_home',\n",
    "                         'Pace_visitor', 'eFG%_visitor','TOV%_visitor', 'ORB%_visitor', \n",
    "                         'FT/FGA_visitor', 'ORtg_visitor','TS%_visitor',\n",
    "                         '3PAr_visitor', 'FTr_visitor', 'DRB%_visitor', 'TRB%_visitor',\n",
    "                         'AST%_visitor', 'STL%_visitor', 'BLK%_visitor', 'DRtg_visitor',\n",
    "                         'TOTAL_PTS', 'HOME_VISITOR_PTS_DIFF', 'HOME_WIN']\n",
    "\n",
    "args['home_columns_to_summarize']=[column + '_'+'home' for column in args['columns_to_summarize']]\n",
    "args['visitor_columns_to_summarize']=[column + '_'+'visitor' for column in args['columns_to_summarize']]\n",
    "args['processed_dataset_filename']= \"ProcessedDataset_TeamBasis_mean_Past10Games_2021-02-18.pkl\"\n",
    "\n",
    "args['random_state']=248 # RIP Kobe"
   ]
  },
  {
   "cell_type": "code",
   "execution_count": 84,
   "metadata": {},
   "outputs": [],
   "source": [
    "data_folder = Path(args['data_folder'])\n",
    "assert data_folder.exists()"
   ]
  },
  {
   "cell_type": "markdown",
   "metadata": {},
   "source": [
    "# Read Raw Data"
   ]
  },
  {
   "cell_type": "code",
   "execution_count": 85,
   "metadata": {},
   "outputs": [
    {
     "data": {
      "text/html": [
       "<div>\n",
       "<style scoped>\n",
       "    .dataframe tbody tr th:only-of-type {\n",
       "        vertical-align: middle;\n",
       "    }\n",
       "\n",
       "    .dataframe tbody tr th {\n",
       "        vertical-align: top;\n",
       "    }\n",
       "\n",
       "    .dataframe thead th {\n",
       "        text-align: right;\n",
       "    }\n",
       "</style>\n",
       "<table border=\"1\" class=\"dataframe\">\n",
       "  <thead>\n",
       "    <tr style=\"text-align: right;\">\n",
       "      <th></th>\n",
       "      <th>DATE</th>\n",
       "      <th>VISITOR</th>\n",
       "      <th>VISITOR_PTS</th>\n",
       "      <th>HOME</th>\n",
       "      <th>HOME_PTS</th>\n",
       "      <th>boxscores_url</th>\n",
       "      <th>game_id</th>\n",
       "      <th>Pace_home</th>\n",
       "      <th>eFG%_home</th>\n",
       "      <th>TOV%_home</th>\n",
       "      <th>...</th>\n",
       "      <th>DRtg_home</th>\n",
       "      <th>TS%_visitor</th>\n",
       "      <th>3PAr_visitor</th>\n",
       "      <th>FTr_visitor</th>\n",
       "      <th>DRB%_visitor</th>\n",
       "      <th>TRB%_visitor</th>\n",
       "      <th>AST%_visitor</th>\n",
       "      <th>STL%_visitor</th>\n",
       "      <th>BLK%_visitor</th>\n",
       "      <th>DRtg_visitor</th>\n",
       "    </tr>\n",
       "  </thead>\n",
       "  <tbody>\n",
       "    <tr>\n",
       "      <th>0</th>\n",
       "      <td>2013-10-29</td>\n",
       "      <td>ORL</td>\n",
       "      <td>87</td>\n",
       "      <td>IND</td>\n",
       "      <td>97</td>\n",
       "      <td>https://www.basketball-reference.com/boxscores/201310290IND.html</td>\n",
       "      <td>201310290IND</td>\n",
       "      <td>95.0</td>\n",
       "      <td>0.528</td>\n",
       "      <td>19.0</td>\n",
       "      <td>...</td>\n",
       "      <td>91.6</td>\n",
       "      <td>.447</td>\n",
       "      <td>.204</td>\n",
       "      <td>.108</td>\n",
       "      <td>72.2</td>\n",
       "      <td>47.0</td>\n",
       "      <td>47.2</td>\n",
       "      <td>10.5</td>\n",
       "      <td>11.1</td>\n",
       "      <td>102.1</td>\n",
       "    </tr>\n",
       "    <tr>\n",
       "      <th>1</th>\n",
       "      <td>2013-10-29</td>\n",
       "      <td>CHI</td>\n",
       "      <td>95</td>\n",
       "      <td>MIA</td>\n",
       "      <td>107</td>\n",
       "      <td>https://www.basketball-reference.com/boxscores/201310290MIA.html</td>\n",
       "      <td>201310290MIA</td>\n",
       "      <td>97.1</td>\n",
       "      <td>0.590</td>\n",
       "      <td>17.5</td>\n",
       "      <td>...</td>\n",
       "      <td>97.9</td>\n",
       "      <td>.510</td>\n",
       "      <td>.313</td>\n",
       "      <td>.277</td>\n",
       "      <td>85.7</td>\n",
       "      <td>50.6</td>\n",
       "      <td>65.7</td>\n",
       "      <td>11.3</td>\n",
       "      <td>7.7</td>\n",
       "      <td>110.2</td>\n",
       "    </tr>\n",
       "    <tr>\n",
       "      <th>2</th>\n",
       "      <td>2013-10-29</td>\n",
       "      <td>LAC</td>\n",
       "      <td>103</td>\n",
       "      <td>LAL</td>\n",
       "      <td>116</td>\n",
       "      <td>https://www.basketball-reference.com/boxscores/201310290LAL.html</td>\n",
       "      <td>201310290LAL</td>\n",
       "      <td>100.4</td>\n",
       "      <td>0.527</td>\n",
       "      <td>15.3</td>\n",
       "      <td>...</td>\n",
       "      <td>102.6</td>\n",
       "      <td>.553</td>\n",
       "      <td>.253</td>\n",
       "      <td>.277</td>\n",
       "      <td>62.5</td>\n",
       "      <td>43.5</td>\n",
       "      <td>65.9</td>\n",
       "      <td>11.0</td>\n",
       "      <td>6.3</td>\n",
       "      <td>115.6</td>\n",
       "    </tr>\n",
       "    <tr>\n",
       "      <th>3</th>\n",
       "      <td>2013-10-30</td>\n",
       "      <td>BRK</td>\n",
       "      <td>94</td>\n",
       "      <td>CLE</td>\n",
       "      <td>98</td>\n",
       "      <td>https://www.basketball-reference.com/boxscores/201310300CLE.html</td>\n",
       "      <td>201310300CLE</td>\n",
       "      <td>92.3</td>\n",
       "      <td>0.446</td>\n",
       "      <td>10.0</td>\n",
       "      <td>...</td>\n",
       "      <td>101.8</td>\n",
       "      <td>.508</td>\n",
       "      <td>.293</td>\n",
       "      <td>.293</td>\n",
       "      <td>63.6</td>\n",
       "      <td>43.5</td>\n",
       "      <td>72.7</td>\n",
       "      <td>8.7</td>\n",
       "      <td>11.6</td>\n",
       "      <td>106.2</td>\n",
       "    </tr>\n",
       "    <tr>\n",
       "      <th>4</th>\n",
       "      <td>2013-10-30</td>\n",
       "      <td>BOS</td>\n",
       "      <td>87</td>\n",
       "      <td>TOR</td>\n",
       "      <td>93</td>\n",
       "      <td>https://www.basketball-reference.com/boxscores/201310300TOR.html</td>\n",
       "      <td>201310300TOR</td>\n",
       "      <td>91.5</td>\n",
       "      <td>0.471</td>\n",
       "      <td>15.0</td>\n",
       "      <td>...</td>\n",
       "      <td>95.1</td>\n",
       "      <td>.552</td>\n",
       "      <td>.197</td>\n",
       "      <td>.439</td>\n",
       "      <td>57.8</td>\n",
       "      <td>40.7</td>\n",
       "      <td>46.9</td>\n",
       "      <td>10.9</td>\n",
       "      <td>10.1</td>\n",
       "      <td>101.6</td>\n",
       "    </tr>\n",
       "  </tbody>\n",
       "</table>\n",
       "<p>5 rows × 37 columns</p>\n",
       "</div>"
      ],
      "text/plain": [
       "        DATE VISITOR VISITOR_PTS HOME HOME_PTS  \\\n",
       "0 2013-10-29     ORL          87  IND       97   \n",
       "1 2013-10-29     CHI          95  MIA      107   \n",
       "2 2013-10-29     LAC         103  LAL      116   \n",
       "3 2013-10-30     BRK          94  CLE       98   \n",
       "4 2013-10-30     BOS          87  TOR       93   \n",
       "\n",
       "                                                      boxscores_url  \\\n",
       "0  https://www.basketball-reference.com/boxscores/201310290IND.html   \n",
       "1  https://www.basketball-reference.com/boxscores/201310290MIA.html   \n",
       "2  https://www.basketball-reference.com/boxscores/201310290LAL.html   \n",
       "3  https://www.basketball-reference.com/boxscores/201310300CLE.html   \n",
       "4  https://www.basketball-reference.com/boxscores/201310300TOR.html   \n",
       "\n",
       "        game_id  Pace_home  eFG%_home  TOV%_home  ...  DRtg_home  TS%_visitor  \\\n",
       "0  201310290IND       95.0      0.528       19.0  ...       91.6         .447   \n",
       "1  201310290MIA       97.1      0.590       17.5  ...       97.9         .510   \n",
       "2  201310290LAL      100.4      0.527       15.3  ...      102.6         .553   \n",
       "3  201310300CLE       92.3      0.446       10.0  ...      101.8         .508   \n",
       "4  201310300TOR       91.5      0.471       15.0  ...       95.1         .552   \n",
       "\n",
       "   3PAr_visitor  FTr_visitor  DRB%_visitor  TRB%_visitor  AST%_visitor  \\\n",
       "0          .204         .108          72.2          47.0          47.2   \n",
       "1          .313         .277          85.7          50.6          65.7   \n",
       "2          .253         .277          62.5          43.5          65.9   \n",
       "3          .293         .293          63.6          43.5          72.7   \n",
       "4          .197         .439          57.8          40.7          46.9   \n",
       "\n",
       "   STL%_visitor  BLK%_visitor DRtg_visitor  \n",
       "0          10.5          11.1        102.1  \n",
       "1          11.3           7.7        110.2  \n",
       "2          11.0           6.3        115.6  \n",
       "3           8.7          11.6        106.2  \n",
       "4          10.9          10.1        101.6  \n",
       "\n",
       "[5 rows x 37 columns]"
      ]
     },
     "execution_count": 85,
     "metadata": {},
     "output_type": "execute_result"
    }
   ],
   "source": [
    "dataset_df = pd.read_pickle(data_folder/args['data_filename'])\n",
    "dataset_df.head()"
   ]
  },
  {
   "cell_type": "code",
   "execution_count": 86,
   "metadata": {},
   "outputs": [],
   "source": [
    "# convert string columns to numeric columns\n",
    "for column in ['VISITOR_PTS','HOME_PTS']:\n",
    "    dataset_df[column] = pd.to_numeric(dataset_df[column])"
   ]
  },
  {
   "cell_type": "code",
   "execution_count": 87,
   "metadata": {},
   "outputs": [
    {
     "data": {
      "text/plain": [
       "['Pace_home',\n",
       " 'Pace_visitor',\n",
       " 'eFG%_home',\n",
       " 'eFG%_visitor',\n",
       " 'TOV%_home',\n",
       " 'TOV%_visitor',\n",
       " 'ORB%_home',\n",
       " 'ORB%_visitor',\n",
       " 'FT/FGA_home',\n",
       " 'FT/FGA_visitor',\n",
       " 'ORtg_home',\n",
       " 'ORtg_visitor',\n",
       " 'TS%_home',\n",
       " 'TS%_visitor',\n",
       " '3PAr_home',\n",
       " '3PAr_visitor',\n",
       " 'FTr_home',\n",
       " 'FTr_visitor',\n",
       " 'DRB%_home',\n",
       " 'DRB%_visitor',\n",
       " 'TRB%_home',\n",
       " 'TRB%_visitor',\n",
       " 'AST%_home',\n",
       " 'AST%_visitor',\n",
       " 'STL%_home',\n",
       " 'STL%_visitor',\n",
       " 'BLK%_home',\n",
       " 'BLK%_visitor',\n",
       " 'DRtg_home',\n",
       " 'DRtg_visitor']"
      ]
     },
     "execution_count": 87,
     "metadata": {},
     "output_type": "execute_result"
    }
   ],
   "source": [
    "numeric_col=[]\n",
    "for col_name in args['columns_to_summarize']:\n",
    "    numeric_col.append(col_name+'_home')\n",
    "    numeric_col.append(col_name+'_visitor')\n",
    "numeric_col"
   ]
  },
  {
   "cell_type": "code",
   "execution_count": 88,
   "metadata": {},
   "outputs": [],
   "source": [
    "dataset_df[numeric_col] = dataset_df[numeric_col].astype('float')"
   ]
  },
  {
   "cell_type": "code",
   "execution_count": 89,
   "metadata": {
    "scrolled": true
   },
   "outputs": [
    {
     "name": "stdout",
     "output_type": "stream",
     "text": [
      "<class 'pandas.core.frame.DataFrame'>\n",
      "Int64Index: 8743 entries, 0 to 8742\n",
      "Data columns (total 37 columns):\n",
      " #   Column          Non-Null Count  Dtype         \n",
      "---  ------          --------------  -----         \n",
      " 0   DATE            8743 non-null   datetime64[ns]\n",
      " 1   VISITOR         8743 non-null   object        \n",
      " 2   VISITOR_PTS     8743 non-null   float64       \n",
      " 3   HOME            8743 non-null   object        \n",
      " 4   HOME_PTS        8743 non-null   float64       \n",
      " 5   boxscores_url   8743 non-null   object        \n",
      " 6   game_id         8743 non-null   object        \n",
      " 7   Pace_home       8743 non-null   float64       \n",
      " 8   eFG%_home       8743 non-null   float64       \n",
      " 9   TOV%_home       8743 non-null   float64       \n",
      " 10  ORB%_home       8743 non-null   float64       \n",
      " 11  FT/FGA_home     8743 non-null   float64       \n",
      " 12  ORtg_home       8743 non-null   float64       \n",
      " 13  Pace_visitor    8743 non-null   float64       \n",
      " 14  eFG%_visitor    8743 non-null   float64       \n",
      " 15  TOV%_visitor    8743 non-null   float64       \n",
      " 16  ORB%_visitor    8743 non-null   float64       \n",
      " 17  FT/FGA_visitor  8743 non-null   float64       \n",
      " 18  ORtg_visitor    8743 non-null   float64       \n",
      " 19  TS%_home        8743 non-null   float64       \n",
      " 20  3PAr_home       8743 non-null   float64       \n",
      " 21  FTr_home        8743 non-null   float64       \n",
      " 22  DRB%_home       8743 non-null   float64       \n",
      " 23  TRB%_home       8743 non-null   float64       \n",
      " 24  AST%_home       8743 non-null   float64       \n",
      " 25  STL%_home       8743 non-null   float64       \n",
      " 26  BLK%_home       8743 non-null   float64       \n",
      " 27  DRtg_home       8743 non-null   float64       \n",
      " 28  TS%_visitor     8743 non-null   float64       \n",
      " 29  3PAr_visitor    8743 non-null   float64       \n",
      " 30  FTr_visitor     8743 non-null   float64       \n",
      " 31  DRB%_visitor    8743 non-null   float64       \n",
      " 32  TRB%_visitor    8743 non-null   float64       \n",
      " 33  AST%_visitor    8743 non-null   float64       \n",
      " 34  STL%_visitor    8743 non-null   float64       \n",
      " 35  BLK%_visitor    8743 non-null   float64       \n",
      " 36  DRtg_visitor    8743 non-null   float64       \n",
      "dtypes: datetime64[ns](1), float64(32), object(4)\n",
      "memory usage: 2.5+ MB\n"
     ]
    }
   ],
   "source": [
    "dataset_df.info()"
   ]
  },
  {
   "cell_type": "code",
   "execution_count": 90,
   "metadata": {},
   "outputs": [
    {
     "data": {
      "text/plain": [
       "Index(['DATE', 'VISITOR', 'VISITOR_PTS', 'HOME', 'HOME_PTS', 'boxscores_url',\n",
       "       'game_id', 'Pace_home', 'eFG%_home', 'TOV%_home', 'ORB%_home',\n",
       "       'FT/FGA_home', 'ORtg_home', 'Pace_visitor', 'eFG%_visitor',\n",
       "       'TOV%_visitor', 'ORB%_visitor', 'FT/FGA_visitor', 'ORtg_visitor',\n",
       "       'TS%_home', '3PAr_home', 'FTr_home', 'DRB%_home', 'TRB%_home',\n",
       "       'AST%_home', 'STL%_home', 'BLK%_home', 'DRtg_home', 'TS%_visitor',\n",
       "       '3PAr_visitor', 'FTr_visitor', 'DRB%_visitor', 'TRB%_visitor',\n",
       "       'AST%_visitor', 'STL%_visitor', 'BLK%_visitor', 'DRtg_visitor'],\n",
       "      dtype='object')"
      ]
     },
     "execution_count": 90,
     "metadata": {},
     "output_type": "execute_result"
    }
   ],
   "source": [
    "dataset_df.columns"
   ]
  },
  {
   "cell_type": "code",
   "execution_count": 91,
   "metadata": {},
   "outputs": [],
   "source": [
    "dataset_df['TOTAL_PTS'] = dataset_df['VISITOR_PTS']+dataset_df['HOME_PTS']\n",
    "dataset_df['HOME_VISITOR_PTS_DIFF'] = dataset_df['HOME_PTS']-dataset_df['VISITOR_PTS']\n",
    "dataset_df['HOME_WIN'] = (dataset_df['HOME_VISITOR_PTS_DIFF']>0)"
   ]
  },
  {
   "cell_type": "code",
   "execution_count": 92,
   "metadata": {},
   "outputs": [],
   "source": [
    "dataset_df = dataset_df[args['columns_order']]"
   ]
  },
  {
   "cell_type": "raw",
   "metadata": {},
   "source": [
    "dataset_df.to_excel(data_folder/'dataset.xlsx',index=False)"
   ]
  },
  {
   "cell_type": "markdown",
   "metadata": {},
   "source": [
    "# Data Processing"
   ]
  },
  {
   "cell_type": "code",
   "execution_count": null,
   "metadata": {},
   "outputs": [],
   "source": [
    "# get most recent x games data as training data\n",
    "# test on 2021 data\n",
    "    # sort by dates\n",
    "    # iterate rows\n",
    "    # get current index\n",
    "    # from current index, go backwards index until found previous X games\n",
    "        # if out of index before fetching X games, stop and continue (give up predicting this game)\n",
    "    # if HOME or VISITOR equals to current row HOME, then get that row\n",
    "    # save into a dictionary, key is game_id\n",
    "    # transform as data frame, and join with the full data\n",
    "# average\n",
    "# 2 teams, concatenate to the same row\n",
    "# predict"
   ]
  },
  {
   "cell_type": "code",
   "execution_count": 93,
   "metadata": {},
   "outputs": [],
   "source": [
    "def strip_col_suffix(df):\n",
    "    \"\"\"\n",
    "    strip the '_home' or '_visitor' suffix from the stats columns, using args\n",
    "    \"\"\"\n",
    "    rename_dict = {old_col:new_col for old_col,new_col in zip(args['home_columns_to_summarize']+args['visitor_columns_to_summarize'],args['columns_to_summarize']*2)}\n",
    "    return df.rename(columns=rename_dict)\n",
    "\n",
    "def get_previous_games(curr_row_index,team_name,dataset_df:pd.DataFrame,previous_n=args['summarize_n_games'])->list:\n",
    "    \"\"\"\n",
    "    return a list of pandas dataframes of previous of games, regardless of home or away.\n",
    "    \"\"\"\n",
    "    previous_games = []\n",
    "    # start iterating previous games\n",
    "    for index in range(curr_row_index-1,-1,-1):\n",
    "        try:\n",
    "            # if home team matches\n",
    "            if (dataset_df.loc[index]['HOME']==team_name):\n",
    "                previous_game=dataset_df.loc[[index]][args['home_columns_to_summarize']]\n",
    "                previous_games.append(strip_col_suffix(previous_game))\n",
    "            # if visitor team matches\n",
    "            if (dataset_df.loc[index]['VISITOR']==team_name):\n",
    "                previous_game=dataset_df.loc[[index]][args['visitor_columns_to_summarize']]\n",
    "                previous_games.append(strip_col_suffix(previous_game))\n",
    "            # stop when we have enough games\n",
    "            if len(previous_games)==previous_n:\n",
    "                break\n",
    "        except Exception as exc:\n",
    "            print(exc)\n",
    "    if len(previous_games)<args['summarize_n_games']:\n",
    "        raise ValueError(f\"Less than {args['summarize_n_games']} previous games.\")\n",
    "    # return a list of dataframes\n",
    "    return previous_games\n",
    "\n",
    "def summarize_previous_games(curr_row_index,team_name,original_df,previous_n=args['summarize_n_games'],summarize_method=args['summarize_method'],summarize_func=None)->pd.DataFrame:\n",
    "    \"\"\"\n",
    "    calculate previous games' stats using `method`\n",
    "    `previous_n`: number of previous games\n",
    "    `summarize_method`: method to summarize prevous games\n",
    "    \"\"\"\n",
    "\n",
    "    previous_games = get_previous_games(curr_row_index,team_name,original_df,previous_n)\n",
    "    # concat return dataframes into one dataframe\n",
    "    previous_games = pd.concat(previous_games)\n",
    "    if summarize_func:\n",
    "        return summarize_func(previous_games)\n",
    "    if summarize_method == 'mean':\n",
    "        return np.mean(previous_games,axis=0)\n",
    "    if summarize_method == 'median':\n",
    "            return np.median(previous_games,axis=0)"
   ]
  },
  {
   "cell_type": "code",
   "execution_count": 94,
   "metadata": {
    "scrolled": true,
    "tags": []
   },
   "outputs": [
    {
     "data": {
      "application/vnd.jupyter.widget-view+json": {
       "model_id": "1fdaec15a3574af18d5d4557f7b88fa0",
       "version_major": 2,
       "version_minor": 0
      },
      "text/plain": [
       "HBox(children=(FloatProgress(value=0.0, max=8743.0), HTML(value='')))"
      ]
     },
     "metadata": {},
     "output_type": "display_data"
    },
    {
     "name": "stdout",
     "output_type": "stream",
     "text": [
      "bad index 0, error: Less than 10 previous games.\n",
      "----------------------------------------------------------------------------------------------------\n",
      "bad index 1, error: Less than 10 previous games.\n",
      "----------------------------------------------------------------------------------------------------\n",
      "bad index 2, error: Less than 10 previous games.\n",
      "----------------------------------------------------------------------------------------------------\n",
      "bad index 3, error: Less than 10 previous games.\n",
      "----------------------------------------------------------------------------------------------------\n",
      "bad index 4, error: Less than 10 previous games.\n",
      "----------------------------------------------------------------------------------------------------\n",
      "bad index 5, error: Less than 10 previous games.\n",
      "----------------------------------------------------------------------------------------------------\n",
      "bad index 6, error: Less than 10 previous games.\n",
      "----------------------------------------------------------------------------------------------------\n",
      "bad index 7, error: Less than 10 previous games.\n",
      "----------------------------------------------------------------------------------------------------\n",
      "bad index 8, error: Less than 10 previous games.\n",
      "----------------------------------------------------------------------------------------------------\n",
      "bad index 9, error: Less than 10 previous games.\n",
      "----------------------------------------------------------------------------------------------------\n",
      "bad index 10, error: Less than 10 previous games.\n",
      "----------------------------------------------------------------------------------------------------\n",
      "bad index 11, error: Less than 10 previous games.\n",
      "----------------------------------------------------------------------------------------------------\n",
      "bad index 12, error: Less than 10 previous games.\n",
      "----------------------------------------------------------------------------------------------------\n",
      "bad index 13, error: Less than 10 previous games.\n",
      "----------------------------------------------------------------------------------------------------\n",
      "bad index 14, error: Less than 10 previous games.\n",
      "----------------------------------------------------------------------------------------------------\n",
      "bad index 15, error: Less than 10 previous games.\n",
      "----------------------------------------------------------------------------------------------------\n",
      "bad index 16, error: Less than 10 previous games.\n",
      "----------------------------------------------------------------------------------------------------\n",
      "bad index 17, error: Less than 10 previous games.\n",
      "----------------------------------------------------------------------------------------------------\n",
      "bad index 18, error: Less than 10 previous games.\n",
      "----------------------------------------------------------------------------------------------------\n",
      "bad index 19, error: Less than 10 previous games.\n",
      "----------------------------------------------------------------------------------------------------\n",
      "bad index 20, error: Less than 10 previous games.\n",
      "----------------------------------------------------------------------------------------------------\n",
      "bad index 21, error: Less than 10 previous games.\n",
      "----------------------------------------------------------------------------------------------------\n",
      "bad index 22, error: Less than 10 previous games.\n",
      "----------------------------------------------------------------------------------------------------\n",
      "bad index 23, error: Less than 10 previous games.\n",
      "----------------------------------------------------------------------------------------------------\n",
      "bad index 24, error: Less than 10 previous games.\n",
      "----------------------------------------------------------------------------------------------------\n",
      "bad index 25, error: Less than 10 previous games.\n",
      "----------------------------------------------------------------------------------------------------\n",
      "bad index 26, error: Less than 10 previous games.\n",
      "----------------------------------------------------------------------------------------------------\n",
      "bad index 27, error: Less than 10 previous games.\n",
      "----------------------------------------------------------------------------------------------------\n",
      "bad index 28, error: Less than 10 previous games.\n",
      "----------------------------------------------------------------------------------------------------\n",
      "bad index 29, error: Less than 10 previous games.\n",
      "----------------------------------------------------------------------------------------------------\n",
      "bad index 30, error: Less than 10 previous games.\n",
      "----------------------------------------------------------------------------------------------------\n",
      "bad index 31, error: Less than 10 previous games.\n",
      "----------------------------------------------------------------------------------------------------\n",
      "bad index 32, error: Less than 10 previous games.\n",
      "----------------------------------------------------------------------------------------------------\n",
      "bad index 33, error: Less than 10 previous games.\n",
      "----------------------------------------------------------------------------------------------------\n",
      "bad index 34, error: Less than 10 previous games.\n",
      "----------------------------------------------------------------------------------------------------\n",
      "bad index 35, error: Less than 10 previous games.\n",
      "----------------------------------------------------------------------------------------------------\n",
      "bad index 36, error: Less than 10 previous games.\n",
      "----------------------------------------------------------------------------------------------------\n",
      "bad index 37, error: Less than 10 previous games.\n",
      "----------------------------------------------------------------------------------------------------\n",
      "bad index 38, error: Less than 10 previous games.\n",
      "----------------------------------------------------------------------------------------------------\n",
      "bad index 39, error: Less than 10 previous games.\n",
      "----------------------------------------------------------------------------------------------------\n",
      "bad index 40, error: Less than 10 previous games.\n",
      "----------------------------------------------------------------------------------------------------\n",
      "bad index 41, error: Less than 10 previous games.\n",
      "----------------------------------------------------------------------------------------------------\n",
      "bad index 42, error: Less than 10 previous games.\n",
      "----------------------------------------------------------------------------------------------------\n",
      "bad index 43, error: Less than 10 previous games.\n",
      "----------------------------------------------------------------------------------------------------\n",
      "bad index 44, error: Less than 10 previous games.\n",
      "----------------------------------------------------------------------------------------------------\n",
      "bad index 45, error: Less than 10 previous games.\n",
      "----------------------------------------------------------------------------------------------------\n",
      "bad index 46, error: Less than 10 previous games.\n",
      "----------------------------------------------------------------------------------------------------\n",
      "bad index 47, error: Less than 10 previous games.\n",
      "----------------------------------------------------------------------------------------------------\n",
      "bad index 48, error: Less than 10 previous games.\n",
      "----------------------------------------------------------------------------------------------------\n",
      "bad index 49, error: Less than 10 previous games.\n",
      "----------------------------------------------------------------------------------------------------\n",
      "bad index 50, error: Less than 10 previous games.\n",
      "----------------------------------------------------------------------------------------------------\n",
      "bad index 51, error: Less than 10 previous games.\n",
      "----------------------------------------------------------------------------------------------------\n",
      "bad index 52, error: Less than 10 previous games.\n",
      "----------------------------------------------------------------------------------------------------\n",
      "bad index 53, error: Less than 10 previous games.\n",
      "----------------------------------------------------------------------------------------------------\n",
      "bad index 54, error: Less than 10 previous games.\n",
      "----------------------------------------------------------------------------------------------------\n",
      "bad index 55, error: Less than 10 previous games.\n",
      "----------------------------------------------------------------------------------------------------\n",
      "bad index 56, error: Less than 10 previous games.\n",
      "----------------------------------------------------------------------------------------------------\n",
      "bad index 57, error: Less than 10 previous games.\n",
      "----------------------------------------------------------------------------------------------------\n"
     ]
    },
    {
     "name": "stdout",
     "output_type": "stream",
     "text": [
      "bad index 58, error: Less than 10 previous games.\n",
      "----------------------------------------------------------------------------------------------------\n",
      "bad index 59, error: Less than 10 previous games.\n",
      "----------------------------------------------------------------------------------------------------\n",
      "bad index 60, error: Less than 10 previous games.\n",
      "----------------------------------------------------------------------------------------------------\n",
      "bad index 61, error: Less than 10 previous games.\n",
      "----------------------------------------------------------------------------------------------------\n",
      "bad index 62, error: Less than 10 previous games.\n",
      "----------------------------------------------------------------------------------------------------\n",
      "bad index 63, error: Less than 10 previous games.\n",
      "----------------------------------------------------------------------------------------------------\n",
      "bad index 64, error: Less than 10 previous games.\n",
      "----------------------------------------------------------------------------------------------------\n",
      "bad index 65, error: Less than 10 previous games.\n",
      "----------------------------------------------------------------------------------------------------\n",
      "bad index 66, error: Less than 10 previous games.\n",
      "----------------------------------------------------------------------------------------------------\n",
      "bad index 67, error: Less than 10 previous games.\n",
      "----------------------------------------------------------------------------------------------------\n",
      "bad index 68, error: Less than 10 previous games.\n",
      "----------------------------------------------------------------------------------------------------\n",
      "bad index 69, error: Less than 10 previous games.\n",
      "----------------------------------------------------------------------------------------------------\n",
      "bad index 70, error: Less than 10 previous games.\n",
      "----------------------------------------------------------------------------------------------------\n",
      "bad index 71, error: Less than 10 previous games.\n",
      "----------------------------------------------------------------------------------------------------\n",
      "bad index 72, error: Less than 10 previous games.\n",
      "----------------------------------------------------------------------------------------------------\n",
      "bad index 73, error: Less than 10 previous games.\n",
      "----------------------------------------------------------------------------------------------------\n",
      "bad index 74, error: Less than 10 previous games.\n",
      "----------------------------------------------------------------------------------------------------\n",
      "bad index 75, error: Less than 10 previous games.\n",
      "----------------------------------------------------------------------------------------------------\n",
      "bad index 76, error: Less than 10 previous games.\n",
      "----------------------------------------------------------------------------------------------------\n",
      "bad index 77, error: Less than 10 previous games.\n",
      "----------------------------------------------------------------------------------------------------\n",
      "bad index 78, error: Less than 10 previous games.\n",
      "----------------------------------------------------------------------------------------------------\n",
      "bad index 79, error: Less than 10 previous games.\n",
      "----------------------------------------------------------------------------------------------------\n",
      "bad index 80, error: Less than 10 previous games.\n",
      "----------------------------------------------------------------------------------------------------\n",
      "bad index 81, error: Less than 10 previous games.\n",
      "----------------------------------------------------------------------------------------------------\n",
      "bad index 82, error: Less than 10 previous games.\n",
      "----------------------------------------------------------------------------------------------------\n",
      "bad index 83, error: Less than 10 previous games.\n",
      "----------------------------------------------------------------------------------------------------\n",
      "bad index 84, error: Less than 10 previous games.\n",
      "----------------------------------------------------------------------------------------------------\n",
      "bad index 85, error: Less than 10 previous games.\n",
      "----------------------------------------------------------------------------------------------------\n",
      "bad index 86, error: Less than 10 previous games.\n",
      "----------------------------------------------------------------------------------------------------\n",
      "bad index 87, error: Less than 10 previous games.\n",
      "----------------------------------------------------------------------------------------------------\n",
      "bad index 88, error: Less than 10 previous games.\n",
      "----------------------------------------------------------------------------------------------------\n",
      "bad index 89, error: Less than 10 previous games.\n",
      "----------------------------------------------------------------------------------------------------\n",
      "bad index 90, error: Less than 10 previous games.\n",
      "----------------------------------------------------------------------------------------------------\n",
      "bad index 91, error: Less than 10 previous games.\n",
      "----------------------------------------------------------------------------------------------------\n",
      "bad index 92, error: Less than 10 previous games.\n",
      "----------------------------------------------------------------------------------------------------\n",
      "bad index 93, error: Less than 10 previous games.\n",
      "----------------------------------------------------------------------------------------------------\n",
      "bad index 94, error: Less than 10 previous games.\n",
      "----------------------------------------------------------------------------------------------------\n",
      "bad index 95, error: Less than 10 previous games.\n",
      "----------------------------------------------------------------------------------------------------\n",
      "bad index 96, error: Less than 10 previous games.\n",
      "----------------------------------------------------------------------------------------------------\n",
      "bad index 97, error: Less than 10 previous games.\n",
      "----------------------------------------------------------------------------------------------------\n",
      "bad index 98, error: Less than 10 previous games.\n",
      "----------------------------------------------------------------------------------------------------\n",
      "bad index 99, error: Less than 10 previous games.\n",
      "----------------------------------------------------------------------------------------------------\n",
      "bad index 100, error: Less than 10 previous games.\n",
      "----------------------------------------------------------------------------------------------------\n",
      "bad index 101, error: Less than 10 previous games.\n",
      "----------------------------------------------------------------------------------------------------\n",
      "bad index 102, error: Less than 10 previous games.\n",
      "----------------------------------------------------------------------------------------------------\n",
      "bad index 103, error: Less than 10 previous games.\n",
      "----------------------------------------------------------------------------------------------------\n",
      "bad index 104, error: Less than 10 previous games.\n",
      "----------------------------------------------------------------------------------------------------\n",
      "bad index 105, error: Less than 10 previous games.\n",
      "----------------------------------------------------------------------------------------------------\n",
      "bad index 106, error: Less than 10 previous games.\n",
      "----------------------------------------------------------------------------------------------------\n",
      "bad index 107, error: Less than 10 previous games.\n",
      "----------------------------------------------------------------------------------------------------\n",
      "bad index 108, error: Less than 10 previous games.\n",
      "----------------------------------------------------------------------------------------------------\n",
      "bad index 109, error: Less than 10 previous games.\n",
      "----------------------------------------------------------------------------------------------------\n",
      "bad index 110, error: Less than 10 previous games.\n",
      "----------------------------------------------------------------------------------------------------\n",
      "bad index 111, error: Less than 10 previous games.\n",
      "----------------------------------------------------------------------------------------------------\n",
      "bad index 112, error: Less than 10 previous games.\n",
      "----------------------------------------------------------------------------------------------------\n"
     ]
    },
    {
     "name": "stdout",
     "output_type": "stream",
     "text": [
      "bad index 113, error: Less than 10 previous games.\n",
      "----------------------------------------------------------------------------------------------------\n",
      "bad index 114, error: Less than 10 previous games.\n",
      "----------------------------------------------------------------------------------------------------\n",
      "bad index 115, error: Less than 10 previous games.\n",
      "----------------------------------------------------------------------------------------------------\n",
      "bad index 116, error: Less than 10 previous games.\n",
      "----------------------------------------------------------------------------------------------------\n",
      "bad index 117, error: Less than 10 previous games.\n",
      "----------------------------------------------------------------------------------------------------\n",
      "bad index 118, error: Less than 10 previous games.\n",
      "----------------------------------------------------------------------------------------------------\n",
      "bad index 119, error: Less than 10 previous games.\n",
      "----------------------------------------------------------------------------------------------------\n",
      "bad index 120, error: Less than 10 previous games.\n",
      "----------------------------------------------------------------------------------------------------\n",
      "bad index 121, error: Less than 10 previous games.\n",
      "----------------------------------------------------------------------------------------------------\n",
      "bad index 122, error: Less than 10 previous games.\n",
      "----------------------------------------------------------------------------------------------------\n",
      "bad index 123, error: Less than 10 previous games.\n",
      "----------------------------------------------------------------------------------------------------\n",
      "bad index 124, error: Less than 10 previous games.\n",
      "----------------------------------------------------------------------------------------------------\n",
      "bad index 125, error: Less than 10 previous games.\n",
      "----------------------------------------------------------------------------------------------------\n",
      "bad index 126, error: Less than 10 previous games.\n",
      "----------------------------------------------------------------------------------------------------\n",
      "bad index 127, error: Less than 10 previous games.\n",
      "----------------------------------------------------------------------------------------------------\n",
      "bad index 128, error: Less than 10 previous games.\n",
      "----------------------------------------------------------------------------------------------------\n",
      "bad index 129, error: Less than 10 previous games.\n",
      "----------------------------------------------------------------------------------------------------\n",
      "bad index 130, error: Less than 10 previous games.\n",
      "----------------------------------------------------------------------------------------------------\n",
      "bad index 131, error: Less than 10 previous games.\n",
      "----------------------------------------------------------------------------------------------------\n",
      "bad index 132, error: Less than 10 previous games.\n",
      "----------------------------------------------------------------------------------------------------\n",
      "bad index 133, error: Less than 10 previous games.\n",
      "----------------------------------------------------------------------------------------------------\n",
      "bad index 134, error: Less than 10 previous games.\n",
      "----------------------------------------------------------------------------------------------------\n",
      "bad index 135, error: Less than 10 previous games.\n",
      "----------------------------------------------------------------------------------------------------\n",
      "bad index 136, error: Less than 10 previous games.\n",
      "----------------------------------------------------------------------------------------------------\n",
      "bad index 137, error: Less than 10 previous games.\n",
      "----------------------------------------------------------------------------------------------------\n",
      "bad index 138, error: Less than 10 previous games.\n",
      "----------------------------------------------------------------------------------------------------\n",
      "bad index 140, error: Less than 10 previous games.\n",
      "----------------------------------------------------------------------------------------------------\n",
      "bad index 141, error: Less than 10 previous games.\n",
      "----------------------------------------------------------------------------------------------------\n",
      "bad index 142, error: Less than 10 previous games.\n",
      "----------------------------------------------------------------------------------------------------\n",
      "bad index 143, error: Less than 10 previous games.\n",
      "----------------------------------------------------------------------------------------------------\n",
      "bad index 144, error: Less than 10 previous games.\n",
      "----------------------------------------------------------------------------------------------------\n",
      "bad index 145, error: Less than 10 previous games.\n",
      "----------------------------------------------------------------------------------------------------\n",
      "bad index 146, error: Less than 10 previous games.\n",
      "----------------------------------------------------------------------------------------------------\n",
      "bad index 147, error: Less than 10 previous games.\n",
      "----------------------------------------------------------------------------------------------------\n",
      "bad index 148, error: Less than 10 previous games.\n",
      "----------------------------------------------------------------------------------------------------\n",
      "bad index 152, error: Less than 10 previous games.\n",
      "----------------------------------------------------------------------------------------------------\n",
      "bad index 153, error: Less than 10 previous games.\n",
      "----------------------------------------------------------------------------------------------------\n",
      "bad index 154, error: Less than 10 previous games.\n",
      "----------------------------------------------------------------------------------------------------\n",
      "bad index 155, error: Less than 10 previous games.\n",
      "----------------------------------------------------------------------------------------------------\n",
      "bad index 156, error: Less than 10 previous games.\n",
      "----------------------------------------------------------------------------------------------------\n",
      "bad index 159, error: Less than 10 previous games.\n",
      "----------------------------------------------------------------------------------------------------\n",
      "bad index 165, error: Less than 10 previous games.\n",
      "----------------------------------------------------------------------------------------------------\n",
      "bad index 173, error: Less than 10 previous games.\n",
      "----------------------------------------------------------------------------------------------------\n",
      "bad index 1243, error: Less than 10 previous games.\n",
      "----------------------------------------------------------------------------------------------------\n",
      "bad index 1262, error: Less than 10 previous games.\n",
      "----------------------------------------------------------------------------------------------------\n",
      "bad index 1270, error: Less than 10 previous games.\n",
      "----------------------------------------------------------------------------------------------------\n",
      "bad index 1283, error: Less than 10 previous games.\n",
      "----------------------------------------------------------------------------------------------------\n",
      "bad index 1293, error: Less than 10 previous games.\n",
      "----------------------------------------------------------------------------------------------------\n",
      "bad index 1309, error: Less than 10 previous games.\n",
      "----------------------------------------------------------------------------------------------------\n",
      "bad index 1326, error: Less than 10 previous games.\n",
      "----------------------------------------------------------------------------------------------------\n",
      "bad index 1336, error: Less than 10 previous games.\n",
      "----------------------------------------------------------------------------------------------------\n",
      "bad index 1359, error: Less than 10 previous games.\n",
      "----------------------------------------------------------------------------------------------------\n",
      "bad index 1362, error: Less than 10 previous games.\n",
      "----------------------------------------------------------------------------------------------------\n",
      "\n"
     ]
    }
   ],
   "source": [
    "#TODO: use dataclass\n",
    "dataset_df = dataset_df.sort_values(by='DATE').reset_index(drop=True)\n",
    "games_summaries=[]\n",
    "bad_index=[]\n",
    "for index,row in tqdm(dataset_df.iterrows(),total=dataset_df.shape[0]):\n",
    "    try:\n",
    "        # home team summary\n",
    "        summarized_home = summarize_previous_games(index, row['HOME'],dataset_df, args['summarize_n_games']).to_dict()\n",
    "        summarized_home['Team'] = row['HOME']\n",
    "        summarized_home['game_id'] = row['game_id']\n",
    "        games_summaries.append(summarized_home)\n",
    "\n",
    "        # visitor team summary\n",
    "        summarized_visitor = summarize_previous_games(index, row['VISITOR'],dataset_df, args['summarize_n_games']).to_dict()\n",
    "        summarized_visitor['Team'] = row['VISITOR']\n",
    "        summarized_visitor['game_id'] = row['game_id']\n",
    "        games_summaries.append(summarized_visitor)\n",
    "    except Exception as exc:\n",
    "        print(f\"bad index {index}, error: {exc}\")\n",
    "        print('-'*100)\n",
    "        bad_index.append(index)"
   ]
  },
  {
   "cell_type": "code",
   "execution_count": 95,
   "metadata": {
    "scrolled": true
   },
   "outputs": [
    {
     "data": {
      "text/plain": [
       "17165"
      ]
     },
     "execution_count": 95,
     "metadata": {},
     "output_type": "execute_result"
    }
   ],
   "source": [
    "len(games_summaries)"
   ]
  },
  {
   "cell_type": "code",
   "execution_count": 96,
   "metadata": {},
   "outputs": [
    {
     "data": {
      "text/plain": [
       "{'Pace': 99.57,\n",
       " 'eFG%': 0.47700000000000004,\n",
       " 'TOV%': 14.25,\n",
       " 'ORB%': 24.610000000000003,\n",
       " 'FT/FGA': 0.1803,\n",
       " 'ORtg': 99.75000000000001,\n",
       " 'TS%': 0.5095000000000001,\n",
       " '3PAr': 0.2853,\n",
       " 'FTr': 0.2554,\n",
       " 'DRB%': 75.92999999999999,\n",
       " 'TRB%': 49.790000000000006,\n",
       " 'AST%': 63.84999999999999,\n",
       " 'STL%': 5.9799999999999995,\n",
       " 'BLK%': 8.77,\n",
       " 'DRtg': 106.28,\n",
       " 'Team': 'LAL',\n",
       " 'game_id': '201311150LAL'}"
      ]
     },
     "execution_count": 96,
     "metadata": {},
     "output_type": "execute_result"
    }
   ],
   "source": [
    "games_summaries[0]"
   ]
  },
  {
   "cell_type": "code",
   "execution_count": 97,
   "metadata": {},
   "outputs": [
    {
     "data": {
      "text/html": [
       "<div>\n",
       "<style scoped>\n",
       "    .dataframe tbody tr th:only-of-type {\n",
       "        vertical-align: middle;\n",
       "    }\n",
       "\n",
       "    .dataframe tbody tr th {\n",
       "        vertical-align: top;\n",
       "    }\n",
       "\n",
       "    .dataframe thead th {\n",
       "        text-align: right;\n",
       "    }\n",
       "</style>\n",
       "<table border=\"1\" class=\"dataframe\">\n",
       "  <thead>\n",
       "    <tr style=\"text-align: right;\">\n",
       "      <th></th>\n",
       "      <th>Pace</th>\n",
       "      <th>eFG%</th>\n",
       "      <th>TOV%</th>\n",
       "      <th>ORB%</th>\n",
       "      <th>FT/FGA</th>\n",
       "      <th>ORtg</th>\n",
       "      <th>TS%</th>\n",
       "      <th>3PAr</th>\n",
       "      <th>FTr</th>\n",
       "      <th>DRB%</th>\n",
       "      <th>TRB%</th>\n",
       "      <th>AST%</th>\n",
       "      <th>STL%</th>\n",
       "      <th>BLK%</th>\n",
       "      <th>DRtg</th>\n",
       "      <th>Team</th>\n",
       "      <th>game_id</th>\n",
       "    </tr>\n",
       "  </thead>\n",
       "  <tbody>\n",
       "    <tr>\n",
       "      <th>0</th>\n",
       "      <td>99.57</td>\n",
       "      <td>0.4770</td>\n",
       "      <td>14.25</td>\n",
       "      <td>24.61</td>\n",
       "      <td>0.1803</td>\n",
       "      <td>99.75</td>\n",
       "      <td>0.5095</td>\n",
       "      <td>0.2853</td>\n",
       "      <td>0.2554</td>\n",
       "      <td>75.93</td>\n",
       "      <td>49.79</td>\n",
       "      <td>63.85</td>\n",
       "      <td>5.98</td>\n",
       "      <td>8.77</td>\n",
       "      <td>106.28</td>\n",
       "      <td>LAL</td>\n",
       "      <td>201311150LAL</td>\n",
       "    </tr>\n",
       "    <tr>\n",
       "      <th>1</th>\n",
       "      <td>99.14</td>\n",
       "      <td>0.4896</td>\n",
       "      <td>12.81</td>\n",
       "      <td>26.18</td>\n",
       "      <td>0.2486</td>\n",
       "      <td>108.85</td>\n",
       "      <td>0.5406</td>\n",
       "      <td>0.2579</td>\n",
       "      <td>0.3060</td>\n",
       "      <td>73.45</td>\n",
       "      <td>49.88</td>\n",
       "      <td>64.03</td>\n",
       "      <td>9.60</td>\n",
       "      <td>5.07</td>\n",
       "      <td>101.21</td>\n",
       "      <td>MIN</td>\n",
       "      <td>201311160MIN</td>\n",
       "    </tr>\n",
       "    <tr>\n",
       "      <th>2</th>\n",
       "      <td>93.06</td>\n",
       "      <td>0.4923</td>\n",
       "      <td>15.26</td>\n",
       "      <td>23.82</td>\n",
       "      <td>0.2027</td>\n",
       "      <td>101.89</td>\n",
       "      <td>0.5321</td>\n",
       "      <td>0.2154</td>\n",
       "      <td>0.2660</td>\n",
       "      <td>71.41</td>\n",
       "      <td>48.10</td>\n",
       "      <td>49.15</td>\n",
       "      <td>8.91</td>\n",
       "      <td>7.74</td>\n",
       "      <td>104.24</td>\n",
       "      <td>BOS</td>\n",
       "      <td>201311160MIN</td>\n",
       "    </tr>\n",
       "    <tr>\n",
       "      <th>3</th>\n",
       "      <td>96.77</td>\n",
       "      <td>0.5225</td>\n",
       "      <td>16.30</td>\n",
       "      <td>29.15</td>\n",
       "      <td>0.3511</td>\n",
       "      <td>108.14</td>\n",
       "      <td>0.5718</td>\n",
       "      <td>0.3485</td>\n",
       "      <td>0.5002</td>\n",
       "      <td>72.91</td>\n",
       "      <td>53.47</td>\n",
       "      <td>53.67</td>\n",
       "      <td>7.76</td>\n",
       "      <td>9.97</td>\n",
       "      <td>106.17</td>\n",
       "      <td>HOU</td>\n",
       "      <td>201311160HOU</td>\n",
       "    </tr>\n",
       "    <tr>\n",
       "      <th>4</th>\n",
       "      <td>89.87</td>\n",
       "      <td>0.4614</td>\n",
       "      <td>13.20</td>\n",
       "      <td>30.90</td>\n",
       "      <td>0.2479</td>\n",
       "      <td>104.54</td>\n",
       "      <td>0.5113</td>\n",
       "      <td>0.2471</td>\n",
       "      <td>0.3195</td>\n",
       "      <td>75.71</td>\n",
       "      <td>52.19</td>\n",
       "      <td>48.26</td>\n",
       "      <td>7.84</td>\n",
       "      <td>7.44</td>\n",
       "      <td>103.75</td>\n",
       "      <td>TOR</td>\n",
       "      <td>201311170TOR</td>\n",
       "    </tr>\n",
       "    <tr>\n",
       "      <th>...</th>\n",
       "      <td>...</td>\n",
       "      <td>...</td>\n",
       "      <td>...</td>\n",
       "      <td>...</td>\n",
       "      <td>...</td>\n",
       "      <td>...</td>\n",
       "      <td>...</td>\n",
       "      <td>...</td>\n",
       "      <td>...</td>\n",
       "      <td>...</td>\n",
       "      <td>...</td>\n",
       "      <td>...</td>\n",
       "      <td>...</td>\n",
       "      <td>...</td>\n",
       "      <td>...</td>\n",
       "      <td>...</td>\n",
       "      <td>...</td>\n",
       "    </tr>\n",
       "    <tr>\n",
       "      <th>17160</th>\n",
       "      <td>98.08</td>\n",
       "      <td>0.5316</td>\n",
       "      <td>12.70</td>\n",
       "      <td>24.36</td>\n",
       "      <td>0.1938</td>\n",
       "      <td>113.55</td>\n",
       "      <td>0.5706</td>\n",
       "      <td>0.4734</td>\n",
       "      <td>0.2302</td>\n",
       "      <td>76.91</td>\n",
       "      <td>49.55</td>\n",
       "      <td>65.61</td>\n",
       "      <td>9.90</td>\n",
       "      <td>11.51</td>\n",
       "      <td>110.03</td>\n",
       "      <td>TOR</td>\n",
       "      <td>202102020ORL</td>\n",
       "    </tr>\n",
       "    <tr>\n",
       "      <th>17161</th>\n",
       "      <td>99.62</td>\n",
       "      <td>0.5974</td>\n",
       "      <td>11.38</td>\n",
       "      <td>21.17</td>\n",
       "      <td>0.2123</td>\n",
       "      <td>122.95</td>\n",
       "      <td>0.6328</td>\n",
       "      <td>0.4218</td>\n",
       "      <td>0.2519</td>\n",
       "      <td>78.54</td>\n",
       "      <td>51.91</td>\n",
       "      <td>62.44</td>\n",
       "      <td>5.14</td>\n",
       "      <td>11.24</td>\n",
       "      <td>119.55</td>\n",
       "      <td>BRK</td>\n",
       "      <td>202102020BRK</td>\n",
       "    </tr>\n",
       "    <tr>\n",
       "      <th>17162</th>\n",
       "      <td>96.82</td>\n",
       "      <td>0.5771</td>\n",
       "      <td>10.77</td>\n",
       "      <td>21.79</td>\n",
       "      <td>0.2122</td>\n",
       "      <td>121.48</td>\n",
       "      <td>0.6158</td>\n",
       "      <td>0.4279</td>\n",
       "      <td>0.2464</td>\n",
       "      <td>81.37</td>\n",
       "      <td>53.49</td>\n",
       "      <td>59.55</td>\n",
       "      <td>7.80</td>\n",
       "      <td>8.04</td>\n",
       "      <td>105.97</td>\n",
       "      <td>LAC</td>\n",
       "      <td>202102020BRK</td>\n",
       "    </tr>\n",
       "    <tr>\n",
       "      <th>17163</th>\n",
       "      <td>96.46</td>\n",
       "      <td>0.5787</td>\n",
       "      <td>12.41</td>\n",
       "      <td>26.90</td>\n",
       "      <td>0.2109</td>\n",
       "      <td>122.08</td>\n",
       "      <td>0.6120</td>\n",
       "      <td>0.5181</td>\n",
       "      <td>0.2670</td>\n",
       "      <td>79.74</td>\n",
       "      <td>54.17</td>\n",
       "      <td>63.02</td>\n",
       "      <td>6.65</td>\n",
       "      <td>10.09</td>\n",
       "      <td>107.89</td>\n",
       "      <td>UTA</td>\n",
       "      <td>202102020UTA</td>\n",
       "    </tr>\n",
       "    <tr>\n",
       "      <th>17164</th>\n",
       "      <td>97.05</td>\n",
       "      <td>0.5215</td>\n",
       "      <td>13.59</td>\n",
       "      <td>23.00</td>\n",
       "      <td>0.2415</td>\n",
       "      <td>110.30</td>\n",
       "      <td>0.5637</td>\n",
       "      <td>0.4184</td>\n",
       "      <td>0.3155</td>\n",
       "      <td>75.68</td>\n",
       "      <td>49.04</td>\n",
       "      <td>64.63</td>\n",
       "      <td>7.31</td>\n",
       "      <td>9.44</td>\n",
       "      <td>112.00</td>\n",
       "      <td>DET</td>\n",
       "      <td>202102020UTA</td>\n",
       "    </tr>\n",
       "  </tbody>\n",
       "</table>\n",
       "<p>17165 rows × 17 columns</p>\n",
       "</div>"
      ],
      "text/plain": [
       "        Pace    eFG%   TOV%   ORB%  FT/FGA    ORtg     TS%    3PAr     FTr  \\\n",
       "0      99.57  0.4770  14.25  24.61  0.1803   99.75  0.5095  0.2853  0.2554   \n",
       "1      99.14  0.4896  12.81  26.18  0.2486  108.85  0.5406  0.2579  0.3060   \n",
       "2      93.06  0.4923  15.26  23.82  0.2027  101.89  0.5321  0.2154  0.2660   \n",
       "3      96.77  0.5225  16.30  29.15  0.3511  108.14  0.5718  0.3485  0.5002   \n",
       "4      89.87  0.4614  13.20  30.90  0.2479  104.54  0.5113  0.2471  0.3195   \n",
       "...      ...     ...    ...    ...     ...     ...     ...     ...     ...   \n",
       "17160  98.08  0.5316  12.70  24.36  0.1938  113.55  0.5706  0.4734  0.2302   \n",
       "17161  99.62  0.5974  11.38  21.17  0.2123  122.95  0.6328  0.4218  0.2519   \n",
       "17162  96.82  0.5771  10.77  21.79  0.2122  121.48  0.6158  0.4279  0.2464   \n",
       "17163  96.46  0.5787  12.41  26.90  0.2109  122.08  0.6120  0.5181  0.2670   \n",
       "17164  97.05  0.5215  13.59  23.00  0.2415  110.30  0.5637  0.4184  0.3155   \n",
       "\n",
       "        DRB%   TRB%   AST%  STL%   BLK%    DRtg Team       game_id  \n",
       "0      75.93  49.79  63.85  5.98   8.77  106.28  LAL  201311150LAL  \n",
       "1      73.45  49.88  64.03  9.60   5.07  101.21  MIN  201311160MIN  \n",
       "2      71.41  48.10  49.15  8.91   7.74  104.24  BOS  201311160MIN  \n",
       "3      72.91  53.47  53.67  7.76   9.97  106.17  HOU  201311160HOU  \n",
       "4      75.71  52.19  48.26  7.84   7.44  103.75  TOR  201311170TOR  \n",
       "...      ...    ...    ...   ...    ...     ...  ...           ...  \n",
       "17160  76.91  49.55  65.61  9.90  11.51  110.03  TOR  202102020ORL  \n",
       "17161  78.54  51.91  62.44  5.14  11.24  119.55  BRK  202102020BRK  \n",
       "17162  81.37  53.49  59.55  7.80   8.04  105.97  LAC  202102020BRK  \n",
       "17163  79.74  54.17  63.02  6.65  10.09  107.89  UTA  202102020UTA  \n",
       "17164  75.68  49.04  64.63  7.31   9.44  112.00  DET  202102020UTA  \n",
       "\n",
       "[17165 rows x 17 columns]"
      ]
     },
     "execution_count": 97,
     "metadata": {},
     "output_type": "execute_result"
    }
   ],
   "source": [
    "games_summaries_df = pd.DataFrame(games_summaries)\n",
    "games_summaries_df"
   ]
  },
  {
   "cell_type": "code",
   "execution_count": 98,
   "metadata": {},
   "outputs": [],
   "source": [
    "temp_home = pd.merge(dataset_df[['DATE','VISITOR', 'VISITOR_PTS', 'HOME', 'HOME_PTS', 'boxscores_url','game_id']],games_summaries_df,left_on=['game_id','HOME'],right_on=['game_id','Team'])\n",
    "processed_dataset=pd.merge(temp_home,games_summaries_df,left_on=['game_id','VISITOR'],right_on=['game_id','Team'],suffixes=('_home','_visitor'))\n",
    "processed_dataset['TOTAL_PTS'] = processed_dataset['VISITOR_PTS']+processed_dataset['HOME_PTS']\n",
    "processed_dataset['HOME_VISITOR_PTS_DIFF'] = processed_dataset['HOME_PTS']-processed_dataset['VISITOR_PTS']\n",
    "processed_dataset['HOME_WIN'] = (processed_dataset['HOME_VISITOR_PTS_DIFF']>0)"
   ]
  },
  {
   "cell_type": "code",
   "execution_count": 99,
   "metadata": {},
   "outputs": [
    {
     "data": {
      "text/html": [
       "<div>\n",
       "<style scoped>\n",
       "    .dataframe tbody tr th:only-of-type {\n",
       "        vertical-align: middle;\n",
       "    }\n",
       "\n",
       "    .dataframe tbody tr th {\n",
       "        vertical-align: top;\n",
       "    }\n",
       "\n",
       "    .dataframe thead th {\n",
       "        text-align: right;\n",
       "    }\n",
       "</style>\n",
       "<table border=\"1\" class=\"dataframe\">\n",
       "  <thead>\n",
       "    <tr style=\"text-align: right;\">\n",
       "      <th></th>\n",
       "      <th>DATE</th>\n",
       "      <th>VISITOR</th>\n",
       "      <th>VISITOR_PTS</th>\n",
       "      <th>HOME</th>\n",
       "      <th>HOME_PTS</th>\n",
       "      <th>boxscores_url</th>\n",
       "      <th>game_id</th>\n",
       "      <th>Pace_home</th>\n",
       "      <th>eFG%_home</th>\n",
       "      <th>TOV%_home</th>\n",
       "      <th>...</th>\n",
       "      <th>DRB%_visitor</th>\n",
       "      <th>TRB%_visitor</th>\n",
       "      <th>AST%_visitor</th>\n",
       "      <th>STL%_visitor</th>\n",
       "      <th>BLK%_visitor</th>\n",
       "      <th>DRtg_visitor</th>\n",
       "      <th>Team_visitor</th>\n",
       "      <th>TOTAL_PTS</th>\n",
       "      <th>HOME_VISITOR_PTS_DIFF</th>\n",
       "      <th>HOME_WIN</th>\n",
       "    </tr>\n",
       "  </thead>\n",
       "  <tbody>\n",
       "    <tr>\n",
       "      <th>0</th>\n",
       "      <td>2013-11-16</td>\n",
       "      <td>BOS</td>\n",
       "      <td>88.0</td>\n",
       "      <td>MIN</td>\n",
       "      <td>106.0</td>\n",
       "      <td>https://www.basketball-reference.com/boxscores/201311160MIN.html</td>\n",
       "      <td>201311160MIN</td>\n",
       "      <td>99.14</td>\n",
       "      <td>0.4896</td>\n",
       "      <td>12.81</td>\n",
       "      <td>...</td>\n",
       "      <td>71.41</td>\n",
       "      <td>48.10</td>\n",
       "      <td>49.15</td>\n",
       "      <td>8.91</td>\n",
       "      <td>7.74</td>\n",
       "      <td>104.24</td>\n",
       "      <td>BOS</td>\n",
       "      <td>194.0</td>\n",
       "      <td>18.0</td>\n",
       "      <td>True</td>\n",
       "    </tr>\n",
       "    <tr>\n",
       "      <th>1</th>\n",
       "      <td>2013-11-18</td>\n",
       "      <td>GSW</td>\n",
       "      <td>98.0</td>\n",
       "      <td>UTA</td>\n",
       "      <td>87.0</td>\n",
       "      <td>https://www.basketball-reference.com/boxscores/201311180UTA.html</td>\n",
       "      <td>201311180UTA</td>\n",
       "      <td>91.79</td>\n",
       "      <td>0.4421</td>\n",
       "      <td>16.12</td>\n",
       "      <td>...</td>\n",
       "      <td>73.17</td>\n",
       "      <td>49.83</td>\n",
       "      <td>62.35</td>\n",
       "      <td>9.32</td>\n",
       "      <td>8.61</td>\n",
       "      <td>99.86</td>\n",
       "      <td>GSW</td>\n",
       "      <td>185.0</td>\n",
       "      <td>-11.0</td>\n",
       "      <td>False</td>\n",
       "    </tr>\n",
       "    <tr>\n",
       "      <th>2</th>\n",
       "      <td>2013-11-18</td>\n",
       "      <td>PHI</td>\n",
       "      <td>94.0</td>\n",
       "      <td>DAL</td>\n",
       "      <td>97.0</td>\n",
       "      <td>https://www.basketball-reference.com/boxscores/201311180DAL.html</td>\n",
       "      <td>201311180DAL</td>\n",
       "      <td>97.29</td>\n",
       "      <td>0.5284</td>\n",
       "      <td>14.64</td>\n",
       "      <td>...</td>\n",
       "      <td>72.81</td>\n",
       "      <td>48.59</td>\n",
       "      <td>57.44</td>\n",
       "      <td>7.25</td>\n",
       "      <td>8.29</td>\n",
       "      <td>108.80</td>\n",
       "      <td>PHI</td>\n",
       "      <td>191.0</td>\n",
       "      <td>3.0</td>\n",
       "      <td>True</td>\n",
       "    </tr>\n",
       "    <tr>\n",
       "      <th>3</th>\n",
       "      <td>2013-11-18</td>\n",
       "      <td>MEM</td>\n",
       "      <td>106.0</td>\n",
       "      <td>LAC</td>\n",
       "      <td>102.0</td>\n",
       "      <td>https://www.basketball-reference.com/boxscores/201311180LAC.html</td>\n",
       "      <td>201311180LAC</td>\n",
       "      <td>97.05</td>\n",
       "      <td>0.5394</td>\n",
       "      <td>13.96</td>\n",
       "      <td>...</td>\n",
       "      <td>77.82</td>\n",
       "      <td>51.40</td>\n",
       "      <td>62.94</td>\n",
       "      <td>7.24</td>\n",
       "      <td>6.85</td>\n",
       "      <td>105.70</td>\n",
       "      <td>MEM</td>\n",
       "      <td>208.0</td>\n",
       "      <td>-4.0</td>\n",
       "      <td>False</td>\n",
       "    </tr>\n",
       "    <tr>\n",
       "      <th>4</th>\n",
       "      <td>2013-11-19</td>\n",
       "      <td>ATL</td>\n",
       "      <td>88.0</td>\n",
       "      <td>MIA</td>\n",
       "      <td>104.0</td>\n",
       "      <td>https://www.basketball-reference.com/boxscores/201311190MIA.html</td>\n",
       "      <td>201311190MIA</td>\n",
       "      <td>92.65</td>\n",
       "      <td>0.5835</td>\n",
       "      <td>14.77</td>\n",
       "      <td>...</td>\n",
       "      <td>77.34</td>\n",
       "      <td>49.27</td>\n",
       "      <td>67.40</td>\n",
       "      <td>8.87</td>\n",
       "      <td>8.67</td>\n",
       "      <td>104.34</td>\n",
       "      <td>ATL</td>\n",
       "      <td>192.0</td>\n",
       "      <td>16.0</td>\n",
       "      <td>True</td>\n",
       "    </tr>\n",
       "    <tr>\n",
       "      <th>...</th>\n",
       "      <td>...</td>\n",
       "      <td>...</td>\n",
       "      <td>...</td>\n",
       "      <td>...</td>\n",
       "      <td>...</td>\n",
       "      <td>...</td>\n",
       "      <td>...</td>\n",
       "      <td>...</td>\n",
       "      <td>...</td>\n",
       "      <td>...</td>\n",
       "      <td>...</td>\n",
       "      <td>...</td>\n",
       "      <td>...</td>\n",
       "      <td>...</td>\n",
       "      <td>...</td>\n",
       "      <td>...</td>\n",
       "      <td>...</td>\n",
       "      <td>...</td>\n",
       "      <td>...</td>\n",
       "      <td>...</td>\n",
       "      <td>...</td>\n",
       "    </tr>\n",
       "    <tr>\n",
       "      <th>8572</th>\n",
       "      <td>2021-02-02</td>\n",
       "      <td>MEM</td>\n",
       "      <td>116.0</td>\n",
       "      <td>IND</td>\n",
       "      <td>134.0</td>\n",
       "      <td>https://www.basketball-reference.com/boxscores/202102020IND.html</td>\n",
       "      <td>202102020IND</td>\n",
       "      <td>98.16</td>\n",
       "      <td>0.5354</td>\n",
       "      <td>12.43</td>\n",
       "      <td>...</td>\n",
       "      <td>78.10</td>\n",
       "      <td>50.34</td>\n",
       "      <td>68.74</td>\n",
       "      <td>11.61</td>\n",
       "      <td>10.21</td>\n",
       "      <td>104.83</td>\n",
       "      <td>MEM</td>\n",
       "      <td>250.0</td>\n",
       "      <td>18.0</td>\n",
       "      <td>True</td>\n",
       "    </tr>\n",
       "    <tr>\n",
       "      <th>8573</th>\n",
       "      <td>2021-02-02</td>\n",
       "      <td>BOS</td>\n",
       "      <td>111.0</td>\n",
       "      <td>GSW</td>\n",
       "      <td>107.0</td>\n",
       "      <td>https://www.basketball-reference.com/boxscores/202102020GSW.html</td>\n",
       "      <td>202102020GSW</td>\n",
       "      <td>101.59</td>\n",
       "      <td>0.5372</td>\n",
       "      <td>12.82</td>\n",
       "      <td>...</td>\n",
       "      <td>76.80</td>\n",
       "      <td>50.81</td>\n",
       "      <td>53.70</td>\n",
       "      <td>9.28</td>\n",
       "      <td>8.38</td>\n",
       "      <td>109.00</td>\n",
       "      <td>BOS</td>\n",
       "      <td>218.0</td>\n",
       "      <td>-4.0</td>\n",
       "      <td>False</td>\n",
       "    </tr>\n",
       "    <tr>\n",
       "      <th>8574</th>\n",
       "      <td>2021-02-02</td>\n",
       "      <td>TOR</td>\n",
       "      <td>123.0</td>\n",
       "      <td>ORL</td>\n",
       "      <td>108.0</td>\n",
       "      <td>https://www.basketball-reference.com/boxscores/202102020ORL.html</td>\n",
       "      <td>202102020ORL</td>\n",
       "      <td>96.97</td>\n",
       "      <td>0.4877</td>\n",
       "      <td>11.59</td>\n",
       "      <td>...</td>\n",
       "      <td>76.91</td>\n",
       "      <td>49.55</td>\n",
       "      <td>65.61</td>\n",
       "      <td>9.90</td>\n",
       "      <td>11.51</td>\n",
       "      <td>110.03</td>\n",
       "      <td>TOR</td>\n",
       "      <td>231.0</td>\n",
       "      <td>-15.0</td>\n",
       "      <td>False</td>\n",
       "    </tr>\n",
       "    <tr>\n",
       "      <th>8575</th>\n",
       "      <td>2021-02-02</td>\n",
       "      <td>LAC</td>\n",
       "      <td>120.0</td>\n",
       "      <td>BRK</td>\n",
       "      <td>124.0</td>\n",
       "      <td>https://www.basketball-reference.com/boxscores/202102020BRK.html</td>\n",
       "      <td>202102020BRK</td>\n",
       "      <td>99.62</td>\n",
       "      <td>0.5974</td>\n",
       "      <td>11.38</td>\n",
       "      <td>...</td>\n",
       "      <td>81.37</td>\n",
       "      <td>53.49</td>\n",
       "      <td>59.55</td>\n",
       "      <td>7.80</td>\n",
       "      <td>8.04</td>\n",
       "      <td>105.97</td>\n",
       "      <td>LAC</td>\n",
       "      <td>244.0</td>\n",
       "      <td>4.0</td>\n",
       "      <td>True</td>\n",
       "    </tr>\n",
       "    <tr>\n",
       "      <th>8576</th>\n",
       "      <td>2021-02-02</td>\n",
       "      <td>DET</td>\n",
       "      <td>105.0</td>\n",
       "      <td>UTA</td>\n",
       "      <td>117.0</td>\n",
       "      <td>https://www.basketball-reference.com/boxscores/202102020UTA.html</td>\n",
       "      <td>202102020UTA</td>\n",
       "      <td>96.46</td>\n",
       "      <td>0.5787</td>\n",
       "      <td>12.41</td>\n",
       "      <td>...</td>\n",
       "      <td>75.68</td>\n",
       "      <td>49.04</td>\n",
       "      <td>64.63</td>\n",
       "      <td>7.31</td>\n",
       "      <td>9.44</td>\n",
       "      <td>112.00</td>\n",
       "      <td>DET</td>\n",
       "      <td>222.0</td>\n",
       "      <td>12.0</td>\n",
       "      <td>True</td>\n",
       "    </tr>\n",
       "  </tbody>\n",
       "</table>\n",
       "<p>8577 rows × 42 columns</p>\n",
       "</div>"
      ],
      "text/plain": [
       "           DATE VISITOR  VISITOR_PTS HOME  HOME_PTS  \\\n",
       "0    2013-11-16     BOS         88.0  MIN     106.0   \n",
       "1    2013-11-18     GSW         98.0  UTA      87.0   \n",
       "2    2013-11-18     PHI         94.0  DAL      97.0   \n",
       "3    2013-11-18     MEM        106.0  LAC     102.0   \n",
       "4    2013-11-19     ATL         88.0  MIA     104.0   \n",
       "...         ...     ...          ...  ...       ...   \n",
       "8572 2021-02-02     MEM        116.0  IND     134.0   \n",
       "8573 2021-02-02     BOS        111.0  GSW     107.0   \n",
       "8574 2021-02-02     TOR        123.0  ORL     108.0   \n",
       "8575 2021-02-02     LAC        120.0  BRK     124.0   \n",
       "8576 2021-02-02     DET        105.0  UTA     117.0   \n",
       "\n",
       "                                                         boxscores_url  \\\n",
       "0     https://www.basketball-reference.com/boxscores/201311160MIN.html   \n",
       "1     https://www.basketball-reference.com/boxscores/201311180UTA.html   \n",
       "2     https://www.basketball-reference.com/boxscores/201311180DAL.html   \n",
       "3     https://www.basketball-reference.com/boxscores/201311180LAC.html   \n",
       "4     https://www.basketball-reference.com/boxscores/201311190MIA.html   \n",
       "...                                                                ...   \n",
       "8572  https://www.basketball-reference.com/boxscores/202102020IND.html   \n",
       "8573  https://www.basketball-reference.com/boxscores/202102020GSW.html   \n",
       "8574  https://www.basketball-reference.com/boxscores/202102020ORL.html   \n",
       "8575  https://www.basketball-reference.com/boxscores/202102020BRK.html   \n",
       "8576  https://www.basketball-reference.com/boxscores/202102020UTA.html   \n",
       "\n",
       "           game_id  Pace_home  eFG%_home  TOV%_home  ...  DRB%_visitor  \\\n",
       "0     201311160MIN      99.14     0.4896      12.81  ...         71.41   \n",
       "1     201311180UTA      91.79     0.4421      16.12  ...         73.17   \n",
       "2     201311180DAL      97.29     0.5284      14.64  ...         72.81   \n",
       "3     201311180LAC      97.05     0.5394      13.96  ...         77.82   \n",
       "4     201311190MIA      92.65     0.5835      14.77  ...         77.34   \n",
       "...            ...        ...        ...        ...  ...           ...   \n",
       "8572  202102020IND      98.16     0.5354      12.43  ...         78.10   \n",
       "8573  202102020GSW     101.59     0.5372      12.82  ...         76.80   \n",
       "8574  202102020ORL      96.97     0.4877      11.59  ...         76.91   \n",
       "8575  202102020BRK      99.62     0.5974      11.38  ...         81.37   \n",
       "8576  202102020UTA      96.46     0.5787      12.41  ...         75.68   \n",
       "\n",
       "      TRB%_visitor  AST%_visitor  STL%_visitor  BLK%_visitor  DRtg_visitor  \\\n",
       "0            48.10         49.15          8.91          7.74        104.24   \n",
       "1            49.83         62.35          9.32          8.61         99.86   \n",
       "2            48.59         57.44          7.25          8.29        108.80   \n",
       "3            51.40         62.94          7.24          6.85        105.70   \n",
       "4            49.27         67.40          8.87          8.67        104.34   \n",
       "...            ...           ...           ...           ...           ...   \n",
       "8572         50.34         68.74         11.61         10.21        104.83   \n",
       "8573         50.81         53.70          9.28          8.38        109.00   \n",
       "8574         49.55         65.61          9.90         11.51        110.03   \n",
       "8575         53.49         59.55          7.80          8.04        105.97   \n",
       "8576         49.04         64.63          7.31          9.44        112.00   \n",
       "\n",
       "      Team_visitor  TOTAL_PTS  HOME_VISITOR_PTS_DIFF  HOME_WIN  \n",
       "0              BOS      194.0                   18.0      True  \n",
       "1              GSW      185.0                  -11.0     False  \n",
       "2              PHI      191.0                    3.0      True  \n",
       "3              MEM      208.0                   -4.0     False  \n",
       "4              ATL      192.0                   16.0      True  \n",
       "...            ...        ...                    ...       ...  \n",
       "8572           MEM      250.0                   18.0      True  \n",
       "8573           BOS      218.0                   -4.0     False  \n",
       "8574           TOR      231.0                  -15.0     False  \n",
       "8575           LAC      244.0                    4.0      True  \n",
       "8576           DET      222.0                   12.0      True  \n",
       "\n",
       "[8577 rows x 42 columns]"
      ]
     },
     "execution_count": 99,
     "metadata": {},
     "output_type": "execute_result"
    }
   ],
   "source": [
    "processed_dataset"
   ]
  },
  {
   "cell_type": "code",
   "execution_count": 100,
   "metadata": {},
   "outputs": [],
   "source": [
    "# TODO: automatically populate dataset name, model name\n",
    "processed_dataset.to_pickle(data_folder/(args['processed_dataset_filename']))"
   ]
  },
  {
   "cell_type": "markdown",
   "metadata": {},
   "source": [
    "# Models"
   ]
  },
  {
   "cell_type": "markdown",
   "metadata": {},
   "source": [
    "## Team based - simple average of past xx games\n"
   ]
  },
  {
   "cell_type": "markdown",
   "metadata": {},
   "source": [
    "# Generate Training/Validation/Test Data"
   ]
  },
  {
   "cell_type": "code",
   "execution_count": 101,
   "metadata": {
    "scrolled": true
   },
   "outputs": [],
   "source": [
    "# import libraries\n",
    "from pandas.api.types import is_string_dtype, is_numeric_dtype, is_categorical_dtype\n",
    "from fastai.tabular.all import *\n",
    "from sklearn.ensemble import RandomForestClassifier\n",
    "from sklearn.tree import DecisionTreeClassifier\n",
    "from sklearn.model_selection import train_test_split\n",
    "# from dtreeviz.trees import *"
   ]
  },
  {
   "cell_type": "code",
   "execution_count": 102,
   "metadata": {},
   "outputs": [
    {
     "data": {
      "text/plain": [
       "Index(['VISITOR', 'VISITOR_PTS', 'DATEWeek', 'HOME', 'HOME_PTS',\n",
       "       'boxscores_url', 'game_id', 'Pace_home', 'eFG%_home', 'TOV%_home',\n",
       "       'ORB%_home', 'FT/FGA_home', 'ORtg_home', 'TS%_home', '3PAr_home',\n",
       "       'FTr_home', 'DRB%_home', 'TRB%_home', 'AST%_home', 'STL%_home',\n",
       "       'BLK%_home', 'DRtg_home', 'Team_home', 'Pace_visitor', 'eFG%_visitor',\n",
       "       'TOV%_visitor', 'ORB%_visitor', 'FT/FGA_visitor', 'ORtg_visitor',\n",
       "       'TS%_visitor', '3PAr_visitor', 'FTr_visitor', 'DRB%_visitor',\n",
       "       'TRB%_visitor', 'AST%_visitor', 'STL%_visitor', 'BLK%_visitor',\n",
       "       'DRtg_visitor', 'Team_visitor', 'TOTAL_PTS', 'HOME_VISITOR_PTS_DIFF',\n",
       "       'HOME_WIN', 'DATEYear', 'DATEMonth', 'DATEDay', 'DATEDayofweek',\n",
       "       'DATEDayofyear', 'DATEIs_month_end', 'DATEIs_month_start',\n",
       "       'DATEIs_quarter_end', 'DATEIs_quarter_start', 'DATEIs_year_end',\n",
       "       'DATEIs_year_start', 'DATEElapsed'],\n",
       "      dtype='object')"
      ]
     },
     "execution_count": 102,
     "metadata": {},
     "output_type": "execute_result"
    }
   ],
   "source": [
    "# load the processed data\n",
    "teamstats = pd.read_pickle(data_folder/(args['processed_dataset_filename']))\n",
    "teamstats = add_datepart(teamstats, 'DATE')\n",
    "teamstats.columns"
   ]
  },
  {
   "cell_type": "code",
   "execution_count": 7,
   "metadata": {},
   "outputs": [],
   "source": [
    "# teamstats['DRtg_home']=100\n",
    "# teamstats['DRtg_visitor']=100"
   ]
  },
  {
   "cell_type": "code",
   "execution_count": 103,
   "metadata": {},
   "outputs": [
    {
     "data": {
      "text/plain": [
       "0        True\n",
       "1       False\n",
       "2        True\n",
       "3       False\n",
       "4        True\n",
       "        ...  \n",
       "8572     True\n",
       "8573    False\n",
       "8574    False\n",
       "8575     True\n",
       "8576     True\n",
       "Name: HOME_WIN, Length: 8577, dtype: bool"
      ]
     },
     "execution_count": 103,
     "metadata": {},
     "output_type": "execute_result"
    }
   ],
   "source": [
    "teamstats['HOME_WIN']"
   ]
  },
  {
   "cell_type": "code",
   "execution_count": 104,
   "metadata": {},
   "outputs": [
    {
     "data": {
      "text/plain": [
       "0.5754925964789553"
      ]
     },
     "execution_count": 104,
     "metadata": {},
     "output_type": "execute_result"
    }
   ],
   "source": [
    "sum(teamstats['HOME_WIN'])/len(teamstats['HOME_WIN'])"
   ]
  },
  {
   "cell_type": "code",
   "execution_count": 105,
   "metadata": {},
   "outputs": [],
   "source": [
    "# set what are dependent variables, what are independent variables\n",
    "args['dep_variable'] = ['HOME_WIN']\n",
    "args['ind_variable'] = args['home_columns_to_summarize']+args['visitor_columns_to_summarize']"
   ]
  },
  {
   "cell_type": "code",
   "execution_count": 106,
   "metadata": {},
   "outputs": [
    {
     "data": {
      "text/plain": [
       "[6175, 1544, 858]"
      ]
     },
     "execution_count": 106,
     "metadata": {},
     "output_type": "execute_result"
    }
   ],
   "source": [
    "other_idx,test_idx = train_test_split(list(teamstats.index),test_size=0.1,random_state=args['random_state'])\n",
    "test_set = teamstats.loc[test_idx,args['ind_variable']+args['dep_variable']].copy()\n",
    "# don't want to mix non-test set with training set, therefore \"other_set\"\n",
    "other_set = teamstats.loc[other_idx,args['ind_variable']+args['dep_variable']].copy()\n",
    "train_idx,valid_idx = train_test_split(list(other_set.reset_index(drop=True).index),test_size=0.2,random_state=args['random_state'])\n",
    "[len(idx) for idx in [train_idx,valid_idx,test_idx]]"
   ]
  },
  {
   "cell_type": "code",
   "execution_count": 107,
   "metadata": {},
   "outputs": [
    {
     "name": "stdout",
     "output_type": "stream",
     "text": [
      "['Pace_home', 'eFG%_home', 'TOV%_home', 'ORB%_home', 'FT/FGA_home', 'ORtg_home', 'TS%_home', '3PAr_home', 'FTr_home', 'DRB%_home', 'TRB%_home', 'AST%_home', 'STL%_home', 'BLK%_home', 'DRtg_home', 'Pace_visitor', 'eFG%_visitor', 'TOV%_visitor', 'ORB%_visitor', 'FT/FGA_visitor', 'ORtg_visitor', 'TS%_visitor', '3PAr_visitor', 'FTr_visitor', 'DRB%_visitor', 'TRB%_visitor', 'AST%_visitor', 'STL%_visitor', 'BLK%_visitor', 'DRtg_visitor'] []\n"
     ]
    }
   ],
   "source": [
    "# split continuous variables and categorical variabls\n",
    "cont_var, cat_var=cont_cat_split(other_set,1,dep_var=args['dep_variable'])\n",
    "print(cont_var,cat_var)"
   ]
  },
  {
   "cell_type": "code",
   "execution_count": 108,
   "metadata": {},
   "outputs": [
    {
     "data": {
      "text/plain": [
       "(6175, 1544)"
      ]
     },
     "execution_count": 108,
     "metadata": {},
     "output_type": "execute_result"
    }
   ],
   "source": [
    "# return a tabular object\n",
    "to=TabularPandas(other_set,cat_names=cat_var,cont_names=cont_var,\n",
    "                 y_names=args['dep_variable'],splits=(train_idx,valid_idx))\n",
    "len(to.train),len(to.valid)"
   ]
  },
  {
   "cell_type": "code",
   "execution_count": 109,
   "metadata": {},
   "outputs": [
    {
     "name": "stdout",
     "output_type": "stream",
     "text": [
      "6175\n",
      "1544\n"
     ]
    }
   ],
   "source": [
    "xs,y = to.train.xs,to.train.y\n",
    "valid_xs,valid_y = to.valid.xs,to.valid.y\n",
    "print(len(xs))\n",
    "print(len(valid_xs))"
   ]
  },
  {
   "cell_type": "markdown",
   "metadata": {},
   "source": [
    "# Initialize Neptune to Record Experiments"
   ]
  },
  {
   "cell_type": "code",
   "execution_count": 128,
   "metadata": {
    "scrolled": true
   },
   "outputs": [
    {
     "data": {
      "text/plain": [
       "Project(jjnotjimmyjohn/NBA-Score-Prediction)"
      ]
     },
     "execution_count": 128,
     "metadata": {},
     "output_type": "execute_result"
    }
   ],
   "source": [
    "neptune.init(project_qualified_name='jjnotjimmyjohn/NBA-Score-Prediction',api_token=neptune.ANONYMOUS_API_TOKEN)\n",
    "# neptune.init(project_qualified_name='jjnotjimmyjohn/sandbox',api_token=neptune.ANONYMOUS_API_TOKEN)"
   ]
  },
  {
   "cell_type": "markdown",
   "metadata": {},
   "source": [
    "# Decision Tree"
   ]
  },
  {
   "cell_type": "code",
   "execution_count": 111,
   "metadata": {},
   "outputs": [],
   "source": [
    "from sklearn.model_selection import RandomizedSearchCV\n",
    "from sklearn.metrics import mean_absolute_error\n",
    "import scipy.stats as stats\n",
    "from sklearn.metrics import SCORERS,accuracy_score,f1_score"
   ]
  },
  {
   "cell_type": "code",
   "execution_count": 112,
   "metadata": {},
   "outputs": [],
   "source": [
    "# parameters distribution to randomized search\n",
    "dt_params_dist={\n",
    "    'min_samples_split':[5,10,15,20],\n",
    "    'min_samples_leaf':[10,20,30,40,60],\n",
    "    'max_features':[0.5,0.6,0.7,0.8,0.9],\n",
    "}\n",
    "# base model\n",
    "base_model = DecisionTreeClassifier(random_state=args['random_state'])"
   ]
  },
  {
   "cell_type": "code",
   "execution_count": 113,
   "metadata": {
    "scrolled": false
   },
   "outputs": [
    {
     "name": "stdout",
     "output_type": "stream",
     "text": [
      "Fitting 8 folds for each of 90 candidates, totalling 720 fits\n"
     ]
    },
    {
     "name": "stderr",
     "output_type": "stream",
     "text": [
      "[Parallel(n_jobs=6)]: Using backend LokyBackend with 6 concurrent workers.\n",
      "[Parallel(n_jobs=6)]: Done   6 tasks      | elapsed:    2.4s\n",
      "[Parallel(n_jobs=6)]: Done  60 tasks      | elapsed:    4.2s\n",
      "[Parallel(n_jobs=6)]: Done 150 tasks      | elapsed:    6.7s\n",
      "[Parallel(n_jobs=6)]: Done 276 tasks      | elapsed:   11.3s\n",
      "[Parallel(n_jobs=6)]: Done 438 tasks      | elapsed:   16.7s\n",
      "[Parallel(n_jobs=6)]: Done 636 tasks      | elapsed:   24.8s\n",
      "[Parallel(n_jobs=6)]: Done 720 out of 720 | elapsed:   27.5s finished\n"
     ]
    },
    {
     "data": {
      "text/plain": [
       "RandomizedSearchCV(cv=8, estimator=DecisionTreeClassifier(random_state=248),\n",
       "                   n_iter=90, n_jobs=6,\n",
       "                   param_distributions={'max_features': [0.5, 0.6, 0.7, 0.8,\n",
       "                                                         0.9],\n",
       "                                        'min_samples_leaf': [10, 20, 30, 40,\n",
       "                                                             60],\n",
       "                                        'min_samples_split': [5, 10, 15, 20]},\n",
       "                   return_train_score=True, verbose=5)"
      ]
     },
     "execution_count": 113,
     "metadata": {},
     "output_type": "execute_result"
    }
   ],
   "source": [
    "model = RandomizedSearchCV(base_model,dt_params_dist,n_iter=90,n_jobs=6,\n",
    "                                   cv=8,verbose=5,return_train_score=True,refit=True)\n",
    "model.fit(xs, y)"
   ]
  },
  {
   "cell_type": "code",
   "execution_count": 115,
   "metadata": {},
   "outputs": [
    {
     "name": "stdout",
     "output_type": "stream",
     "text": [
      "0.6827530364372469\n",
      "0.5744818652849741\n"
     ]
    }
   ],
   "source": [
    "print(accuracy_score(y,model.predict(xs)))\n",
    "print(accuracy_score(valid_y,model.predict(valid_xs)))"
   ]
  },
  {
   "cell_type": "code",
   "execution_count": 129,
   "metadata": {
    "scrolled": true
   },
   "outputs": [
    {
     "ename": "Forbidden",
     "evalue": "You have no permissions to access this resource.",
     "output_type": "error",
     "traceback": [
      "\u001b[0;31m---------------------------------------------------------------------------\u001b[0m",
      "\u001b[0;31mHTTPForbidden\u001b[0m                             Traceback (most recent call last)",
      "\u001b[0;32m/opt/conda/lib/python3.7/site-packages/neptune/utils.py\u001b[0m in \u001b[0;36mwrapper\u001b[0;34m(*args, **kwargs)\u001b[0m\n\u001b[1;32m    210\u001b[0m             \u001b[0;32mtry\u001b[0m\u001b[0;34m:\u001b[0m\u001b[0;34m\u001b[0m\u001b[0;34m\u001b[0m\u001b[0m\n\u001b[0;32m--> 211\u001b[0;31m                 \u001b[0;32mreturn\u001b[0m \u001b[0mfunc\u001b[0m\u001b[0;34m(\u001b[0m\u001b[0;34m*\u001b[0m\u001b[0margs\u001b[0m\u001b[0;34m,\u001b[0m \u001b[0;34m**\u001b[0m\u001b[0mkwargs\u001b[0m\u001b[0;34m)\u001b[0m\u001b[0;34m\u001b[0m\u001b[0;34m\u001b[0m\u001b[0m\n\u001b[0m\u001b[1;32m    212\u001b[0m             \u001b[0;32mexcept\u001b[0m \u001b[0mrequests\u001b[0m\u001b[0;34m.\u001b[0m\u001b[0mexceptions\u001b[0m\u001b[0;34m.\u001b[0m\u001b[0mSSLError\u001b[0m\u001b[0;34m:\u001b[0m\u001b[0;34m\u001b[0m\u001b[0;34m\u001b[0m\u001b[0m\n",
      "\u001b[0;32m/opt/conda/lib/python3.7/site-packages/neptune/internal/backends/hosted_neptune_backend.py\u001b[0m in \u001b[0;36mcreate_experiment\u001b[0;34m(self, project, name, description, params, properties, tags, abortable, monitored, git_info, hostname, entrypoint, notebook_id, checkpoint_id)\u001b[0m\n\u001b[1;32m    303\u001b[0m             }\n\u001b[0;32m--> 304\u001b[0;31m             \u001b[0mapi_experiment\u001b[0m \u001b[0;34m=\u001b[0m \u001b[0mself\u001b[0m\u001b[0;34m.\u001b[0m\u001b[0mbackend_swagger_client\u001b[0m\u001b[0;34m.\u001b[0m\u001b[0mapi\u001b[0m\u001b[0;34m.\u001b[0m\u001b[0mcreateExperiment\u001b[0m\u001b[0;34m(\u001b[0m\u001b[0;34m**\u001b[0m\u001b[0mkwargs\u001b[0m\u001b[0;34m)\u001b[0m\u001b[0;34m.\u001b[0m\u001b[0mresponse\u001b[0m\u001b[0;34m(\u001b[0m\u001b[0;34m)\u001b[0m\u001b[0;34m.\u001b[0m\u001b[0mresult\u001b[0m\u001b[0;34m\u001b[0m\u001b[0;34m\u001b[0m\u001b[0m\n\u001b[0m\u001b[1;32m    305\u001b[0m \u001b[0;34m\u001b[0m\u001b[0m\n",
      "\u001b[0;32m/opt/conda/lib/python3.7/site-packages/bravado/http_future.py\u001b[0m in \u001b[0;36mresponse\u001b[0;34m(self, timeout, fallback_result, exceptions_to_catch)\u001b[0m\n\u001b[1;32m    199\u001b[0m \u001b[0;34m\u001b[0m\u001b[0m\n\u001b[0;32m--> 200\u001b[0;31m             \u001b[0mswagger_result\u001b[0m \u001b[0;34m=\u001b[0m \u001b[0mself\u001b[0m\u001b[0;34m.\u001b[0m\u001b[0m_get_swagger_result\u001b[0m\u001b[0;34m(\u001b[0m\u001b[0mincoming_response\u001b[0m\u001b[0;34m)\u001b[0m\u001b[0;34m\u001b[0m\u001b[0;34m\u001b[0m\u001b[0m\n\u001b[0m\u001b[1;32m    201\u001b[0m \u001b[0;34m\u001b[0m\u001b[0m\n",
      "\u001b[0;32m/opt/conda/lib/python3.7/site-packages/bravado/http_future.py\u001b[0m in \u001b[0;36mwrapper\u001b[0;34m(self, *args, **kwargs)\u001b[0m\n\u001b[1;32m    123\u001b[0m         \u001b[0;32mtry\u001b[0m\u001b[0;34m:\u001b[0m\u001b[0;34m\u001b[0m\u001b[0;34m\u001b[0m\u001b[0m\n\u001b[0;32m--> 124\u001b[0;31m             \u001b[0;32mreturn\u001b[0m \u001b[0mfunc\u001b[0m\u001b[0;34m(\u001b[0m\u001b[0mself\u001b[0m\u001b[0;34m,\u001b[0m \u001b[0;34m*\u001b[0m\u001b[0margs\u001b[0m\u001b[0;34m,\u001b[0m \u001b[0;34m**\u001b[0m\u001b[0mkwargs\u001b[0m\u001b[0;34m)\u001b[0m\u001b[0;34m\u001b[0m\u001b[0;34m\u001b[0m\u001b[0m\n\u001b[0m\u001b[1;32m    125\u001b[0m         \u001b[0;32mexcept\u001b[0m \u001b[0mconnection_errors\u001b[0m \u001b[0;32mas\u001b[0m \u001b[0mexception\u001b[0m\u001b[0;34m:\u001b[0m\u001b[0;34m\u001b[0m\u001b[0;34m\u001b[0m\u001b[0m\n",
      "\u001b[0;32m/opt/conda/lib/python3.7/site-packages/bravado/http_future.py\u001b[0m in \u001b[0;36m_get_swagger_result\u001b[0;34m(self, incoming_response)\u001b[0m\n\u001b[1;32m    302\u001b[0m                 \u001b[0mself\u001b[0m\u001b[0;34m.\u001b[0m\u001b[0moperation\u001b[0m\u001b[0;34m,\u001b[0m\u001b[0;34m\u001b[0m\u001b[0;34m\u001b[0m\u001b[0m\n\u001b[0;32m--> 303\u001b[0;31m                 \u001b[0mself\u001b[0m\u001b[0;34m.\u001b[0m\u001b[0mrequest_config\u001b[0m\u001b[0;34m.\u001b[0m\u001b[0mresponse_callbacks\u001b[0m\u001b[0;34m,\u001b[0m\u001b[0;34m\u001b[0m\u001b[0;34m\u001b[0m\u001b[0m\n\u001b[0m\u001b[1;32m    304\u001b[0m             )\n",
      "\u001b[0;32m/opt/conda/lib/python3.7/site-packages/bravado/http_future.py\u001b[0m in \u001b[0;36munmarshal_response\u001b[0;34m(incoming_response, operation, response_callbacks)\u001b[0m\n\u001b[1;32m    352\u001b[0m \u001b[0;34m\u001b[0m\u001b[0m\n\u001b[0;32m--> 353\u001b[0;31m     \u001b[0mraise_on_expected\u001b[0m\u001b[0;34m(\u001b[0m\u001b[0mincoming_response\u001b[0m\u001b[0;34m)\u001b[0m\u001b[0;34m\u001b[0m\u001b[0;34m\u001b[0m\u001b[0m\n\u001b[0m\u001b[1;32m    354\u001b[0m \u001b[0;34m\u001b[0m\u001b[0m\n",
      "\u001b[0;32m/opt/conda/lib/python3.7/site-packages/bravado/http_future.py\u001b[0m in \u001b[0;36mraise_on_expected\u001b[0;34m(http_response)\u001b[0m\n\u001b[1;32m    421\u001b[0m             \u001b[0mresponse\u001b[0m\u001b[0;34m=\u001b[0m\u001b[0mhttp_response\u001b[0m\u001b[0;34m,\u001b[0m\u001b[0;34m\u001b[0m\u001b[0;34m\u001b[0m\u001b[0m\n\u001b[0;32m--> 422\u001b[0;31m             swagger_result=http_response.swagger_result)\n\u001b[0m",
      "\u001b[0;31mHTTPForbidden\u001b[0m: 403 ",
      "\nDuring handling of the above exception, another exception occurred:\n",
      "\u001b[0;31mForbidden\u001b[0m                                 Traceback (most recent call last)",
      "\u001b[0;32m<ipython-input-129-749bcb1fd24e>\u001b[0m in \u001b[0;36m<module>\u001b[0;34m\u001b[0m\n\u001b[1;32m      1\u001b[0m \u001b[0;31m# create experiment\u001b[0m\u001b[0;34m\u001b[0m\u001b[0;34m\u001b[0m\u001b[0;34m\u001b[0m\u001b[0m\n\u001b[1;32m      2\u001b[0m \u001b[0;31m# neptune.set_project('jjnotjimmyjohn/NBA-Score-Prediction')\u001b[0m\u001b[0;34m\u001b[0m\u001b[0;34m\u001b[0m\u001b[0;34m\u001b[0m\u001b[0m\n\u001b[0;32m----> 3\u001b[0;31m \u001b[0mneptune\u001b[0m\u001b[0;34m.\u001b[0m\u001b[0mcreate_experiment\u001b[0m\u001b[0;34m(\u001b[0m\u001b[0mname\u001b[0m\u001b[0;34m=\u001b[0m\u001b[0;34m'TeamBasedModel_moredata'\u001b[0m\u001b[0;34m,\u001b[0m\u001b[0mdescription\u001b[0m\u001b[0;34m=\u001b[0m\u001b[0;34m''\u001b[0m\u001b[0;34m,\u001b[0m\u001b[0mparams\u001b[0m\u001b[0;34m=\u001b[0m\u001b[0mmodel\u001b[0m\u001b[0;34m.\u001b[0m\u001b[0mget_params\u001b[0m\u001b[0;34m(\u001b[0m\u001b[0;34m)\u001b[0m\u001b[0;34m)\u001b[0m\u001b[0;34m\u001b[0m\u001b[0;34m\u001b[0m\u001b[0m\n\u001b[0m\u001b[1;32m      4\u001b[0m \u001b[0mneptune\u001b[0m\u001b[0;34m.\u001b[0m\u001b[0mappend_tag\u001b[0m\u001b[0;34m(\u001b[0m\u001b[0;34mf'summarize_past_games'\u001b[0m\u001b[0;34m)\u001b[0m\u001b[0;34m\u001b[0m\u001b[0;34m\u001b[0m\u001b[0m\n\u001b[1;32m      5\u001b[0m \u001b[0mneptune\u001b[0m\u001b[0;34m.\u001b[0m\u001b[0mappend_tag\u001b[0m\u001b[0;34m(\u001b[0m\u001b[0;34mf'decision_tree'\u001b[0m\u001b[0;34m)\u001b[0m\u001b[0;34m\u001b[0m\u001b[0;34m\u001b[0m\u001b[0m\n",
      "\u001b[0;32m/opt/conda/lib/python3.7/site-packages/neptune/__init__.py\u001b[0m in \u001b[0;36mcreate_experiment\u001b[0;34m(name, description, params, properties, tags, upload_source_files, abort_callback, logger, upload_stdout, upload_stderr, send_hardware_metrics, run_monitoring_thread, handle_uncaught_exceptions, git_info, hostname, notebook_id)\u001b[0m\n\u001b[1;32m    244\u001b[0m         \u001b[0mgit_info\u001b[0m\u001b[0;34m=\u001b[0m\u001b[0mgit_info\u001b[0m\u001b[0;34m,\u001b[0m\u001b[0;34m\u001b[0m\u001b[0;34m\u001b[0m\u001b[0m\n\u001b[1;32m    245\u001b[0m         \u001b[0mhostname\u001b[0m\u001b[0;34m=\u001b[0m\u001b[0mhostname\u001b[0m\u001b[0;34m,\u001b[0m\u001b[0;34m\u001b[0m\u001b[0;34m\u001b[0m\u001b[0m\n\u001b[0;32m--> 246\u001b[0;31m         \u001b[0mnotebook_id\u001b[0m\u001b[0;34m=\u001b[0m\u001b[0mnotebook_id\u001b[0m\u001b[0;34m\u001b[0m\u001b[0;34m\u001b[0m\u001b[0m\n\u001b[0m\u001b[1;32m    247\u001b[0m     )\n\u001b[1;32m    248\u001b[0m \u001b[0;34m\u001b[0m\u001b[0m\n",
      "\u001b[0;32m/opt/conda/lib/python3.7/site-packages/neptune/projects.py\u001b[0m in \u001b[0;36mcreate_experiment\u001b[0;34m(self, name, description, params, properties, tags, upload_source_files, abort_callback, logger, upload_stdout, upload_stderr, send_hardware_metrics, run_monitoring_thread, handle_uncaught_exceptions, git_info, hostname, notebook_id, notebook_path)\u001b[0m\n\u001b[1;32m    476\u001b[0m             \u001b[0mentrypoint\u001b[0m\u001b[0;34m=\u001b[0m\u001b[0mentrypoint\u001b[0m\u001b[0;34m,\u001b[0m\u001b[0;34m\u001b[0m\u001b[0;34m\u001b[0m\u001b[0m\n\u001b[1;32m    477\u001b[0m             \u001b[0mnotebook_id\u001b[0m\u001b[0;34m=\u001b[0m\u001b[0mnotebook_id\u001b[0m\u001b[0;34m,\u001b[0m\u001b[0;34m\u001b[0m\u001b[0;34m\u001b[0m\u001b[0m\n\u001b[0;32m--> 478\u001b[0;31m             \u001b[0mcheckpoint_id\u001b[0m\u001b[0;34m=\u001b[0m\u001b[0mcheckpoint_id\u001b[0m\u001b[0;34m\u001b[0m\u001b[0;34m\u001b[0m\u001b[0m\n\u001b[0m\u001b[1;32m    479\u001b[0m         )\n\u001b[1;32m    480\u001b[0m \u001b[0;34m\u001b[0m\u001b[0m\n",
      "\u001b[0;32m/opt/conda/lib/python3.7/site-packages/neptune/utils.py\u001b[0m in \u001b[0;36mwrapper\u001b[0;34m(*args, **kwargs)\u001b[0m\n\u001b[1;32m    224\u001b[0m                 \u001b[0;32mraise\u001b[0m \u001b[0mUnauthorized\u001b[0m\u001b[0;34m(\u001b[0m\u001b[0;34m)\u001b[0m\u001b[0;34m\u001b[0m\u001b[0;34m\u001b[0m\u001b[0m\n\u001b[1;32m    225\u001b[0m             \u001b[0;32mexcept\u001b[0m \u001b[0mHTTPForbidden\u001b[0m\u001b[0;34m:\u001b[0m\u001b[0;34m\u001b[0m\u001b[0;34m\u001b[0m\u001b[0m\n\u001b[0;32m--> 226\u001b[0;31m                 \u001b[0;32mraise\u001b[0m \u001b[0mForbidden\u001b[0m\u001b[0;34m(\u001b[0m\u001b[0;34m)\u001b[0m\u001b[0;34m\u001b[0m\u001b[0;34m\u001b[0m\u001b[0m\n\u001b[0m\u001b[1;32m    227\u001b[0m             \u001b[0;32mexcept\u001b[0m \u001b[0mrequests\u001b[0m\u001b[0;34m.\u001b[0m\u001b[0mexceptions\u001b[0m\u001b[0;34m.\u001b[0m\u001b[0mRequestException\u001b[0m \u001b[0;32mas\u001b[0m \u001b[0me\u001b[0m\u001b[0;34m:\u001b[0m\u001b[0;34m\u001b[0m\u001b[0;34m\u001b[0m\u001b[0m\n\u001b[1;32m    228\u001b[0m                 \u001b[0;32mif\u001b[0m \u001b[0me\u001b[0m\u001b[0;34m.\u001b[0m\u001b[0mresponse\u001b[0m \u001b[0;32mis\u001b[0m \u001b[0;32mNone\u001b[0m\u001b[0;34m:\u001b[0m\u001b[0;34m\u001b[0m\u001b[0;34m\u001b[0m\u001b[0m\n",
      "\u001b[0;31mForbidden\u001b[0m: You have no permissions to access this resource."
     ]
    }
   ],
   "source": [
    "# create experiment\n",
    "# neptune.set_project('jjnotjimmyjohn/NBA-Score-Prediction')\n",
    "neptune.create_experiment(name='TeamBasedModel_moredata',description='',params=model.get_params())\n",
    "neptune.append_tag(f'summarize_past_games')\n",
    "neptune.append_tag(f'decision_tree')\n",
    "neptune.append_tag(f'randomized_search_cv')\n",
    "neptune.log_metric('training_error', mean_absolute_error(y,model.predict(xs)))\n",
    "neptune.log_metric('validation_error', mean_absolute_error(valid_y,model.predict(valid_xs)))\n",
    "neptune.log_text('best_model', str(model.best_estimator_))\n",
    "for key,value in args.items():\n",
    "    neptune.set_property(key,value)\n",
    "neptune.stop()"
   ]
  },
  {
   "cell_type": "markdown",
   "metadata": {},
   "source": [
    "# Randome Forest"
   ]
  },
  {
   "cell_type": "code",
   "execution_count": 116,
   "metadata": {},
   "outputs": [],
   "source": [
    "# parameters distribution to randomized search\n",
    "dt_params_dist={\n",
    "    'min_samples_split':[5,10,15,20],\n",
    "    'max_samples':[0.5,0.7,0.8,0.9,1],\n",
    "    'min_samples_leaf':[10,20,30,40,60],\n",
    "    'max_features':[0.5,0.6,0.7,0.8,0.9],\n",
    "    'min_samples_leaf':[10,15,25]    \n",
    "}\n",
    "# base model\n"
   ]
  },
  {
   "cell_type": "raw",
   "metadata": {},
   "source": [
    "RandomForestRegressor(n_jobs=-1, n_estimators=1000,\n",
    "    max_samples=len(xs), max_features=0.7,\n",
    "    min_samples_leaf=25, oob_score=True).fit(xs, y)"
   ]
  },
  {
   "cell_type": "code",
   "execution_count": 117,
   "metadata": {},
   "outputs": [
    {
     "name": "stdout",
     "output_type": "stream",
     "text": [
      "0.7067206477732794\n",
      "0.6237046632124352\n"
     ]
    }
   ],
   "source": [
    "base_model = RandomForestClassifier(n_jobs=-1, n_estimators=1000, oob_score=True, min_samples_leaf=50)\n",
    "base_model.fit(xs,y)\n",
    "print(accuracy_score(y,base_model.predict(xs)))\n",
    "print(accuracy_score(valid_y,base_model.predict(valid_xs)))"
   ]
  },
  {
   "cell_type": "code",
   "execution_count": 118,
   "metadata": {
    "scrolled": true
   },
   "outputs": [
    {
     "name": "stdout",
     "output_type": "stream",
     "text": [
      "Fitting 8 folds for each of 100 candidates, totalling 800 fits\n"
     ]
    },
    {
     "name": "stderr",
     "output_type": "stream",
     "text": [
      "[Parallel(n_jobs=6)]: Using backend LokyBackend with 6 concurrent workers.\n",
      "[Parallel(n_jobs=6)]: Done   6 tasks      | elapsed:  1.4min\n",
      "[Parallel(n_jobs=6)]: Done  60 tasks      | elapsed:  9.3min\n",
      "[Parallel(n_jobs=6)]: Done 150 tasks      | elapsed: 26.7min\n",
      "[Parallel(n_jobs=6)]: Done 276 tasks      | elapsed: 55.5min\n",
      "[Parallel(n_jobs=6)]: Done 438 tasks      | elapsed: 82.6min\n",
      "[Parallel(n_jobs=6)]: Done 636 tasks      | elapsed: 116.6min\n",
      "[Parallel(n_jobs=6)]: Done 800 out of 800 | elapsed: 150.5min finished\n"
     ]
    },
    {
     "data": {
      "text/plain": [
       "RandomizedSearchCV(cv=8,\n",
       "                   estimator=RandomForestClassifier(min_samples_leaf=50,\n",
       "                                                    n_estimators=1000,\n",
       "                                                    n_jobs=-1, oob_score=True),\n",
       "                   n_iter=100, n_jobs=6,\n",
       "                   param_distributions={'max_features': [0.5, 0.6, 0.7, 0.8,\n",
       "                                                         0.9],\n",
       "                                        'max_samples': [0.5, 0.7, 0.8, 0.9, 1],\n",
       "                                        'min_samples_leaf': [10, 15, 25],\n",
       "                                        'min_samples_split': [5, 10, 15, 20]},\n",
       "                   return_train_score=True, verbose=5)"
      ]
     },
     "execution_count": 118,
     "metadata": {},
     "output_type": "execute_result"
    }
   ],
   "source": [
    "model = RandomizedSearchCV(base_model,dt_params_dist,n_iter=100,n_jobs=6,\n",
    "                                   cv=8,verbose=5,return_train_score=True,refit=True)\n",
    "model.fit(xs, y)"
   ]
  },
  {
   "cell_type": "code",
   "execution_count": 119,
   "metadata": {},
   "outputs": [
    {
     "name": "stdout",
     "output_type": "stream",
     "text": [
      "0.737165991902834\n",
      "0.6321243523316062\n"
     ]
    }
   ],
   "source": [
    "print(accuracy_score(y,model.predict(xs)))\n",
    "print(accuracy_score(valid_y,model.predict(valid_xs)))"
   ]
  },
  {
   "cell_type": "raw",
   "metadata": {},
   "source": [
    "print(mean_absolute_error(y,m.predict(xs))) # 9.055876795592912\n",
    "print(mean_absolute_error(valid_y,m.predict(valid_xs))) # 10.29984097314067"
   ]
  },
  {
   "cell_type": "code",
   "execution_count": 124,
   "metadata": {
    "scrolled": true
   },
   "outputs": [
    {
     "data": {
      "text/plain": [
       "array([0.02074066, 0.02763981, 0.02492828, 0.01999753, 0.01748548,\n",
       "       0.12489741, 0.03962189, 0.02933209, 0.01818796, 0.03022994,\n",
       "       0.0315965 , 0.02512068, 0.02127332, 0.02863632, 0.08482201,\n",
       "       0.01921888, 0.05848875, 0.01947831, 0.01752412, 0.01990689,\n",
       "       0.05118796, 0.04519159, 0.02819027, 0.01884254, 0.02548886,\n",
       "       0.02335305, 0.02425157, 0.02007357, 0.03099725, 0.05329651])"
      ]
     },
     "execution_count": 124,
     "metadata": {},
     "output_type": "execute_result"
    }
   ],
   "source": [
    "model.best_estimator_.feature_importances_"
   ]
  },
  {
   "cell_type": "code",
   "execution_count": 122,
   "metadata": {},
   "outputs": [],
   "source": [
    "def rf_feat_importance(m, df):\n",
    "    return pd.DataFrame({'cols':df.columns, 'imp':m.feature_importances_}\n",
    "                       ).sort_values('imp', ascending=False)"
   ]
  },
  {
   "cell_type": "code",
   "execution_count": 125,
   "metadata": {
    "scrolled": true
   },
   "outputs": [
    {
     "data": {
      "text/html": [
       "<div>\n",
       "<style scoped>\n",
       "    .dataframe tbody tr th:only-of-type {\n",
       "        vertical-align: middle;\n",
       "    }\n",
       "\n",
       "    .dataframe tbody tr th {\n",
       "        vertical-align: top;\n",
       "    }\n",
       "\n",
       "    .dataframe thead th {\n",
       "        text-align: right;\n",
       "    }\n",
       "</style>\n",
       "<table border=\"1\" class=\"dataframe\">\n",
       "  <thead>\n",
       "    <tr style=\"text-align: right;\">\n",
       "      <th></th>\n",
       "      <th>cols</th>\n",
       "      <th>imp</th>\n",
       "    </tr>\n",
       "  </thead>\n",
       "  <tbody>\n",
       "    <tr>\n",
       "      <th>5</th>\n",
       "      <td>ORtg_home</td>\n",
       "      <td>0.124897</td>\n",
       "    </tr>\n",
       "    <tr>\n",
       "      <th>14</th>\n",
       "      <td>DRtg_home</td>\n",
       "      <td>0.084822</td>\n",
       "    </tr>\n",
       "    <tr>\n",
       "      <th>16</th>\n",
       "      <td>eFG%_visitor</td>\n",
       "      <td>0.058489</td>\n",
       "    </tr>\n",
       "    <tr>\n",
       "      <th>29</th>\n",
       "      <td>DRtg_visitor</td>\n",
       "      <td>0.053297</td>\n",
       "    </tr>\n",
       "    <tr>\n",
       "      <th>20</th>\n",
       "      <td>ORtg_visitor</td>\n",
       "      <td>0.051188</td>\n",
       "    </tr>\n",
       "    <tr>\n",
       "      <th>21</th>\n",
       "      <td>TS%_visitor</td>\n",
       "      <td>0.045192</td>\n",
       "    </tr>\n",
       "    <tr>\n",
       "      <th>6</th>\n",
       "      <td>TS%_home</td>\n",
       "      <td>0.039622</td>\n",
       "    </tr>\n",
       "    <tr>\n",
       "      <th>10</th>\n",
       "      <td>TRB%_home</td>\n",
       "      <td>0.031597</td>\n",
       "    </tr>\n",
       "    <tr>\n",
       "      <th>28</th>\n",
       "      <td>BLK%_visitor</td>\n",
       "      <td>0.030997</td>\n",
       "    </tr>\n",
       "    <tr>\n",
       "      <th>9</th>\n",
       "      <td>DRB%_home</td>\n",
       "      <td>0.030230</td>\n",
       "    </tr>\n",
       "    <tr>\n",
       "      <th>7</th>\n",
       "      <td>3PAr_home</td>\n",
       "      <td>0.029332</td>\n",
       "    </tr>\n",
       "    <tr>\n",
       "      <th>13</th>\n",
       "      <td>BLK%_home</td>\n",
       "      <td>0.028636</td>\n",
       "    </tr>\n",
       "    <tr>\n",
       "      <th>22</th>\n",
       "      <td>3PAr_visitor</td>\n",
       "      <td>0.028190</td>\n",
       "    </tr>\n",
       "    <tr>\n",
       "      <th>1</th>\n",
       "      <td>eFG%_home</td>\n",
       "      <td>0.027640</td>\n",
       "    </tr>\n",
       "    <tr>\n",
       "      <th>24</th>\n",
       "      <td>DRB%_visitor</td>\n",
       "      <td>0.025489</td>\n",
       "    </tr>\n",
       "    <tr>\n",
       "      <th>11</th>\n",
       "      <td>AST%_home</td>\n",
       "      <td>0.025121</td>\n",
       "    </tr>\n",
       "    <tr>\n",
       "      <th>2</th>\n",
       "      <td>TOV%_home</td>\n",
       "      <td>0.024928</td>\n",
       "    </tr>\n",
       "    <tr>\n",
       "      <th>26</th>\n",
       "      <td>AST%_visitor</td>\n",
       "      <td>0.024252</td>\n",
       "    </tr>\n",
       "    <tr>\n",
       "      <th>25</th>\n",
       "      <td>TRB%_visitor</td>\n",
       "      <td>0.023353</td>\n",
       "    </tr>\n",
       "    <tr>\n",
       "      <th>12</th>\n",
       "      <td>STL%_home</td>\n",
       "      <td>0.021273</td>\n",
       "    </tr>\n",
       "    <tr>\n",
       "      <th>0</th>\n",
       "      <td>Pace_home</td>\n",
       "      <td>0.020741</td>\n",
       "    </tr>\n",
       "    <tr>\n",
       "      <th>27</th>\n",
       "      <td>STL%_visitor</td>\n",
       "      <td>0.020074</td>\n",
       "    </tr>\n",
       "    <tr>\n",
       "      <th>3</th>\n",
       "      <td>ORB%_home</td>\n",
       "      <td>0.019998</td>\n",
       "    </tr>\n",
       "    <tr>\n",
       "      <th>19</th>\n",
       "      <td>FT/FGA_visitor</td>\n",
       "      <td>0.019907</td>\n",
       "    </tr>\n",
       "    <tr>\n",
       "      <th>17</th>\n",
       "      <td>TOV%_visitor</td>\n",
       "      <td>0.019478</td>\n",
       "    </tr>\n",
       "    <tr>\n",
       "      <th>15</th>\n",
       "      <td>Pace_visitor</td>\n",
       "      <td>0.019219</td>\n",
       "    </tr>\n",
       "    <tr>\n",
       "      <th>23</th>\n",
       "      <td>FTr_visitor</td>\n",
       "      <td>0.018843</td>\n",
       "    </tr>\n",
       "    <tr>\n",
       "      <th>8</th>\n",
       "      <td>FTr_home</td>\n",
       "      <td>0.018188</td>\n",
       "    </tr>\n",
       "    <tr>\n",
       "      <th>18</th>\n",
       "      <td>ORB%_visitor</td>\n",
       "      <td>0.017524</td>\n",
       "    </tr>\n",
       "    <tr>\n",
       "      <th>4</th>\n",
       "      <td>FT/FGA_home</td>\n",
       "      <td>0.017485</td>\n",
       "    </tr>\n",
       "  </tbody>\n",
       "</table>\n",
       "</div>"
      ],
      "text/plain": [
       "              cols       imp\n",
       "5        ORtg_home  0.124897\n",
       "14       DRtg_home  0.084822\n",
       "16    eFG%_visitor  0.058489\n",
       "29    DRtg_visitor  0.053297\n",
       "20    ORtg_visitor  0.051188\n",
       "21     TS%_visitor  0.045192\n",
       "6         TS%_home  0.039622\n",
       "10       TRB%_home  0.031597\n",
       "28    BLK%_visitor  0.030997\n",
       "9        DRB%_home  0.030230\n",
       "7        3PAr_home  0.029332\n",
       "13       BLK%_home  0.028636\n",
       "22    3PAr_visitor  0.028190\n",
       "1        eFG%_home  0.027640\n",
       "24    DRB%_visitor  0.025489\n",
       "11       AST%_home  0.025121\n",
       "2        TOV%_home  0.024928\n",
       "26    AST%_visitor  0.024252\n",
       "25    TRB%_visitor  0.023353\n",
       "12       STL%_home  0.021273\n",
       "0        Pace_home  0.020741\n",
       "27    STL%_visitor  0.020074\n",
       "3        ORB%_home  0.019998\n",
       "19  FT/FGA_visitor  0.019907\n",
       "17    TOV%_visitor  0.019478\n",
       "15    Pace_visitor  0.019219\n",
       "23     FTr_visitor  0.018843\n",
       "8         FTr_home  0.018188\n",
       "18    ORB%_visitor  0.017524\n",
       "4      FT/FGA_home  0.017485"
      ]
     },
     "execution_count": 125,
     "metadata": {},
     "output_type": "execute_result"
    }
   ],
   "source": [
    "fi = rf_feat_importance(model.best_estimator_, xs)\n",
    "fi"
   ]
  },
  {
   "cell_type": "markdown",
   "metadata": {},
   "source": [
    "# XGBoost"
   ]
  },
  {
   "cell_type": "code",
   "execution_count": 27,
   "metadata": {},
   "outputs": [],
   "source": [
    "import xgboost as xg"
   ]
  },
  {
   "cell_type": "code",
   "execution_count": 54,
   "metadata": {
    "scrolled": true
   },
   "outputs": [
    {
     "name": "stdout",
     "output_type": "stream",
     "text": [
      "[02:34:00] DEBUG: ../src/gbm/gbtree.cc:154: Using tree method: 2\n",
      "[02:34:00] INFO: ../src/tree/updater_prune.cc:101: tree pruning end, 62 extra nodes, 0 pruned nodes, max_depth=5\n",
      "[02:34:00] WARNING: ../src/learner.cc:1061: Starting in XGBoost 1.3.0, the default evaluation metric used with the objective 'binary:logistic' was changed from 'error' to 'logloss'. Explicitly set eval_metric if you'd like to restore the old behavior.\n",
      "[02:34:00] INFO: ../src/tree/updater_prune.cc:101: tree pruning end, 60 extra nodes, 0 pruned nodes, max_depth=5\n",
      "[02:34:00] INFO: ../src/tree/updater_prune.cc:101: tree pruning end, 60 extra nodes, 0 pruned nodes, max_depth=5\n",
      "[02:34:00] ======== Monitor: Learner ========\n",
      "[02:34:00] Configure: 0.002389s, 1 calls @ 2389us\n",
      "\n",
      "[02:34:00] EvalOneIter: 0.000146s, 3 calls @ 146us\n",
      "\n",
      "[02:34:00] GetGradient: 0.001207s, 3 calls @ 1207us\n",
      "\n",
      "[02:34:00] PredictRaw: 0.000948s, 3 calls @ 948us\n",
      "\n",
      "[02:34:00] UpdateOneIter: 0.039304s, 3 calls @ 39304us\n",
      "\n",
      "[02:34:00] ======== Monitor: GBTree ========\n",
      "[02:34:00] BoostNewTrees: 0.033087s, 3 calls @ 33087us\n",
      "\n",
      "[02:34:00] CommitModel: 4.1e-05s, 3 calls @ 41us\n",
      "\n",
      "[02:34:00] ======== Monitor: TreePruner ========\n",
      "[02:34:00] PrunerUpdate: 0.000835s, 3 calls @ 835us\n",
      "\n"
     ]
    },
    {
     "data": {
      "text/plain": [
       "XGBClassifier(base_score=0.5, booster='gbtree', colsample_bylevel=1,\n",
       "              colsample_bynode=1, colsample_bytree=1, gamma=0, gpu_id=-1,\n",
       "              importance_type='gain', interaction_constraints='',\n",
       "              learning_rate=0.300000012, max_delta_step=0, max_depth=5,\n",
       "              min_child_weight=1, missing=nan, monotone_constraints='()',\n",
       "              n_estimators=3, n_jobs=6, num_parallel_tree=1, random_state=248,\n",
       "              reg_alpha=0, reg_lambda=0.1, scale_pos_weight=1, seed=248,\n",
       "              subsample=1, tree_method='exact', validate_parameters=1,\n",
       "              verbosity=None)"
      ]
     },
     "execution_count": 54,
     "metadata": {},
     "output_type": "execute_result"
    }
   ],
   "source": [
    "xgb_r = xg.XGBClassifier(n_estimators = 3, seed = args['random_state'],max_depth=5,reg_lambda=0.1)\n",
    "xgb_r.fit(xs,y)"
   ]
  },
  {
   "cell_type": "code",
   "execution_count": 55,
   "metadata": {},
   "outputs": [
    {
     "name": "stdout",
     "output_type": "stream",
     "text": [
      "0.6647955092221332\n",
      "0.6151379089159718\n"
     ]
    }
   ],
   "source": [
    "print(accuracy_score(y,xgb_r.predict(xs)))\n",
    "print(accuracy_score(valid_y,xgb_r.predict(valid_xs)))"
   ]
  },
  {
   "cell_type": "code",
   "execution_count": 299,
   "metadata": {},
   "outputs": [
    {
     "name": "stdout",
     "output_type": "stream",
     "text": [
      "8404    -8.0\n",
      "5689     2.0\n",
      "1216    17.0\n",
      "1955    11.0\n",
      "6518     8.0\n",
      "1646    36.0\n",
      "2065     7.0\n",
      "6969     9.0\n",
      "6190    17.0\n",
      "7876   -15.0\n",
      "Name: HOME_VISITOR_PTS_DIFF, dtype: float32\n",
      "[2.57475    2.6435497  5.6760244  2.6435497  0.06472625 8.154559\n",
      " 0.08371012 2.6390839  9.774696   0.78838545]\n"
     ]
    }
   ],
   "source": [
    "print(valid_y[:10])\n",
    "print(xgb_r.predict(valid_xs)[:10])"
   ]
  },
  {
   "cell_type": "markdown",
   "metadata": {},
   "source": [
    "# Neural Networks"
   ]
  },
  {
   "cell_type": "code",
   "execution_count": 59,
   "metadata": {},
   "outputs": [],
   "source": [
    "from fastai import *\n",
    "to_nn = to.copy()\n",
    "dls = to_nn.dataloaders(1024)"
   ]
  },
  {
   "cell_type": "code",
   "execution_count": 60,
   "metadata": {},
   "outputs": [
    {
     "data": {
      "text/plain": [
       "(0, 1)"
      ]
     },
     "execution_count": 60,
     "metadata": {},
     "output_type": "execute_result"
    }
   ],
   "source": [
    "y = to_nn.train.y\n",
    "y.min(),y.max()"
   ]
  },
  {
   "cell_type": "code",
   "execution_count": 64,
   "metadata": {},
   "outputs": [],
   "source": [
    "learn = tabular_learner(dls, layers=[3000,1500,1000,250], metrics=accuracy)"
   ]
  },
  {
   "cell_type": "code",
   "execution_count": 65,
   "metadata": {},
   "outputs": [
    {
     "data": {
      "text/html": [],
      "text/plain": [
       "<IPython.core.display.HTML object>"
      ]
     },
     "metadata": {},
     "output_type": "display_data"
    },
    {
     "data": {
      "text/plain": [
       "SuggestedLRs(lr_min=0.0003019951749593019, lr_steep=0.17378008365631104)"
      ]
     },
     "execution_count": 65,
     "metadata": {},
     "output_type": "execute_result"
    },
    {
     "data": {
      "image/png": "[encoded data removed]",
      "text/plain": [
       "<Figure size 432x288 with 1 Axes>"
      ]
     },
     "metadata": {
      "needs_background": "light"
     },
     "output_type": "display_data"
    }
   ],
   "source": [
    "learn.lr_find()"
   ]
  },
  {
   "cell_type": "code",
   "execution_count": 66,
   "metadata": {},
   "outputs": [
    {
     "data": {
      "text/html": [
       "<table border=\"1\" class=\"dataframe\">\n",
       "  <thead>\n",
       "    <tr style=\"text-align: left;\">\n",
       "      <th>epoch</th>\n",
       "      <th>train_loss</th>\n",
       "      <th>valid_loss</th>\n",
       "      <th>accuracy</th>\n",
       "      <th>time</th>\n",
       "    </tr>\n",
       "  </thead>\n",
       "  <tbody>\n",
       "    <tr>\n",
       "      <td>0</td>\n",
       "      <td>0.677264</td>\n",
       "      <td>0.678870</td>\n",
       "      <td>0.582425</td>\n",
       "      <td>00:03</td>\n",
       "    </tr>\n",
       "    <tr>\n",
       "      <td>1</td>\n",
       "      <td>0.632663</td>\n",
       "      <td>0.680494</td>\n",
       "      <td>0.580500</td>\n",
       "      <td>00:03</td>\n",
       "    </tr>\n",
       "    <tr>\n",
       "      <td>2</td>\n",
       "      <td>0.587033</td>\n",
       "      <td>0.733359</td>\n",
       "      <td>0.576010</td>\n",
       "      <td>00:03</td>\n",
       "    </tr>\n",
       "    <tr>\n",
       "      <td>3</td>\n",
       "      <td>0.542081</td>\n",
       "      <td>0.704846</td>\n",
       "      <td>0.574086</td>\n",
       "      <td>00:03</td>\n",
       "    </tr>\n",
       "    <tr>\n",
       "      <td>4</td>\n",
       "      <td>0.503807</td>\n",
       "      <td>0.684017</td>\n",
       "      <td>0.579217</td>\n",
       "      <td>00:03</td>\n",
       "    </tr>\n",
       "  </tbody>\n",
       "</table>"
      ],
      "text/plain": [
       "<IPython.core.display.HTML object>"
      ]
     },
     "metadata": {},
     "output_type": "display_data"
    }
   ],
   "source": [
    "learn.fit_one_cycle(5,0.0005)"
   ]
  },
  {
   "cell_type": "code",
   "execution_count": 67,
   "metadata": {},
   "outputs": [
    {
     "data": {
      "image/png": "[encoded data removed]",
      "text/plain": [
       "<Figure size 432x288 with 1 Axes>"
      ]
     },
     "metadata": {
      "needs_background": "light"
     },
     "output_type": "display_data"
    }
   ],
   "source": [
    "learn.recorder.plot_loss()"
   ]
  },
  {
   "cell_type": "code",
   "execution_count": 68,
   "metadata": {},
   "outputs": [
    {
     "data": {
      "text/html": [],
      "text/plain": [
       "<IPython.core.display.HTML object>"
      ]
     },
     "metadata": {},
     "output_type": "display_data"
    }
   ],
   "source": [
    "preds,targs = learn.get_preds()"
   ]
  },
  {
   "cell_type": "code",
   "execution_count": 78,
   "metadata": {},
   "outputs": [
    {
     "data": {
      "text/plain": [
       "tensor([0, 0, 1,  ..., 1, 0, 0])"
      ]
     },
     "execution_count": 78,
     "metadata": {},
     "output_type": "execute_result"
    }
   ],
   "source": [
    "np.argmax(preds, 1)"
   ]
  },
  {
   "cell_type": "code",
   "execution_count": 80,
   "metadata": {},
   "outputs": [
    {
     "data": {
      "text/plain": [
       "0.5792174470814625"
      ]
     },
     "execution_count": 80,
     "metadata": {},
     "output_type": "execute_result"
    }
   ],
   "source": [
    "accuracy_score(targs,np.argmax(preds, 1))"
   ]
  },
  {
   "cell_type": "code",
   "execution_count": null,
   "metadata": {},
   "outputs": [],
   "source": []
  },
  {
   "cell_type": "code",
   "execution_count": null,
   "metadata": {},
   "outputs": [],
   "source": []
  },
  {
   "cell_type": "code",
   "execution_count": null,
   "metadata": {},
   "outputs": [],
   "source": []
  },
  {
   "cell_type": "code",
   "execution_count": null,
   "metadata": {},
   "outputs": [],
   "source": []
  },
  {
   "cell_type": "code",
   "execution_count": null,
   "metadata": {},
   "outputs": [],
   "source": [
    "## Model - team based - similar opponents as training data\n",
    "获取球队最近几场与相似对手交手时，取得的数据作为training data\n",
    "\n",
    "相似对手：\n",
    "\n",
    "1. 将ortg和drtg作为x轴y轴，几何距离最近的对手\n",
    "\n",
    "1. 用什么的ortg，drtg？所有本赛季已进行的比赛的数据？单场？"
   ]
  },
  {
   "cell_type": "code",
   "execution_count": null,
   "metadata": {},
   "outputs": [],
   "source": [
    "## Model - Player based"
   ]
  },
  {
   "cell_type": "code",
   "execution_count": null,
   "metadata": {},
   "outputs": [],
   "source": [
    "# players? -> include minutes played\n",
    "# injured players?\n",
    "# use news to guess how many minutes he will play"
   ]
  }
 ],
 "metadata": {
  "kernelspec": {
   "display_name": "Python 3",
   "language": "python",
   "name": "python3"
  },
  "language_info": {
   "codemirror_mode": {
    "name": "ipython",
    "version": 3
   },
   "file_extension": ".py",
   "mimetype": "text/x-python",
   "name": "python",
   "nbconvert_exporter": "python",
   "pygments_lexer": "ipython3",
   "version": "3.7.6"
  }
 },
 "nbformat": 4,
 "nbformat_minor": 2
}
