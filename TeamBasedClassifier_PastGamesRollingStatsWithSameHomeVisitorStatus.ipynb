{
 "cells": [
  {
   "cell_type": "code",
   "execution_count": 4,
   "metadata": {},
   "outputs": [],
   "source": [
    "import pandas as pd\n",
    "from pathlib import Path\n",
    "import time\n",
    "from tqdm.notebook import tqdm\n",
    "import numpy as np\n",
    "import neptune\n",
    "import datetime"
   ]
  },
  {
   "cell_type": "code",
   "execution_count": 2,
   "metadata": {},
   "outputs": [],
   "source": [
    "args = {}\n",
    "args['data_folder'] = './Data'\n",
    "args['data_filename'] = 'full_data_2014to2021.pkl'\n",
    "args['summarize_n_games']= 10\n",
    "args['columns_to_summarize']=['Pace', 'eFG%', 'TOV%', 'ORB%', 'FT/FGA', 'ORtg', 'TS%', \n",
    "                              '3PAr', 'FTr', 'DRB%', 'TRB%', 'AST%', 'STL%', 'BLK%', 'DRtg']\n",
    "args['summarize_method']='mean'\n",
    "args['columns_order'] = ['DATE', 'VISITOR', 'VISITOR_PTS', 'HOME', 'HOME_PTS', 'boxscores_url',\n",
    "                         'game_id', 'Pace_home', 'eFG%_home', 'TOV%_home', 'ORB%_home',\n",
    "                         'FT/FGA_home', 'ORtg_home', 'TS%_home', '3PAr_home', 'FTr_home', \n",
    "                         'DRB%_home', 'TRB%_home','AST%_home', 'STL%_home', 'BLK%_home', 'DRtg_home',\n",
    "                         'Pace_visitor', 'eFG%_visitor','TOV%_visitor', 'ORB%_visitor', \n",
    "                         'FT/FGA_visitor', 'ORtg_visitor','TS%_visitor',\n",
    "                         '3PAr_visitor', 'FTr_visitor', 'DRB%_visitor', 'TRB%_visitor',\n",
    "                         'AST%_visitor', 'STL%_visitor', 'BLK%_visitor', 'DRtg_visitor',\n",
    "                         'season', 'season_nth_game', 'hometeam_nth_homegame','visitorteam_nth_visitorgame',\n",
    "                         'TOTAL_PTS', 'HOME_VISITOR_PTS_DIFF', 'HOME_WIN']\n",
    "args['home_columns_to_summarize']=[column + '_'+'home' for column in args['columns_to_summarize']]\n",
    "args['visitor_columns_to_summarize']=[column + '_'+'visitor' for column in args['columns_to_summarize']]\n",
    "args['processed_dataset_filename']= \"ProcessedDataset_TeamBasis_mean_Past10Games_SameHomeVisitorStatus_2021-02-21.pkl\"\n",
    "\n",
    "args['random_state']=248 # RIP Kobe"
   ]
  },
  {
   "cell_type": "code",
   "execution_count": 3,
   "metadata": {},
   "outputs": [],
   "source": [
    "data_folder = Path(args['data_folder'])\n",
    "assert data_folder.exists()"
   ]
  },
  {
   "cell_type": "markdown",
   "metadata": {},
   "source": [
    "# Read Raw Data"
   ]
  },
  {
   "cell_type": "code",
   "execution_count": 126,
   "metadata": {
    "scrolled": false
   },
   "outputs": [
    {
     "data": {
      "text/html": [
       "<div>\n",
       "<style scoped>\n",
       "    .dataframe tbody tr th:only-of-type {\n",
       "        vertical-align: middle;\n",
       "    }\n",
       "\n",
       "    .dataframe tbody tr th {\n",
       "        vertical-align: top;\n",
       "    }\n",
       "\n",
       "    .dataframe thead th {\n",
       "        text-align: right;\n",
       "    }\n",
       "</style>\n",
       "<table border=\"1\" class=\"dataframe\">\n",
       "  <thead>\n",
       "    <tr style=\"text-align: right;\">\n",
       "      <th></th>\n",
       "      <th>DATE</th>\n",
       "      <th>VISITOR</th>\n",
       "      <th>VISITOR_PTS</th>\n",
       "      <th>HOME</th>\n",
       "      <th>HOME_PTS</th>\n",
       "      <th>boxscores_url</th>\n",
       "      <th>game_id</th>\n",
       "      <th>Pace_home</th>\n",
       "      <th>eFG%_home</th>\n",
       "      <th>TOV%_home</th>\n",
       "      <th>...</th>\n",
       "      <th>DRB%_visitor</th>\n",
       "      <th>TRB%_visitor</th>\n",
       "      <th>AST%_visitor</th>\n",
       "      <th>STL%_visitor</th>\n",
       "      <th>BLK%_visitor</th>\n",
       "      <th>DRtg_visitor</th>\n",
       "      <th>season</th>\n",
       "      <th>season_nth_game</th>\n",
       "      <th>hometeam_nth_homegame</th>\n",
       "      <th>visitorteam_nth_visitorgame</th>\n",
       "    </tr>\n",
       "  </thead>\n",
       "  <tbody>\n",
       "    <tr>\n",
       "      <th>0</th>\n",
       "      <td>2013-10-29</td>\n",
       "      <td>ORL</td>\n",
       "      <td>87</td>\n",
       "      <td>IND</td>\n",
       "      <td>97</td>\n",
       "      <td>https://www.basketball-reference.com/boxscores/201310290IND.html</td>\n",
       "      <td>201310290IND</td>\n",
       "      <td>95.0</td>\n",
       "      <td>0.528</td>\n",
       "      <td>19.0</td>\n",
       "      <td>...</td>\n",
       "      <td>72.2</td>\n",
       "      <td>47.0</td>\n",
       "      <td>47.2</td>\n",
       "      <td>10.5</td>\n",
       "      <td>11.1</td>\n",
       "      <td>102.1</td>\n",
       "      <td>2014-2015</td>\n",
       "      <td>1</td>\n",
       "      <td>1</td>\n",
       "      <td>1</td>\n",
       "    </tr>\n",
       "    <tr>\n",
       "      <th>1</th>\n",
       "      <td>2013-10-29</td>\n",
       "      <td>CHI</td>\n",
       "      <td>95</td>\n",
       "      <td>MIA</td>\n",
       "      <td>107</td>\n",
       "      <td>https://www.basketball-reference.com/boxscores/201310290MIA.html</td>\n",
       "      <td>201310290MIA</td>\n",
       "      <td>97.1</td>\n",
       "      <td>0.590</td>\n",
       "      <td>17.5</td>\n",
       "      <td>...</td>\n",
       "      <td>85.7</td>\n",
       "      <td>50.6</td>\n",
       "      <td>65.7</td>\n",
       "      <td>11.3</td>\n",
       "      <td>7.7</td>\n",
       "      <td>110.2</td>\n",
       "      <td>2014-2015</td>\n",
       "      <td>2</td>\n",
       "      <td>1</td>\n",
       "      <td>1</td>\n",
       "    </tr>\n",
       "    <tr>\n",
       "      <th>2</th>\n",
       "      <td>2013-10-29</td>\n",
       "      <td>LAC</td>\n",
       "      <td>103</td>\n",
       "      <td>LAL</td>\n",
       "      <td>116</td>\n",
       "      <td>https://www.basketball-reference.com/boxscores/201310290LAL.html</td>\n",
       "      <td>201310290LAL</td>\n",
       "      <td>100.4</td>\n",
       "      <td>0.527</td>\n",
       "      <td>15.3</td>\n",
       "      <td>...</td>\n",
       "      <td>62.5</td>\n",
       "      <td>43.5</td>\n",
       "      <td>65.9</td>\n",
       "      <td>11.0</td>\n",
       "      <td>6.3</td>\n",
       "      <td>115.6</td>\n",
       "      <td>2014-2015</td>\n",
       "      <td>3</td>\n",
       "      <td>1</td>\n",
       "      <td>1</td>\n",
       "    </tr>\n",
       "    <tr>\n",
       "      <th>3</th>\n",
       "      <td>2013-10-30</td>\n",
       "      <td>BRK</td>\n",
       "      <td>94</td>\n",
       "      <td>CLE</td>\n",
       "      <td>98</td>\n",
       "      <td>https://www.basketball-reference.com/boxscores/201310300CLE.html</td>\n",
       "      <td>201310300CLE</td>\n",
       "      <td>92.3</td>\n",
       "      <td>0.446</td>\n",
       "      <td>10.0</td>\n",
       "      <td>...</td>\n",
       "      <td>63.6</td>\n",
       "      <td>43.5</td>\n",
       "      <td>72.7</td>\n",
       "      <td>8.7</td>\n",
       "      <td>11.6</td>\n",
       "      <td>106.2</td>\n",
       "      <td>2014-2015</td>\n",
       "      <td>4</td>\n",
       "      <td>1</td>\n",
       "      <td>1</td>\n",
       "    </tr>\n",
       "    <tr>\n",
       "      <th>4</th>\n",
       "      <td>2013-10-30</td>\n",
       "      <td>BOS</td>\n",
       "      <td>87</td>\n",
       "      <td>TOR</td>\n",
       "      <td>93</td>\n",
       "      <td>https://www.basketball-reference.com/boxscores/201310300TOR.html</td>\n",
       "      <td>201310300TOR</td>\n",
       "      <td>91.5</td>\n",
       "      <td>0.471</td>\n",
       "      <td>15.0</td>\n",
       "      <td>...</td>\n",
       "      <td>57.8</td>\n",
       "      <td>40.7</td>\n",
       "      <td>46.9</td>\n",
       "      <td>10.9</td>\n",
       "      <td>10.1</td>\n",
       "      <td>101.6</td>\n",
       "      <td>2014-2015</td>\n",
       "      <td>5</td>\n",
       "      <td>1</td>\n",
       "      <td>1</td>\n",
       "    </tr>\n",
       "  </tbody>\n",
       "</table>\n",
       "<p>5 rows × 41 columns</p>\n",
       "</div>"
      ],
      "text/plain": [
       "        DATE VISITOR VISITOR_PTS HOME HOME_PTS  \\\n",
       "0 2013-10-29     ORL          87  IND       97   \n",
       "1 2013-10-29     CHI          95  MIA      107   \n",
       "2 2013-10-29     LAC         103  LAL      116   \n",
       "3 2013-10-30     BRK          94  CLE       98   \n",
       "4 2013-10-30     BOS          87  TOR       93   \n",
       "\n",
       "                                                      boxscores_url  \\\n",
       "0  https://www.basketball-reference.com/boxscores/201310290IND.html   \n",
       "1  https://www.basketball-reference.com/boxscores/201310290MIA.html   \n",
       "2  https://www.basketball-reference.com/boxscores/201310290LAL.html   \n",
       "3  https://www.basketball-reference.com/boxscores/201310300CLE.html   \n",
       "4  https://www.basketball-reference.com/boxscores/201310300TOR.html   \n",
       "\n",
       "        game_id  Pace_home  eFG%_home  TOV%_home  ...  DRB%_visitor  \\\n",
       "0  201310290IND       95.0      0.528       19.0  ...          72.2   \n",
       "1  201310290MIA       97.1      0.590       17.5  ...          85.7   \n",
       "2  201310290LAL      100.4      0.527       15.3  ...          62.5   \n",
       "3  201310300CLE       92.3      0.446       10.0  ...          63.6   \n",
       "4  201310300TOR       91.5      0.471       15.0  ...          57.8   \n",
       "\n",
       "   TRB%_visitor  AST%_visitor  STL%_visitor  BLK%_visitor  DRtg_visitor  \\\n",
       "0          47.0          47.2          10.5          11.1         102.1   \n",
       "1          50.6          65.7          11.3           7.7         110.2   \n",
       "2          43.5          65.9          11.0           6.3         115.6   \n",
       "3          43.5          72.7           8.7          11.6         106.2   \n",
       "4          40.7          46.9          10.9          10.1         101.6   \n",
       "\n",
       "      season  season_nth_game  hometeam_nth_homegame  \\\n",
       "0  2014-2015                1                      1   \n",
       "1  2014-2015                2                      1   \n",
       "2  2014-2015                3                      1   \n",
       "3  2014-2015                4                      1   \n",
       "4  2014-2015                5                      1   \n",
       "\n",
       "  visitorteam_nth_visitorgame  \n",
       "0                           1  \n",
       "1                           1  \n",
       "2                           1  \n",
       "3                           1  \n",
       "4                           1  \n",
       "\n",
       "[5 rows x 41 columns]"
      ]
     },
     "execution_count": 126,
     "metadata": {},
     "output_type": "execute_result"
    }
   ],
   "source": [
    "dataset_df = pd.read_pickle(data_folder/args['data_filename'])\n",
    "dataset_df.head()"
   ]
  },
  {
   "cell_type": "code",
   "execution_count": 127,
   "metadata": {},
   "outputs": [],
   "source": [
    "# convert string columns to numeric columns\n",
    "for column in ['VISITOR_PTS','HOME_PTS']:\n",
    "    dataset_df[column] = pd.to_numeric(dataset_df[column])"
   ]
  },
  {
   "cell_type": "code",
   "execution_count": 128,
   "metadata": {
    "scrolled": true
   },
   "outputs": [
    {
     "data": {
      "text/plain": [
       "['Pace_home',\n",
       " 'Pace_visitor',\n",
       " 'eFG%_home',\n",
       " 'eFG%_visitor',\n",
       " 'TOV%_home',\n",
       " 'TOV%_visitor',\n",
       " 'ORB%_home',\n",
       " 'ORB%_visitor',\n",
       " 'FT/FGA_home',\n",
       " 'FT/FGA_visitor',\n",
       " 'ORtg_home',\n",
       " 'ORtg_visitor',\n",
       " 'TS%_home',\n",
       " 'TS%_visitor',\n",
       " '3PAr_home',\n",
       " '3PAr_visitor',\n",
       " 'FTr_home',\n",
       " 'FTr_visitor',\n",
       " 'DRB%_home',\n",
       " 'DRB%_visitor',\n",
       " 'TRB%_home',\n",
       " 'TRB%_visitor',\n",
       " 'AST%_home',\n",
       " 'AST%_visitor',\n",
       " 'STL%_home',\n",
       " 'STL%_visitor',\n",
       " 'BLK%_home',\n",
       " 'BLK%_visitor',\n",
       " 'DRtg_home',\n",
       " 'DRtg_visitor']"
      ]
     },
     "execution_count": 128,
     "metadata": {},
     "output_type": "execute_result"
    }
   ],
   "source": [
    "numeric_col=[]\n",
    "for col_name in args['columns_to_summarize']:\n",
    "    numeric_col.append(col_name+'_home')\n",
    "    numeric_col.append(col_name+'_visitor')\n",
    "numeric_col"
   ]
  },
  {
   "cell_type": "code",
   "execution_count": 129,
   "metadata": {},
   "outputs": [],
   "source": [
    "dataset_df[numeric_col] = dataset_df[numeric_col].astype('float')"
   ]
  },
  {
   "cell_type": "code",
   "execution_count": 130,
   "metadata": {
    "scrolled": true
   },
   "outputs": [
    {
     "name": "stdout",
     "output_type": "stream",
     "text": [
      "<class 'pandas.core.frame.DataFrame'>\n",
      "Int64Index: 8743 entries, 0 to 8742\n",
      "Data columns (total 41 columns):\n",
      " #   Column                       Non-Null Count  Dtype         \n",
      "---  ------                       --------------  -----         \n",
      " 0   DATE                         8743 non-null   datetime64[ns]\n",
      " 1   VISITOR                      8743 non-null   object        \n",
      " 2   VISITOR_PTS                  8743 non-null   float64       \n",
      " 3   HOME                         8743 non-null   object        \n",
      " 4   HOME_PTS                     8743 non-null   float64       \n",
      " 5   boxscores_url                8743 non-null   object        \n",
      " 6   game_id                      8743 non-null   object        \n",
      " 7   Pace_home                    8743 non-null   float64       \n",
      " 8   eFG%_home                    8743 non-null   float64       \n",
      " 9   TOV%_home                    8743 non-null   float64       \n",
      " 10  ORB%_home                    8743 non-null   float64       \n",
      " 11  FT/FGA_home                  8743 non-null   float64       \n",
      " 12  ORtg_home                    8743 non-null   float64       \n",
      " 13  Pace_visitor                 8743 non-null   float64       \n",
      " 14  eFG%_visitor                 8743 non-null   float64       \n",
      " 15  TOV%_visitor                 8743 non-null   float64       \n",
      " 16  ORB%_visitor                 8743 non-null   float64       \n",
      " 17  FT/FGA_visitor               8743 non-null   float64       \n",
      " 18  ORtg_visitor                 8743 non-null   float64       \n",
      " 19  TS%_home                     8743 non-null   float64       \n",
      " 20  3PAr_home                    8743 non-null   float64       \n",
      " 21  FTr_home                     8743 non-null   float64       \n",
      " 22  DRB%_home                    8743 non-null   float64       \n",
      " 23  TRB%_home                    8743 non-null   float64       \n",
      " 24  AST%_home                    8743 non-null   float64       \n",
      " 25  STL%_home                    8743 non-null   float64       \n",
      " 26  BLK%_home                    8743 non-null   float64       \n",
      " 27  DRtg_home                    8743 non-null   float64       \n",
      " 28  TS%_visitor                  8743 non-null   float64       \n",
      " 29  3PAr_visitor                 8743 non-null   float64       \n",
      " 30  FTr_visitor                  8743 non-null   float64       \n",
      " 31  DRB%_visitor                 8743 non-null   float64       \n",
      " 32  TRB%_visitor                 8743 non-null   float64       \n",
      " 33  AST%_visitor                 8743 non-null   float64       \n",
      " 34  STL%_visitor                 8743 non-null   float64       \n",
      " 35  BLK%_visitor                 8743 non-null   float64       \n",
      " 36  DRtg_visitor                 8743 non-null   float64       \n",
      " 37  season                       8743 non-null   object        \n",
      " 38  season_nth_game              8743 non-null   int64         \n",
      " 39  hometeam_nth_homegame        8743 non-null   int64         \n",
      " 40  visitorteam_nth_visitorgame  8743 non-null   int64         \n",
      "dtypes: datetime64[ns](1), float64(32), int64(3), object(5)\n",
      "memory usage: 2.8+ MB\n"
     ]
    }
   ],
   "source": [
    "dataset_df.info()"
   ]
  },
  {
   "cell_type": "code",
   "execution_count": 131,
   "metadata": {},
   "outputs": [
    {
     "data": {
      "text/plain": [
       "Index(['DATE', 'VISITOR', 'VISITOR_PTS', 'HOME', 'HOME_PTS', 'boxscores_url',\n",
       "       'game_id', 'Pace_home', 'eFG%_home', 'TOV%_home', 'ORB%_home',\n",
       "       'FT/FGA_home', 'ORtg_home', 'Pace_visitor', 'eFG%_visitor',\n",
       "       'TOV%_visitor', 'ORB%_visitor', 'FT/FGA_visitor', 'ORtg_visitor',\n",
       "       'TS%_home', '3PAr_home', 'FTr_home', 'DRB%_home', 'TRB%_home',\n",
       "       'AST%_home', 'STL%_home', 'BLK%_home', 'DRtg_home', 'TS%_visitor',\n",
       "       '3PAr_visitor', 'FTr_visitor', 'DRB%_visitor', 'TRB%_visitor',\n",
       "       'AST%_visitor', 'STL%_visitor', 'BLK%_visitor', 'DRtg_visitor',\n",
       "       'season', 'season_nth_game', 'hometeam_nth_homegame',\n",
       "       'visitorteam_nth_visitorgame'],\n",
       "      dtype='object')"
      ]
     },
     "execution_count": 131,
     "metadata": {},
     "output_type": "execute_result"
    }
   ],
   "source": [
    "dataset_df.columns"
   ]
  },
  {
   "cell_type": "code",
   "execution_count": 132,
   "metadata": {},
   "outputs": [],
   "source": [
    "dataset_df['TOTAL_PTS'] = dataset_df['VISITOR_PTS']+dataset_df['HOME_PTS']\n",
    "dataset_df['HOME_VISITOR_PTS_DIFF'] = dataset_df['HOME_PTS']-dataset_df['VISITOR_PTS']\n",
    "dataset_df['HOME_WIN'] = (dataset_df['HOME_VISITOR_PTS_DIFF']>0)"
   ]
  },
  {
   "cell_type": "code",
   "execution_count": 133,
   "metadata": {},
   "outputs": [],
   "source": [
    "dataset_df = dataset_df[args['columns_order']]"
   ]
  },
  {
   "cell_type": "raw",
   "metadata": {},
   "source": [
    "dataset_df.to_excel(data_folder/'dataset.xlsx',index=False)"
   ]
  },
  {
   "cell_type": "markdown",
   "metadata": {},
   "source": [
    "# Data Processing"
   ]
  },
  {
   "cell_type": "code",
   "execution_count": null,
   "metadata": {},
   "outputs": [],
   "source": [
    "# get most recent x games data as training data\n",
    "# test on 2021 data\n",
    "    # sort by dates\n",
    "    # iterate rows\n",
    "    # get current index\n",
    "    # from current index, go backwards index until found previous X games\n",
    "        # if out of index before fetching X games, stop and continue (give up predicting this game)\n",
    "    # if HOME or VISITOR equals to current row HOME, then get that row\n",
    "    # save into a dictionary, key is game_id\n",
    "    # transform as data frame, and join with the full data\n",
    "# average\n",
    "# 2 teams, concatenate to the same row\n",
    "# predict"
   ]
  },
  {
   "cell_type": "code",
   "execution_count": 182,
   "metadata": {
    "scrolled": true
   },
   "outputs": [
    {
     "name": "stdout",
     "output_type": "stream",
     "text": [
      "(6360, 15)\n"
     ]
    },
    {
     "data": {
      "text/html": [
       "<div>\n",
       "<style scoped>\n",
       "    .dataframe tbody tr th:only-of-type {\n",
       "        vertical-align: middle;\n",
       "    }\n",
       "\n",
       "    .dataframe tbody tr th {\n",
       "        vertical-align: top;\n",
       "    }\n",
       "\n",
       "    .dataframe thead th {\n",
       "        text-align: right;\n",
       "    }\n",
       "</style>\n",
       "<table border=\"1\" class=\"dataframe\">\n",
       "  <thead>\n",
       "    <tr style=\"text-align: right;\">\n",
       "      <th></th>\n",
       "      <th>Pace_home</th>\n",
       "      <th>eFG%_home</th>\n",
       "      <th>TOV%_home</th>\n",
       "      <th>ORB%_home</th>\n",
       "      <th>FT/FGA_home</th>\n",
       "      <th>ORtg_home</th>\n",
       "      <th>TS%_home</th>\n",
       "      <th>3PAr_home</th>\n",
       "      <th>FTr_home</th>\n",
       "      <th>DRB%_home</th>\n",
       "      <th>TRB%_home</th>\n",
       "      <th>AST%_home</th>\n",
       "      <th>STL%_home</th>\n",
       "      <th>BLK%_home</th>\n",
       "      <th>DRtg_home</th>\n",
       "    </tr>\n",
       "    <tr>\n",
       "      <th>game_index</th>\n",
       "      <th></th>\n",
       "      <th></th>\n",
       "      <th></th>\n",
       "      <th></th>\n",
       "      <th></th>\n",
       "      <th></th>\n",
       "      <th></th>\n",
       "      <th></th>\n",
       "      <th></th>\n",
       "      <th></th>\n",
       "      <th></th>\n",
       "      <th></th>\n",
       "      <th></th>\n",
       "      <th></th>\n",
       "      <th></th>\n",
       "    </tr>\n",
       "  </thead>\n",
       "  <tbody>\n",
       "    <tr>\n",
       "      <th>311</th>\n",
       "      <td>93.73</td>\n",
       "      <td>0.5085</td>\n",
       "      <td>13.20</td>\n",
       "      <td>19.85</td>\n",
       "      <td>0.2087</td>\n",
       "      <td>105.01</td>\n",
       "      <td>0.5450</td>\n",
       "      <td>0.2571</td>\n",
       "      <td>0.2812</td>\n",
       "      <td>77.64</td>\n",
       "      <td>49.72</td>\n",
       "      <td>67.25</td>\n",
       "      <td>7.34</td>\n",
       "      <td>7.62</td>\n",
       "      <td>101.13</td>\n",
       "    </tr>\n",
       "    <tr>\n",
       "      <th>330</th>\n",
       "      <td>94.43</td>\n",
       "      <td>0.4961</td>\n",
       "      <td>13.27</td>\n",
       "      <td>20.20</td>\n",
       "      <td>0.2068</td>\n",
       "      <td>103.26</td>\n",
       "      <td>0.5352</td>\n",
       "      <td>0.2571</td>\n",
       "      <td>0.2719</td>\n",
       "      <td>77.81</td>\n",
       "      <td>49.59</td>\n",
       "      <td>68.32</td>\n",
       "      <td>7.58</td>\n",
       "      <td>7.90</td>\n",
       "      <td>101.03</td>\n",
       "    </tr>\n",
       "    <tr>\n",
       "      <th>355</th>\n",
       "      <td>94.01</td>\n",
       "      <td>0.4916</td>\n",
       "      <td>13.48</td>\n",
       "      <td>20.22</td>\n",
       "      <td>0.2137</td>\n",
       "      <td>102.39</td>\n",
       "      <td>0.5326</td>\n",
       "      <td>0.2596</td>\n",
       "      <td>0.2800</td>\n",
       "      <td>76.61</td>\n",
       "      <td>48.73</td>\n",
       "      <td>67.06</td>\n",
       "      <td>7.62</td>\n",
       "      <td>7.10</td>\n",
       "      <td>100.99</td>\n",
       "    </tr>\n",
       "    <tr>\n",
       "      <th>370</th>\n",
       "      <td>94.26</td>\n",
       "      <td>0.4978</td>\n",
       "      <td>12.92</td>\n",
       "      <td>21.32</td>\n",
       "      <td>0.2070</td>\n",
       "      <td>104.63</td>\n",
       "      <td>0.5376</td>\n",
       "      <td>0.2577</td>\n",
       "      <td>0.2690</td>\n",
       "      <td>75.38</td>\n",
       "      <td>48.19</td>\n",
       "      <td>68.33</td>\n",
       "      <td>8.61</td>\n",
       "      <td>6.97</td>\n",
       "      <td>101.25</td>\n",
       "    </tr>\n",
       "    <tr>\n",
       "      <th>382</th>\n",
       "      <td>93.84</td>\n",
       "      <td>0.5108</td>\n",
       "      <td>13.07</td>\n",
       "      <td>22.22</td>\n",
       "      <td>0.1946</td>\n",
       "      <td>106.25</td>\n",
       "      <td>0.5476</td>\n",
       "      <td>0.2602</td>\n",
       "      <td>0.2529</td>\n",
       "      <td>75.67</td>\n",
       "      <td>48.66</td>\n",
       "      <td>70.01</td>\n",
       "      <td>8.74</td>\n",
       "      <td>7.09</td>\n",
       "      <td>102.11</td>\n",
       "    </tr>\n",
       "  </tbody>\n",
       "</table>\n",
       "</div>"
      ],
      "text/plain": [
       "            Pace_home  eFG%_home  TOV%_home  ORB%_home  FT/FGA_home  \\\n",
       "game_index                                                            \n",
       "311             93.73     0.5085      13.20      19.85       0.2087   \n",
       "330             94.43     0.4961      13.27      20.20       0.2068   \n",
       "355             94.01     0.4916      13.48      20.22       0.2137   \n",
       "370             94.26     0.4978      12.92      21.32       0.2070   \n",
       "382             93.84     0.5108      13.07      22.22       0.1946   \n",
       "\n",
       "            ORtg_home  TS%_home  3PAr_home  FTr_home  DRB%_home  TRB%_home  \\\n",
       "game_index                                                                   \n",
       "311            105.01    0.5450     0.2571    0.2812      77.64      49.72   \n",
       "330            103.26    0.5352     0.2571    0.2719      77.81      49.59   \n",
       "355            102.39    0.5326     0.2596    0.2800      76.61      48.73   \n",
       "370            104.63    0.5376     0.2577    0.2690      75.38      48.19   \n",
       "382            106.25    0.5476     0.2602    0.2529      75.67      48.66   \n",
       "\n",
       "            AST%_home  STL%_home  BLK%_home  DRtg_home  \n",
       "game_index                                              \n",
       "311             67.25       7.34       7.62     101.13  \n",
       "330             68.32       7.58       7.90     101.03  \n",
       "355             67.06       7.62       7.10     100.99  \n",
       "370             68.33       8.61       6.97     101.25  \n",
       "382             70.01       8.74       7.09     102.11  "
      ]
     },
     "execution_count": 182,
     "metadata": {},
     "output_type": "execute_result"
    }
   ],
   "source": [
    "# shift games downward by 1 row, so when calculating rolling 10 games, game to predict is not included\n",
    "shifted=pd.merge(dataset_df[['DATE','HOME','game_id','season']],dataset_df.groupby(['season','HOME']).shift(1).dropna(how='any')[args['home_columns_to_summarize']],left_index=True,right_index=True)\n",
    "home_summarized = shifted.rename_axis(index='game_index').sort_values(by='DATE').groupby(['season','HOME']).rolling(args['summarize_n_games']).mean().dropna(how='all')[args['home_columns_to_summarize']].droplevel(level=[0,1])\n",
    "print(home_summarized.shape)\n",
    "home_summarized.head()"
   ]
  },
  {
   "cell_type": "code",
   "execution_count": 183,
   "metadata": {},
   "outputs": [
    {
     "name": "stdout",
     "output_type": "stream",
     "text": [
      "(6356, 15)\n"
     ]
    },
    {
     "data": {
      "text/html": [
       "<div>\n",
       "<style scoped>\n",
       "    .dataframe tbody tr th:only-of-type {\n",
       "        vertical-align: middle;\n",
       "    }\n",
       "\n",
       "    .dataframe tbody tr th {\n",
       "        vertical-align: top;\n",
       "    }\n",
       "\n",
       "    .dataframe thead th {\n",
       "        text-align: right;\n",
       "    }\n",
       "</style>\n",
       "<table border=\"1\" class=\"dataframe\">\n",
       "  <thead>\n",
       "    <tr style=\"text-align: right;\">\n",
       "      <th></th>\n",
       "      <th>Pace_visitor</th>\n",
       "      <th>eFG%_visitor</th>\n",
       "      <th>TOV%_visitor</th>\n",
       "      <th>ORB%_visitor</th>\n",
       "      <th>FT/FGA_visitor</th>\n",
       "      <th>ORtg_visitor</th>\n",
       "      <th>TS%_visitor</th>\n",
       "      <th>3PAr_visitor</th>\n",
       "      <th>FTr_visitor</th>\n",
       "      <th>DRB%_visitor</th>\n",
       "      <th>TRB%_visitor</th>\n",
       "      <th>AST%_visitor</th>\n",
       "      <th>STL%_visitor</th>\n",
       "      <th>BLK%_visitor</th>\n",
       "      <th>DRtg_visitor</th>\n",
       "    </tr>\n",
       "    <tr>\n",
       "      <th>game_index</th>\n",
       "      <th></th>\n",
       "      <th></th>\n",
       "      <th></th>\n",
       "      <th></th>\n",
       "      <th></th>\n",
       "      <th></th>\n",
       "      <th></th>\n",
       "      <th></th>\n",
       "      <th></th>\n",
       "      <th></th>\n",
       "      <th></th>\n",
       "      <th></th>\n",
       "      <th></th>\n",
       "      <th></th>\n",
       "      <th></th>\n",
       "    </tr>\n",
       "  </thead>\n",
       "  <tbody>\n",
       "    <tr>\n",
       "      <th>257</th>\n",
       "      <td>95.59</td>\n",
       "      <td>0.5182</td>\n",
       "      <td>14.31</td>\n",
       "      <td>20.29</td>\n",
       "      <td>0.2100</td>\n",
       "      <td>105.27</td>\n",
       "      <td>0.5537</td>\n",
       "      <td>0.2844</td>\n",
       "      <td>0.2830</td>\n",
       "      <td>76.56</td>\n",
       "      <td>47.82</td>\n",
       "      <td>63.58</td>\n",
       "      <td>10.00</td>\n",
       "      <td>8.10</td>\n",
       "      <td>107.78</td>\n",
       "    </tr>\n",
       "    <tr>\n",
       "      <th>343</th>\n",
       "      <td>94.96</td>\n",
       "      <td>0.5138</td>\n",
       "      <td>13.66</td>\n",
       "      <td>21.08</td>\n",
       "      <td>0.1797</td>\n",
       "      <td>105.03</td>\n",
       "      <td>0.5450</td>\n",
       "      <td>0.2851</td>\n",
       "      <td>0.2421</td>\n",
       "      <td>76.19</td>\n",
       "      <td>47.90</td>\n",
       "      <td>61.52</td>\n",
       "      <td>9.47</td>\n",
       "      <td>7.49</td>\n",
       "      <td>106.86</td>\n",
       "    </tr>\n",
       "    <tr>\n",
       "      <th>409</th>\n",
       "      <td>93.58</td>\n",
       "      <td>0.5364</td>\n",
       "      <td>15.44</td>\n",
       "      <td>21.94</td>\n",
       "      <td>0.1808</td>\n",
       "      <td>106.89</td>\n",
       "      <td>0.5690</td>\n",
       "      <td>0.3092</td>\n",
       "      <td>0.2299</td>\n",
       "      <td>73.95</td>\n",
       "      <td>48.10</td>\n",
       "      <td>60.52</td>\n",
       "      <td>9.27</td>\n",
       "      <td>7.17</td>\n",
       "      <td>109.08</td>\n",
       "    </tr>\n",
       "    <tr>\n",
       "      <th>421</th>\n",
       "      <td>93.40</td>\n",
       "      <td>0.5410</td>\n",
       "      <td>15.65</td>\n",
       "      <td>22.52</td>\n",
       "      <td>0.1727</td>\n",
       "      <td>107.41</td>\n",
       "      <td>0.5721</td>\n",
       "      <td>0.3194</td>\n",
       "      <td>0.2187</td>\n",
       "      <td>73.82</td>\n",
       "      <td>48.41</td>\n",
       "      <td>60.44</td>\n",
       "      <td>8.79</td>\n",
       "      <td>6.39</td>\n",
       "      <td>110.33</td>\n",
       "    </tr>\n",
       "    <tr>\n",
       "      <th>447</th>\n",
       "      <td>93.26</td>\n",
       "      <td>0.5459</td>\n",
       "      <td>16.27</td>\n",
       "      <td>22.08</td>\n",
       "      <td>0.1725</td>\n",
       "      <td>107.37</td>\n",
       "      <td>0.5768</td>\n",
       "      <td>0.3247</td>\n",
       "      <td>0.2169</td>\n",
       "      <td>73.59</td>\n",
       "      <td>48.19</td>\n",
       "      <td>59.70</td>\n",
       "      <td>8.79</td>\n",
       "      <td>5.59</td>\n",
       "      <td>109.92</td>\n",
       "    </tr>\n",
       "  </tbody>\n",
       "</table>\n",
       "</div>"
      ],
      "text/plain": [
       "            Pace_visitor  eFG%_visitor  TOV%_visitor  ORB%_visitor  \\\n",
       "game_index                                                           \n",
       "257                95.59        0.5182         14.31         20.29   \n",
       "343                94.96        0.5138         13.66         21.08   \n",
       "409                93.58        0.5364         15.44         21.94   \n",
       "421                93.40        0.5410         15.65         22.52   \n",
       "447                93.26        0.5459         16.27         22.08   \n",
       "\n",
       "            FT/FGA_visitor  ORtg_visitor  TS%_visitor  3PAr_visitor  \\\n",
       "game_index                                                            \n",
       "257                 0.2100        105.27       0.5537        0.2844   \n",
       "343                 0.1797        105.03       0.5450        0.2851   \n",
       "409                 0.1808        106.89       0.5690        0.3092   \n",
       "421                 0.1727        107.41       0.5721        0.3194   \n",
       "447                 0.1725        107.37       0.5768        0.3247   \n",
       "\n",
       "            FTr_visitor  DRB%_visitor  TRB%_visitor  AST%_visitor  \\\n",
       "game_index                                                          \n",
       "257              0.2830         76.56         47.82         63.58   \n",
       "343              0.2421         76.19         47.90         61.52   \n",
       "409              0.2299         73.95         48.10         60.52   \n",
       "421              0.2187         73.82         48.41         60.44   \n",
       "447              0.2169         73.59         48.19         59.70   \n",
       "\n",
       "            STL%_visitor  BLK%_visitor  DRtg_visitor  \n",
       "game_index                                            \n",
       "257                10.00          8.10        107.78  \n",
       "343                 9.47          7.49        106.86  \n",
       "409                 9.27          7.17        109.08  \n",
       "421                 8.79          6.39        110.33  \n",
       "447                 8.79          5.59        109.92  "
      ]
     },
     "execution_count": 183,
     "metadata": {},
     "output_type": "execute_result"
    }
   ],
   "source": [
    "shifted=pd.merge(dataset_df[['DATE','VISITOR','game_id','season']],dataset_df.groupby(['season','VISITOR']).shift(1).dropna(how='any')[args['visitor_columns_to_summarize']],left_index=True,right_index=True)\n",
    "visitor_summarized = shifted.rename_axis(index='game_index').sort_values(by='DATE').groupby(['season','VISITOR']).rolling(args['summarize_n_games']).mean().dropna(how='all')[args['visitor_columns_to_summarize']].droplevel(level=[0,1])\n",
    "print(visitor_summarized.shape)\n",
    "visitor_summarized.head()"
   ]
  },
  {
   "cell_type": "code",
   "execution_count": 184,
   "metadata": {},
   "outputs": [
    {
     "data": {
      "text/html": [
       "<div>\n",
       "<style scoped>\n",
       "    .dataframe tbody tr th:only-of-type {\n",
       "        vertical-align: middle;\n",
       "    }\n",
       "\n",
       "    .dataframe tbody tr th {\n",
       "        vertical-align: top;\n",
       "    }\n",
       "\n",
       "    .dataframe thead th {\n",
       "        text-align: right;\n",
       "    }\n",
       "</style>\n",
       "<table border=\"1\" class=\"dataframe\">\n",
       "  <thead>\n",
       "    <tr style=\"text-align: right;\">\n",
       "      <th></th>\n",
       "      <th>DATE</th>\n",
       "      <th>VISITOR</th>\n",
       "      <th>VISITOR_PTS</th>\n",
       "      <th>HOME</th>\n",
       "      <th>HOME_PTS</th>\n",
       "      <th>boxscores_url</th>\n",
       "      <th>game_id</th>\n",
       "      <th>Pace_home</th>\n",
       "      <th>eFG%_home</th>\n",
       "      <th>TOV%_home</th>\n",
       "      <th>...</th>\n",
       "      <th>FTr_visitor</th>\n",
       "      <th>DRB%_visitor</th>\n",
       "      <th>TRB%_visitor</th>\n",
       "      <th>AST%_visitor</th>\n",
       "      <th>STL%_visitor</th>\n",
       "      <th>BLK%_visitor</th>\n",
       "      <th>DRtg_visitor</th>\n",
       "      <th>TOTAL_PTS</th>\n",
       "      <th>HOME_VISITOR_PTS_DIFF</th>\n",
       "      <th>HOME_WIN</th>\n",
       "    </tr>\n",
       "    <tr>\n",
       "      <th>game_index</th>\n",
       "      <th></th>\n",
       "      <th></th>\n",
       "      <th></th>\n",
       "      <th></th>\n",
       "      <th></th>\n",
       "      <th></th>\n",
       "      <th></th>\n",
       "      <th></th>\n",
       "      <th></th>\n",
       "      <th></th>\n",
       "      <th></th>\n",
       "      <th></th>\n",
       "      <th></th>\n",
       "      <th></th>\n",
       "      <th></th>\n",
       "      <th></th>\n",
       "      <th></th>\n",
       "      <th></th>\n",
       "      <th></th>\n",
       "      <th></th>\n",
       "      <th></th>\n",
       "    </tr>\n",
       "  </thead>\n",
       "  <tbody>\n",
       "    <tr>\n",
       "      <th>270</th>\n",
       "      <td>2013-12-04</td>\n",
       "      <td>PHO</td>\n",
       "      <td>97.0</td>\n",
       "      <td>HOU</td>\n",
       "      <td>88.0</td>\n",
       "      <td>https://www.basketball-reference.com/boxscores/201312040HOU.html</td>\n",
       "      <td>201312040HOU</td>\n",
       "      <td>96.16</td>\n",
       "      <td>0.5589</td>\n",
       "      <td>16.79</td>\n",
       "      <td>...</td>\n",
       "      <td>0.2537</td>\n",
       "      <td>74.86</td>\n",
       "      <td>48.75</td>\n",
       "      <td>54.12</td>\n",
       "      <td>8.35</td>\n",
       "      <td>6.32</td>\n",
       "      <td>106.67</td>\n",
       "      <td>185.0</td>\n",
       "      <td>-9.0</td>\n",
       "      <td>False</td>\n",
       "    </tr>\n",
       "    <tr>\n",
       "      <th>283</th>\n",
       "      <td>2013-12-06</td>\n",
       "      <td>GSW</td>\n",
       "      <td>83.0</td>\n",
       "      <td>HOU</td>\n",
       "      <td>105.0</td>\n",
       "      <td>https://www.basketball-reference.com/boxscores/201312060HOU.html</td>\n",
       "      <td>201312060HOU</td>\n",
       "      <td>96.65</td>\n",
       "      <td>0.5459</td>\n",
       "      <td>16.93</td>\n",
       "      <td>...</td>\n",
       "      <td>0.2909</td>\n",
       "      <td>77.03</td>\n",
       "      <td>51.29</td>\n",
       "      <td>56.93</td>\n",
       "      <td>8.59</td>\n",
       "      <td>8.28</td>\n",
       "      <td>100.93</td>\n",
       "      <td>188.0</td>\n",
       "      <td>22.0</td>\n",
       "      <td>True</td>\n",
       "    </tr>\n",
       "    <tr>\n",
       "      <th>288</th>\n",
       "      <td>2013-12-07</td>\n",
       "      <td>DEN</td>\n",
       "      <td>103.0</td>\n",
       "      <td>PHI</td>\n",
       "      <td>92.0</td>\n",
       "      <td>https://www.basketball-reference.com/boxscores/201312070PHI.html</td>\n",
       "      <td>201312070PHI</td>\n",
       "      <td>97.62</td>\n",
       "      <td>0.5038</td>\n",
       "      <td>16.31</td>\n",
       "      <td>...</td>\n",
       "      <td>0.3110</td>\n",
       "      <td>70.69</td>\n",
       "      <td>50.35</td>\n",
       "      <td>53.79</td>\n",
       "      <td>8.34</td>\n",
       "      <td>7.41</td>\n",
       "      <td>108.99</td>\n",
       "      <td>195.0</td>\n",
       "      <td>-11.0</td>\n",
       "      <td>False</td>\n",
       "    </tr>\n",
       "    <tr>\n",
       "      <th>291</th>\n",
       "      <td>2013-12-07</td>\n",
       "      <td>GSW</td>\n",
       "      <td>108.0</td>\n",
       "      <td>MEM</td>\n",
       "      <td>82.0</td>\n",
       "      <td>https://www.basketball-reference.com/boxscores/201312070MEM.html</td>\n",
       "      <td>201312070MEM</td>\n",
       "      <td>89.15</td>\n",
       "      <td>0.4992</td>\n",
       "      <td>15.07</td>\n",
       "      <td>...</td>\n",
       "      <td>0.3139</td>\n",
       "      <td>76.60</td>\n",
       "      <td>50.73</td>\n",
       "      <td>53.80</td>\n",
       "      <td>7.85</td>\n",
       "      <td>7.72</td>\n",
       "      <td>103.24</td>\n",
       "      <td>190.0</td>\n",
       "      <td>-26.0</td>\n",
       "      <td>False</td>\n",
       "    </tr>\n",
       "    <tr>\n",
       "      <th>302</th>\n",
       "      <td>2013-12-09</td>\n",
       "      <td>GSW</td>\n",
       "      <td>111.0</td>\n",
       "      <td>CHA</td>\n",
       "      <td>115.0</td>\n",
       "      <td>https://www.basketball-reference.com/boxscores/201312090CHA.html</td>\n",
       "      <td>201312090CHA</td>\n",
       "      <td>91.08</td>\n",
       "      <td>0.4437</td>\n",
       "      <td>12.51</td>\n",
       "      <td>...</td>\n",
       "      <td>0.3060</td>\n",
       "      <td>75.13</td>\n",
       "      <td>50.62</td>\n",
       "      <td>53.77</td>\n",
       "      <td>7.43</td>\n",
       "      <td>6.90</td>\n",
       "      <td>104.23</td>\n",
       "      <td>226.0</td>\n",
       "      <td>4.0</td>\n",
       "      <td>True</td>\n",
       "    </tr>\n",
       "  </tbody>\n",
       "</table>\n",
       "<p>5 rows × 40 columns</p>\n",
       "</div>"
      ],
      "text/plain": [
       "                 DATE VISITOR  VISITOR_PTS HOME  HOME_PTS  \\\n",
       "game_index                                                  \n",
       "270        2013-12-04     PHO         97.0  HOU      88.0   \n",
       "283        2013-12-06     GSW         83.0  HOU     105.0   \n",
       "288        2013-12-07     DEN        103.0  PHI      92.0   \n",
       "291        2013-12-07     GSW        108.0  MEM      82.0   \n",
       "302        2013-12-09     GSW        111.0  CHA     115.0   \n",
       "\n",
       "                                                               boxscores_url  \\\n",
       "game_index                                                                     \n",
       "270         https://www.basketball-reference.com/boxscores/201312040HOU.html   \n",
       "283         https://www.basketball-reference.com/boxscores/201312060HOU.html   \n",
       "288         https://www.basketball-reference.com/boxscores/201312070PHI.html   \n",
       "291         https://www.basketball-reference.com/boxscores/201312070MEM.html   \n",
       "302         https://www.basketball-reference.com/boxscores/201312090CHA.html   \n",
       "\n",
       "                 game_id  Pace_home  eFG%_home  TOV%_home  ...  FTr_visitor  \\\n",
       "game_index                                                 ...                \n",
       "270         201312040HOU      96.16     0.5589      16.79  ...       0.2537   \n",
       "283         201312060HOU      96.65     0.5459      16.93  ...       0.2909   \n",
       "288         201312070PHI      97.62     0.5038      16.31  ...       0.3110   \n",
       "291         201312070MEM      89.15     0.4992      15.07  ...       0.3139   \n",
       "302         201312090CHA      91.08     0.4437      12.51  ...       0.3060   \n",
       "\n",
       "            DRB%_visitor  TRB%_visitor  AST%_visitor  STL%_visitor  \\\n",
       "game_index                                                           \n",
       "270                74.86         48.75         54.12          8.35   \n",
       "283                77.03         51.29         56.93          8.59   \n",
       "288                70.69         50.35         53.79          8.34   \n",
       "291                76.60         50.73         53.80          7.85   \n",
       "302                75.13         50.62         53.77          7.43   \n",
       "\n",
       "            BLK%_visitor  DRtg_visitor  TOTAL_PTS  HOME_VISITOR_PTS_DIFF  \\\n",
       "game_index                                                                 \n",
       "270                 6.32        106.67      185.0                   -9.0   \n",
       "283                 8.28        100.93      188.0                   22.0   \n",
       "288                 7.41        108.99      195.0                  -11.0   \n",
       "291                 7.72        103.24      190.0                  -26.0   \n",
       "302                 6.90        104.23      226.0                    4.0   \n",
       "\n",
       "            HOME_WIN  \n",
       "game_index            \n",
       "270            False  \n",
       "283             True  \n",
       "288            False  \n",
       "291            False  \n",
       "302             True  \n",
       "\n",
       "[5 rows x 40 columns]"
      ]
     },
     "execution_count": 184,
     "metadata": {},
     "output_type": "execute_result"
    }
   ],
   "source": [
    "processed_dataset=pd.concat([dataset_df.rename_axis('game_index')[['DATE','VISITOR', 'VISITOR_PTS', 'HOME', 'HOME_PTS', 'boxscores_url','game_id']],\n",
    "          home_summarized,\n",
    "          visitor_summarized],join='inner',axis=1)\n",
    "processed_dataset['TOTAL_PTS'] = processed_dataset['VISITOR_PTS']+processed_dataset['HOME_PTS']\n",
    "processed_dataset['HOME_VISITOR_PTS_DIFF'] = processed_dataset['HOME_PTS']-processed_dataset['VISITOR_PTS']\n",
    "processed_dataset['HOME_WIN'] = (processed_dataset['HOME_VISITOR_PTS_DIFF']>0)\n",
    "processed_dataset.head()"
   ]
  },
  {
   "cell_type": "code",
   "execution_count": 186,
   "metadata": {},
   "outputs": [],
   "source": [
    "# TODO: automatically populate dataset name, model name\n",
    "processed_dataset.to_pickle(data_folder/(args['processed_dataset_filename']))"
   ]
  },
  {
   "cell_type": "markdown",
   "metadata": {},
   "source": [
    "# Models"
   ]
  },
  {
   "cell_type": "markdown",
   "metadata": {},
   "source": [
    "## Team based - simple average of past xx games\n"
   ]
  },
  {
   "cell_type": "markdown",
   "metadata": {},
   "source": [
    "# Generate Training/Validation/Test Data"
   ]
  },
  {
   "cell_type": "code",
   "execution_count": 187,
   "metadata": {
    "scrolled": true
   },
   "outputs": [],
   "source": [
    "# import libraries\n",
    "from pandas.api.types import is_string_dtype, is_numeric_dtype, is_categorical_dtype\n",
    "from fastai.tabular.all import *\n",
    "from sklearn.ensemble import RandomForestClassifier\n",
    "from sklearn.tree import DecisionTreeClassifier\n",
    "from sklearn.model_selection import train_test_split\n",
    "# from dtreeviz.trees import *"
   ]
  },
  {
   "cell_type": "code",
   "execution_count": 188,
   "metadata": {
    "scrolled": true
   },
   "outputs": [
    {
     "data": {
      "text/plain": [
       "Index(['VISITOR', 'VISITOR_PTS', 'DATEWeek', 'HOME', 'HOME_PTS',\n",
       "       'boxscores_url', 'game_id', 'Pace_home', 'eFG%_home', 'TOV%_home',\n",
       "       'ORB%_home', 'FT/FGA_home', 'ORtg_home', 'TS%_home', '3PAr_home',\n",
       "       'FTr_home', 'DRB%_home', 'TRB%_home', 'AST%_home', 'STL%_home',\n",
       "       'BLK%_home', 'DRtg_home', 'Pace_visitor', 'eFG%_visitor',\n",
       "       'TOV%_visitor', 'ORB%_visitor', 'FT/FGA_visitor', 'ORtg_visitor',\n",
       "       'TS%_visitor', '3PAr_visitor', 'FTr_visitor', 'DRB%_visitor',\n",
       "       'TRB%_visitor', 'AST%_visitor', 'STL%_visitor', 'BLK%_visitor',\n",
       "       'DRtg_visitor', 'TOTAL_PTS', 'HOME_VISITOR_PTS_DIFF', 'HOME_WIN',\n",
       "       'DATEYear', 'DATEMonth', 'DATEDay', 'DATEDayofweek', 'DATEDayofyear',\n",
       "       'DATEIs_month_end', 'DATEIs_month_start', 'DATEIs_quarter_end',\n",
       "       'DATEIs_quarter_start', 'DATEIs_year_end', 'DATEIs_year_start',\n",
       "       'DATEElapsed'],\n",
       "      dtype='object')"
      ]
     },
     "execution_count": 188,
     "metadata": {},
     "output_type": "execute_result"
    }
   ],
   "source": [
    "# load the processed data\n",
    "teamstats = pd.read_pickle(data_folder/(args['processed_dataset_filename']))\n",
    "teamstats = add_datepart(teamstats, 'DATE')\n",
    "teamstats.columns"
   ]
  },
  {
   "cell_type": "code",
   "execution_count": 189,
   "metadata": {},
   "outputs": [],
   "source": [
    "# teamstats['DRtg_home']=100\n",
    "# teamstats['DRtg_visitor']=100"
   ]
  },
  {
   "cell_type": "code",
   "execution_count": 190,
   "metadata": {},
   "outputs": [
    {
     "data": {
      "text/plain": [
       "0.5809956218582779"
      ]
     },
     "execution_count": 190,
     "metadata": {},
     "output_type": "execute_result"
    }
   ],
   "source": [
    "sum(teamstats['HOME_WIN'])/len(teamstats['HOME_WIN'])"
   ]
  },
  {
   "cell_type": "code",
   "execution_count": 191,
   "metadata": {},
   "outputs": [],
   "source": [
    "# set what are dependent variables, what are independent variables\n",
    "args['dep_variable'] = ['HOME_WIN']\n",
    "args['ind_variable'] = args['home_columns_to_summarize']+args['visitor_columns_to_summarize']"
   ]
  },
  {
   "cell_type": "code",
   "execution_count": 192,
   "metadata": {},
   "outputs": [
    {
     "data": {
      "text/plain": [
       "[4440, 1110, 617]"
      ]
     },
     "execution_count": 192,
     "metadata": {},
     "output_type": "execute_result"
    }
   ],
   "source": [
    "other_idx,test_idx = train_test_split(list(teamstats.index),test_size=0.1,random_state=args['random_state'])\n",
    "test_set = teamstats.loc[test_idx,args['ind_variable']+args['dep_variable']].copy()\n",
    "# don't want to mix non-test set with training set, therefore \"other_set\"\n",
    "other_set = teamstats.loc[other_idx,args['ind_variable']+args['dep_variable']].copy()\n",
    "train_idx,valid_idx = train_test_split(list(other_set.reset_index(drop=True).index),test_size=0.2,random_state=args['random_state'])\n",
    "[len(idx) for idx in [train_idx,valid_idx,test_idx]]"
   ]
  },
  {
   "cell_type": "code",
   "execution_count": 193,
   "metadata": {},
   "outputs": [
    {
     "name": "stdout",
     "output_type": "stream",
     "text": [
      "['Pace_home', 'eFG%_home', 'TOV%_home', 'ORB%_home', 'FT/FGA_home', 'ORtg_home', 'TS%_home', '3PAr_home', 'FTr_home', 'DRB%_home', 'TRB%_home', 'AST%_home', 'STL%_home', 'BLK%_home', 'DRtg_home', 'Pace_visitor', 'eFG%_visitor', 'TOV%_visitor', 'ORB%_visitor', 'FT/FGA_visitor', 'ORtg_visitor', 'TS%_visitor', '3PAr_visitor', 'FTr_visitor', 'DRB%_visitor', 'TRB%_visitor', 'AST%_visitor', 'STL%_visitor', 'BLK%_visitor', 'DRtg_visitor'] []\n"
     ]
    }
   ],
   "source": [
    "# split continuous variables and categorical variabls\n",
    "cont_var, cat_var=cont_cat_split(other_set,1,dep_var=args['dep_variable'])\n",
    "print(cont_var,cat_var)"
   ]
  },
  {
   "cell_type": "code",
   "execution_count": 194,
   "metadata": {},
   "outputs": [
    {
     "data": {
      "text/plain": [
       "(4440, 1110)"
      ]
     },
     "execution_count": 194,
     "metadata": {},
     "output_type": "execute_result"
    }
   ],
   "source": [
    "# return a tabular object\n",
    "to=TabularPandas(other_set,cat_names=cat_var,cont_names=cont_var,\n",
    "                 y_names=args['dep_variable'],splits=(train_idx,valid_idx))\n",
    "len(to.train),len(to.valid)"
   ]
  },
  {
   "cell_type": "code",
   "execution_count": 195,
   "metadata": {
    "scrolled": true
   },
   "outputs": [
    {
     "name": "stdout",
     "output_type": "stream",
     "text": [
      "4440\n",
      "1110\n"
     ]
    }
   ],
   "source": [
    "xs,y = to.train.xs,to.train.y\n",
    "valid_xs,valid_y = to.valid.xs,to.valid.y\n",
    "print(len(xs))\n",
    "print(len(valid_xs))"
   ]
  },
  {
   "cell_type": "markdown",
   "metadata": {},
   "source": [
    "# Initialize Neptune to Record Experiments"
   ]
  },
  {
   "cell_type": "code",
   "execution_count": 5,
   "metadata": {},
   "outputs": [
    {
     "data": {
      "text/plain": [
       "Project(jjnotjimmyjohn/NBA-Score-Prediction)"
      ]
     },
     "execution_count": 5,
     "metadata": {},
     "output_type": "execute_result"
    }
   ],
   "source": [
    "neptune.init(project_qualified_name='jjnotjimmyjohn/NBA-Score-Prediction')\n",
    "# neptune.init(project_qualified_name='jjnotjimmyjohn/sandbox',api_token=neptune.ANONYMOUS_API_TOKEN)"
   ]
  },
  {
   "cell_type": "markdown",
   "metadata": {},
   "source": [
    "# Decision Tree"
   ]
  },
  {
   "cell_type": "code",
   "execution_count": 196,
   "metadata": {},
   "outputs": [],
   "source": [
    "from sklearn.model_selection import RandomizedSearchCV\n",
    "from sklearn.metrics import mean_absolute_error\n",
    "import scipy.stats as stats\n",
    "from sklearn.metrics import SCORERS,accuracy_score,f1_score"
   ]
  },
  {
   "cell_type": "code",
   "execution_count": 197,
   "metadata": {},
   "outputs": [],
   "source": [
    "# parameters distribution to randomized search\n",
    "dt_params_dist={\n",
    "    'min_samples_split':[5,10,15,20],\n",
    "    'min_samples_leaf':[10,20,30,40,60],\n",
    "    'max_features':[0.5,0.6,0.7,0.8,0.9],\n",
    "}\n",
    "# base model\n",
    "base_model = DecisionTreeClassifier(random_state=args['random_state'])"
   ]
  },
  {
   "cell_type": "code",
   "execution_count": 198,
   "metadata": {
    "scrolled": false
   },
   "outputs": [
    {
     "name": "stdout",
     "output_type": "stream",
     "text": [
      "Fitting 8 folds for each of 90 candidates, totalling 720 fits\n"
     ]
    },
    {
     "name": "stderr",
     "output_type": "stream",
     "text": [
      "[Parallel(n_jobs=6)]: Using backend LokyBackend with 6 concurrent workers.\n",
      "[Parallel(n_jobs=6)]: Done   6 tasks      | elapsed:    3.3s\n",
      "[Parallel(n_jobs=6)]: Done  60 tasks      | elapsed:    4.7s\n",
      "[Parallel(n_jobs=6)]: Done 150 tasks      | elapsed:    7.1s\n",
      "[Parallel(n_jobs=6)]: Done 276 tasks      | elapsed:   10.4s\n",
      "[Parallel(n_jobs=6)]: Done 438 tasks      | elapsed:   15.5s\n",
      "[Parallel(n_jobs=6)]: Done 636 tasks      | elapsed:   21.2s\n",
      "[Parallel(n_jobs=6)]: Done 720 out of 720 | elapsed:   23.0s finished\n"
     ]
    },
    {
     "data": {
      "text/plain": [
       "RandomizedSearchCV(cv=8, estimator=DecisionTreeClassifier(random_state=248),\n",
       "                   n_iter=90, n_jobs=6,\n",
       "                   param_distributions={'max_features': [0.5, 0.6, 0.7, 0.8,\n",
       "                                                         0.9],\n",
       "                                        'min_samples_leaf': [10, 20, 30, 40,\n",
       "                                                             60],\n",
       "                                        'min_samples_split': [5, 10, 15, 20]},\n",
       "                   return_train_score=True, verbose=5)"
      ]
     },
     "execution_count": 198,
     "metadata": {},
     "output_type": "execute_result"
    }
   ],
   "source": [
    "model = RandomizedSearchCV(base_model,dt_params_dist,n_iter=90,n_jobs=6,\n",
    "                                   cv=8,verbose=5,return_train_score=True,refit=True)\n",
    "model.fit(xs, y)"
   ]
  },
  {
   "cell_type": "code",
   "execution_count": 199,
   "metadata": {},
   "outputs": [
    {
     "name": "stdout",
     "output_type": "stream",
     "text": [
      "0.7157657657657658\n",
      "0.581081081081081\n"
     ]
    }
   ],
   "source": [
    "print(accuracy_score(y,model.predict(xs)))\n",
    "print(accuracy_score(valid_y,model.predict(valid_xs)))"
   ]
  },
  {
   "cell_type": "code",
   "execution_count": 6,
   "metadata": {},
   "outputs": [
    {
     "name": "stderr",
     "output_type": "stream",
     "text": [
      "Info (NVML): NVML Shared Library Not Found. GPU usage metrics may not be reported. For more information, see https://docs.neptune.ai/logging-and-managing-experiment-results/logging-experiment-data.html#hardware-consumption \n"
     ]
    },
    {
     "name": "stdout",
     "output_type": "stream",
     "text": [
      "https://ui.neptune.ai/jjnotjimmyjohn/NBA-Score-Prediction/e/NBAS-4\n"
     ]
    }
   ],
   "source": [
    "neptune.create_experiment(name='test_experiment',description='just testing API')\n",
    "neptune.stop()"
   ]
  },
  {
   "cell_type": "code",
   "execution_count": null,
   "metadata": {},
   "outputs": [],
   "source": [
    "# create experiment\n",
    "# neptune.set_project('jjnotjimmyjohn/NBA-Score-Prediction')\n",
    "neptune.create_experiment(name='TeamBasedModel_moredata',description='',params=model.get_params())\n",
    "neptune.append_tag(f'summarize_past_games')\n",
    "neptune.append_tag(f'decision_tree')\n",
    "neptune.append_tag(f'randomized_search_cv')\n",
    "neptune.log_metric('training_error', mean_absolute_error(y,model.predict(xs)))\n",
    "neptune.log_metric('validation_error', mean_absolute_error(valid_y,model.predict(valid_xs)))\n",
    "neptune.log_text('best_model', str(model.best_estimator_))\n",
    "for key,value in args.items():\n",
    "    neptune.set_property(key,value)\n",
    "neptune.stop()"
   ]
  },
  {
   "cell_type": "markdown",
   "metadata": {},
   "source": [
    "# Randome Forest"
   ]
  },
  {
   "cell_type": "code",
   "execution_count": 200,
   "metadata": {},
   "outputs": [],
   "source": [
    "# parameters distribution to randomized search\n",
    "dt_params_dist={\n",
    "    'min_samples_split':[5,10,15,20],\n",
    "    'max_samples':[0.5,0.7,0.8,0.9,1],\n",
    "    'min_samples_leaf':[30,40,50],\n",
    "    'max_features':[0.6,0.7,0.8,0.9,1],\n",
    "}\n",
    "# base model\n"
   ]
  },
  {
   "cell_type": "raw",
   "metadata": {},
   "source": [
    "RandomForestRegressor(n_jobs=-1, n_estimators=1000,\n",
    "    max_samples=len(xs), max_features=0.7,\n",
    "    min_samples_leaf=25, oob_score=True).fit(xs, y)"
   ]
  },
  {
   "cell_type": "code",
   "execution_count": 209,
   "metadata": {
    "scrolled": false
   },
   "outputs": [
    {
     "name": "stdout",
     "output_type": "stream",
     "text": [
      "0.7132882882882883\n",
      "0.663963963963964\n"
     ]
    }
   ],
   "source": [
    "base_model = RandomForestClassifier(n_jobs=-1, n_estimators=2000, oob_score=True, min_samples_leaf=45)\n",
    "base_model.fit(xs,y)\n",
    "print(accuracy_score(y,base_model.predict(xs)))\n",
    "print(accuracy_score(valid_y,base_model.predict(valid_xs)))"
   ]
  },
  {
   "cell_type": "code",
   "execution_count": 207,
   "metadata": {
    "scrolled": true
   },
   "outputs": [
    {
     "name": "stdout",
     "output_type": "stream",
     "text": [
      "Fitting 8 folds for each of 100 candidates, totalling 800 fits\n"
     ]
    },
    {
     "name": "stderr",
     "output_type": "stream",
     "text": [
      "[Parallel(n_jobs=-1)]: Using backend LokyBackend with 6 concurrent workers.\n",
      "[Parallel(n_jobs=-1)]: Done   6 tasks      | elapsed:  1.5min\n",
      "[Parallel(n_jobs=-1)]: Done  60 tasks      | elapsed: 12.2min\n",
      "[Parallel(n_jobs=-1)]: Done 150 tasks      | elapsed: 35.5min\n",
      "[Parallel(n_jobs=-1)]: Done 276 tasks      | elapsed: 62.3min\n",
      "[Parallel(n_jobs=-1)]: Done 438 tasks      | elapsed: 98.2min\n",
      "[Parallel(n_jobs=-1)]: Done 636 tasks      | elapsed: 145.4min\n",
      "[Parallel(n_jobs=-1)]: Done 800 out of 800 | elapsed: 188.2min finished\n"
     ]
    },
    {
     "data": {
      "text/plain": [
       "RandomizedSearchCV(cv=8,\n",
       "                   estimator=RandomForestClassifier(min_samples_leaf=50,\n",
       "                                                    n_estimators=2000,\n",
       "                                                    n_jobs=-1, oob_score=True),\n",
       "                   n_iter=100, n_jobs=-1,\n",
       "                   param_distributions={'max_features': [0.5, 0.6, 0.7, 0.8,\n",
       "                                                         0.9],\n",
       "                                        'max_samples': [0.5, 0.7, 0.8, 0.9, 1],\n",
       "                                        'min_samples_leaf': [10, 15, 25],\n",
       "                                        'min_samples_split': [5, 10, 15, 20]},\n",
       "                   return_train_score=True, verbose=5)"
      ]
     },
     "execution_count": 207,
     "metadata": {},
     "output_type": "execute_result"
    }
   ],
   "source": [
    "model = RandomizedSearchCV(base_model,dt_params_dist,n_iter=100,n_jobs=-1,\n",
    "                                   cv=8,verbose=5,return_train_score=True,refit=True)\n",
    "model.fit(xs, y)"
   ]
  },
  {
   "cell_type": "code",
   "execution_count": 208,
   "metadata": {
    "scrolled": true
   },
   "outputs": [
    {
     "name": "stdout",
     "output_type": "stream",
     "text": [
      "0.9\n",
      "0.6549549549549549\n"
     ]
    }
   ],
   "source": [
    "print(accuracy_score(y,model.predict(xs)))\n",
    "print(accuracy_score(valid_y,model.predict(valid_xs)))"
   ]
  },
  {
   "cell_type": "raw",
   "metadata": {},
   "source": [
    "print(mean_absolute_error(y,m.predict(xs))) # 9.055876795592912\n",
    "print(mean_absolute_error(valid_y,m.predict(valid_xs))) # 10.29984097314067"
   ]
  },
  {
   "cell_type": "code",
   "execution_count": 98,
   "metadata": {
    "scrolled": true
   },
   "outputs": [
    {
     "data": {
      "text/plain": [
       "array([0.01755608, 0.04531653, 0.02353935, 0.01787496, 0.01776416,\n",
       "       0.10482879, 0.04499968, 0.01649685, 0.0171083 , 0.0172028 ,\n",
       "       0.02323076, 0.022981  , 0.01970445, 0.02227803, 0.1129221 ,\n",
       "       0.01967865, 0.05323375, 0.01790268, 0.01876028, 0.01907   ,\n",
       "       0.06575033, 0.05444263, 0.01928852, 0.01686225, 0.01832983,\n",
       "       0.02606629, 0.01953459, 0.02087306, 0.02032816, 0.08607512])"
      ]
     },
     "execution_count": 98,
     "metadata": {},
     "output_type": "execute_result"
    }
   ],
   "source": [
    "model.best_estimator_.feature_importances_"
   ]
  },
  {
   "cell_type": "code",
   "execution_count": 99,
   "metadata": {},
   "outputs": [],
   "source": [
    "def rf_feat_importance(m, df):\n",
    "    return pd.DataFrame({'cols':df.columns, 'imp':m.feature_importances_}\n",
    "                       ).sort_values('imp', ascending=False)"
   ]
  },
  {
   "cell_type": "code",
   "execution_count": 100,
   "metadata": {
    "scrolled": true
   },
   "outputs": [
    {
     "data": {
      "text/html": [
       "<div>\n",
       "<style scoped>\n",
       "    .dataframe tbody tr th:only-of-type {\n",
       "        vertical-align: middle;\n",
       "    }\n",
       "\n",
       "    .dataframe tbody tr th {\n",
       "        vertical-align: top;\n",
       "    }\n",
       "\n",
       "    .dataframe thead th {\n",
       "        text-align: right;\n",
       "    }\n",
       "</style>\n",
       "<table border=\"1\" class=\"dataframe\">\n",
       "  <thead>\n",
       "    <tr style=\"text-align: right;\">\n",
       "      <th></th>\n",
       "      <th>cols</th>\n",
       "      <th>imp</th>\n",
       "    </tr>\n",
       "  </thead>\n",
       "  <tbody>\n",
       "    <tr>\n",
       "      <th>14</th>\n",
       "      <td>DRtg_home</td>\n",
       "      <td>0.112922</td>\n",
       "    </tr>\n",
       "    <tr>\n",
       "      <th>5</th>\n",
       "      <td>ORtg_home</td>\n",
       "      <td>0.104829</td>\n",
       "    </tr>\n",
       "    <tr>\n",
       "      <th>29</th>\n",
       "      <td>DRtg_visitor</td>\n",
       "      <td>0.086075</td>\n",
       "    </tr>\n",
       "    <tr>\n",
       "      <th>20</th>\n",
       "      <td>ORtg_visitor</td>\n",
       "      <td>0.065750</td>\n",
       "    </tr>\n",
       "    <tr>\n",
       "      <th>21</th>\n",
       "      <td>TS%_visitor</td>\n",
       "      <td>0.054443</td>\n",
       "    </tr>\n",
       "    <tr>\n",
       "      <th>16</th>\n",
       "      <td>eFG%_visitor</td>\n",
       "      <td>0.053234</td>\n",
       "    </tr>\n",
       "    <tr>\n",
       "      <th>1</th>\n",
       "      <td>eFG%_home</td>\n",
       "      <td>0.045317</td>\n",
       "    </tr>\n",
       "    <tr>\n",
       "      <th>6</th>\n",
       "      <td>TS%_home</td>\n",
       "      <td>0.045000</td>\n",
       "    </tr>\n",
       "    <tr>\n",
       "      <th>25</th>\n",
       "      <td>TRB%_visitor</td>\n",
       "      <td>0.026066</td>\n",
       "    </tr>\n",
       "    <tr>\n",
       "      <th>2</th>\n",
       "      <td>TOV%_home</td>\n",
       "      <td>0.023539</td>\n",
       "    </tr>\n",
       "    <tr>\n",
       "      <th>10</th>\n",
       "      <td>TRB%_home</td>\n",
       "      <td>0.023231</td>\n",
       "    </tr>\n",
       "    <tr>\n",
       "      <th>11</th>\n",
       "      <td>AST%_home</td>\n",
       "      <td>0.022981</td>\n",
       "    </tr>\n",
       "    <tr>\n",
       "      <th>13</th>\n",
       "      <td>BLK%_home</td>\n",
       "      <td>0.022278</td>\n",
       "    </tr>\n",
       "    <tr>\n",
       "      <th>27</th>\n",
       "      <td>STL%_visitor</td>\n",
       "      <td>0.020873</td>\n",
       "    </tr>\n",
       "    <tr>\n",
       "      <th>28</th>\n",
       "      <td>BLK%_visitor</td>\n",
       "      <td>0.020328</td>\n",
       "    </tr>\n",
       "    <tr>\n",
       "      <th>12</th>\n",
       "      <td>STL%_home</td>\n",
       "      <td>0.019704</td>\n",
       "    </tr>\n",
       "    <tr>\n",
       "      <th>15</th>\n",
       "      <td>Pace_visitor</td>\n",
       "      <td>0.019679</td>\n",
       "    </tr>\n",
       "    <tr>\n",
       "      <th>26</th>\n",
       "      <td>AST%_visitor</td>\n",
       "      <td>0.019535</td>\n",
       "    </tr>\n",
       "    <tr>\n",
       "      <th>22</th>\n",
       "      <td>3PAr_visitor</td>\n",
       "      <td>0.019289</td>\n",
       "    </tr>\n",
       "    <tr>\n",
       "      <th>19</th>\n",
       "      <td>FT/FGA_visitor</td>\n",
       "      <td>0.019070</td>\n",
       "    </tr>\n",
       "    <tr>\n",
       "      <th>18</th>\n",
       "      <td>ORB%_visitor</td>\n",
       "      <td>0.018760</td>\n",
       "    </tr>\n",
       "    <tr>\n",
       "      <th>24</th>\n",
       "      <td>DRB%_visitor</td>\n",
       "      <td>0.018330</td>\n",
       "    </tr>\n",
       "    <tr>\n",
       "      <th>17</th>\n",
       "      <td>TOV%_visitor</td>\n",
       "      <td>0.017903</td>\n",
       "    </tr>\n",
       "    <tr>\n",
       "      <th>3</th>\n",
       "      <td>ORB%_home</td>\n",
       "      <td>0.017875</td>\n",
       "    </tr>\n",
       "    <tr>\n",
       "      <th>4</th>\n",
       "      <td>FT/FGA_home</td>\n",
       "      <td>0.017764</td>\n",
       "    </tr>\n",
       "    <tr>\n",
       "      <th>0</th>\n",
       "      <td>Pace_home</td>\n",
       "      <td>0.017556</td>\n",
       "    </tr>\n",
       "    <tr>\n",
       "      <th>9</th>\n",
       "      <td>DRB%_home</td>\n",
       "      <td>0.017203</td>\n",
       "    </tr>\n",
       "    <tr>\n",
       "      <th>8</th>\n",
       "      <td>FTr_home</td>\n",
       "      <td>0.017108</td>\n",
       "    </tr>\n",
       "    <tr>\n",
       "      <th>23</th>\n",
       "      <td>FTr_visitor</td>\n",
       "      <td>0.016862</td>\n",
       "    </tr>\n",
       "    <tr>\n",
       "      <th>7</th>\n",
       "      <td>3PAr_home</td>\n",
       "      <td>0.016497</td>\n",
       "    </tr>\n",
       "  </tbody>\n",
       "</table>\n",
       "</div>"
      ],
      "text/plain": [
       "              cols       imp\n",
       "14       DRtg_home  0.112922\n",
       "5        ORtg_home  0.104829\n",
       "29    DRtg_visitor  0.086075\n",
       "20    ORtg_visitor  0.065750\n",
       "21     TS%_visitor  0.054443\n",
       "16    eFG%_visitor  0.053234\n",
       "1        eFG%_home  0.045317\n",
       "6         TS%_home  0.045000\n",
       "25    TRB%_visitor  0.026066\n",
       "2        TOV%_home  0.023539\n",
       "10       TRB%_home  0.023231\n",
       "11       AST%_home  0.022981\n",
       "13       BLK%_home  0.022278\n",
       "27    STL%_visitor  0.020873\n",
       "28    BLK%_visitor  0.020328\n",
       "12       STL%_home  0.019704\n",
       "15    Pace_visitor  0.019679\n",
       "26    AST%_visitor  0.019535\n",
       "22    3PAr_visitor  0.019289\n",
       "19  FT/FGA_visitor  0.019070\n",
       "18    ORB%_visitor  0.018760\n",
       "24    DRB%_visitor  0.018330\n",
       "17    TOV%_visitor  0.017903\n",
       "3        ORB%_home  0.017875\n",
       "4      FT/FGA_home  0.017764\n",
       "0        Pace_home  0.017556\n",
       "9        DRB%_home  0.017203\n",
       "8         FTr_home  0.017108\n",
       "23     FTr_visitor  0.016862\n",
       "7        3PAr_home  0.016497"
      ]
     },
     "execution_count": 100,
     "metadata": {},
     "output_type": "execute_result"
    }
   ],
   "source": [
    "fi = rf_feat_importance(model.best_estimator_, xs)\n",
    "fi"
   ]
  },
  {
   "cell_type": "markdown",
   "metadata": {},
   "source": [
    "# XGBoost"
   ]
  },
  {
   "cell_type": "code",
   "execution_count": 210,
   "metadata": {},
   "outputs": [],
   "source": [
    "import xgboost as xg"
   ]
  },
  {
   "cell_type": "code",
   "execution_count": 225,
   "metadata": {
    "scrolled": true
   },
   "outputs": [
    {
     "name": "stdout",
     "output_type": "stream",
     "text": [
      "[04:36:12] WARNING: ../src/learner.cc:1061: Starting in XGBoost 1.3.0, the default evaluation metric used with the objective 'binary:logistic' was changed from 'error' to 'logloss'. Explicitly set eval_metric if you'd like to restore the old behavior.\n"
     ]
    },
    {
     "data": {
      "text/plain": [
       "XGBClassifier(base_score=0.5, booster='gbtree', colsample_bylevel=1,\n",
       "              colsample_bynode=1, colsample_bytree=1, gamma=0, gpu_id=-1,\n",
       "              importance_type='gain', interaction_constraints='',\n",
       "              learning_rate=0.300000012, max_delta_step=0, max_depth=4,\n",
       "              min_child_weight=1, missing=nan, monotone_constraints='()',\n",
       "              n_estimators=9, n_jobs=6, num_parallel_tree=1, random_state=248,\n",
       "              reg_alpha=0, reg_lambda=0.1, scale_pos_weight=1, seed=248,\n",
       "              subsample=1, tree_method='exact', validate_parameters=1,\n",
       "              verbosity=None)"
      ]
     },
     "execution_count": 225,
     "metadata": {},
     "output_type": "execute_result"
    }
   ],
   "source": [
    "xgb_r = xg.XGBClassifier(n_estimators = 9, seed = args['random_state'],max_depth=4,reg_lambda=0.1)\n",
    "xgb_r.fit(xs,y)"
   ]
  },
  {
   "cell_type": "code",
   "execution_count": 226,
   "metadata": {
    "scrolled": true
   },
   "outputs": [
    {
     "name": "stdout",
     "output_type": "stream",
     "text": [
      "0.7063063063063063\n",
      "0.6414414414414414\n"
     ]
    }
   ],
   "source": [
    "print(accuracy_score(y,xgb_r.predict(xs)))\n",
    "print(accuracy_score(valid_y,xgb_r.predict(valid_xs)))"
   ]
  },
  {
   "cell_type": "code",
   "execution_count": 227,
   "metadata": {
    "scrolled": true
   },
   "outputs": [
    {
     "name": "stdout",
     "output_type": "stream",
     "text": [
      "game_index\n",
      "4251    1\n",
      "1978    1\n",
      "4337    1\n",
      "8305    0\n",
      "5237    1\n",
      "2211    0\n",
      "7320    0\n",
      "6820    1\n",
      "5334    1\n",
      "755     0\n",
      "Name: HOME_WIN, dtype: int8\n",
      "[1 1 1 1 1 1 1 0 1 1]\n"
     ]
    }
   ],
   "source": [
    "print(valid_y[:10])\n",
    "print(xgb_r.predict(valid_xs)[:10])"
   ]
  },
  {
   "cell_type": "markdown",
   "metadata": {},
   "source": [
    "# Neural Networks"
   ]
  },
  {
   "cell_type": "code",
   "execution_count": 228,
   "metadata": {},
   "outputs": [],
   "source": [
    "from fastai import *\n",
    "to_nn = to.copy()\n",
    "dls = to_nn.dataloaders(1024)"
   ]
  },
  {
   "cell_type": "code",
   "execution_count": 229,
   "metadata": {},
   "outputs": [
    {
     "data": {
      "text/plain": [
       "(0, 1)"
      ]
     },
     "execution_count": 229,
     "metadata": {},
     "output_type": "execute_result"
    }
   ],
   "source": [
    "y = to_nn.train.y\n",
    "y.min(),y.max()"
   ]
  },
  {
   "cell_type": "code",
   "execution_count": 230,
   "metadata": {},
   "outputs": [],
   "source": [
    "learn = tabular_learner(dls, layers=[3000,1500,1000,250], metrics=accuracy)"
   ]
  },
  {
   "cell_type": "code",
   "execution_count": 231,
   "metadata": {
    "scrolled": true
   },
   "outputs": [
    {
     "data": {
      "text/html": [],
      "text/plain": [
       "<IPython.core.display.HTML object>"
      ]
     },
     "metadata": {},
     "output_type": "display_data"
    },
    {
     "data": {
      "text/plain": [
       "SuggestedLRs(lr_min=0.0001737800776027143, lr_steep=0.43651583790779114)"
      ]
     },
     "execution_count": 231,
     "metadata": {},
     "output_type": "execute_result"
    },
    {
     "data": {
      "image/png": "[encoded data removed]",
      "text/plain": [
       "<Figure size 432x288 with 1 Axes>"
      ]
     },
     "metadata": {
      "needs_background": "light"
     },
     "output_type": "display_data"
    }
   ],
   "source": [
    "learn.lr_find()"
   ]
  },
  {
   "cell_type": "code",
   "execution_count": 232,
   "metadata": {},
   "outputs": [
    {
     "data": {
      "text/html": [
       "<table border=\"1\" class=\"dataframe\">\n",
       "  <thead>\n",
       "    <tr style=\"text-align: left;\">\n",
       "      <th>epoch</th>\n",
       "      <th>train_loss</th>\n",
       "      <th>valid_loss</th>\n",
       "      <th>accuracy</th>\n",
       "      <th>time</th>\n",
       "    </tr>\n",
       "  </thead>\n",
       "  <tbody>\n",
       "    <tr>\n",
       "      <td>0</td>\n",
       "      <td>0.661949</td>\n",
       "      <td>0.697338</td>\n",
       "      <td>0.598198</td>\n",
       "      <td>00:04</td>\n",
       "    </tr>\n",
       "    <tr>\n",
       "      <td>1</td>\n",
       "      <td>0.625572</td>\n",
       "      <td>0.681520</td>\n",
       "      <td>0.598198</td>\n",
       "      <td>00:04</td>\n",
       "    </tr>\n",
       "    <tr>\n",
       "      <td>2</td>\n",
       "      <td>0.587827</td>\n",
       "      <td>0.777778</td>\n",
       "      <td>0.598198</td>\n",
       "      <td>00:04</td>\n",
       "    </tr>\n",
       "    <tr>\n",
       "      <td>3</td>\n",
       "      <td>0.548909</td>\n",
       "      <td>0.769263</td>\n",
       "      <td>0.598198</td>\n",
       "      <td>00:03</td>\n",
       "    </tr>\n",
       "    <tr>\n",
       "      <td>4</td>\n",
       "      <td>0.516257</td>\n",
       "      <td>0.754807</td>\n",
       "      <td>0.598198</td>\n",
       "      <td>00:03</td>\n",
       "    </tr>\n",
       "  </tbody>\n",
       "</table>"
      ],
      "text/plain": [
       "<IPython.core.display.HTML object>"
      ]
     },
     "metadata": {},
     "output_type": "display_data"
    }
   ],
   "source": [
    "learn.fit_one_cycle(5,0.0007)"
   ]
  },
  {
   "cell_type": "code",
   "execution_count": 233,
   "metadata": {},
   "outputs": [
    {
     "data": {
      "image/png": "[encoded data removed]",
      "text/plain": [
       "<Figure size 432x288 with 1 Axes>"
      ]
     },
     "metadata": {
      "needs_background": "light"
     },
     "output_type": "display_data"
    }
   ],
   "source": [
    "learn.recorder.plot_loss()"
   ]
  },
  {
   "cell_type": "code",
   "execution_count": 234,
   "metadata": {
    "scrolled": true
   },
   "outputs": [
    {
     "data": {
      "text/html": [],
      "text/plain": [
       "<IPython.core.display.HTML object>"
      ]
     },
     "metadata": {},
     "output_type": "display_data"
    }
   ],
   "source": [
    "preds,targs = learn.get_preds()"
   ]
  },
  {
   "cell_type": "code",
   "execution_count": 236,
   "metadata": {},
   "outputs": [
    {
     "data": {
      "text/plain": [
       "0.5981981981981982"
      ]
     },
     "execution_count": 236,
     "metadata": {},
     "output_type": "execute_result"
    }
   ],
   "source": [
    "accuracy_score(targs,np.argmax(preds, 1))"
   ]
  },
  {
   "cell_type": "code",
   "execution_count": null,
   "metadata": {},
   "outputs": [],
   "source": []
  },
  {
   "cell_type": "code",
   "execution_count": null,
   "metadata": {},
   "outputs": [],
   "source": []
  },
  {
   "cell_type": "code",
   "execution_count": null,
   "metadata": {},
   "outputs": [],
   "source": []
  },
  {
   "cell_type": "code",
   "execution_count": null,
   "metadata": {},
   "outputs": [],
   "source": []
  },
  {
   "cell_type": "code",
   "execution_count": null,
   "metadata": {},
   "outputs": [],
   "source": [
    "## Model - team based - similar opponents as training data\n",
    "获取球队最近几场与相似对手交手时，取得的数据作为training data\n",
    "\n",
    "相似对手：\n",
    "\n",
    "1. 将ortg和drtg作为x轴y轴，几何距离最近的对手\n",
    "\n",
    "1. 用什么的ortg，drtg？所有本赛季已进行的比赛的数据？单场？"
   ]
  },
  {
   "cell_type": "code",
   "execution_count": null,
   "metadata": {},
   "outputs": [],
   "source": [
    "## Model - Player based"
   ]
  },
  {
   "cell_type": "code",
   "execution_count": null,
   "metadata": {},
   "outputs": [],
   "source": [
    "# players? -> include minutes played\n",
    "# injured players?\n",
    "# use news to guess how many minutes he will play"
   ]
  }
 ],
 "metadata": {
  "kernelspec": {
   "display_name": "Python 3",
   "language": "python",
   "name": "python3"
  },
  "language_info": {
   "codemirror_mode": {
    "name": "ipython",
    "version": 3
   },
   "file_extension": ".py",
   "mimetype": "text/x-python",
   "name": "python",
   "nbconvert_exporter": "python",
   "pygments_lexer": "ipython3",
   "version": "3.7.6"
  }
 },
 "nbformat": 4,
 "nbformat_minor": 2
}
