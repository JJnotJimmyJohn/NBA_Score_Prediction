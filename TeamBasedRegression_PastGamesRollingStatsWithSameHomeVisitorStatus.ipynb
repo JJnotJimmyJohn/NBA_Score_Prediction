{
 "cells": [
  {
   "cell_type": "code",
   "execution_count": 52,
   "metadata": {},
   "outputs": [],
   "source": [
    "import pandas as pd\n",
    "from pathlib import Path\n",
    "import time\n",
    "from tqdm.notebook import tqdm\n",
    "import numpy as np\n",
    "# import neptune\n",
    "import datetime"
   ]
  },
  {
   "cell_type": "code",
   "execution_count": 53,
   "metadata": {},
   "outputs": [],
   "source": [
    "args = {}\n",
    "args['data_folder'] = './Data'\n",
    "args['data_filename'] = 'full_data_2014to2021.pkl'\n",
    "args['summarize_n_games']= 10\n",
    "args['columns_to_summarize']=['Pace', 'eFG%', 'TOV%', 'ORB%', 'FT/FGA', 'ORtg', 'TS%', \n",
    "                              '3PAr', 'FTr', 'DRB%', 'TRB%', 'AST%', 'STL%', 'BLK%', 'DRtg']\n",
    "args['summarize_method']='mean'\n",
    "args['columns_order'] = ['DATE', 'VISITOR', 'VISITOR_PTS', 'HOME', 'HOME_PTS', 'boxscores_url',\n",
    "                         'game_id', 'Pace_home', 'eFG%_home', 'TOV%_home', 'ORB%_home',\n",
    "                         'FT/FGA_home', 'ORtg_home', 'TS%_home', '3PAr_home', 'FTr_home', \n",
    "                         'DRB%_home', 'TRB%_home','AST%_home', 'STL%_home', 'BLK%_home', 'DRtg_home',\n",
    "                         'Pace_visitor', 'eFG%_visitor','TOV%_visitor', 'ORB%_visitor', \n",
    "                         'FT/FGA_visitor', 'ORtg_visitor','TS%_visitor',\n",
    "                         '3PAr_visitor', 'FTr_visitor', 'DRB%_visitor', 'TRB%_visitor',\n",
    "                         'AST%_visitor', 'STL%_visitor', 'BLK%_visitor', 'DRtg_visitor',\n",
    "                         'season', 'season_nth_game', 'hometeam_nth_homegame','visitorteam_nth_visitorgame',\n",
    "                         'TOTAL_PTS', 'HOME_VISITOR_PTS_DIFF', 'HOME_WIN']\n",
    "args['home_columns_to_summarize']=[column + '_'+'home' for column in args['columns_to_summarize']]\n",
    "args['visitor_columns_to_summarize']=[column + '_'+'visitor' for column in args['columns_to_summarize']]\n",
    "args['processed_dataset_filename']= \"ProcessedDataset_TeamBasis_mean_Past10Games_SameHomeVisitorStatus_2021-02-21.pkl\"\n",
    "\n",
    "args['random_state']=248 # RIP Kobe"
   ]
  },
  {
   "cell_type": "code",
   "execution_count": 54,
   "metadata": {},
   "outputs": [],
   "source": [
    "data_folder = Path(args['data_folder'])\n",
    "assert data_folder.exists()"
   ]
  },
  {
   "cell_type": "markdown",
   "metadata": {},
   "source": [
    "# Read Raw Data"
   ]
  },
  {
   "cell_type": "code",
   "execution_count": 5,
   "metadata": {},
   "outputs": [
    {
     "data": {
      "text/html": [
       "<div>\n",
       "<style scoped>\n",
       "    .dataframe tbody tr th:only-of-type {\n",
       "        vertical-align: middle;\n",
       "    }\n",
       "\n",
       "    .dataframe tbody tr th {\n",
       "        vertical-align: top;\n",
       "    }\n",
       "\n",
       "    .dataframe thead th {\n",
       "        text-align: right;\n",
       "    }\n",
       "</style>\n",
       "<table border=\"1\" class=\"dataframe\">\n",
       "  <thead>\n",
       "    <tr style=\"text-align: right;\">\n",
       "      <th></th>\n",
       "      <th>DATE</th>\n",
       "      <th>VISITOR</th>\n",
       "      <th>VISITOR_PTS</th>\n",
       "      <th>HOME</th>\n",
       "      <th>HOME_PTS</th>\n",
       "      <th>boxscores_url</th>\n",
       "      <th>game_id</th>\n",
       "      <th>Pace_home</th>\n",
       "      <th>eFG%_home</th>\n",
       "      <th>TOV%_home</th>\n",
       "      <th>...</th>\n",
       "      <th>DRB%_visitor</th>\n",
       "      <th>TRB%_visitor</th>\n",
       "      <th>AST%_visitor</th>\n",
       "      <th>STL%_visitor</th>\n",
       "      <th>BLK%_visitor</th>\n",
       "      <th>DRtg_visitor</th>\n",
       "      <th>season</th>\n",
       "      <th>season_nth_game</th>\n",
       "      <th>hometeam_nth_homegame</th>\n",
       "      <th>visitorteam_nth_visitorgame</th>\n",
       "    </tr>\n",
       "  </thead>\n",
       "  <tbody>\n",
       "    <tr>\n",
       "      <th>0</th>\n",
       "      <td>2013-10-29</td>\n",
       "      <td>ORL</td>\n",
       "      <td>87</td>\n",
       "      <td>IND</td>\n",
       "      <td>97</td>\n",
       "      <td>https://www.basketball-reference.com/boxscores...</td>\n",
       "      <td>201310290IND</td>\n",
       "      <td>95.0</td>\n",
       "      <td>0.528</td>\n",
       "      <td>19.0</td>\n",
       "      <td>...</td>\n",
       "      <td>72.2</td>\n",
       "      <td>47.0</td>\n",
       "      <td>47.2</td>\n",
       "      <td>10.5</td>\n",
       "      <td>11.1</td>\n",
       "      <td>102.1</td>\n",
       "      <td>2014-2015</td>\n",
       "      <td>1</td>\n",
       "      <td>1</td>\n",
       "      <td>1</td>\n",
       "    </tr>\n",
       "    <tr>\n",
       "      <th>1</th>\n",
       "      <td>2013-10-29</td>\n",
       "      <td>CHI</td>\n",
       "      <td>95</td>\n",
       "      <td>MIA</td>\n",
       "      <td>107</td>\n",
       "      <td>https://www.basketball-reference.com/boxscores...</td>\n",
       "      <td>201310290MIA</td>\n",
       "      <td>97.1</td>\n",
       "      <td>0.590</td>\n",
       "      <td>17.5</td>\n",
       "      <td>...</td>\n",
       "      <td>85.7</td>\n",
       "      <td>50.6</td>\n",
       "      <td>65.7</td>\n",
       "      <td>11.3</td>\n",
       "      <td>7.7</td>\n",
       "      <td>110.2</td>\n",
       "      <td>2014-2015</td>\n",
       "      <td>2</td>\n",
       "      <td>1</td>\n",
       "      <td>1</td>\n",
       "    </tr>\n",
       "    <tr>\n",
       "      <th>2</th>\n",
       "      <td>2013-10-29</td>\n",
       "      <td>LAC</td>\n",
       "      <td>103</td>\n",
       "      <td>LAL</td>\n",
       "      <td>116</td>\n",
       "      <td>https://www.basketball-reference.com/boxscores...</td>\n",
       "      <td>201310290LAL</td>\n",
       "      <td>100.4</td>\n",
       "      <td>0.527</td>\n",
       "      <td>15.3</td>\n",
       "      <td>...</td>\n",
       "      <td>62.5</td>\n",
       "      <td>43.5</td>\n",
       "      <td>65.9</td>\n",
       "      <td>11.0</td>\n",
       "      <td>6.3</td>\n",
       "      <td>115.6</td>\n",
       "      <td>2014-2015</td>\n",
       "      <td>3</td>\n",
       "      <td>1</td>\n",
       "      <td>1</td>\n",
       "    </tr>\n",
       "    <tr>\n",
       "      <th>3</th>\n",
       "      <td>2013-10-30</td>\n",
       "      <td>BRK</td>\n",
       "      <td>94</td>\n",
       "      <td>CLE</td>\n",
       "      <td>98</td>\n",
       "      <td>https://www.basketball-reference.com/boxscores...</td>\n",
       "      <td>201310300CLE</td>\n",
       "      <td>92.3</td>\n",
       "      <td>0.446</td>\n",
       "      <td>10.0</td>\n",
       "      <td>...</td>\n",
       "      <td>63.6</td>\n",
       "      <td>43.5</td>\n",
       "      <td>72.7</td>\n",
       "      <td>8.7</td>\n",
       "      <td>11.6</td>\n",
       "      <td>106.2</td>\n",
       "      <td>2014-2015</td>\n",
       "      <td>4</td>\n",
       "      <td>1</td>\n",
       "      <td>1</td>\n",
       "    </tr>\n",
       "    <tr>\n",
       "      <th>4</th>\n",
       "      <td>2013-10-30</td>\n",
       "      <td>BOS</td>\n",
       "      <td>87</td>\n",
       "      <td>TOR</td>\n",
       "      <td>93</td>\n",
       "      <td>https://www.basketball-reference.com/boxscores...</td>\n",
       "      <td>201310300TOR</td>\n",
       "      <td>91.5</td>\n",
       "      <td>0.471</td>\n",
       "      <td>15.0</td>\n",
       "      <td>...</td>\n",
       "      <td>57.8</td>\n",
       "      <td>40.7</td>\n",
       "      <td>46.9</td>\n",
       "      <td>10.9</td>\n",
       "      <td>10.1</td>\n",
       "      <td>101.6</td>\n",
       "      <td>2014-2015</td>\n",
       "      <td>5</td>\n",
       "      <td>1</td>\n",
       "      <td>1</td>\n",
       "    </tr>\n",
       "  </tbody>\n",
       "</table>\n",
       "<p>5 rows × 41 columns</p>\n",
       "</div>"
      ],
      "text/plain": [
       "        DATE VISITOR VISITOR_PTS HOME HOME_PTS  \\\n",
       "0 2013-10-29     ORL          87  IND       97   \n",
       "1 2013-10-29     CHI          95  MIA      107   \n",
       "2 2013-10-29     LAC         103  LAL      116   \n",
       "3 2013-10-30     BRK          94  CLE       98   \n",
       "4 2013-10-30     BOS          87  TOR       93   \n",
       "\n",
       "                                       boxscores_url       game_id  Pace_home  \\\n",
       "0  https://www.basketball-reference.com/boxscores...  201310290IND       95.0   \n",
       "1  https://www.basketball-reference.com/boxscores...  201310290MIA       97.1   \n",
       "2  https://www.basketball-reference.com/boxscores...  201310290LAL      100.4   \n",
       "3  https://www.basketball-reference.com/boxscores...  201310300CLE       92.3   \n",
       "4  https://www.basketball-reference.com/boxscores...  201310300TOR       91.5   \n",
       "\n",
       "   eFG%_home  TOV%_home  ...  DRB%_visitor  TRB%_visitor  AST%_visitor  \\\n",
       "0      0.528       19.0  ...          72.2          47.0          47.2   \n",
       "1      0.590       17.5  ...          85.7          50.6          65.7   \n",
       "2      0.527       15.3  ...          62.5          43.5          65.9   \n",
       "3      0.446       10.0  ...          63.6          43.5          72.7   \n",
       "4      0.471       15.0  ...          57.8          40.7          46.9   \n",
       "\n",
       "   STL%_visitor  BLK%_visitor  DRtg_visitor     season  season_nth_game  \\\n",
       "0          10.5          11.1         102.1  2014-2015                1   \n",
       "1          11.3           7.7         110.2  2014-2015                2   \n",
       "2          11.0           6.3         115.6  2014-2015                3   \n",
       "3           8.7          11.6         106.2  2014-2015                4   \n",
       "4          10.9          10.1         101.6  2014-2015                5   \n",
       "\n",
       "   hometeam_nth_homegame visitorteam_nth_visitorgame  \n",
       "0                      1                           1  \n",
       "1                      1                           1  \n",
       "2                      1                           1  \n",
       "3                      1                           1  \n",
       "4                      1                           1  \n",
       "\n",
       "[5 rows x 41 columns]"
      ]
     },
     "execution_count": 5,
     "metadata": {},
     "output_type": "execute_result"
    }
   ],
   "source": [
    "dataset_df = pd.read_pickle(data_folder/args['data_filename'])\n",
    "dataset_df.head()"
   ]
  },
  {
   "cell_type": "code",
   "execution_count": 6,
   "metadata": {},
   "outputs": [],
   "source": [
    "# convert string columns to numeric columns\n",
    "for column in ['VISITOR_PTS','HOME_PTS']:\n",
    "    dataset_df[column] = pd.to_numeric(dataset_df[column])"
   ]
  },
  {
   "cell_type": "code",
   "execution_count": 7,
   "metadata": {
    "collapsed": true
   },
   "outputs": [
    {
     "data": {
      "text/plain": [
       "['Pace_home',\n",
       " 'Pace_visitor',\n",
       " 'eFG%_home',\n",
       " 'eFG%_visitor',\n",
       " 'TOV%_home',\n",
       " 'TOV%_visitor',\n",
       " 'ORB%_home',\n",
       " 'ORB%_visitor',\n",
       " 'FT/FGA_home',\n",
       " 'FT/FGA_visitor',\n",
       " 'ORtg_home',\n",
       " 'ORtg_visitor',\n",
       " 'TS%_home',\n",
       " 'TS%_visitor',\n",
       " '3PAr_home',\n",
       " '3PAr_visitor',\n",
       " 'FTr_home',\n",
       " 'FTr_visitor',\n",
       " 'DRB%_home',\n",
       " 'DRB%_visitor',\n",
       " 'TRB%_home',\n",
       " 'TRB%_visitor',\n",
       " 'AST%_home',\n",
       " 'AST%_visitor',\n",
       " 'STL%_home',\n",
       " 'STL%_visitor',\n",
       " 'BLK%_home',\n",
       " 'BLK%_visitor',\n",
       " 'DRtg_home',\n",
       " 'DRtg_visitor']"
      ]
     },
     "execution_count": 7,
     "metadata": {},
     "output_type": "execute_result"
    }
   ],
   "source": [
    "numeric_col=[]\n",
    "for col_name in args['columns_to_summarize']:\n",
    "    numeric_col.append(col_name+'_home')\n",
    "    numeric_col.append(col_name+'_visitor')\n",
    "numeric_col"
   ]
  },
  {
   "cell_type": "code",
   "execution_count": 8,
   "metadata": {},
   "outputs": [],
   "source": [
    "dataset_df[numeric_col] = dataset_df[numeric_col].astype('float')"
   ]
  },
  {
   "cell_type": "code",
   "execution_count": 51,
   "metadata": {
    "scrolled": true
   },
   "outputs": [
    {
     "ename": "NameError",
     "evalue": "name 'dataset_df' is not defined",
     "output_type": "error",
     "traceback": [
      "\u001b[0;31m---------------------------------------------------------------------------\u001b[0m",
      "\u001b[0;31mNameError\u001b[0m                                 Traceback (most recent call last)",
      "\u001b[0;32m<ipython-input-51-50a53e029f7d>\u001b[0m in \u001b[0;36m<module>\u001b[0;34m\u001b[0m\n\u001b[0;32m----> 1\u001b[0;31m \u001b[0mdataset_df\u001b[0m\u001b[0;34m.\u001b[0m\u001b[0minfo\u001b[0m\u001b[0;34m(\u001b[0m\u001b[0;34m)\u001b[0m\u001b[0;34m\u001b[0m\u001b[0;34m\u001b[0m\u001b[0m\n\u001b[0m",
      "\u001b[0;31mNameError\u001b[0m: name 'dataset_df' is not defined"
     ]
    }
   ],
   "source": [
    "dataset_df.info()"
   ]
  },
  {
   "cell_type": "code",
   "execution_count": 10,
   "metadata": {
    "scrolled": true
   },
   "outputs": [
    {
     "data": {
      "text/plain": [
       "Index(['DATE', 'VISITOR', 'VISITOR_PTS', 'HOME', 'HOME_PTS', 'boxscores_url',\n",
       "       'game_id', 'Pace_home', 'eFG%_home', 'TOV%_home', 'ORB%_home',\n",
       "       'FT/FGA_home', 'ORtg_home', 'Pace_visitor', 'eFG%_visitor',\n",
       "       'TOV%_visitor', 'ORB%_visitor', 'FT/FGA_visitor', 'ORtg_visitor',\n",
       "       'TS%_home', '3PAr_home', 'FTr_home', 'DRB%_home', 'TRB%_home',\n",
       "       'AST%_home', 'STL%_home', 'BLK%_home', 'DRtg_home', 'TS%_visitor',\n",
       "       '3PAr_visitor', 'FTr_visitor', 'DRB%_visitor', 'TRB%_visitor',\n",
       "       'AST%_visitor', 'STL%_visitor', 'BLK%_visitor', 'DRtg_visitor',\n",
       "       'season', 'season_nth_game', 'hometeam_nth_homegame',\n",
       "       'visitorteam_nth_visitorgame'],\n",
       "      dtype='object')"
      ]
     },
     "execution_count": 10,
     "metadata": {},
     "output_type": "execute_result"
    }
   ],
   "source": [
    "dataset_df.columns"
   ]
  },
  {
   "cell_type": "code",
   "execution_count": 11,
   "metadata": {},
   "outputs": [],
   "source": [
    "dataset_df['TOTAL_PTS'] = dataset_df['VISITOR_PTS']+dataset_df['HOME_PTS']\n",
    "dataset_df['HOME_VISITOR_PTS_DIFF'] = dataset_df['HOME_PTS']-dataset_df['VISITOR_PTS']\n",
    "dataset_df['HOME_WIN'] = (dataset_df['HOME_VISITOR_PTS_DIFF']>0)"
   ]
  },
  {
   "cell_type": "code",
   "execution_count": 14,
   "metadata": {},
   "outputs": [],
   "source": [
    "dataset_df = dataset_df[args['columns_order']]"
   ]
  },
  {
   "cell_type": "raw",
   "metadata": {},
   "source": [
    "dataset_df.to_excel(data_folder/'dataset.xlsx',index=False)"
   ]
  },
  {
   "cell_type": "markdown",
   "metadata": {},
   "source": [
    "# Data Processing"
   ]
  },
  {
   "cell_type": "code",
   "execution_count": null,
   "metadata": {},
   "outputs": [],
   "source": [
    "# get most recent x games data as training data\n",
    "# test on 2021 data\n",
    "    # sort by dates\n",
    "    # iterate rows\n",
    "    # get current index\n",
    "    # from current index, go backwards index until found previous X games\n",
    "        # if out of index before fetching X games, stop and continue (give up predicting this game)\n",
    "    # if HOME or VISITOR equals to current row HOME, then get that row\n",
    "    # save into a dictionary, key is game_id\n",
    "    # transform as data frame, and join with the full data\n",
    "# average\n",
    "# 2 teams, concatenate to the same row\n",
    "# predict"
   ]
  },
  {
   "cell_type": "code",
   "execution_count": null,
   "metadata": {},
   "outputs": [],
   "source": [
    "dataset['season']"
   ]
  },
  {
   "cell_type": "code",
   "execution_count": 73,
   "metadata": {},
   "outputs": [
    {
     "name": "stdout",
     "output_type": "stream",
     "text": [
      "(6587, 15)\n"
     ]
    },
    {
     "data": {
      "text/html": [
       "<div>\n",
       "<style scoped>\n",
       "    .dataframe tbody tr th:only-of-type {\n",
       "        vertical-align: middle;\n",
       "    }\n",
       "\n",
       "    .dataframe tbody tr th {\n",
       "        vertical-align: top;\n",
       "    }\n",
       "\n",
       "    .dataframe thead th {\n",
       "        text-align: right;\n",
       "    }\n",
       "</style>\n",
       "<table border=\"1\" class=\"dataframe\">\n",
       "  <thead>\n",
       "    <tr style=\"text-align: right;\">\n",
       "      <th></th>\n",
       "      <th>Pace_visitor</th>\n",
       "      <th>eFG%_visitor</th>\n",
       "      <th>TOV%_visitor</th>\n",
       "      <th>ORB%_visitor</th>\n",
       "      <th>FT/FGA_visitor</th>\n",
       "      <th>ORtg_visitor</th>\n",
       "      <th>TS%_visitor</th>\n",
       "      <th>3PAr_visitor</th>\n",
       "      <th>FTr_visitor</th>\n",
       "      <th>DRB%_visitor</th>\n",
       "      <th>TRB%_visitor</th>\n",
       "      <th>AST%_visitor</th>\n",
       "      <th>STL%_visitor</th>\n",
       "      <th>BLK%_visitor</th>\n",
       "      <th>DRtg_visitor</th>\n",
       "    </tr>\n",
       "    <tr>\n",
       "      <th>game_index</th>\n",
       "      <th></th>\n",
       "      <th></th>\n",
       "      <th></th>\n",
       "      <th></th>\n",
       "      <th></th>\n",
       "      <th></th>\n",
       "      <th></th>\n",
       "      <th></th>\n",
       "      <th></th>\n",
       "      <th></th>\n",
       "      <th></th>\n",
       "      <th></th>\n",
       "      <th></th>\n",
       "      <th></th>\n",
       "      <th></th>\n",
       "    </tr>\n",
       "  </thead>\n",
       "  <tbody>\n",
       "    <tr>\n",
       "      <th>240</th>\n",
       "      <td>95.05</td>\n",
       "      <td>0.5100</td>\n",
       "      <td>13.20</td>\n",
       "      <td>19.35</td>\n",
       "      <td>0.1660</td>\n",
       "      <td>105.70</td>\n",
       "      <td>0.5460</td>\n",
       "      <td>0.2795</td>\n",
       "      <td>0.2680</td>\n",
       "      <td>76.60</td>\n",
       "      <td>48.75</td>\n",
       "      <td>66.15</td>\n",
       "      <td>9.4</td>\n",
       "      <td>7.25</td>\n",
       "      <td>108.30</td>\n",
       "    </tr>\n",
       "    <tr>\n",
       "      <th>257</th>\n",
       "      <td>94.25</td>\n",
       "      <td>0.4975</td>\n",
       "      <td>13.05</td>\n",
       "      <td>20.80</td>\n",
       "      <td>0.1625</td>\n",
       "      <td>104.50</td>\n",
       "      <td>0.5345</td>\n",
       "      <td>0.2795</td>\n",
       "      <td>0.2325</td>\n",
       "      <td>76.40</td>\n",
       "      <td>48.75</td>\n",
       "      <td>65.30</td>\n",
       "      <td>9.4</td>\n",
       "      <td>5.85</td>\n",
       "      <td>107.15</td>\n",
       "    </tr>\n",
       "    <tr>\n",
       "      <th>343</th>\n",
       "      <td>94.05</td>\n",
       "      <td>0.5100</td>\n",
       "      <td>13.20</td>\n",
       "      <td>21.60</td>\n",
       "      <td>0.1660</td>\n",
       "      <td>107.65</td>\n",
       "      <td>0.5460</td>\n",
       "      <td>0.2875</td>\n",
       "      <td>0.2105</td>\n",
       "      <td>76.20</td>\n",
       "      <td>49.25</td>\n",
       "      <td>60.30</td>\n",
       "      <td>9.4</td>\n",
       "      <td>5.85</td>\n",
       "      <td>109.15</td>\n",
       "    </tr>\n",
       "    <tr>\n",
       "      <th>409</th>\n",
       "      <td>93.15</td>\n",
       "      <td>0.5100</td>\n",
       "      <td>14.00</td>\n",
       "      <td>21.60</td>\n",
       "      <td>0.1625</td>\n",
       "      <td>107.65</td>\n",
       "      <td>0.5460</td>\n",
       "      <td>0.3080</td>\n",
       "      <td>0.2060</td>\n",
       "      <td>76.20</td>\n",
       "      <td>50.55</td>\n",
       "      <td>60.30</td>\n",
       "      <td>8.8</td>\n",
       "      <td>5.75</td>\n",
       "      <td>110.85</td>\n",
       "    </tr>\n",
       "    <tr>\n",
       "      <th>421</th>\n",
       "      <td>93.15</td>\n",
       "      <td>0.5230</td>\n",
       "      <td>15.05</td>\n",
       "      <td>21.60</td>\n",
       "      <td>0.1625</td>\n",
       "      <td>107.45</td>\n",
       "      <td>0.5580</td>\n",
       "      <td>0.3235</td>\n",
       "      <td>0.2060</td>\n",
       "      <td>75.25</td>\n",
       "      <td>49.45</td>\n",
       "      <td>59.85</td>\n",
       "      <td>8.8</td>\n",
       "      <td>5.75</td>\n",
       "      <td>109.15</td>\n",
       "    </tr>\n",
       "  </tbody>\n",
       "</table>\n",
       "</div>"
      ],
      "text/plain": [
       "            Pace_visitor  eFG%_visitor  TOV%_visitor  ORB%_visitor  \\\n",
       "game_index                                                           \n",
       "240                95.05        0.5100         13.20         19.35   \n",
       "257                94.25        0.4975         13.05         20.80   \n",
       "343                94.05        0.5100         13.20         21.60   \n",
       "409                93.15        0.5100         14.00         21.60   \n",
       "421                93.15        0.5230         15.05         21.60   \n",
       "\n",
       "            FT/FGA_visitor  ORtg_visitor  TS%_visitor  3PAr_visitor  \\\n",
       "game_index                                                            \n",
       "240                 0.1660        105.70       0.5460        0.2795   \n",
       "257                 0.1625        104.50       0.5345        0.2795   \n",
       "343                 0.1660        107.65       0.5460        0.2875   \n",
       "409                 0.1625        107.65       0.5460        0.3080   \n",
       "421                 0.1625        107.45       0.5580        0.3235   \n",
       "\n",
       "            FTr_visitor  DRB%_visitor  TRB%_visitor  AST%_visitor  \\\n",
       "game_index                                                          \n",
       "240              0.2680         76.60         48.75         66.15   \n",
       "257              0.2325         76.40         48.75         65.30   \n",
       "343              0.2105         76.20         49.25         60.30   \n",
       "409              0.2060         76.20         50.55         60.30   \n",
       "421              0.2060         75.25         49.45         59.85   \n",
       "\n",
       "            STL%_visitor  BLK%_visitor  DRtg_visitor  \n",
       "game_index                                            \n",
       "240                  9.4          7.25        108.30  \n",
       "257                  9.4          5.85        107.15  \n",
       "343                  9.4          5.85        109.15  \n",
       "409                  8.8          5.75        110.85  \n",
       "421                  8.8          5.75        109.15  "
      ]
     },
     "execution_count": 73,
     "metadata": {},
     "output_type": "execute_result"
    }
   ],
   "source": [
    "# shift games downward by 1 row, so when calculating rolling 10 games, game to predict is not included\n",
    "shifted=pd.merge(dataset_df[['DATE','HOME','game_id','season']],dataset_df.groupby(['season','HOME']).shift(1).dropna(how='any')[args['home_columns_to_summarize']],left_index=True,right_index=True)\n",
    "home_summarized = shifted.rename_axis(index='game_index').sort_values(by='DATE').groupby(['season','HOME']).rolling(args['summarize_n_games']).mean().dropna(how='all')[args['home_columns_to_summarize']].droplevel(level=[0,1])\n",
    "print(home_summarized.shape)\n",
    "home_summarized.head()"
   ]
  },
  {
   "cell_type": "code",
   "execution_count": null,
   "metadata": {},
   "outputs": [],
   "source": [
    "shifted=pd.merge(dataset_df[['DATE','VISITOR','game_id','season']],dataset_df.groupby(['season','VISITOR']).shift(1).dropna(how='any')[args['visitor_columns_to_summarize']],left_index=True,right_index=True)\n",
    "visitor_summarized = shifted.rename_axis(index='game_index').sort_values(by='DATE').groupby(['season','VISITOR']).rolling(args['summarize_n_games']).mean().dropna(how='all')[args['visitor_columns_to_summarize']].droplevel(level=[0,1])\n",
    "print(visitor_summarized.shape)\n",
    "visitor_summarized.head()"
   ]
  },
  {
   "cell_type": "code",
   "execution_count": 74,
   "metadata": {},
   "outputs": [
    {
     "data": {
      "text/html": [
       "<div>\n",
       "<style scoped>\n",
       "    .dataframe tbody tr th:only-of-type {\n",
       "        vertical-align: middle;\n",
       "    }\n",
       "\n",
       "    .dataframe tbody tr th {\n",
       "        vertical-align: top;\n",
       "    }\n",
       "\n",
       "    .dataframe thead th {\n",
       "        text-align: right;\n",
       "    }\n",
       "</style>\n",
       "<table border=\"1\" class=\"dataframe\">\n",
       "  <thead>\n",
       "    <tr style=\"text-align: right;\">\n",
       "      <th></th>\n",
       "      <th>DATE</th>\n",
       "      <th>VISITOR</th>\n",
       "      <th>VISITOR_PTS</th>\n",
       "      <th>HOME</th>\n",
       "      <th>HOME_PTS</th>\n",
       "      <th>boxscores_url</th>\n",
       "      <th>game_id</th>\n",
       "      <th>Pace_home</th>\n",
       "      <th>eFG%_home</th>\n",
       "      <th>TOV%_home</th>\n",
       "      <th>...</th>\n",
       "      <th>FTr_visitor</th>\n",
       "      <th>DRB%_visitor</th>\n",
       "      <th>TRB%_visitor</th>\n",
       "      <th>AST%_visitor</th>\n",
       "      <th>STL%_visitor</th>\n",
       "      <th>BLK%_visitor</th>\n",
       "      <th>DRtg_visitor</th>\n",
       "      <th>TOTAL_PTS</th>\n",
       "      <th>HOME_VISITOR_PTS_DIFF</th>\n",
       "      <th>HOME_WIN</th>\n",
       "    </tr>\n",
       "    <tr>\n",
       "      <th>game_index</th>\n",
       "      <th></th>\n",
       "      <th></th>\n",
       "      <th></th>\n",
       "      <th></th>\n",
       "      <th></th>\n",
       "      <th></th>\n",
       "      <th></th>\n",
       "      <th></th>\n",
       "      <th></th>\n",
       "      <th></th>\n",
       "      <th></th>\n",
       "      <th></th>\n",
       "      <th></th>\n",
       "      <th></th>\n",
       "      <th></th>\n",
       "      <th></th>\n",
       "      <th></th>\n",
       "      <th></th>\n",
       "      <th></th>\n",
       "      <th></th>\n",
       "      <th></th>\n",
       "    </tr>\n",
       "  </thead>\n",
       "  <tbody>\n",
       "    <tr>\n",
       "      <th>233</th>\n",
       "      <td>2013-11-29</td>\n",
       "      <td>BRK</td>\n",
       "      <td>95.0</td>\n",
       "      <td>HOU</td>\n",
       "      <td>114.0</td>\n",
       "      <td>https://www.basketball-reference.com/boxscores...</td>\n",
       "      <td>201311290HOU</td>\n",
       "      <td>95.35</td>\n",
       "      <td>0.5515</td>\n",
       "      <td>16.95</td>\n",
       "      <td>...</td>\n",
       "      <td>0.3110</td>\n",
       "      <td>73.10</td>\n",
       "      <td>50.50</td>\n",
       "      <td>64.5</td>\n",
       "      <td>7.70</td>\n",
       "      <td>7.25</td>\n",
       "      <td>111.05</td>\n",
       "      <td>209.0</td>\n",
       "      <td>19.0</td>\n",
       "      <td>True</td>\n",
       "    </tr>\n",
       "    <tr>\n",
       "      <th>251</th>\n",
       "      <td>2013-12-01</td>\n",
       "      <td>GSW</td>\n",
       "      <td>115.0</td>\n",
       "      <td>SAC</td>\n",
       "      <td>113.0</td>\n",
       "      <td>https://www.basketball-reference.com/boxscores...</td>\n",
       "      <td>201312010SAC</td>\n",
       "      <td>92.15</td>\n",
       "      <td>0.4910</td>\n",
       "      <td>13.45</td>\n",
       "      <td>...</td>\n",
       "      <td>0.2865</td>\n",
       "      <td>77.90</td>\n",
       "      <td>51.30</td>\n",
       "      <td>55.0</td>\n",
       "      <td>8.45</td>\n",
       "      <td>8.45</td>\n",
       "      <td>105.70</td>\n",
       "      <td>228.0</td>\n",
       "      <td>-2.0</td>\n",
       "      <td>False</td>\n",
       "    </tr>\n",
       "    <tr>\n",
       "      <th>254</th>\n",
       "      <td>2013-12-01</td>\n",
       "      <td>POR</td>\n",
       "      <td>114.0</td>\n",
       "      <td>LAL</td>\n",
       "      <td>108.0</td>\n",
       "      <td>https://www.basketball-reference.com/boxscores...</td>\n",
       "      <td>201312010LAL</td>\n",
       "      <td>95.60</td>\n",
       "      <td>0.5115</td>\n",
       "      <td>11.80</td>\n",
       "      <td>...</td>\n",
       "      <td>0.2720</td>\n",
       "      <td>72.15</td>\n",
       "      <td>52.55</td>\n",
       "      <td>57.2</td>\n",
       "      <td>5.95</td>\n",
       "      <td>6.55</td>\n",
       "      <td>104.25</td>\n",
       "      <td>222.0</td>\n",
       "      <td>-6.0</td>\n",
       "      <td>False</td>\n",
       "    </tr>\n",
       "    <tr>\n",
       "      <th>270</th>\n",
       "      <td>2013-12-04</td>\n",
       "      <td>PHO</td>\n",
       "      <td>97.0</td>\n",
       "      <td>HOU</td>\n",
       "      <td>88.0</td>\n",
       "      <td>https://www.basketball-reference.com/boxscores...</td>\n",
       "      <td>201312040HOU</td>\n",
       "      <td>95.35</td>\n",
       "      <td>0.5515</td>\n",
       "      <td>17.35</td>\n",
       "      <td>...</td>\n",
       "      <td>0.2615</td>\n",
       "      <td>72.40</td>\n",
       "      <td>49.70</td>\n",
       "      <td>52.9</td>\n",
       "      <td>8.80</td>\n",
       "      <td>7.15</td>\n",
       "      <td>103.00</td>\n",
       "      <td>185.0</td>\n",
       "      <td>-9.0</td>\n",
       "      <td>False</td>\n",
       "    </tr>\n",
       "    <tr>\n",
       "      <th>273</th>\n",
       "      <td>2013-12-04</td>\n",
       "      <td>IND</td>\n",
       "      <td>95.0</td>\n",
       "      <td>UTA</td>\n",
       "      <td>86.0</td>\n",
       "      <td>https://www.basketball-reference.com/boxscores...</td>\n",
       "      <td>201312040UTA</td>\n",
       "      <td>89.95</td>\n",
       "      <td>0.4410</td>\n",
       "      <td>13.80</td>\n",
       "      <td>...</td>\n",
       "      <td>0.3035</td>\n",
       "      <td>75.75</td>\n",
       "      <td>51.45</td>\n",
       "      <td>62.9</td>\n",
       "      <td>7.35</td>\n",
       "      <td>5.90</td>\n",
       "      <td>98.10</td>\n",
       "      <td>181.0</td>\n",
       "      <td>-9.0</td>\n",
       "      <td>False</td>\n",
       "    </tr>\n",
       "  </tbody>\n",
       "</table>\n",
       "<p>5 rows × 40 columns</p>\n",
       "</div>"
      ],
      "text/plain": [
       "                 DATE VISITOR  VISITOR_PTS HOME  HOME_PTS  \\\n",
       "game_index                                                  \n",
       "233        2013-11-29     BRK         95.0  HOU     114.0   \n",
       "251        2013-12-01     GSW        115.0  SAC     113.0   \n",
       "254        2013-12-01     POR        114.0  LAL     108.0   \n",
       "270        2013-12-04     PHO         97.0  HOU      88.0   \n",
       "273        2013-12-04     IND         95.0  UTA      86.0   \n",
       "\n",
       "                                                boxscores_url       game_id  \\\n",
       "game_index                                                                    \n",
       "233         https://www.basketball-reference.com/boxscores...  201311290HOU   \n",
       "251         https://www.basketball-reference.com/boxscores...  201312010SAC   \n",
       "254         https://www.basketball-reference.com/boxscores...  201312010LAL   \n",
       "270         https://www.basketball-reference.com/boxscores...  201312040HOU   \n",
       "273         https://www.basketball-reference.com/boxscores...  201312040UTA   \n",
       "\n",
       "            Pace_home  eFG%_home  TOV%_home  ...  FTr_visitor  DRB%_visitor  \\\n",
       "game_index                                   ...                              \n",
       "233             95.35     0.5515      16.95  ...       0.3110         73.10   \n",
       "251             92.15     0.4910      13.45  ...       0.2865         77.90   \n",
       "254             95.60     0.5115      11.80  ...       0.2720         72.15   \n",
       "270             95.35     0.5515      17.35  ...       0.2615         72.40   \n",
       "273             89.95     0.4410      13.80  ...       0.3035         75.75   \n",
       "\n",
       "            TRB%_visitor  AST%_visitor  STL%_visitor  BLK%_visitor  \\\n",
       "game_index                                                           \n",
       "233                50.50          64.5          7.70          7.25   \n",
       "251                51.30          55.0          8.45          8.45   \n",
       "254                52.55          57.2          5.95          6.55   \n",
       "270                49.70          52.9          8.80          7.15   \n",
       "273                51.45          62.9          7.35          5.90   \n",
       "\n",
       "            DRtg_visitor  TOTAL_PTS  HOME_VISITOR_PTS_DIFF  HOME_WIN  \n",
       "game_index                                                            \n",
       "233               111.05      209.0                   19.0      True  \n",
       "251               105.70      228.0                   -2.0     False  \n",
       "254               104.25      222.0                   -6.0     False  \n",
       "270               103.00      185.0                   -9.0     False  \n",
       "273                98.10      181.0                   -9.0     False  \n",
       "\n",
       "[5 rows x 40 columns]"
      ]
     },
     "execution_count": 74,
     "metadata": {},
     "output_type": "execute_result"
    }
   ],
   "source": [
    "processed_dataset=pd.concat([dataset_df.rename_axis('game_index')[['DATE','VISITOR', 'VISITOR_PTS', 'HOME', 'HOME_PTS', 'boxscores_url','game_id']],\n",
    "          home_summarized,\n",
    "          visitor_summarized],join='inner',axis=1)\n",
    "processed_dataset['TOTAL_PTS'] = processed_dataset['VISITOR_PTS']+processed_dataset['HOME_PTS']\n",
    "processed_dataset['HOME_VISITOR_PTS_DIFF'] = processed_dataset['HOME_PTS']-processed_dataset['VISITOR_PTS']\n",
    "processed_dataset['HOME_WIN'] = (processed_dataset['HOME_VISITOR_PTS_DIFF']>0)\n",
    "processed_dataset.head()"
   ]
  },
  {
   "cell_type": "code",
   "execution_count": 77,
   "metadata": {},
   "outputs": [],
   "source": [
    "# TODO: automatically populate dataset name, model name\n",
    "processed_dataset.to_pickle(data_folder/(args['processed_dataset_filename']))"
   ]
  },
  {
   "cell_type": "markdown",
   "metadata": {},
   "source": [
    "# Models"
   ]
  },
  {
   "cell_type": "markdown",
   "metadata": {},
   "source": [
    "## Team based - simple average of past xx games\n"
   ]
  },
  {
   "cell_type": "markdown",
   "metadata": {},
   "source": [
    "# Generate Training/Validation/Test Data"
   ]
  },
  {
   "cell_type": "code",
   "execution_count": 55,
   "metadata": {
    "scrolled": false
   },
   "outputs": [],
   "source": [
    "# import libraries\n",
    "from pandas.api.types import is_string_dtype, is_numeric_dtype, is_categorical_dtype\n",
    "from fastai.tabular.all import *\n",
    "from sklearn.ensemble import RandomForestRegressor\n",
    "from sklearn.tree import DecisionTreeRegressor\n",
    "from sklearn.model_selection import train_test_split\n",
    "# from dtreeviz.trees import *"
   ]
  },
  {
   "cell_type": "code",
   "execution_count": 56,
   "metadata": {},
   "outputs": [
    {
     "data": {
      "text/plain": [
       "Index(['VISITOR', 'VISITOR_PTS', 'DATEWeek', 'HOME', 'HOME_PTS',\n",
       "       'boxscores_url', 'game_id', 'Pace_home', 'eFG%_home', 'TOV%_home',\n",
       "       'ORB%_home', 'FT/FGA_home', 'ORtg_home', 'TS%_home', '3PAr_home',\n",
       "       'FTr_home', 'DRB%_home', 'TRB%_home', 'AST%_home', 'STL%_home',\n",
       "       'BLK%_home', 'DRtg_home', 'Pace_visitor', 'eFG%_visitor',\n",
       "       'TOV%_visitor', 'ORB%_visitor', 'FT/FGA_visitor', 'ORtg_visitor',\n",
       "       'TS%_visitor', '3PAr_visitor', 'FTr_visitor', 'DRB%_visitor',\n",
       "       'TRB%_visitor', 'AST%_visitor', 'STL%_visitor', 'BLK%_visitor',\n",
       "       'DRtg_visitor', 'TOTAL_PTS', 'HOME_VISITOR_PTS_DIFF', 'HOME_WIN',\n",
       "       'DATEYear', 'DATEMonth', 'DATEDay', 'DATEDayofweek', 'DATEDayofyear',\n",
       "       'DATEIs_month_end', 'DATEIs_month_start', 'DATEIs_quarter_end',\n",
       "       'DATEIs_quarter_start', 'DATEIs_year_end', 'DATEIs_year_start',\n",
       "       'DATEElapsed'],\n",
       "      dtype='object')"
      ]
     },
     "execution_count": 56,
     "metadata": {},
     "output_type": "execute_result"
    }
   ],
   "source": [
    "# load the processed data\n",
    "teamstats = pd.read_pickle(data_folder/(args['processed_dataset_filename']))\n",
    "teamstats = add_datepart(teamstats, 'DATE')\n",
    "teamstats.columns"
   ]
  },
  {
   "cell_type": "code",
   "execution_count": 80,
   "metadata": {},
   "outputs": [],
   "source": [
    "# teamstats['DRtg_home']=100\n",
    "# teamstats['DRtg_visitor']=100"
   ]
  },
  {
   "cell_type": "code",
   "execution_count": 57,
   "metadata": {},
   "outputs": [],
   "source": [
    "# set what are dependent variables, what are independent variables\n",
    "args['dep_variable'] = ['HOME_VISITOR_PTS_DIFF']\n",
    "args['ind_variable'] = args['home_columns_to_summarize']+args['visitor_columns_to_summarize']"
   ]
  },
  {
   "cell_type": "code",
   "execution_count": 58,
   "metadata": {},
   "outputs": [
    {
     "data": {
      "text/plain": [
       "[4440, 1110, 617]"
      ]
     },
     "execution_count": 58,
     "metadata": {},
     "output_type": "execute_result"
    }
   ],
   "source": [
    "other_idx,test_idx = train_test_split(list(teamstats.index),test_size=0.1,random_state=args['random_state'])\n",
    "test_set = teamstats.loc[test_idx,args['ind_variable']+args['dep_variable']].copy()\n",
    "# don't want to mix non-test set with training set, therefore \"other_set\"\n",
    "other_set = teamstats.loc[other_idx,args['ind_variable']+args['dep_variable']].copy()\n",
    "train_idx,valid_idx = train_test_split(list(other_set.reset_index(drop=True).index),test_size=0.2,random_state=args['random_state'])\n",
    "[len(idx) for idx in [train_idx,valid_idx,test_idx]]"
   ]
  },
  {
   "cell_type": "code",
   "execution_count": 59,
   "metadata": {
    "scrolled": true
   },
   "outputs": [
    {
     "name": "stdout",
     "output_type": "stream",
     "text": [
      "['Pace_home', 'eFG%_home', 'TOV%_home', 'ORB%_home', 'FT/FGA_home', 'ORtg_home', 'TS%_home', '3PAr_home', 'FTr_home', 'DRB%_home', 'TRB%_home', 'AST%_home', 'STL%_home', 'BLK%_home', 'DRtg_home', 'Pace_visitor', 'eFG%_visitor', 'TOV%_visitor', 'ORB%_visitor', 'FT/FGA_visitor', 'ORtg_visitor', 'TS%_visitor', '3PAr_visitor', 'FTr_visitor', 'DRB%_visitor', 'TRB%_visitor', 'AST%_visitor', 'STL%_visitor', 'BLK%_visitor', 'DRtg_visitor'] []\n"
     ]
    }
   ],
   "source": [
    "# split continuous variables and categorical variabls\n",
    "cont_var, cat_var=cont_cat_split(other_set,1,dep_var=args['dep_variable'])\n",
    "print(cont_var,cat_var)"
   ]
  },
  {
   "cell_type": "code",
   "execution_count": 60,
   "metadata": {},
   "outputs": [
    {
     "data": {
      "text/plain": [
       "(4440, 1110)"
      ]
     },
     "execution_count": 60,
     "metadata": {},
     "output_type": "execute_result"
    }
   ],
   "source": [
    "# return a tabular object\n",
    "to=TabularPandas(other_set,cat_names=cat_var,cont_names=cont_var,\n",
    "                 y_names=args['dep_variable'],splits=(train_idx,valid_idx))\n",
    "len(to.train),len(to.valid)"
   ]
  },
  {
   "cell_type": "code",
   "execution_count": 61,
   "metadata": {},
   "outputs": [
    {
     "name": "stdout",
     "output_type": "stream",
     "text": [
      "4440\n",
      "1110\n"
     ]
    }
   ],
   "source": [
    "xs,y = to.train.xs,to.train.y\n",
    "valid_xs,valid_y = to.valid.xs,to.valid.y\n",
    "print(len(xs))\n",
    "print(len(valid_xs))"
   ]
  },
  {
   "cell_type": "markdown",
   "metadata": {},
   "source": [
    "# Initialize Neptune to Record Experiments"
   ]
  },
  {
   "cell_type": "raw",
   "metadata": {
    "scrolled": true
   },
   "source": [
    "neptune.init(project_qualified_name='jjnotjimmyjohn/NBA-Score-Prediction',api_token=neptune.ANONYMOUS_API_TOKEN)\n",
    "# neptune.init(project_qualified_name='jjnotjimmyjohn/sandbox',api_token=neptune.ANONYMOUS_API_TOKEN)"
   ]
  },
  {
   "cell_type": "markdown",
   "metadata": {},
   "source": [
    "# Decision Tree"
   ]
  },
  {
   "cell_type": "code",
   "execution_count": 62,
   "metadata": {},
   "outputs": [],
   "source": [
    "from sklearn.model_selection import RandomizedSearchCV\n",
    "from sklearn.metrics import mean_absolute_error\n",
    "import scipy.stats as stats\n",
    "from sklearn.metrics import SCORERS,accuracy_score,f1_score"
   ]
  },
  {
   "cell_type": "code",
   "execution_count": 63,
   "metadata": {},
   "outputs": [],
   "source": [
    "# parameters distribution to randomized search\n",
    "dt_params_dist={\n",
    "    'min_samples_split':[5,10,15,20],\n",
    "    'min_samples_leaf':[10,20,30,40,60],\n",
    "    'max_features':[0.5,0.6,0.7,0.8,0.9],\n",
    "}\n",
    "# base model\n",
    "base_model = DecisionTreeRegressor(random_state=args['random_state'])"
   ]
  },
  {
   "cell_type": "code",
   "execution_count": 64,
   "metadata": {
    "scrolled": false
   },
   "outputs": [
    {
     "name": "stdout",
     "output_type": "stream",
     "text": [
      "Fitting 8 folds for each of 90 candidates, totalling 720 fits\n"
     ]
    },
    {
     "name": "stderr",
     "output_type": "stream",
     "text": [
      "[Parallel(n_jobs=6)]: Using backend LokyBackend with 6 concurrent workers.\n",
      "[Parallel(n_jobs=6)]: Done   6 tasks      | elapsed:    2.2s\n",
      "[Parallel(n_jobs=6)]: Done  60 tasks      | elapsed:    3.5s\n",
      "[Parallel(n_jobs=6)]: Done 174 tasks      | elapsed:    5.7s\n",
      "[Parallel(n_jobs=6)]: Done 426 tasks      | elapsed:    9.9s\n",
      "[Parallel(n_jobs=6)]: Done 709 out of 720 | elapsed:   16.7s remaining:    0.3s\n",
      "[Parallel(n_jobs=6)]: Done 720 out of 720 | elapsed:   16.9s finished\n"
     ]
    },
    {
     "data": {
      "text/plain": [
       "RandomizedSearchCV(cv=8, estimator=DecisionTreeRegressor(random_state=248),\n",
       "                   n_iter=90, n_jobs=6,\n",
       "                   param_distributions={'max_features': [0.5, 0.6, 0.7, 0.8,\n",
       "                                                         0.9],\n",
       "                                        'min_samples_leaf': [10, 20, 30, 40,\n",
       "                                                             60],\n",
       "                                        'min_samples_split': [5, 10, 15, 20]},\n",
       "                   return_train_score=True, verbose=5)"
      ]
     },
     "execution_count": 64,
     "metadata": {},
     "output_type": "execute_result"
    }
   ],
   "source": [
    "model = RandomizedSearchCV(base_model,dt_params_dist,n_iter=90,n_jobs=6,\n",
    "                                   cv=8,verbose=5,return_train_score=True,refit=True)\n",
    "model.fit(xs, y)"
   ]
  },
  {
   "cell_type": "code",
   "execution_count": 65,
   "metadata": {},
   "outputs": [
    {
     "name": "stdout",
     "output_type": "stream",
     "text": [
      "9.588725043203521\n",
      "10.87842898850189\n"
     ]
    }
   ],
   "source": [
    "print(mean_absolute_error(y,model.predict(xs)))\n",
    "print(mean_absolute_error(valid_y,model.predict(valid_xs)))"
   ]
  },
  {
   "cell_type": "raw",
   "metadata": {
    "scrolled": true
   },
   "source": [
    "# create experiment\n",
    "# neptune.set_project('jjnotjimmyjohn/NBA-Score-Prediction')\n",
    "neptune.create_experiment(name='TeamBasedModel_moredata',description='',params=model.get_params())\n",
    "neptune.append_tag(f'summarize_past_games')\n",
    "neptune.append_tag(f'decision_tree')\n",
    "neptune.append_tag(f'randomized_search_cv')\n",
    "neptune.log_metric('training_error', mean_absolute_error(y,model.predict(xs)))\n",
    "neptune.log_metric('validation_error', mean_absolute_error(valid_y,model.predict(valid_xs)))\n",
    "neptune.log_text('best_model', str(model.best_estimator_))\n",
    "for key,value in args.items():\n",
    "    neptune.set_property(key,value)\n",
    "neptune.stop()"
   ]
  },
  {
   "cell_type": "markdown",
   "metadata": {},
   "source": [
    "# Randome Forest"
   ]
  },
  {
   "cell_type": "code",
   "execution_count": 66,
   "metadata": {},
   "outputs": [],
   "source": [
    "# parameters distribution to randomized search\n",
    "dt_params_dist={\n",
    "    'min_samples_split':[5,10,15,20],\n",
    "    'max_samples':[0.5,0.7,0.8,0.9,1],\n",
    "    'max_features':[0.5,0.6,0.7,0.8,0.9]\n",
    "}\n",
    "# base model\n"
   ]
  },
  {
   "cell_type": "raw",
   "metadata": {},
   "source": [
    "RandomForestRegressor(n_jobs=-1, n_estimators=1000,\n",
    "    max_samples=len(xs), max_features=0.7,\n",
    "    min_samples_leaf=25, oob_score=True).fit(xs, y)"
   ]
  },
  {
   "cell_type": "code",
   "execution_count": 70,
   "metadata": {
    "scrolled": false
   },
   "outputs": [
    {
     "name": "stdout",
     "output_type": "stream",
     "text": [
      "9.175140066853304\n",
      "10.401374833923462\n"
     ]
    }
   ],
   "source": [
    "base_model = RandomForestRegressor(n_jobs=-1, n_estimators=1000, oob_score=True, min_samples_leaf=40)\n",
    "base_model.fit(xs,y)\n",
    "print(mean_absolute_error(y,base_model.predict(xs)))\n",
    "print(mean_absolute_error(valid_y,base_model.predict(valid_xs)))"
   ]
  },
  {
   "cell_type": "code",
   "execution_count": 22,
   "metadata": {
    "scrolled": true
   },
   "outputs": [
    {
     "name": "stdout",
     "output_type": "stream",
     "text": [
      "Fitting 8 folds for each of 100 candidates, totalling 800 fits\n"
     ]
    },
    {
     "name": "stderr",
     "output_type": "stream",
     "text": [
      "[Parallel(n_jobs=6)]: Using backend LokyBackend with 6 concurrent workers.\n",
      "[Parallel(n_jobs=6)]: Done   6 tasks      | elapsed:  1.7min\n",
      "[Parallel(n_jobs=6)]: Done  60 tasks      | elapsed: 11.3min\n",
      "[Parallel(n_jobs=6)]: Done 150 tasks      | elapsed: 31.1min\n",
      "[Parallel(n_jobs=6)]: Done 276 tasks      | elapsed: 55.5min\n",
      "[Parallel(n_jobs=6)]: Done 438 tasks      | elapsed: 85.1min\n",
      "[Parallel(n_jobs=6)]: Done 636 tasks      | elapsed: 119.6min\n",
      "[Parallel(n_jobs=6)]: Done 800 out of 800 | elapsed: 151.6min finished\n"
     ]
    },
    {
     "data": {
      "text/plain": [
       "RandomizedSearchCV(cv=8,\n",
       "                   estimator=RandomForestRegressor(min_samples_leaf=25,\n",
       "                                                   n_estimators=2000, n_jobs=-1,\n",
       "                                                   oob_score=True),\n",
       "                   n_iter=100, n_jobs=6,\n",
       "                   param_distributions={'max_features': [0.5, 0.6, 0.7, 0.8,\n",
       "                                                         0.9],\n",
       "                                        'max_samples': [0.5, 0.7, 0.8, 0.9, 1],\n",
       "                                        'min_samples_leaf': [10, 15, 25],\n",
       "                                        'min_samples_split': [5, 10, 15, 20]},\n",
       "                   return_train_score=True, verbose=5)"
      ]
     },
     "execution_count": 22,
     "metadata": {},
     "output_type": "execute_result"
    }
   ],
   "source": [
    "model = RandomizedSearchCV(base_model,dt_params_dist,n_iter=100,n_jobs=6,\n",
    "                                   cv=8,verbose=5,return_train_score=True,refit=True)\n",
    "model.fit(xs, y)"
   ]
  },
  {
   "cell_type": "raw",
   "metadata": {
    "scrolled": true
   },
   "source": [
    "print(accuracy_score(y,model.predict(xs)))\n",
    "print(accuracy_score(valid_y,model.predict(valid_xs)))"
   ]
  },
  {
   "cell_type": "code",
   "execution_count": 24,
   "metadata": {},
   "outputs": [
    {
     "name": "stdout",
     "output_type": "stream",
     "text": [
      "7.535830366291245\n",
      "8.813138170956758\n"
     ]
    }
   ],
   "source": [
    "print(mean_absolute_error(y,model.predict(xs))) # 9.055876795592912\n",
    "print(mean_absolute_error(valid_y,model.predict(valid_xs))) # 10.29984097314067"
   ]
  },
  {
   "cell_type": "code",
   "execution_count": 98,
   "metadata": {
    "scrolled": true
   },
   "outputs": [
    {
     "data": {
      "text/plain": [
       "array([0.01755608, 0.04531653, 0.02353935, 0.01787496, 0.01776416,\n",
       "       0.10482879, 0.04499968, 0.01649685, 0.0171083 , 0.0172028 ,\n",
       "       0.02323076, 0.022981  , 0.01970445, 0.02227803, 0.1129221 ,\n",
       "       0.01967865, 0.05323375, 0.01790268, 0.01876028, 0.01907   ,\n",
       "       0.06575033, 0.05444263, 0.01928852, 0.01686225, 0.01832983,\n",
       "       0.02606629, 0.01953459, 0.02087306, 0.02032816, 0.08607512])"
      ]
     },
     "execution_count": 98,
     "metadata": {},
     "output_type": "execute_result"
    }
   ],
   "source": [
    "model.best_estimator_.feature_importances_"
   ]
  },
  {
   "cell_type": "code",
   "execution_count": 99,
   "metadata": {},
   "outputs": [],
   "source": [
    "def rf_feat_importance(m, df):\n",
    "    return pd.DataFrame({'cols':df.columns, 'imp':m.feature_importances_}\n",
    "                       ).sort_values('imp', ascending=False)"
   ]
  },
  {
   "cell_type": "code",
   "execution_count": 100,
   "metadata": {
    "scrolled": true
   },
   "outputs": [
    {
     "data": {
      "text/html": [
       "<div>\n",
       "<style scoped>\n",
       "    .dataframe tbody tr th:only-of-type {\n",
       "        vertical-align: middle;\n",
       "    }\n",
       "\n",
       "    .dataframe tbody tr th {\n",
       "        vertical-align: top;\n",
       "    }\n",
       "\n",
       "    .dataframe thead th {\n",
       "        text-align: right;\n",
       "    }\n",
       "</style>\n",
       "<table border=\"1\" class=\"dataframe\">\n",
       "  <thead>\n",
       "    <tr style=\"text-align: right;\">\n",
       "      <th></th>\n",
       "      <th>cols</th>\n",
       "      <th>imp</th>\n",
       "    </tr>\n",
       "  </thead>\n",
       "  <tbody>\n",
       "    <tr>\n",
       "      <th>14</th>\n",
       "      <td>DRtg_home</td>\n",
       "      <td>0.112922</td>\n",
       "    </tr>\n",
       "    <tr>\n",
       "      <th>5</th>\n",
       "      <td>ORtg_home</td>\n",
       "      <td>0.104829</td>\n",
       "    </tr>\n",
       "    <tr>\n",
       "      <th>29</th>\n",
       "      <td>DRtg_visitor</td>\n",
       "      <td>0.086075</td>\n",
       "    </tr>\n",
       "    <tr>\n",
       "      <th>20</th>\n",
       "      <td>ORtg_visitor</td>\n",
       "      <td>0.065750</td>\n",
       "    </tr>\n",
       "    <tr>\n",
       "      <th>21</th>\n",
       "      <td>TS%_visitor</td>\n",
       "      <td>0.054443</td>\n",
       "    </tr>\n",
       "    <tr>\n",
       "      <th>16</th>\n",
       "      <td>eFG%_visitor</td>\n",
       "      <td>0.053234</td>\n",
       "    </tr>\n",
       "    <tr>\n",
       "      <th>1</th>\n",
       "      <td>eFG%_home</td>\n",
       "      <td>0.045317</td>\n",
       "    </tr>\n",
       "    <tr>\n",
       "      <th>6</th>\n",
       "      <td>TS%_home</td>\n",
       "      <td>0.045000</td>\n",
       "    </tr>\n",
       "    <tr>\n",
       "      <th>25</th>\n",
       "      <td>TRB%_visitor</td>\n",
       "      <td>0.026066</td>\n",
       "    </tr>\n",
       "    <tr>\n",
       "      <th>2</th>\n",
       "      <td>TOV%_home</td>\n",
       "      <td>0.023539</td>\n",
       "    </tr>\n",
       "    <tr>\n",
       "      <th>10</th>\n",
       "      <td>TRB%_home</td>\n",
       "      <td>0.023231</td>\n",
       "    </tr>\n",
       "    <tr>\n",
       "      <th>11</th>\n",
       "      <td>AST%_home</td>\n",
       "      <td>0.022981</td>\n",
       "    </tr>\n",
       "    <tr>\n",
       "      <th>13</th>\n",
       "      <td>BLK%_home</td>\n",
       "      <td>0.022278</td>\n",
       "    </tr>\n",
       "    <tr>\n",
       "      <th>27</th>\n",
       "      <td>STL%_visitor</td>\n",
       "      <td>0.020873</td>\n",
       "    </tr>\n",
       "    <tr>\n",
       "      <th>28</th>\n",
       "      <td>BLK%_visitor</td>\n",
       "      <td>0.020328</td>\n",
       "    </tr>\n",
       "    <tr>\n",
       "      <th>12</th>\n",
       "      <td>STL%_home</td>\n",
       "      <td>0.019704</td>\n",
       "    </tr>\n",
       "    <tr>\n",
       "      <th>15</th>\n",
       "      <td>Pace_visitor</td>\n",
       "      <td>0.019679</td>\n",
       "    </tr>\n",
       "    <tr>\n",
       "      <th>26</th>\n",
       "      <td>AST%_visitor</td>\n",
       "      <td>0.019535</td>\n",
       "    </tr>\n",
       "    <tr>\n",
       "      <th>22</th>\n",
       "      <td>3PAr_visitor</td>\n",
       "      <td>0.019289</td>\n",
       "    </tr>\n",
       "    <tr>\n",
       "      <th>19</th>\n",
       "      <td>FT/FGA_visitor</td>\n",
       "      <td>0.019070</td>\n",
       "    </tr>\n",
       "    <tr>\n",
       "      <th>18</th>\n",
       "      <td>ORB%_visitor</td>\n",
       "      <td>0.018760</td>\n",
       "    </tr>\n",
       "    <tr>\n",
       "      <th>24</th>\n",
       "      <td>DRB%_visitor</td>\n",
       "      <td>0.018330</td>\n",
       "    </tr>\n",
       "    <tr>\n",
       "      <th>17</th>\n",
       "      <td>TOV%_visitor</td>\n",
       "      <td>0.017903</td>\n",
       "    </tr>\n",
       "    <tr>\n",
       "      <th>3</th>\n",
       "      <td>ORB%_home</td>\n",
       "      <td>0.017875</td>\n",
       "    </tr>\n",
       "    <tr>\n",
       "      <th>4</th>\n",
       "      <td>FT/FGA_home</td>\n",
       "      <td>0.017764</td>\n",
       "    </tr>\n",
       "    <tr>\n",
       "      <th>0</th>\n",
       "      <td>Pace_home</td>\n",
       "      <td>0.017556</td>\n",
       "    </tr>\n",
       "    <tr>\n",
       "      <th>9</th>\n",
       "      <td>DRB%_home</td>\n",
       "      <td>0.017203</td>\n",
       "    </tr>\n",
       "    <tr>\n",
       "      <th>8</th>\n",
       "      <td>FTr_home</td>\n",
       "      <td>0.017108</td>\n",
       "    </tr>\n",
       "    <tr>\n",
       "      <th>23</th>\n",
       "      <td>FTr_visitor</td>\n",
       "      <td>0.016862</td>\n",
       "    </tr>\n",
       "    <tr>\n",
       "      <th>7</th>\n",
       "      <td>3PAr_home</td>\n",
       "      <td>0.016497</td>\n",
       "    </tr>\n",
       "  </tbody>\n",
       "</table>\n",
       "</div>"
      ],
      "text/plain": [
       "              cols       imp\n",
       "14       DRtg_home  0.112922\n",
       "5        ORtg_home  0.104829\n",
       "29    DRtg_visitor  0.086075\n",
       "20    ORtg_visitor  0.065750\n",
       "21     TS%_visitor  0.054443\n",
       "16    eFG%_visitor  0.053234\n",
       "1        eFG%_home  0.045317\n",
       "6         TS%_home  0.045000\n",
       "25    TRB%_visitor  0.026066\n",
       "2        TOV%_home  0.023539\n",
       "10       TRB%_home  0.023231\n",
       "11       AST%_home  0.022981\n",
       "13       BLK%_home  0.022278\n",
       "27    STL%_visitor  0.020873\n",
       "28    BLK%_visitor  0.020328\n",
       "12       STL%_home  0.019704\n",
       "15    Pace_visitor  0.019679\n",
       "26    AST%_visitor  0.019535\n",
       "22    3PAr_visitor  0.019289\n",
       "19  FT/FGA_visitor  0.019070\n",
       "18    ORB%_visitor  0.018760\n",
       "24    DRB%_visitor  0.018330\n",
       "17    TOV%_visitor  0.017903\n",
       "3        ORB%_home  0.017875\n",
       "4      FT/FGA_home  0.017764\n",
       "0        Pace_home  0.017556\n",
       "9        DRB%_home  0.017203\n",
       "8         FTr_home  0.017108\n",
       "23     FTr_visitor  0.016862\n",
       "7        3PAr_home  0.016497"
      ]
     },
     "execution_count": 100,
     "metadata": {},
     "output_type": "execute_result"
    }
   ],
   "source": [
    "fi = rf_feat_importance(model.best_estimator_, xs)\n",
    "fi"
   ]
  },
  {
   "cell_type": "markdown",
   "metadata": {},
   "source": [
    "# XGBoost"
   ]
  },
  {
   "cell_type": "code",
   "execution_count": 26,
   "metadata": {},
   "outputs": [],
   "source": [
    "import xgboost as xg"
   ]
  },
  {
   "cell_type": "code",
   "execution_count": 73,
   "metadata": {
    "scrolled": true
   },
   "outputs": [
    {
     "data": {
      "text/plain": [
       "XGBRegressor(base_score=0.5, booster='gbtree', colsample_bylevel=1,\n",
       "             colsample_bynode=1, colsample_bytree=1, gamma=0, gpu_id=-1,\n",
       "             importance_type='gain', interaction_constraints='',\n",
       "             learning_rate=0.300000012, max_delta_step=0, max_depth=6,\n",
       "             min_child_weight=1, missing=nan, monotone_constraints='()',\n",
       "             n_estimators=4, n_jobs=6, num_parallel_tree=1, random_state=248,\n",
       "             reg_alpha=0, reg_lambda=0.1, scale_pos_weight=1, seed=248,\n",
       "             subsample=1, tree_method='exact', validate_parameters=1,\n",
       "             verbosity=None)"
      ]
     },
     "execution_count": 73,
     "metadata": {},
     "output_type": "execute_result"
    }
   ],
   "source": [
    "model = xg.XGBRegressor(n_estimators = 4, seed = args['random_state'],reg_lambda=0.1)\n",
    "model.fit(xs,y)"
   ]
  },
  {
   "cell_type": "code",
   "execution_count": 74,
   "metadata": {},
   "outputs": [
    {
     "name": "stdout",
     "output_type": "stream",
     "text": [
      "9.258064\n",
      "10.663306\n"
     ]
    }
   ],
   "source": [
    "print(mean_absolute_error(y,model.predict(xs))) # 9.055876795592912\n",
    "print(mean_absolute_error(valid_y,model.predict(valid_xs))) # 10.29984097314067"
   ]
  },
  {
   "cell_type": "raw",
   "metadata": {
    "scrolled": true
   },
   "source": [
    "print(accuracy_score(y,xgb_r.predict(xs)))\n",
    "print(accuracy_score(valid_y,xgb_r.predict(valid_xs)))"
   ]
  },
  {
   "cell_type": "code",
   "execution_count": 299,
   "metadata": {
    "scrolled": true
   },
   "outputs": [
    {
     "name": "stdout",
     "output_type": "stream",
     "text": [
      "8404    -8.0\n",
      "5689     2.0\n",
      "1216    17.0\n",
      "1955    11.0\n",
      "6518     8.0\n",
      "1646    36.0\n",
      "2065     7.0\n",
      "6969     9.0\n",
      "6190    17.0\n",
      "7876   -15.0\n",
      "Name: HOME_VISITOR_PTS_DIFF, dtype: float32\n",
      "[2.57475    2.6435497  5.6760244  2.6435497  0.06472625 8.154559\n",
      " 0.08371012 2.6390839  9.774696   0.78838545]\n"
     ]
    }
   ],
   "source": [
    "print(valid_y[:10])\n",
    "print(xgb_r.predict(valid_xs)[:10])"
   ]
  },
  {
   "cell_type": "markdown",
   "metadata": {},
   "source": [
    "# Neural Networks"
   ]
  },
  {
   "cell_type": "code",
   "execution_count": 106,
   "metadata": {},
   "outputs": [],
   "source": [
    "from fastai import *\n",
    "to_nn = to.copy()\n",
    "dls = to_nn.dataloaders(1024)"
   ]
  },
  {
   "cell_type": "code",
   "execution_count": 107,
   "metadata": {},
   "outputs": [
    {
     "data": {
      "text/plain": [
       "(0, 1)"
      ]
     },
     "execution_count": 107,
     "metadata": {},
     "output_type": "execute_result"
    }
   ],
   "source": [
    "y = to_nn.train.y\n",
    "y.min(),y.max()"
   ]
  },
  {
   "cell_type": "code",
   "execution_count": 108,
   "metadata": {},
   "outputs": [],
   "source": [
    "learn = tabular_learner(dls, layers=[3000,1500,1000,250], metrics=accuracy)"
   ]
  },
  {
   "cell_type": "code",
   "execution_count": 109,
   "metadata": {
    "scrolled": true
   },
   "outputs": [
    {
     "data": {
      "text/html": [],
      "text/plain": [
       "<IPython.core.display.HTML object>"
      ]
     },
     "metadata": {},
     "output_type": "display_data"
    },
    {
     "data": {
      "text/plain": [
       "SuggestedLRs(lr_min=0.0007585775572806596, lr_steep=0.17378008365631104)"
      ]
     },
     "execution_count": 109,
     "metadata": {},
     "output_type": "execute_result"
    },
    {
     "data": {
      "image/png": "[encoded data removed]",
      "text/plain": [
       "<Figure size 432x288 with 1 Axes>"
      ]
     },
     "metadata": {
      "needs_background": "light"
     },
     "output_type": "display_data"
    }
   ],
   "source": [
    "learn.lr_find()"
   ]
  },
  {
   "cell_type": "code",
   "execution_count": 110,
   "metadata": {},
   "outputs": [
    {
     "data": {
      "text/html": [
       "<table border=\"1\" class=\"dataframe\">\n",
       "  <thead>\n",
       "    <tr style=\"text-align: left;\">\n",
       "      <th>epoch</th>\n",
       "      <th>train_loss</th>\n",
       "      <th>valid_loss</th>\n",
       "      <th>accuracy</th>\n",
       "      <th>time</th>\n",
       "    </tr>\n",
       "  </thead>\n",
       "  <tbody>\n",
       "    <tr>\n",
       "      <td>0</td>\n",
       "      <td>0.623815</td>\n",
       "      <td>0.751901</td>\n",
       "      <td>0.606429</td>\n",
       "      <td>00:04</td>\n",
       "    </tr>\n",
       "    <tr>\n",
       "      <td>1</td>\n",
       "      <td>0.577065</td>\n",
       "      <td>0.760405</td>\n",
       "      <td>0.606429</td>\n",
       "      <td>00:03</td>\n",
       "    </tr>\n",
       "    <tr>\n",
       "      <td>2</td>\n",
       "      <td>0.532784</td>\n",
       "      <td>0.662953</td>\n",
       "      <td>0.609904</td>\n",
       "      <td>00:02</td>\n",
       "    </tr>\n",
       "    <tr>\n",
       "      <td>3</td>\n",
       "      <td>0.494725</td>\n",
       "      <td>0.615904</td>\n",
       "      <td>0.659427</td>\n",
       "      <td>00:02</td>\n",
       "    </tr>\n",
       "    <tr>\n",
       "      <td>4</td>\n",
       "      <td>0.464187</td>\n",
       "      <td>0.599242</td>\n",
       "      <td>0.694179</td>\n",
       "      <td>00:02</td>\n",
       "    </tr>\n",
       "  </tbody>\n",
       "</table>"
      ],
      "text/plain": [
       "<IPython.core.display.HTML object>"
      ]
     },
     "metadata": {},
     "output_type": "display_data"
    }
   ],
   "source": [
    "learn.fit_one_cycle(5,0.0007)"
   ]
  },
  {
   "cell_type": "code",
   "execution_count": 111,
   "metadata": {},
   "outputs": [
    {
     "data": {
      "image/png": "[encoded data removed]",
      "text/plain": [
       "<Figure size 432x288 with 1 Axes>"
      ]
     },
     "metadata": {
      "needs_background": "light"
     },
     "output_type": "display_data"
    }
   ],
   "source": [
    "learn.recorder.plot_loss()"
   ]
  },
  {
   "cell_type": "code",
   "execution_count": 112,
   "metadata": {},
   "outputs": [
    {
     "data": {
      "text/html": [],
      "text/plain": [
       "<IPython.core.display.HTML object>"
      ]
     },
     "metadata": {},
     "output_type": "display_data"
    }
   ],
   "source": [
    "preds,targs = learn.get_preds()"
   ]
  },
  {
   "cell_type": "code",
   "execution_count": 113,
   "metadata": {},
   "outputs": [
    {
     "data": {
      "text/plain": [
       "tensor([1, 1, 1,  ..., 1, 1, 1])"
      ]
     },
     "execution_count": 113,
     "metadata": {},
     "output_type": "execute_result"
    }
   ],
   "source": [
    "np.argmax(preds, 1)"
   ]
  },
  {
   "cell_type": "code",
   "execution_count": 114,
   "metadata": {},
   "outputs": [
    {
     "data": {
      "text/plain": [
       "0.6941789748045178"
      ]
     },
     "execution_count": 114,
     "metadata": {},
     "output_type": "execute_result"
    }
   ],
   "source": [
    "accuracy_score(targs,np.argmax(preds, 1))"
   ]
  },
  {
   "cell_type": "code",
   "execution_count": null,
   "metadata": {},
   "outputs": [],
   "source": []
  },
  {
   "cell_type": "code",
   "execution_count": null,
   "metadata": {},
   "outputs": [],
   "source": []
  },
  {
   "cell_type": "code",
   "execution_count": null,
   "metadata": {},
   "outputs": [],
   "source": []
  },
  {
   "cell_type": "code",
   "execution_count": null,
   "metadata": {},
   "outputs": [],
   "source": []
  },
  {
   "cell_type": "code",
   "execution_count": null,
   "metadata": {},
   "outputs": [],
   "source": [
    "## Model - team based - similar opponents as training data\n",
    "获取球队最近几场与相似对手交手时，取得的数据作为training data\n",
    "\n",
    "相似对手：\n",
    "\n",
    "1. 将ortg和drtg作为x轴y轴，几何距离最近的对手\n",
    "\n",
    "1. 用什么的ortg，drtg？所有本赛季已进行的比赛的数据？单场？"
   ]
  },
  {
   "cell_type": "code",
   "execution_count": null,
   "metadata": {},
   "outputs": [],
   "source": [
    "## Model - Player based"
   ]
  },
  {
   "cell_type": "code",
   "execution_count": null,
   "metadata": {},
   "outputs": [],
   "source": [
    "# players? -> include minutes played\n",
    "# injured players?\n",
    "# use news to guess how many minutes he will play"
   ]
  }
 ],
 "metadata": {
  "kernelspec": {
   "display_name": "Python 3",
   "language": "python",
   "name": "python3"
  },
  "language_info": {
   "codemirror_mode": {
    "name": "ipython",
    "version": 3
   },
   "file_extension": ".py",
   "mimetype": "text/x-python",
   "name": "python",
   "nbconvert_exporter": "python",
   "pygments_lexer": "ipython3",
   "version": "3.7.6"
  }
 },
 "nbformat": 4,
 "nbformat_minor": 2
}
